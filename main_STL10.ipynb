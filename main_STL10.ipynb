{
 "cells": [
  {
   "cell_type": "markdown",
   "metadata": {
    "id": "9wIx_2FWSoSS"
   },
   "source": [
    "کد مربوطه به مقاله ارسالی با عنوان:\n",
    "\n",
    "### ترکیب روش آسیب مغزی بهینه و منظم‌سازی تُنُک ‌ در کوچک‌سازی یک مدل یادگیری عمیق\n",
    "\n",
    "به لحاظ ماهیت تصادفی مقداردهی اولیه‌ی وزنهای شبکه‌های عصبی و روال آموزش شبکه، اختلافات جزیی در اجراهای مختلف وجود دارد.\n",
    "\n",
    "M. Amintoosi, m.amintoosi at gmail.com"
   ]
  },
  {
   "cell_type": "code",
   "execution_count": 1,
   "metadata": {
    "colab": {
     "base_uri": "https://localhost:8080/"
    },
    "executionInfo": {
     "elapsed": 29,
     "status": "ok",
     "timestamp": 1623837445423,
     "user": {
      "displayName": "Mahmood Toosi",
      "photoUrl": "",
      "userId": "05574786655961532098"
     },
     "user_tz": -270
    },
    "id": "m3osW4zW6Q9I",
    "outputId": "99bbc776-e117-4ea7-cf1c-8089f48468f3"
   },
   "outputs": [
    {
     "name": "stdout",
     "output_type": "stream",
     "text": [
      "2021/​06/16, 14:27:24\n"
     ]
    }
   ],
   "source": [
    "import os, time\n",
    "if hasattr(time, 'tzset'):\n",
    "    os.environ['TZ'] = 'Asia/Tehran'\n",
    "    time.tzset()\n",
    "print(time.strftime('%Y/​%m/%d, %X'))"
   ]
  },
  {
   "cell_type": "code",
   "execution_count": 2,
   "metadata": {
    "executionInfo": {
     "elapsed": 3395,
     "status": "ok",
     "timestamp": 1623837448807,
     "user": {
      "displayName": "Mahmood Toosi",
      "photoUrl": "",
      "userId": "05574786655961532098"
     },
     "user_tz": -270
    },
    "id": "Le-zhQ_OnJgO"
   },
   "outputs": [],
   "source": [
    "import torch\n",
    "torch.manual_seed(1)\n",
    "import random\n",
    "random.seed(1)"
   ]
  },
  {
   "cell_type": "code",
   "execution_count": 9,
   "metadata": {
    "colab": {
     "base_uri": "https://localhost:8080/"
    },
    "executionInfo": {
     "elapsed": 26147,
     "status": "ok",
     "timestamp": 1623838163143,
     "user": {
      "displayName": "Mahmood Toosi",
      "photoUrl": "",
      "userId": "05574786655961532098"
     },
     "user_tz": -270
    },
    "id": "6WMse_NiQUOk",
    "outputId": "86261aeb-8c69-4969-dda6-cd69c54ee8ff"
   },
   "outputs": [
    {
     "name": "stdout",
     "output_type": "stream",
     "text": [
      "Mounted at /content/drive\n"
     ]
    }
   ],
   "source": [
    "from google.colab import drive\n",
    "drive.mount('/content/drive', force_remount=True)"
   ]
  },
  {
   "cell_type": "code",
   "execution_count": 3,
   "metadata": {
    "colab": {
     "base_uri": "https://localhost:8080/"
    },
    "executionInfo": {
     "elapsed": 3612,
     "status": "ok",
     "timestamp": 1623837452411,
     "user": {
      "displayName": "Mahmood Toosi",
      "photoUrl": "",
      "userId": "05574786655961532098"
     },
     "user_tz": -270
    },
    "id": "JafVLkRaN28-",
    "outputId": "c5f11b86-e859-41b9-b171-810b1b1117ae"
   },
   "outputs": [
    {
     "name": "stdout",
     "output_type": "stream",
     "text": [
      "Collecting pycm\n",
      "\u001b[?25l  Downloading https://files.pythonhosted.org/packages/76/c4/a05b90819dcf7e50bdddb030238a771bf87b0695e6c47a247f66ab7ed5d0/pycm-3.1-py2.py3-none-any.whl (63kB)\n",
      "\r",
      "\u001b[K     |█████▏                          | 10kB 24.9MB/s eta 0:00:01\r",
      "\u001b[K     |██████████▎                     | 20kB 18.1MB/s eta 0:00:01\r",
      "\u001b[K     |███████████████▍                | 30kB 14.9MB/s eta 0:00:01\r",
      "\u001b[K     |████████████████████▌           | 40kB 11.6MB/s eta 0:00:01\r",
      "\u001b[K     |█████████████████████████▊      | 51kB 7.8MB/s eta 0:00:01\r",
      "\u001b[K     |██████████████████████████████▉ | 61kB 9.1MB/s eta 0:00:01\r",
      "\u001b[K     |████████████████████████████████| 71kB 5.7MB/s \n",
      "\u001b[?25hCollecting art>=1.8\n",
      "\u001b[?25l  Downloading https://files.pythonhosted.org/packages/a1/74/55552eaad673dc81546d1386161e6cd8f7edf951690de82df822fe46541d/art-5.2-py2.py3-none-any.whl (571kB)\n",
      "\u001b[K     |████████████████████████████████| 573kB 10.9MB/s \n",
      "\u001b[?25hRequirement already satisfied: numpy>=1.9.0 in /usr/local/lib/python3.7/dist-packages (from pycm) (1.19.5)\n",
      "Installing collected packages: art, pycm\n",
      "Successfully installed art-5.2 pycm-3.1\n"
     ]
    }
   ],
   "source": [
    "!pip install pycm"
   ]
  },
  {
   "cell_type": "code",
   "execution_count": 4,
   "metadata": {
    "colab": {
     "base_uri": "https://localhost:8080/"
    },
    "executionInfo": {
     "elapsed": 1078,
     "status": "ok",
     "timestamp": 1623837453482,
     "user": {
      "displayName": "Mahmood Toosi",
      "photoUrl": "",
      "userId": "05574786655961532098"
     },
     "user_tz": -270
    },
    "id": "i5czjq6_8lAK",
    "outputId": "e699a31b-ccbf-424a-e3e7-b54105e8b333"
   },
   "outputs": [
    {
     "name": "stdout",
     "output_type": "stream",
     "text": [
      "Cloning into 'CNN-Pruning'...\n",
      "remote: Enumerating objects: 170, done.\u001b[K\n",
      "remote: Counting objects: 100% (170/170), done.\u001b[K\n",
      "remote: Compressing objects: 100% (116/116), done.\u001b[K\n",
      "remote: Total 170 (delta 101), reused 119 (delta 50), pack-reused 0\u001b[K\n",
      "Receiving objects: 100% (170/170), 126.72 KiB | 5.76 MiB/s, done.\n",
      "Resolving deltas: 100% (101/101), done.\n"
     ]
    }
   ],
   "source": [
    "!git clone https://github.com/mamintoosi/Reg-OBD-for-VGG-Pruning"
   ]
  },
  {
   "cell_type": "code",
   "execution_count": 5,
   "metadata": {
    "colab": {
     "base_uri": "https://localhost:8080/"
    },
    "executionInfo": {
     "elapsed": 16,
     "status": "ok",
     "timestamp": 1623837453484,
     "user": {
      "displayName": "Mahmood Toosi",
      "photoUrl": "",
      "userId": "05574786655961532098"
     },
     "user_tz": -270
    },
    "id": "Qeiu88GAdjh0",
    "outputId": "f9e46771-aaef-4ae7-ebe8-cd12500d801f"
   },
   "outputs": [
    {
     "name": "stdout",
     "output_type": "stream",
     "text": [
      "/content/CNN-Pruning\n"
     ]
    }
   ],
   "source": [
    "%cd Reg-OBD-for-VGG-Pruning"
   ]
  },
  {
   "cell_type": "code",
   "execution_count": null,
   "metadata": {
    "colab": {
     "base_uri": "https://localhost:8080/"
    },
    "id": "yWIDh3P73G3a",
    "outputId": "182df047-8290-454b-c2ab-17c9654f2e11"
   },
   "outputs": [],
   "source": [
    "!ls models"
   ]
  },
  {
   "cell_type": "code",
   "execution_count": 6,
   "metadata": {
    "colab": {
     "base_uri": "https://localhost:8080/",
     "height": 563,
     "referenced_widgets": [
      "a161cf0517834a4996a29453ab0b56d6",
      "1d6d45eb0e704c308fa42c10063d40a2",
      "c9bbc51c567b4020959da1823da9e288",
      "b3c67aeb3c224e2fb9797760d9534327",
      "b5542a4f05054c9f8e39ec2689d8d681",
      "55e628577d1a4389bc69c922c9584aff",
      "dfaea71d1d314e16a9c11d6e4ca170b5",
      "251e350f8da0414f928eff5ceed30b95",
      "d00d2de59cea47fb8d0fbf742399086e",
      "a06ac4115821404087b3a5e6750af606",
      "e8329756d9834c64aa2f4e10f9c81f23",
      "60b5df71ef374089b73d5422286f0ef2",
      "270cf6185c614cc9b5ebbaf406cd7f17",
      "3a53e6692d9f418a981cc0c3b29ce4fa",
      "2e869f4332914f92a7b98d2244ff39ae",
      "e919eb873a4d428d919aa82ab73734ba",
      "5b74bce96576405cb2e23bd85eba4ba5",
      "2d3765e494a947faa2b0ac9fd5dd250b",
      "dc78ba99e4344476a6026f10eda8a836",
      "90f65a0e1e4f42359c0304a80abedb54",
      "ab2b790324c0467c9fa5be5f70cfd311",
      "f707bbd212ef4c4faca2996e94a9b02d",
      "087c4180641e4ac198fa2b1ea897c682",
      "850e10eab5294bca85e1e94a98a7a1e7"
     ]
    },
    "executionInfo": {
     "elapsed": 623497,
     "status": "ok",
     "timestamp": 1623838079667,
     "user": {
      "displayName": "Mahmood Toosi",
      "photoUrl": "",
      "userId": "05574786655961532098"
     },
     "user_tz": -270
    },
    "id": "vqxfnKid9Tcq",
    "outputId": "a83e560d-068f-46a3-d4f3-b2fcb570e1ac"
   },
   "outputs": [
    {
     "name": "stdout",
     "output_type": "stream",
     "text": [
      "STL10\n"
     ]
    },
    {
     "name": "stderr",
     "output_type": "stream",
     "text": [
      "Downloading: \"https://download.pytorch.org/models/vgg16-397923af.pth\" to /root/.cache/torch/hub/checkpoints/vgg16-397923af.pth\n"
     ]
    },
    {
     "data": {
      "application/vnd.jupyter.widget-view+json": {
       "model_id": "a161cf0517834a4996a29453ab0b56d6",
       "version_major": 2,
       "version_minor": 0
      },
      "text/plain": [
       "HBox(children=(FloatProgress(value=0.0, max=553433881.0), HTML(value='')))"
      ]
     },
     "metadata": {
      "tags": []
     },
     "output_type": "display_data"
    },
    {
     "name": "stdout",
     "output_type": "stream",
     "text": [
      "\n",
      "Using CUDA...\n",
      "Downloading http://ai.stanford.edu/~acoates/stl10/stl10_binary.tar.gz to /content/data/stl10_binary.tar.gz\n"
     ]
    },
    {
     "data": {
      "application/vnd.jupyter.widget-view+json": {
       "model_id": "d00d2de59cea47fb8d0fbf742399086e",
       "version_major": 2,
       "version_minor": 0
      },
      "text/plain": [
       "HBox(children=(FloatProgress(value=0.0, max=2640397119.0), HTML(value='')))"
      ]
     },
     "metadata": {
      "tags": []
     },
     "output_type": "display_data"
    },
    {
     "name": "stdout",
     "output_type": "stream",
     "text": [
      "\n",
      "Extracting /content/data/stl10_binary.tar.gz to /content/data\n",
      "Files already downloaded and verified\n"
     ]
    },
    {
     "data": {
      "application/vnd.jupyter.widget-view+json": {
       "model_id": "5b74bce96576405cb2e23bd85eba4ba5",
       "version_major": 2,
       "version_minor": 0
      },
      "text/plain": [
       "HBox(children=(FloatProgress(value=0.0, description='Training', max=10.0, style=ProgressStyle(description_widt…"
      ]
     },
     "metadata": {
      "tags": []
     },
     "output_type": "display_data"
    },
    {
     "name": "stdout",
     "output_type": "stream",
     "text": [
      "Accuracy on  val :0.882 \t Loss:0.349\n",
      "Accuracy on  val :0.882 \t Loss:0.374\n",
      "Accuracy on  val :0.901 \t Loss:0.329\n",
      "Accuracy on  val :0.891 \t Loss:0.440\n",
      "Accuracy on  val :0.924 \t Loss:0.305\n",
      "Accuracy on  val :0.915 \t Loss:0.337\n",
      "Accuracy on  val :0.909 \t Loss:0.379\n",
      "Accuracy on  val :0.910 \t Loss:0.395\n",
      "Accuracy on  val :0.905 \t Loss:0.414\n",
      "Accuracy on  val :0.885 \t Loss:0.572\n",
      "\n",
      "Finished fine tuning.\n",
      "Accuracy on  test :0.879 \t Loss:0.559\n",
      "CPU times: user 7min 11s, sys: 33.9 s, total: 7min 45s\n",
      "Wall time: 10min 21s\n"
     ]
    }
   ],
   "source": [
    "%%time\n",
    "# Transfer Learning: Train the VGG16 model\n",
    "torch.manual_seed(1)\n",
    "random.seed(1)\n",
    "# Download a pre-trained VGG16 model and train it\n",
    "%run finetune_SpReg_pds.py --train --use-cuda \\\n",
    "  --train_epoch 10 --ds_name 'STL10' \\\n",
    "  --output_model 'vgg'"
   ]
  },
  {
   "cell_type": "code",
   "execution_count": 7,
   "metadata": {
    "colab": {
     "base_uri": "https://localhost:8080/",
     "height": 298
    },
    "executionInfo": {
     "elapsed": 510,
     "status": "ok",
     "timestamp": 1623838099583,
     "user": {
      "displayName": "Mahmood Toosi",
      "photoUrl": "",
      "userId": "05574786655961532098"
     },
     "user_tz": -270
    },
    "id": "5ZyM1H25hQvH",
    "outputId": "fffb22f4-ec34-45c7-b205-b249814a1de0"
   },
   "outputs": [
    {
     "data": {
      "image/png": "[encoded data removed]",
      "text/plain": [
       "<Figure size 432x288 with 1 Axes>"
      ]
     },
     "metadata": {
      "needs_background": "light",
      "tags": []
     },
     "output_type": "display_data"
    },
    {
     "name": "stdout",
     "output_type": "stream",
     "text": [
      "4\n"
     ]
    }
   ],
   "source": [
    "fig, ax = plt.subplots()\n",
    "ax.plot(np.arange(1,len(Train_loss)+1), Train_loss, label='Train Loss', color='blue')\n",
    "ax.plot(np.arange(1,len(Train_loss)+1), Val_loss, label='Valid Loss', color = 'red')\n",
    "ax.plot(np.argmin(Val_loss)+1, np.min(Val_loss),'g*')\n",
    "# legend = ax.legend(loc='upper right', fontsize='x-large')\n",
    "legend = ax.legend(loc='center right', fontsize='x-large')\n",
    "plt.xlabel('Epoch No.')\n",
    "plt.ylabel('Loss')\n",
    "plt.show()\n",
    "print(np.argmin(Val_loss))"
   ]
  },
  {
   "cell_type": "code",
   "execution_count": 11,
   "metadata": {
    "colab": {
     "base_uri": "https://localhost:8080/",
     "height": 501
    },
    "executionInfo": {
     "elapsed": 33885,
     "status": "ok",
     "timestamp": 1623838215417,
     "user": {
      "displayName": "Mahmood Toosi",
      "photoUrl": "",
      "userId": "05574786655961532098"
     },
     "user_tz": -270
    },
    "id": "9FZoXfGppYEw",
    "outputId": "245872c8-d222-42b5-9489-14d07668ed44"
   },
   "outputs": [
    {
     "name": "stdout",
     "output_type": "stream",
     "text": [
      "STL10\n",
      "Using CUDA...\n",
      "Files already downloaded and verified\n",
      "Files already downloaded and verified\n",
      "Accuracy on  test :0.920 \t Loss:0.305\n",
      "ACC=0.92\n",
      "0:0.97\t1:0.96\t2:0.97\t3:0.92\t4:0.95\t5:0.89\t6:0.95\t7:0.96\t8:0.99\t9:0.98\n",
      "FNR:0.08, FPR:0.01\n",
      "TNR:0.99, TPR:0.92\n",
      "CPU times: user 29.6 s, sys: 2.98 s, total: 32.6 s\n",
      "Wall time: 33.1 s\n"
     ]
    },
    {
     "data": {
      "image/png": "[encoded data removed]",
      "text/plain": [
       "<Figure size 432x288 with 2 Axes>"
      ]
     },
     "metadata": {
      "needs_background": "light",
      "tags": []
     },
     "output_type": "display_data"
    }
   ],
   "source": [
    "%%time\n",
    "# Test report the trained model \n",
    "torch.manual_seed(1)\n",
    "random.seed(1)\n",
    "%run finetune_SpReg_pds.py --test --use-cuda --ds_name 'STL10' \\\n",
    "  --input_model 'vgg' --output_model 'vgg'"
   ]
  },
  {
   "cell_type": "code",
   "execution_count": null,
   "metadata": {
    "colab": {
     "base_uri": "https://localhost:8080/"
    },
    "id": "JYGtD1PGiIWP",
    "outputId": "670818e4-e9c8-46fd-db9d-82c012ea225a"
   },
   "outputs": [
    {
     "name": "stdout",
     "output_type": "stream",
     "text": [
      "total 524648\n",
      "     4 .       4 ..       0 for_models.txt  524640 vgg.pt\n"
     ]
    }
   ],
   "source": [
    "!ls -as models"
   ]
  },
  {
   "cell_type": "code",
   "execution_count": 12,
   "metadata": {
    "colab": {
     "base_uri": "https://localhost:8080/",
     "height": 648,
     "referenced_widgets": [
      "a70b5dd92e744df6846bfed2adb0cbfe",
      "3946eaf1e40b4f5a964c50a6588c6f4e",
      "501916a8861c4272b4ad9fa50d70bc60",
      "53fae26e5c2c4bb58329e3d54a996143",
      "1d275c64cc844929b971cadea760ac29",
      "b9fc5236b25d43838276bf2503f78763",
      "efb25312bd5345d1ac102a9d103d523e",
      "93e68840a3d149aeba5cfa6a33e5b13f"
     ]
    },
    "executionInfo": {
     "elapsed": 1281888,
     "status": "ok",
     "timestamp": 1623839528989,
     "user": {
      "displayName": "Mahmood Toosi",
      "photoUrl": "",
      "userId": "05574786655961532098"
     },
     "user_tz": -270
    },
    "id": "gnCnYpvKvPXE",
    "outputId": "0bf9d87f-6e53-4966-dff3-0084ce2f8e53"
   },
   "outputs": [
    {
     "name": "stdout",
     "output_type": "stream",
     "text": [
      "STL10\n",
      "Using CUDA...\n",
      "Files already downloaded and verified\n",
      "Files already downloaded and verified\n",
      "Using Regularization:  HSQGL12\n",
      "Accuracy on  val :0.924 \t Loss:0.305\n",
      "Retraining with regularization ... \n"
     ]
    },
    {
     "data": {
      "application/vnd.jupyter.widget-view+json": {
       "model_id": "a70b5dd92e744df6846bfed2adb0cbfe",
       "version_major": 2,
       "version_minor": 0
      },
      "text/plain": [
       "HBox(children=(FloatProgress(value=0.0, description='Training', max=20.0, style=ProgressStyle(description_widt…"
      ]
     },
     "metadata": {
      "tags": []
     },
     "output_type": "display_data"
    },
    {
     "name": "stdout",
     "output_type": "stream",
     "text": [
      "Accuracy on  val :0.854 \t Loss:0.568\n",
      "Accuracy on  val :0.560 \t Loss:1.212\n",
      "Accuracy on  val :0.815 \t Loss:0.654\n",
      "Accuracy on  val :0.790 \t Loss:0.685\n",
      "Accuracy on  val :0.700 \t Loss:1.274\n",
      "Accuracy on  val :0.699 \t Loss:0.867\n",
      "Accuracy on  val :0.777 \t Loss:0.629\n",
      "Accuracy on  val :0.656 \t Loss:1.333\n",
      "Accuracy on  val :0.703 \t Loss:0.841\n",
      "Accuracy on  val :0.825 \t Loss:0.513\n",
      "Accuracy on  val :0.717 \t Loss:0.890\n",
      "Accuracy on  val :0.832 \t Loss:0.511\n",
      "Accuracy on  val :0.768 \t Loss:0.799\n",
      "Accuracy on  val :0.658 \t Loss:1.515\n",
      "Accuracy on  val :0.809 \t Loss:0.561\n",
      "Accuracy on  val :0.608 \t Loss:1.639\n",
      "Accuracy on  val :0.584 \t Loss:2.071\n",
      "Accuracy on  val :0.739 \t Loss:0.868\n",
      "Accuracy on  val :0.750 \t Loss:0.789\n",
      "Accuracy on  val :0.783 \t Loss:0.649\n",
      "\n",
      "Finished fine tuning.\n",
      "Accuracy on  test :0.794 \t Loss:0.637\n",
      "CPU times: user 20min 31s, sys: 28.7 s, total: 21min\n",
      "Wall time: 21min 19s\n"
     ]
    }
   ],
   "source": [
    "%%time\n",
    "# Pruning the trained model using HSQGL12 method\n",
    "torch.manual_seed(1)\n",
    "random.seed(1)\n",
    "%run finetune_SpReg_pds.py --prune --use-cuda --train_epoch 20 --reg_name 'HSQGL12' --ds_name 'STL10' \\\n",
    "  --input_model 'vgg' --output_model 'HSQGL12' --landa 1e-5"
   ]
  },
  {
   "cell_type": "code",
   "execution_count": 13,
   "metadata": {
    "colab": {
     "base_uri": "https://localhost:8080/",
     "height": 501
    },
    "executionInfo": {
     "elapsed": 32549,
     "status": "ok",
     "timestamp": 1623839774286,
     "user": {
      "displayName": "Mahmood Toosi",
      "photoUrl": "",
      "userId": "05574786655961532098"
     },
     "user_tz": -270
    },
    "id": "DMxZoLHooPj7",
    "outputId": "73947fd2-10fd-4aee-93dd-8bcd4a3cde61"
   },
   "outputs": [
    {
     "name": "stdout",
     "output_type": "stream",
     "text": [
      "STL10\n",
      "Using CUDA...\n",
      "Files already downloaded and verified\n",
      "Files already downloaded and verified\n",
      "Accuracy on  test :0.835 \t Loss:0.491\n",
      "ACC=0.83\n",
      "0:0.94\t1:0.89\t2:0.93\t3:0.87\t4:0.89\t5:0.78\t6:0.92\t7:0.91\t8:0.97\t9:0.97\n",
      "FNR:0.17, FPR:0.02\n",
      "TNR:0.98, TPR:0.83\n",
      "CPU times: user 29 s, sys: 2.77 s, total: 31.7 s\n",
      "Wall time: 32 s\n"
     ]
    },
    {
     "data": {
      "image/png": "[encoded data removed]",
      "text/plain": [
       "<Figure size 432x288 with 2 Axes>"
      ]
     },
     "metadata": {
      "needs_background": "light",
      "tags": []
     },
     "output_type": "display_data"
    }
   ],
   "source": [
    "%%time\n",
    "# Test report for HSQGL12 method\n",
    "torch.manual_seed(1)\n",
    "random.seed(1)\n",
    "%run finetune_SpReg_pds.py --test --use-cuda --ds_name 'STL10' \\\n",
    "  --input_model 'HSQGL12' --output_model 'HSQGL12'"
   ]
  },
  {
   "cell_type": "code",
   "execution_count": null,
   "metadata": {
    "colab": {
     "base_uri": "https://localhost:8080/"
    },
    "id": "Mti_ExXF4DbP",
    "outputId": "f02b1fbd-e060-4b18-827e-a37b317dd4b0"
   },
   "outputs": [
    {
     "name": "stdout",
     "output_type": "stream",
     "text": [
      "total 1049288\n",
      "     4 .       4 ..       0 for_models.txt  524640 HSQGL12.pt  524640 vgg.pt\n"
     ]
    }
   ],
   "source": [
    "!ls -as models"
   ]
  },
  {
   "cell_type": "code",
   "execution_count": 15,
   "metadata": {
    "colab": {
     "base_uri": "https://localhost:8080/",
     "height": 1000,
     "referenced_widgets": [
      "92f4fbec352e4d898ef71a78c41d9af2",
      "9d060130ecfd429ba319590ea3f1aa86",
      "2c96550b11464f93a1019374066d773f",
      "6c8926a641d54baeb6c96e568e971817",
      "9b61e0a9a4d34e6c9d603a818f945a2b",
      "596ccf290cc9402a80c267b49dbdf5da",
      "b309a2ba51184e068d94c14a8b1794f7",
      "94f8ebc159d147228d81d1ab39856dd7",
      "f6cc3b88cf6149ae8c4284840b7a02ce",
      "2b7151063e4341e2a0bcc32e856b67b0",
      "f8ec5f7765c94b949635c1739301f12f",
      "c486076ad2f34011b7378526092b558d",
      "0db30d29c9584bd69a23ed4c723a1a4a",
      "7a5051587d384ca794b2899d02265d98",
      "40899404c2f84f43b2adb8c1b8e7a83c",
      "4400762ed92d408c94b9f2f693e174e6",
      "23765b49bc5e4a81850129d13fe4c317",
      "018ee3a5e7124e2cb19c75691080bc50",
      "de9a1a4e1883464d95424f26b6f08b03",
      "d9a90c24c1bd485f97b3df76b77e6e35",
      "6dd65540a61d4e04a3c5f48e6a55797f",
      "e6412e00144a4dfab76be0edcf78b256",
      "e2e5fb411e844778acc19dac47fc13b1",
      "3e332b25d0224464aaaa1518c5560a53",
      "f76f75e4c0504a228ce5c4b3abdaef50",
      "855707c887a1494c99f04aaf2d85ff1d",
      "303c4b62039845f4a076bb459ded1687",
      "2e4a5d264c654a18aaa5e32975ca8138",
      "b23581aa693a4ce89ee2f343fbbe1caf",
      "87752b5650d04052b488922983a81e4e",
      "00ca867fa7e64330a40838bf301a1f38",
      "f1cdd79a41c54737a34a12f6ebf388f5",
      "898c74b1a7b4409f9cfc3f6016f57f7d",
      "c6f34cb9530540889b315a8b45e69aaf",
      "3754b4de5934445bb34c98c9dcbbb54a",
      "b5f2e3dcf5be4f7bb21cc190d9e6554c",
      "d5904f65f19c4ee99da344cb8b18991d",
      "1dfd3ba3160647b69b9abf7128ccce7a",
      "f8d80f6945614a5ca1879636cc3e3f3c",
      "50e5263ccd2b40109dda9b2495f78d1f"
     ]
    },
    "executionInfo": {
     "elapsed": 1295034,
     "status": "ok",
     "timestamp": 1623841106029,
     "user": {
      "displayName": "Mahmood Toosi",
      "photoUrl": "",
      "userId": "05574786655961532098"
     },
     "user_tz": -270
    },
    "id": "MAhrCTM_q_w7",
    "outputId": "3cebd596-52a1-4738-a58a-462358a1caf0"
   },
   "outputs": [
    {
     "name": "stdout",
     "output_type": "stream",
     "text": [
      "STL10\n",
      "Using CUDA...\n",
      "Files already downloaded and verified\n",
      "Files already downloaded and verified\n",
      "Accuracy on  val :0.924 \t Loss:0.305\n",
      "5\n",
      "Number of prunning iterations to reduce 70% filters: 5\n",
      "Iter:  1 / 5\n",
      "Ranking filters.. \n",
      "Layers that will be prunned {0: 16, 21: 64, 19: 62, 17: 60, 2: 8, 26: 67, 24: 80, 28: 67, 10: 21, 7: 13, 12: 22, 14: 22, 5: 10}\n",
      "Prunning filters.. \n",
      "Filters prunned 12.121212121212125%\n",
      "Accuracy on  val :0.588 \t Loss:1.578\n",
      "Fine tuning to recover from prunning iteration.\n"
     ]
    },
    {
     "data": {
      "application/vnd.jupyter.widget-view+json": {
       "model_id": "92f4fbec352e4d898ef71a78c41d9af2",
       "version_major": 2,
       "version_minor": 0
      },
      "text/plain": [
       "HBox(children=(FloatProgress(value=0.0, description='Training', max=3.0, style=ProgressStyle(description_width…"
      ]
     },
     "metadata": {
      "tags": []
     },
     "output_type": "display_data"
    },
    {
     "name": "stdout",
     "output_type": "stream",
     "text": [
      "Accuracy on  val :0.883 \t Loss:0.350\n",
      "Accuracy on  val :0.876 \t Loss:0.387\n",
      "Accuracy on  val :0.818 \t Loss:0.663\n",
      "\n",
      "Finished fine tuning.\n",
      "Iter:  2 / 5\n",
      "Ranking filters.. \n",
      "Layers that will be prunned {26: 72, 5: 8, 24: 64, 17: 49, 19: 65, 28: 125, 12: 10, 21: 62, 14: 17, 2: 7, 0: 6, 10: 19, 7: 8}\n",
      "Prunning filters.. \n",
      "Filters prunned 24.24242424242425%\n",
      "Accuracy on  val :0.642 \t Loss:1.126\n",
      "Fine tuning to recover from prunning iteration.\n"
     ]
    },
    {
     "data": {
      "application/vnd.jupyter.widget-view+json": {
       "model_id": "f6cc3b88cf6149ae8c4284840b7a02ce",
       "version_major": 2,
       "version_minor": 0
      },
      "text/plain": [
       "HBox(children=(FloatProgress(value=0.0, description='Training', max=3.0, style=ProgressStyle(description_width…"
      ]
     },
     "metadata": {
      "tags": []
     },
     "output_type": "display_data"
    },
    {
     "name": "stdout",
     "output_type": "stream",
     "text": [
      "Accuracy on  val :0.855 \t Loss:0.423\n",
      "Accuracy on  val :0.875 \t Loss:0.420\n",
      "Accuracy on  val :0.882 \t Loss:0.400\n",
      "\n",
      "Finished fine tuning.\n",
      "Iter:  3 / 5\n",
      "Ranking filters.. \n",
      "Layers that will be prunned {10: 32, 26: 71, 17: 67, 21: 76, 28: 72, 24: 68, 12: 26, 19: 64, 5: 5, 7: 7, 14: 21, 2: 2, 0: 1}\n",
      "Prunning filters.. \n",
      "Filters prunned 36.36363636363637%\n",
      "Accuracy on  val :0.758 \t Loss:0.691\n",
      "Fine tuning to recover from prunning iteration.\n"
     ]
    },
    {
     "data": {
      "application/vnd.jupyter.widget-view+json": {
       "model_id": "23765b49bc5e4a81850129d13fe4c317",
       "version_major": 2,
       "version_minor": 0
      },
      "text/plain": [
       "HBox(children=(FloatProgress(value=0.0, description='Training', max=3.0, style=ProgressStyle(description_width…"
      ]
     },
     "metadata": {
      "tags": []
     },
     "output_type": "display_data"
    },
    {
     "name": "stdout",
     "output_type": "stream",
     "text": [
      "Accuracy on  val :0.842 \t Loss:0.581\n",
      "Accuracy on  val :0.891 \t Loss:0.355\n",
      "Accuracy on  val :0.865 \t Loss:0.453\n",
      "\n",
      "Finished fine tuning.\n",
      "Iter:  4 / 5\n",
      "Ranking filters.. \n",
      "Layers that will be prunned {24: 70, 12: 31, 14: 30, 21: 75, 26: 70, 10: 18, 19: 65, 17: 70, 28: 47, 5: 7, 7: 20, 2: 4, 0: 5}\n",
      "Prunning filters.. \n",
      "Filters prunned 48.484848484848484%\n",
      "Accuracy on  val :0.497 \t Loss:1.533\n",
      "Fine tuning to recover from prunning iteration.\n"
     ]
    },
    {
     "data": {
      "application/vnd.jupyter.widget-view+json": {
       "model_id": "f76f75e4c0504a228ce5c4b3abdaef50",
       "version_major": 2,
       "version_minor": 0
      },
      "text/plain": [
       "HBox(children=(FloatProgress(value=0.0, description='Training', max=3.0, style=ProgressStyle(description_width…"
      ]
     },
     "metadata": {
      "tags": []
     },
     "output_type": "display_data"
    },
    {
     "name": "stdout",
     "output_type": "stream",
     "text": [
      "Accuracy on  val :0.843 \t Loss:0.441\n",
      "Accuracy on  val :0.835 \t Loss:0.624\n",
      "Accuracy on  val :0.854 \t Loss:0.465\n",
      "\n",
      "Finished fine tuning.\n",
      "Iter:  5 / 5\n",
      "Ranking filters.. \n",
      "Layers that will be prunned {28: 53, 24: 65, 26: 64, 19: 71, 17: 71, 10: 42, 12: 28, 21: 58, 14: 30, 7: 9, 5: 14, 0: 5, 2: 2}\n",
      "Prunning filters.. \n",
      "Filters prunned 60.60606060606061%\n",
      "Accuracy on  val :0.336 \t Loss:1.913\n",
      "Fine tuning to recover from prunning iteration.\n"
     ]
    },
    {
     "data": {
      "application/vnd.jupyter.widget-view+json": {
       "model_id": "898c74b1a7b4409f9cfc3f6016f57f7d",
       "version_major": 2,
       "version_minor": 0
      },
      "text/plain": [
       "HBox(children=(FloatProgress(value=0.0, description='Training', max=3.0, style=ProgressStyle(description_width…"
      ]
     },
     "metadata": {
      "tags": []
     },
     "output_type": "display_data"
    },
    {
     "name": "stdout",
     "output_type": "stream",
     "text": [
      "Accuracy on  val :0.812 \t Loss:0.572\n",
      "Accuracy on  val :0.807 \t Loss:0.551\n",
      "Accuracy on  val :0.818 \t Loss:0.550\n",
      "\n",
      "Finished fine tuning.\n",
      "Accuracy on  test :0.814 \t Loss:0.547\n",
      "CPU times: user 20min 27s, sys: 40.6 s, total: 21min 7s\n",
      "Wall time: 21min 34s\n"
     ]
    }
   ],
   "source": [
    "# Pruning the trained model using OBD method\n",
    "%%time\n",
    "torch.manual_seed(1)\n",
    "random.seed(1)\n",
    "%run finetune_SpReg_pds.py --prune --use-cuda --ds_name 'STL10' \\\n",
    "  --input_model 'vgg' --output_model 'OBD' \\\n",
    "  --eat 3"
   ]
  },
  {
   "cell_type": "code",
   "execution_count": 16,
   "metadata": {
    "colab": {
     "base_uri": "https://localhost:8080/",
     "height": 501
    },
    "executionInfo": {
     "elapsed": 24816,
     "status": "ok",
     "timestamp": 1623841349882,
     "user": {
      "displayName": "Mahmood Toosi",
      "photoUrl": "",
      "userId": "05574786655961532098"
     },
     "user_tz": -270
    },
    "id": "c6xleJ_9p-WX",
    "outputId": "2bcf6988-e6e6-443f-890c-4bdd8cf89418"
   },
   "outputs": [
    {
     "name": "stdout",
     "output_type": "stream",
     "text": [
      "STL10\n",
      "Using CUDA...\n",
      "Files already downloaded and verified\n",
      "Files already downloaded and verified\n",
      "Accuracy on  test :0.814 \t Loss:0.547\n",
      "ACC=0.81\n",
      "0:0.96\t1:0.86\t2:0.96\t3:0.84\t4:0.90\t5:0.86\t6:0.93\t7:0.88\t8:0.91\t9:0.87\n",
      "FNR:0.19, FPR:0.02\n",
      "TNR:0.98, TPR:0.81\n",
      "CPU times: user 20 s, sys: 2.69 s, total: 22.7 s\n",
      "Wall time: 24 s\n"
     ]
    },
    {
     "data": {
      "image/png": "[encoded data removed]",
      "text/plain": [
       "<Figure size 432x288 with 2 Axes>"
      ]
     },
     "metadata": {
      "needs_background": "light",
      "tags": []
     },
     "output_type": "display_data"
    }
   ],
   "source": [
    "%%time\n",
    "# Test report for OBD method\n",
    "torch.manual_seed(1)\n",
    "random.seed(1)\n",
    "%run finetune_SpReg_pds.py --test --use-cuda --ds_name 'STL10' \\\n",
    "  --input_model 'OBD' --output_model 'OBD'"
   ]
  },
  {
   "cell_type": "code",
   "execution_count": null,
   "metadata": {
    "colab": {
     "base_uri": "https://localhost:8080/"
    },
    "id": "A34ynVoA78ox",
    "outputId": "b08e35b2-20af-46a5-b05c-345d50ca116a"
   },
   "outputs": [
    {
     "name": "stdout",
     "output_type": "stream",
     "text": [
      "total 1246288\n",
      "     4 .        0 for_models.txt  197000 OBD.pt\n",
      "     4 ..  524640 HSQGL12.pt\t  524640 vgg.pt\n"
     ]
    }
   ],
   "source": [
    "!ls -as models"
   ]
  },
  {
   "cell_type": "code",
   "execution_count": 18,
   "metadata": {
    "colab": {
     "base_uri": "https://localhost:8080/",
     "height": 1000,
     "referenced_widgets": [
      "46d44545b51e4d41be17c158fa3965dd",
      "98e1f4fabeb6474bae2a440be4bf67e9",
      "2a371cb66cad45e7b7930f8e68e66a52",
      "64b9e7e5924047abb3cad322e1a49e0b",
      "40354b6f75694ba0babe6443418dd187",
      "7031d87c8ab64e8ea41d6496ec2a2a04",
      "b011b4c025204fdba8dd0eebeae7bf2f",
      "238be877c36e43279fcd6e0f772c219f",
      "daad0c74e82a453492ad780145efb8d2",
      "7ac716c574464b76919b81fc574f6192",
      "af7541ad97df462093ff32734bf2c67e",
      "f1549cd90bd34c53a7bea4c3827cebba",
      "0cb371cf687543cb86a294f45e7a994b",
      "66d8b44dc5c94442bb7cde114a77a0ce",
      "ec5517ea1b8d4c7598adaab56040afe6",
      "9b1a04ee4e2247439e752f9c6ba709ed",
      "5010aa733c704145827881d5ec3298ed",
      "b21c66d314754e979b98c3f3b80f27f3",
      "35c103cea72b4c59a9d10d3be1567ba5",
      "26b6c036fa4842c8908064dc88699563",
      "a436b6cf9b4f4563a8839f55a11581bb",
      "760831e951a4423f89f65e61bf6420fd",
      "2e2880aaa3d34588a99e95e3ee98c447",
      "199d47dda1fd4c98a62bc38711aad498",
      "2403a6593caf4e90a8702da6fa5027cf",
      "6c071515e3604f8f9ecdb5f2ffb7b52d",
      "e5869ef1b367498ba15a9874766d3289",
      "9329da97eaa64906b63677d72222d9b9",
      "9debfd58980049e590df982f04fe2984",
      "af022191555d49b4b09915b5323304c1",
      "7bf1839781f44783a13b2433c645f513",
      "db77c2e3315e47bb8f7dae758a4bc2ea",
      "ad5732b570d84ccdb7898384b9c0a45e",
      "c9582c080d3f4d2fac8df56bc5bed90c",
      "d67bdcc5786b4069b45abf9d93176327",
      "c6cee3372e444924a651f05111674436",
      "1aade2fb10b544e5861ef84d3409c2a0",
      "0678275a7a9040e49f0436576c51e38d",
      "0a5166c03c1a4a3aba953e360294dc97",
      "680e8bdb4f044008be721b0a1269a3bc"
     ]
    },
    "executionInfo": {
     "elapsed": 155044,
     "status": "ok",
     "timestamp": 1623842769094,
     "user": {
      "displayName": "Mahmood Toosi",
      "photoUrl": "",
      "userId": "05574786655961532098"
     },
     "user_tz": -270
    },
    "id": "HZeSjCPUISE_",
    "outputId": "e7432617-a38b-47ec-85d4-b52a834c5c7b"
   },
   "outputs": [
    {
     "name": "stdout",
     "output_type": "stream",
     "text": [
      "STL10\n",
      "Using CUDA...\n",
      "Files already downloaded and verified\n",
      "Files already downloaded and verified\n",
      "Accuracy on  val :0.832 \t Loss:0.511\n",
      "5\n",
      "Number of prunning iterations to reduce 70% filters: 5\n",
      "Iter:  1 / 5\n",
      "Ranking filters.. \n",
      "Layers that will be prunned {0: 10, 2: 4, 26: 89, 17: 68, 21: 87, 19: 71, 14: 21, 28: 61, 12: 14, 10: 12, 24: 65, 7: 8, 5: 2}\n",
      "Prunning filters.. \n",
      "Filters prunned 12.121212121212125%\n",
      "Accuracy on  val :0.785 \t Loss:0.645\n",
      "Fine tuning to recover from prunning iteration.\n"
     ]
    },
    {
     "data": {
      "application/vnd.jupyter.widget-view+json": {
       "model_id": "46d44545b51e4d41be17c158fa3965dd",
       "version_major": 2,
       "version_minor": 0
      },
      "text/plain": [
       "HBox(children=(FloatProgress(value=0.0, description='Training', max=3.0, style=ProgressStyle(description_width…"
      ]
     },
     "metadata": {
      "tags": []
     },
     "output_type": "display_data"
    },
    {
     "name": "stdout",
     "output_type": "stream",
     "text": [
      "Accuracy on  val :0.541 \t Loss:1.259\n",
      "Accuracy on  val :0.697 \t Loss:0.869\n",
      "Accuracy on  val :0.642 \t Loss:1.064\n",
      "\n",
      "Finished fine tuning.\n",
      "Iter:  2 / 5\n",
      "Ranking filters.. \n",
      "Layers that will be prunned {21: 108, 24: 59, 26: 123, 28: 122, 19: 77, 17: 15, 12: 1, 0: 1, 14: 3, 2: 1, 7: 1, 10: 1}\n",
      "Prunning filters.. \n",
      "Filters prunned 24.24242424242425%\n",
      "Accuracy on  val :0.640 \t Loss:1.062\n",
      "Fine tuning to recover from prunning iteration.\n"
     ]
    },
    {
     "data": {
      "application/vnd.jupyter.widget-view+json": {
       "model_id": "daad0c74e82a453492ad780145efb8d2",
       "version_major": 2,
       "version_minor": 0
      },
      "text/plain": [
       "HBox(children=(FloatProgress(value=0.0, description='Training', max=3.0, style=ProgressStyle(description_width…"
      ]
     },
     "metadata": {
      "tags": []
     },
     "output_type": "display_data"
    },
    {
     "name": "stdout",
     "output_type": "stream",
     "text": [
      "Accuracy on  val :0.729 \t Loss:0.777\n",
      "Accuracy on  val :0.742 \t Loss:0.856\n",
      "Accuracy on  val :0.709 \t Loss:1.128\n",
      "\n",
      "Finished fine tuning.\n",
      "Iter:  3 / 5\n",
      "Ranking filters.. \n",
      "Layers that will be prunned {28: 60, 24: 89, 19: 89, 17: 64, 12: 14, 26: 71, 21: 90, 10: 13, 14: 17, 5: 3, 2: 1, 7: 1}\n",
      "Prunning filters.. \n",
      "Filters prunned 36.36363636363637%\n",
      "Accuracy on  val :0.661 \t Loss:1.318\n",
      "Fine tuning to recover from prunning iteration.\n"
     ]
    },
    {
     "data": {
      "application/vnd.jupyter.widget-view+json": {
       "model_id": "5010aa733c704145827881d5ec3298ed",
       "version_major": 2,
       "version_minor": 0
      },
      "text/plain": [
       "HBox(children=(FloatProgress(value=0.0, description='Training', max=3.0, style=ProgressStyle(description_width…"
      ]
     },
     "metadata": {
      "tags": []
     },
     "output_type": "display_data"
    },
    {
     "name": "stdout",
     "output_type": "stream",
     "text": [
      "Accuracy on  val :0.776 \t Loss:0.668\n",
      "Accuracy on  val :0.657 \t Loss:0.998\n",
      "Accuracy on  val :0.793 \t Loss:0.695\n",
      "\n",
      "Finished fine tuning.\n",
      "Iter:  4 / 5\n",
      "Ranking filters.. \n",
      "Layers that will be prunned {26: 69, 28: 42, 24: 62, 21: 53, 17: 102, 12: 33, 14: 33, 7: 15, 19: 68, 10: 24, 5: 6, 2: 2, 0: 3}\n",
      "Prunning filters.. \n",
      "Filters prunned 48.484848484848484%\n",
      "Accuracy on  val :0.719 \t Loss:0.827\n",
      "Fine tuning to recover from prunning iteration.\n"
     ]
    },
    {
     "data": {
      "application/vnd.jupyter.widget-view+json": {
       "model_id": "2403a6593caf4e90a8702da6fa5027cf",
       "version_major": 2,
       "version_minor": 0
      },
      "text/plain": [
       "HBox(children=(FloatProgress(value=0.0, description='Training', max=3.0, style=ProgressStyle(description_width…"
      ]
     },
     "metadata": {
      "tags": []
     },
     "output_type": "display_data"
    },
    {
     "name": "stdout",
     "output_type": "stream",
     "text": [
      "Accuracy on  val :0.771 \t Loss:0.713\n",
      "Accuracy on  val :0.788 \t Loss:0.679\n",
      "Accuracy on  val :0.788 \t Loss:0.666\n",
      "\n",
      "Finished fine tuning.\n",
      "Iter:  5 / 5\n",
      "Ranking filters.. \n",
      "Layers that will be prunned {28: 82, 24: 57, 17: 77, 14: 37, 12: 36, 26: 51, 5: 11, 10: 37, 19: 60, 21: 40, 2: 3, 0: 7, 7: 14}\n",
      "Prunning filters.. \n",
      "Filters prunned 60.60606060606061%\n",
      "Accuracy on  val :0.594 \t Loss:1.159\n",
      "Fine tuning to recover from prunning iteration.\n"
     ]
    },
    {
     "data": {
      "application/vnd.jupyter.widget-view+json": {
       "model_id": "ad5732b570d84ccdb7898384b9c0a45e",
       "version_major": 2,
       "version_minor": 0
      },
      "text/plain": [
       "HBox(children=(FloatProgress(value=0.0, description='Training', max=3.0, style=ProgressStyle(description_width…"
      ]
     },
     "metadata": {
      "tags": []
     },
     "output_type": "display_data"
    },
    {
     "name": "stdout",
     "output_type": "stream",
     "text": [
      "Accuracy on  val :0.753 \t Loss:0.795\n",
      "Accuracy on  val :0.799 \t Loss:0.609\n",
      "Accuracy on  val :0.736 \t Loss:0.837\n",
      "\n",
      "Finished fine tuning.\n",
      "Accuracy on  test :0.739 \t Loss:0.828\n",
      "CPU times: user 22min, sys: 41.7 s, total: 22min 42s\n",
      "Wall time: 23min 4s\n"
     ]
    }
   ],
   "source": [
    "%%time\n",
    "# Train HSQGL12_OBD\n",
    "torch.manual_seed(1)\n",
    "random.seed(1)\n",
    "%run finetune_SpReg_pds.py --prune --use-cuda --ds_name 'STL10' \\\n",
    "  --input_model 'HSQGL12' --output_model 'HSQGL12_OBD' \\\n",
    "  --eat 3"
   ]
  },
  {
   "cell_type": "code",
   "execution_count": 19,
   "metadata": {
    "colab": {
     "base_uri": "https://localhost:8080/",
     "height": 501
    },
    "executionInfo": {
     "elapsed": 26778,
     "status": "ok",
     "timestamp": 1623842804288,
     "user": {
      "displayName": "Mahmood Toosi",
      "photoUrl": "",
      "userId": "05574786655961532098"
     },
     "user_tz": -270
    },
    "id": "FNsSoNKm8kPp",
    "outputId": "ac47bab6-45c2-4143-de43-3759ec5b0a0d"
   },
   "outputs": [
    {
     "name": "stdout",
     "output_type": "stream",
     "text": [
      "STL10\n",
      "Using CUDA...\n",
      "Files already downloaded and verified\n",
      "Files already downloaded and verified\n",
      "Accuracy on  test :0.800 \t Loss:0.589\n",
      "ACC=0.80\n",
      "0:0.94\t1:0.90\t2:0.94\t3:0.86\t4:0.83\t5:0.80\t6:0.89\t7:0.85\t8:0.97\t9:0.90\n",
      "FNR:0.20, FPR:0.02\n",
      "TNR:0.98, TPR:0.80\n",
      "CPU times: user 22.7 s, sys: 2.55 s, total: 25.3 s\n",
      "Wall time: 25.8 s\n"
     ]
    },
    {
     "data": {
      "image/png": "[encoded data removed]",
      "text/plain": [
       "<Figure size 432x288 with 2 Axes>"
      ]
     },
     "metadata": {
      "needs_background": "light",
      "tags": []
     },
     "output_type": "display_data"
    }
   ],
   "source": [
    "%%time\n",
    "# Test report for HSQGL12+OBD method\n",
    "torch.manual_seed(1)\n",
    "random.seed(1)\n",
    "%run finetune_SpReg_pds.py --test --use-cuda --ds_name 'STL10' \\\n",
    "  --input_model 'HSQGL12_OBD' --output_model 'HSQGL12_OBD'"
   ]
  },
  {
   "cell_type": "code",
   "execution_count": null,
   "metadata": {
    "colab": {
     "base_uri": "https://localhost:8080/"
    },
    "id": "o944JwceRK5Z",
    "outputId": "6f8db766-8c4c-49e4-b83c-7d456ac891dd"
   },
   "outputs": [
    {
     "name": "stdout",
     "output_type": "stream",
     "text": [
      "total 1605008\n",
      "     4 .        0 for_models.txt  524640 HSQGL12.pt  524640 vgg.pt\n",
      "     4 ..  326440 HSQGL12_OBD.pt  229280 OBD.pt\n"
     ]
    }
   ],
   "source": [
    "# Print Model Sizes\n",
    "!ls -as models\n",
    "# !stat -c '%y' models/vgg_HSQGL12_OBD.pt\n",
    "# print(time.strftime('%Y/​%m/%d, %X'))"
   ]
  },
  {
   "cell_type": "code",
   "execution_count": 20,
   "metadata": {
    "colab": {
     "base_uri": "https://localhost:8080/",
     "height": 648,
     "referenced_widgets": [
      "b6936bfa0d2e4ac19be5a6f2570a4390",
      "9dd85b9c998749b0814d7273763a08a5",
      "135a05bb9cf54d0eb3d9e6283781fab9",
      "636e7b1c2bef4a81985d74be2c0472b5",
      "b0d25fb23ac0478fbf88d8b18e92540e",
      "873478392da341378ac15ac3d556a8dd",
      "4d1e90543c5447129524e233cc01e939",
      "eb66561fdd4f45789bd257adefc7e096"
     ]
    },
    "executionInfo": {
     "elapsed": 700329,
     "status": "ok",
     "timestamp": 1623843605595,
     "user": {
      "displayName": "Mahmood Toosi",
      "photoUrl": "",
      "userId": "05574786655961532098"
     },
     "user_tz": -270
    },
    "id": "Dq6H0XFxPobQ",
    "outputId": "a7448256-396b-46e5-ebaf-dfa787ac3ea5"
   },
   "outputs": [
    {
     "name": "stdout",
     "output_type": "stream",
     "text": [
      "STL10\n",
      "Using CUDA...\n",
      "Files already downloaded and verified\n",
      "Files already downloaded and verified\n",
      "Using Regularization:  HSQGL12\n",
      "Accuracy on  val :0.818 \t Loss:0.550\n",
      "Retraining with regularization ... \n"
     ]
    },
    {
     "data": {
      "application/vnd.jupyter.widget-view+json": {
       "model_id": "b6936bfa0d2e4ac19be5a6f2570a4390",
       "version_major": 2,
       "version_minor": 0
      },
      "text/plain": [
       "HBox(children=(FloatProgress(value=0.0, description='Training', max=20.0, style=ProgressStyle(description_widt…"
      ]
     },
     "metadata": {
      "tags": []
     },
     "output_type": "display_data"
    },
    {
     "name": "stdout",
     "output_type": "stream",
     "text": [
      "Accuracy on  val :0.813 \t Loss:0.615\n",
      "Accuracy on  val :0.804 \t Loss:0.645\n",
      "Accuracy on  val :0.819 \t Loss:0.577\n",
      "Accuracy on  val :0.758 \t Loss:0.871\n",
      "Accuracy on  val :0.791 \t Loss:0.771\n",
      "Accuracy on  val :0.756 \t Loss:0.850\n",
      "Accuracy on  val :0.807 \t Loss:0.651\n",
      "Accuracy on  val :0.797 \t Loss:0.768\n",
      "Accuracy on  val :0.828 \t Loss:0.575\n",
      "Accuracy on  val :0.796 \t Loss:0.750\n",
      "Accuracy on  val :0.807 \t Loss:0.695\n",
      "Accuracy on  val :0.799 \t Loss:0.671\n",
      "Accuracy on  val :0.752 \t Loss:0.833\n",
      "Accuracy on  val :0.803 \t Loss:0.693\n",
      "Accuracy on  val :0.745 \t Loss:0.909\n",
      "Accuracy on  val :0.790 \t Loss:0.620\n",
      "Accuracy on  val :0.796 \t Loss:0.806\n",
      "Accuracy on  val :0.777 \t Loss:0.815\n",
      "Accuracy on  val :0.826 \t Loss:0.552\n",
      "Accuracy on  val :0.817 \t Loss:0.602\n",
      "\n",
      "Finished fine tuning.\n",
      "Accuracy on  test :0.817 \t Loss:0.593\n",
      "CPU times: user 10min 40s, sys: 27.7 s, total: 11min 8s\n",
      "Wall time: 11min 39s\n"
     ]
    }
   ],
   "source": [
    "%%time\n",
    "# Pruning the OBD pruned model using HSQGL12 method\n",
    "torch.manual_seed(1)\n",
    "random.seed(1)\n",
    "%run finetune_SpReg_pds.py --prune --use-cuda --train_epoch 20 --reg_name 'HSQGL12' --ds_name 'STL10' \\\n",
    "  --input_model 'OBD' --output_model 'OBD_HSQGL12' --landa 1e-5"
   ]
  },
  {
   "cell_type": "code",
   "execution_count": 21,
   "metadata": {
    "colab": {
     "base_uri": "https://localhost:8080/"
    },
    "executionInfo": {
     "elapsed": 701,
     "status": "ok",
     "timestamp": 1623843619744,
     "user": {
      "displayName": "Mahmood Toosi",
      "photoUrl": "",
      "userId": "05574786655961532098"
     },
     "user_tz": -270
    },
    "id": "r4UyVR3OQFzL",
    "outputId": "560f9808-9b0c-4d5e-ee9a-0514c7d8b2c5"
   },
   "outputs": [
    {
     "name": "stdout",
     "output_type": "stream",
     "text": [
      "total 1616248\n",
      "     4 .        0 for_models.txt  524640 HSQGL12.pt\t 189972 OBD.pt\n",
      "     4 ..  187016 HSQGL12_OBD.pt  189972 OBD_HSQGL12.pt  524640 vgg.pt\n"
     ]
    }
   ],
   "source": [
    "!ls -as models"
   ]
  },
  {
   "cell_type": "code",
   "execution_count": 24,
   "metadata": {
    "colab": {
     "base_uri": "https://localhost:8080/",
     "height": 501
    },
    "executionInfo": {
     "elapsed": 24349,
     "status": "ok",
     "timestamp": 1623843665143,
     "user": {
      "displayName": "Mahmood Toosi",
      "photoUrl": "",
      "userId": "05574786655961532098"
     },
     "user_tz": -270
    },
    "id": "aAQqQBVGPzrg",
    "outputId": "79f4f52d-a461-41b8-baec-7e5c7dabfb0a"
   },
   "outputs": [
    {
     "name": "stdout",
     "output_type": "stream",
     "text": [
      "STL10\n",
      "Using CUDA...\n",
      "Files already downloaded and verified\n",
      "Files already downloaded and verified\n",
      "Accuracy on  test :0.822 \t Loss:0.555\n",
      "ACC=0.82\n",
      "0:0.91\t1:0.87\t2:0.94\t3:0.90\t4:0.91\t5:0.79\t6:0.92\t7:0.86\t8:0.97\t9:0.95\n",
      "FNR:0.18, FPR:0.02\n",
      "TNR:0.98, TPR:0.82\n",
      "CPU times: user 20.3 s, sys: 2.69 s, total: 23 s\n",
      "Wall time: 23.6 s\n"
     ]
    },
    {
     "data": {
      "image/png": "[encoded data removed]",
      "text/plain": [
       "<Figure size 432x288 with 2 Axes>"
      ]
     },
     "metadata": {
      "needs_background": "light",
      "tags": []
     },
     "output_type": "display_data"
    }
   ],
   "source": [
    "%%time\n",
    "# Test report for OBD+HSQGL12 method\n",
    "torch.manual_seed(1)\n",
    "random.seed(1)\n",
    "%run finetune_SpReg_pds.py --test --use-cuda --ds_name 'STL10' \\\n",
    "  --input_model 'OBD_HSQGL12' --output_model 'OBD_HSQGL12'"
   ]
  },
  {
   "cell_type": "code",
   "execution_count": 25,
   "metadata": {
    "colab": {
     "base_uri": "https://localhost:8080/",
     "height": 298
    },
    "executionInfo": {
     "elapsed": 463,
     "status": "ok",
     "timestamp": 1623843718677,
     "user": {
      "displayName": "Mahmood Toosi",
      "photoUrl": "",
      "userId": "05574786655961532098"
     },
     "user_tz": -270
    },
    "id": "aI5TK-RqcEG3",
    "outputId": "5d50abf6-1f12-4fe5-d203-19ee4b594d3b"
   },
   "outputs": [
    {
     "data": {
      "text/plain": [
       "<matplotlib.axes._subplots.AxesSubplot at 0x7f7c7751be10>"
      ]
     },
     "execution_count": 25,
     "metadata": {
      "tags": []
     },
     "output_type": "execute_result"
    },
    {
     "data": {
      "image/png": "[encoded data removed]",
      "text/plain": [
       "<Figure size 432x288 with 1 Axes>"
      ]
     },
     "metadata": {
      "needs_background": "light",
      "tags": []
     },
     "output_type": "display_data"
    }
   ],
   "source": [
    "%matplotlib inline\n",
    "# نمایش تعداد فیلترهای هرس شده در هر لایه\n",
    "pkl_file = open('STL10_OBD_dic.pkl','rb')\n",
    "dic = pkl.load(pkl_file)\n",
    "dic_obd = bar_filters_pruned(dic)\n",
    "\n",
    "pkl_file = open('STL10_HSQGL12_OBD_dic.pkl','rb')\n",
    "dic = pkl.load(pkl_file)\n",
    "dic_reg_obd = bar_filters_pruned(dic)\n",
    "\n",
    "d = {\n",
    "    'OBD': dic_obd,\n",
    "    'HSQGL12-OBD': dic_reg_obd\n",
    "}\n",
    "df = pd.DataFrame(d)\n",
    "df1 = df.stack().reset_index().rename(columns={'level_1': 'Method', 0: 'Num Filters Pruned'})\n",
    "df1.rename(columns={\"level_0\": \"Layer No.\"},inplace=True)\n",
    "sns.barplot(x=df1['Layer No.'], y='Num Filters Pruned', data=df1, hue='Method')"
   ]
  },
  {
   "cell_type": "code",
   "execution_count": 26,
   "metadata": {
    "colab": {
     "base_uri": "https://localhost:8080/"
    },
    "executionInfo": {
     "elapsed": 423,
     "status": "ok",
     "timestamp": 1623843724525,
     "user": {
      "displayName": "Mahmood Toosi",
      "photoUrl": "",
      "userId": "05574786655961532098"
     },
     "user_tz": -270
    },
    "id": "lfzcyG5XCbov",
    "outputId": "cbcd1257-9606-4d91-a4fd-9c63d6745b55"
   },
   "outputs": [
    {
     "name": "stdout",
     "output_type": "stream",
     "text": [
      "total 1616248\n",
      "     4 .        0 for_models.txt  524640 HSQGL12.pt\t 189972 OBD.pt\n",
      "     4 ..  187016 HSQGL12_OBD.pt  189972 OBD_HSQGL12.pt  524640 vgg.pt\n"
     ]
    }
   ],
   "source": [
    "!ls -as models"
   ]
  },
  {
   "cell_type": "code",
   "execution_count": 27,
   "metadata": {
    "colab": {
     "base_uri": "https://localhost:8080/"
    },
    "executionInfo": {
     "elapsed": 3423,
     "status": "ok",
     "timestamp": 1623843733658,
     "user": {
      "displayName": "Mahmood Toosi",
      "photoUrl": "",
      "userId": "05574786655961532098"
     },
     "user_tz": -270
    },
    "id": "Gunp2UaeK46P",
    "outputId": "5192ef84-32e7-4e8a-939c-b9c59bb7e787"
   },
   "outputs": [
    {
     "name": "stdout",
     "output_type": "stream",
     "text": [
      "Total Parameters: 134289088\n",
      "MDL \t\t ne \t\t ze \t\t ze/te \t 1-ze/te ne/te \t 1-ne/te \n",
      "MDL \t ne \t ze \t ze/te \t 1-ze/te \t ne/te \t 1-ne/te \n",
      "vgg.pt         \t 134289088 \t 1808403 \t 0.013 \t 0.987 \t 1.000 \t 0.000\n",
      "HSQGL12.pt     \t 134289088 \t 14071813 \t 0.105 \t 0.895 \t 1.000 \t 0.000\n",
      "OBD.pt         \t 48617973 \t 548979 \t 0.004 \t 0.996 \t 0.362 \t 0.638\n",
      "HSQGL12_OBD.pt \t 47861268 \t 547535 \t 0.004 \t 0.996 \t 0.356 \t 0.644\n",
      "OBD_HSQGL12.pt \t 48617973 \t 1300818 \t 0.010 \t 0.990 \t 0.362 \t 0.638\n"
     ]
    }
   ],
   "source": [
    "models_dir = 'models/'\n",
    "eps = 1e-4\n",
    "model = torch.load('models/vgg.pt', map_location=lambda storage, loc: storage)\n",
    "te, _ = num_parameters(model,eps)\n",
    "print('Total Parameters:', te)\n",
    "mdl_list = ['vgg.pt', 'HSQGL12.pt', 'OBD.pt', 'HSQGL12_OBD.pt', 'OBD_HSQGL12.pt']\n",
    "print('MDL \\t\\t ne \\t\\t ze \\t\\t ze/te \\t 1-ze/te ne/te \\t 1-ne/te ')\n",
    "print('MDL \\t ne \\t ze \\t ze/te \\t 1-ze/te \\t ne/te \\t 1-ne/te ')\n",
    "for mdl in mdl_list:\n",
    "  model_file_name = models_dir+mdl\n",
    "  model = torch.load(model_file_name, map_location=lambda storage, loc: storage)\n",
    "  num_el, ze = num_parameters(model,eps)\n",
    "  print(\"{:15s}\\t {} \\t {} \\t {:.3f} \\t {:.3f} \\t {:.3f} \\t {:.3f}\".format(\\\n",
    "          mdl,num_el, ze, ze/te, 1-ze/te, num_el/te, 1-num_el/te))"
   ]
  },
  {
   "cell_type": "code",
   "execution_count": 28,
   "metadata": {
    "colab": {
     "base_uri": "https://localhost:8080/"
    },
    "executionInfo": {
     "elapsed": 1050,
     "status": "ok",
     "timestamp": 1623843745537,
     "user": {
      "displayName": "Mahmood Toosi",
      "photoUrl": "",
      "userId": "05574786655961532098"
     },
     "user_tz": -270
    },
    "id": "0Bi9PMbHtoXA",
    "outputId": "7cc1341d-0744-4bad-9bb0-b172b18f7aa0"
   },
   "outputs": [
    {
     "name": "stdout",
     "output_type": "stream",
     "text": [
      "  adding: STL10_HSQGL12_cm.pkl (deflated 56%)\n",
      "  adding: STL10_HSQGL12_OBD_cm.pkl (deflated 55%)\n",
      "  adding: STL10_HSQGL12_OBD_dic.pkl (deflated 33%)\n",
      "  adding: STL10_loss.pkl (stored 0%)\n",
      "  adding: STL10_OBD_cm.pkl (deflated 55%)\n",
      "  adding: STL10_OBD_dic.pkl (deflated 34%)\n",
      "  adding: STL10_OBD_HSQGL12_cm.pkl (deflated 56%)\n",
      "  adding: STL10_vgg_cm.pkl (deflated 59%)\n"
     ]
    }
   ],
   "source": [
    "!zip -r STL10.zip ./STL10*.*\n",
    "files.download('STL10.zip')"
   ]
  }
 ],
 "metadata": {
  "accelerator": "GPU",
  "colab": {
   "collapsed_sections": [],
   "name": "main_VGG_prune_STL10_landa.ipynb",
   "provenance": []
  },
  "kernelspec": {
   "display_name": "Python 3",
   "language": "python",
   "name": "python3"
  },
  "language_info": {
   "codemirror_mode": {
    "name": "ipython",
    "version": 3
   },
   "file_extension": ".py",
   "mimetype": "text/x-python",
   "name": "python",
   "nbconvert_exporter": "python",
   "pygments_lexer": "ipython3",
   "version": "3.7.6"
  },
  "widgets": {
   "application/vnd.jupyter.widget-state+json": {
    "00ca867fa7e64330a40838bf301a1f38": {
     "model_module": "@jupyter-widgets/controls",
     "model_name": "DescriptionStyleModel",
     "state": {
      "_model_module": "@jupyter-widgets/controls",
      "_model_module_version": "1.5.0",
      "_model_name": "DescriptionStyleModel",
      "_view_count": null,
      "_view_module": "@jupyter-widgets/base",
      "_view_module_version": "1.2.0",
      "_view_name": "StyleView",
      "description_width": ""
     }
    },
    "018ee3a5e7124e2cb19c75691080bc50": {
     "model_module": "@jupyter-widgets/base",
     "model_name": "LayoutModel",
     "state": {
      "_model_module": "@jupyter-widgets/base",
      "_model_module_version": "1.2.0",
      "_model_name": "LayoutModel",
      "_view_count": null,
      "_view_module": "@jupyter-widgets/base",
      "_view_module_version": "1.2.0",
      "_view_name": "LayoutView",
      "align_content": null,
      "align_items": null,
      "align_self": null,
      "border": null,
      "bottom": null,
      "display": null,
      "flex": null,
      "flex_flow": null,
      "grid_area": null,
      "grid_auto_columns": null,
      "grid_auto_flow": null,
      "grid_auto_rows": null,
      "grid_column": null,
      "grid_gap": null,
      "grid_row": null,
      "grid_template_areas": null,
      "grid_template_columns": null,
      "grid_template_rows": null,
      "height": null,
      "justify_content": null,
      "justify_items": null,
      "left": null,
      "margin": null,
      "max_height": null,
      "max_width": null,
      "min_height": null,
      "min_width": null,
      "object_fit": null,
      "object_position": null,
      "order": null,
      "overflow": null,
      "overflow_x": null,
      "overflow_y": null,
      "padding": null,
      "right": null,
      "top": null,
      "visibility": null,
      "width": null
     }
    },
    "0678275a7a9040e49f0436576c51e38d": {
     "model_module": "@jupyter-widgets/base",
     "model_name": "LayoutModel",
     "state": {
      "_model_module": "@jupyter-widgets/base",
      "_model_module_version": "1.2.0",
      "_model_name": "LayoutModel",
      "_view_count": null,
      "_view_module": "@jupyter-widgets/base",
      "_view_module_version": "1.2.0",
      "_view_name": "LayoutView",
      "align_content": null,
      "align_items": null,
      "align_self": null,
      "border": null,
      "bottom": null,
      "display": null,
      "flex": null,
      "flex_flow": null,
      "grid_area": null,
      "grid_auto_columns": null,
      "grid_auto_flow": null,
      "grid_auto_rows": null,
      "grid_column": null,
      "grid_gap": null,
      "grid_row": null,
      "grid_template_areas": null,
      "grid_template_columns": null,
      "grid_template_rows": null,
      "height": null,
      "justify_content": null,
      "justify_items": null,
      "left": null,
      "margin": null,
      "max_height": null,
      "max_width": null,
      "min_height": null,
      "min_width": null,
      "object_fit": null,
      "object_position": null,
      "order": null,
      "overflow": null,
      "overflow_x": null,
      "overflow_y": null,
      "padding": null,
      "right": null,
      "top": null,
      "visibility": null,
      "width": null
     }
    },
    "087c4180641e4ac198fa2b1ea897c682": {
     "model_module": "@jupyter-widgets/controls",
     "model_name": "DescriptionStyleModel",
     "state": {
      "_model_module": "@jupyter-widgets/controls",
      "_model_module_version": "1.5.0",
      "_model_name": "DescriptionStyleModel",
      "_view_count": null,
      "_view_module": "@jupyter-widgets/base",
      "_view_module_version": "1.2.0",
      "_view_name": "StyleView",
      "description_width": ""
     }
    },
    "0a5166c03c1a4a3aba953e360294dc97": {
     "model_module": "@jupyter-widgets/controls",
     "model_name": "DescriptionStyleModel",
     "state": {
      "_model_module": "@jupyter-widgets/controls",
      "_model_module_version": "1.5.0",
      "_model_name": "DescriptionStyleModel",
      "_view_count": null,
      "_view_module": "@jupyter-widgets/base",
      "_view_module_version": "1.2.0",
      "_view_name": "StyleView",
      "description_width": ""
     }
    },
    "0cb371cf687543cb86a294f45e7a994b": {
     "model_module": "@jupyter-widgets/controls",
     "model_name": "ProgressStyleModel",
     "state": {
      "_model_module": "@jupyter-widgets/controls",
      "_model_module_version": "1.5.0",
      "_model_name": "ProgressStyleModel",
      "_view_count": null,
      "_view_module": "@jupyter-widgets/base",
      "_view_module_version": "1.2.0",
      "_view_name": "StyleView",
      "bar_color": null,
      "description_width": "initial"
     }
    },
    "0db30d29c9584bd69a23ed4c723a1a4a": {
     "model_module": "@jupyter-widgets/controls",
     "model_name": "ProgressStyleModel",
     "state": {
      "_model_module": "@jupyter-widgets/controls",
      "_model_module_version": "1.5.0",
      "_model_name": "ProgressStyleModel",
      "_view_count": null,
      "_view_module": "@jupyter-widgets/base",
      "_view_module_version": "1.2.0",
      "_view_name": "StyleView",
      "bar_color": null,
      "description_width": "initial"
     }
    },
    "135a05bb9cf54d0eb3d9e6283781fab9": {
     "model_module": "@jupyter-widgets/controls",
     "model_name": "FloatProgressModel",
     "state": {
      "_dom_classes": [],
      "_model_module": "@jupyter-widgets/controls",
      "_model_module_version": "1.5.0",
      "_model_name": "FloatProgressModel",
      "_view_count": null,
      "_view_module": "@jupyter-widgets/controls",
      "_view_module_version": "1.5.0",
      "_view_name": "ProgressView",
      "bar_style": "success",
      "description": "Training: 100%",
      "description_tooltip": null,
      "layout": "IPY_MODEL_873478392da341378ac15ac3d556a8dd",
      "max": 20,
      "min": 0,
      "orientation": "horizontal",
      "style": "IPY_MODEL_b0d25fb23ac0478fbf88d8b18e92540e",
      "value": 20
     }
    },
    "199d47dda1fd4c98a62bc38711aad498": {
     "model_module": "@jupyter-widgets/base",
     "model_name": "LayoutModel",
     "state": {
      "_model_module": "@jupyter-widgets/base",
      "_model_module_version": "1.2.0",
      "_model_name": "LayoutModel",
      "_view_count": null,
      "_view_module": "@jupyter-widgets/base",
      "_view_module_version": "1.2.0",
      "_view_name": "LayoutView",
      "align_content": null,
      "align_items": null,
      "align_self": null,
      "border": null,
      "bottom": null,
      "display": null,
      "flex": null,
      "flex_flow": null,
      "grid_area": null,
      "grid_auto_columns": null,
      "grid_auto_flow": null,
      "grid_auto_rows": null,
      "grid_column": null,
      "grid_gap": null,
      "grid_row": null,
      "grid_template_areas": null,
      "grid_template_columns": null,
      "grid_template_rows": null,
      "height": null,
      "justify_content": null,
      "justify_items": null,
      "left": null,
      "margin": null,
      "max_height": null,
      "max_width": null,
      "min_height": null,
      "min_width": null,
      "object_fit": null,
      "object_position": null,
      "order": null,
      "overflow": null,
      "overflow_x": null,
      "overflow_y": null,
      "padding": null,
      "right": null,
      "top": null,
      "visibility": null,
      "width": null
     }
    },
    "1aade2fb10b544e5861ef84d3409c2a0": {
     "model_module": "@jupyter-widgets/controls",
     "model_name": "ProgressStyleModel",
     "state": {
      "_model_module": "@jupyter-widgets/controls",
      "_model_module_version": "1.5.0",
      "_model_name": "ProgressStyleModel",
      "_view_count": null,
      "_view_module": "@jupyter-widgets/base",
      "_view_module_version": "1.2.0",
      "_view_name": "StyleView",
      "bar_color": null,
      "description_width": "initial"
     }
    },
    "1d275c64cc844929b971cadea760ac29": {
     "model_module": "@jupyter-widgets/controls",
     "model_name": "ProgressStyleModel",
     "state": {
      "_model_module": "@jupyter-widgets/controls",
      "_model_module_version": "1.5.0",
      "_model_name": "ProgressStyleModel",
      "_view_count": null,
      "_view_module": "@jupyter-widgets/base",
      "_view_module_version": "1.2.0",
      "_view_name": "StyleView",
      "bar_color": null,
      "description_width": "initial"
     }
    },
    "1d6d45eb0e704c308fa42c10063d40a2": {
     "model_module": "@jupyter-widgets/base",
     "model_name": "LayoutModel",
     "state": {
      "_model_module": "@jupyter-widgets/base",
      "_model_module_version": "1.2.0",
      "_model_name": "LayoutModel",
      "_view_count": null,
      "_view_module": "@jupyter-widgets/base",
      "_view_module_version": "1.2.0",
      "_view_name": "LayoutView",
      "align_content": null,
      "align_items": null,
      "align_self": null,
      "border": null,
      "bottom": null,
      "display": null,
      "flex": null,
      "flex_flow": null,
      "grid_area": null,
      "grid_auto_columns": null,
      "grid_auto_flow": null,
      "grid_auto_rows": null,
      "grid_column": null,
      "grid_gap": null,
      "grid_row": null,
      "grid_template_areas": null,
      "grid_template_columns": null,
      "grid_template_rows": null,
      "height": null,
      "justify_content": null,
      "justify_items": null,
      "left": null,
      "margin": null,
      "max_height": null,
      "max_width": null,
      "min_height": null,
      "min_width": null,
      "object_fit": null,
      "object_position": null,
      "order": null,
      "overflow": null,
      "overflow_x": null,
      "overflow_y": null,
      "padding": null,
      "right": null,
      "top": null,
      "visibility": null,
      "width": null
     }
    },
    "1dfd3ba3160647b69b9abf7128ccce7a": {
     "model_module": "@jupyter-widgets/base",
     "model_name": "LayoutModel",
     "state": {
      "_model_module": "@jupyter-widgets/base",
      "_model_module_version": "1.2.0",
      "_model_name": "LayoutModel",
      "_view_count": null,
      "_view_module": "@jupyter-widgets/base",
      "_view_module_version": "1.2.0",
      "_view_name": "LayoutView",
      "align_content": null,
      "align_items": null,
      "align_self": null,
      "border": null,
      "bottom": null,
      "display": null,
      "flex": null,
      "flex_flow": null,
      "grid_area": null,
      "grid_auto_columns": null,
      "grid_auto_flow": null,
      "grid_auto_rows": null,
      "grid_column": null,
      "grid_gap": null,
      "grid_row": null,
      "grid_template_areas": null,
      "grid_template_columns": null,
      "grid_template_rows": null,
      "height": null,
      "justify_content": null,
      "justify_items": null,
      "left": null,
      "margin": null,
      "max_height": null,
      "max_width": null,
      "min_height": null,
      "min_width": null,
      "object_fit": null,
      "object_position": null,
      "order": null,
      "overflow": null,
      "overflow_x": null,
      "overflow_y": null,
      "padding": null,
      "right": null,
      "top": null,
      "visibility": null,
      "width": null
     }
    },
    "23765b49bc5e4a81850129d13fe4c317": {
     "model_module": "@jupyter-widgets/controls",
     "model_name": "HBoxModel",
     "state": {
      "_dom_classes": [],
      "_model_module": "@jupyter-widgets/controls",
      "_model_module_version": "1.5.0",
      "_model_name": "HBoxModel",
      "_view_count": null,
      "_view_module": "@jupyter-widgets/controls",
      "_view_module_version": "1.5.0",
      "_view_name": "HBoxView",
      "box_style": "",
      "children": [
       "IPY_MODEL_de9a1a4e1883464d95424f26b6f08b03",
       "IPY_MODEL_d9a90c24c1bd485f97b3df76b77e6e35"
      ],
      "layout": "IPY_MODEL_018ee3a5e7124e2cb19c75691080bc50"
     }
    },
    "238be877c36e43279fcd6e0f772c219f": {
     "model_module": "@jupyter-widgets/base",
     "model_name": "LayoutModel",
     "state": {
      "_model_module": "@jupyter-widgets/base",
      "_model_module_version": "1.2.0",
      "_model_name": "LayoutModel",
      "_view_count": null,
      "_view_module": "@jupyter-widgets/base",
      "_view_module_version": "1.2.0",
      "_view_name": "LayoutView",
      "align_content": null,
      "align_items": null,
      "align_self": null,
      "border": null,
      "bottom": null,
      "display": null,
      "flex": null,
      "flex_flow": null,
      "grid_area": null,
      "grid_auto_columns": null,
      "grid_auto_flow": null,
      "grid_auto_rows": null,
      "grid_column": null,
      "grid_gap": null,
      "grid_row": null,
      "grid_template_areas": null,
      "grid_template_columns": null,
      "grid_template_rows": null,
      "height": null,
      "justify_content": null,
      "justify_items": null,
      "left": null,
      "margin": null,
      "max_height": null,
      "max_width": null,
      "min_height": null,
      "min_width": null,
      "object_fit": null,
      "object_position": null,
      "order": null,
      "overflow": null,
      "overflow_x": null,
      "overflow_y": null,
      "padding": null,
      "right": null,
      "top": null,
      "visibility": null,
      "width": null
     }
    },
    "2403a6593caf4e90a8702da6fa5027cf": {
     "model_module": "@jupyter-widgets/controls",
     "model_name": "HBoxModel",
     "state": {
      "_dom_classes": [],
      "_model_module": "@jupyter-widgets/controls",
      "_model_module_version": "1.5.0",
      "_model_name": "HBoxModel",
      "_view_count": null,
      "_view_module": "@jupyter-widgets/controls",
      "_view_module_version": "1.5.0",
      "_view_name": "HBoxView",
      "box_style": "",
      "children": [
       "IPY_MODEL_e5869ef1b367498ba15a9874766d3289",
       "IPY_MODEL_9329da97eaa64906b63677d72222d9b9"
      ],
      "layout": "IPY_MODEL_6c071515e3604f8f9ecdb5f2ffb7b52d"
     }
    },
    "251e350f8da0414f928eff5ceed30b95": {
     "model_module": "@jupyter-widgets/base",
     "model_name": "LayoutModel",
     "state": {
      "_model_module": "@jupyter-widgets/base",
      "_model_module_version": "1.2.0",
      "_model_name": "LayoutModel",
      "_view_count": null,
      "_view_module": "@jupyter-widgets/base",
      "_view_module_version": "1.2.0",
      "_view_name": "LayoutView",
      "align_content": null,
      "align_items": null,
      "align_self": null,
      "border": null,
      "bottom": null,
      "display": null,
      "flex": null,
      "flex_flow": null,
      "grid_area": null,
      "grid_auto_columns": null,
      "grid_auto_flow": null,
      "grid_auto_rows": null,
      "grid_column": null,
      "grid_gap": null,
      "grid_row": null,
      "grid_template_areas": null,
      "grid_template_columns": null,
      "grid_template_rows": null,
      "height": null,
      "justify_content": null,
      "justify_items": null,
      "left": null,
      "margin": null,
      "max_height": null,
      "max_width": null,
      "min_height": null,
      "min_width": null,
      "object_fit": null,
      "object_position": null,
      "order": null,
      "overflow": null,
      "overflow_x": null,
      "overflow_y": null,
      "padding": null,
      "right": null,
      "top": null,
      "visibility": null,
      "width": null
     }
    },
    "26b6c036fa4842c8908064dc88699563": {
     "model_module": "@jupyter-widgets/controls",
     "model_name": "HTMLModel",
     "state": {
      "_dom_classes": [],
      "_model_module": "@jupyter-widgets/controls",
      "_model_module_version": "1.5.0",
      "_model_name": "HTMLModel",
      "_view_count": null,
      "_view_module": "@jupyter-widgets/controls",
      "_view_module_version": "1.5.0",
      "_view_name": "HTMLView",
      "description": "",
      "description_tooltip": null,
      "layout": "IPY_MODEL_199d47dda1fd4c98a62bc38711aad498",
      "placeholder": "​",
      "style": "IPY_MODEL_2e2880aaa3d34588a99e95e3ee98c447",
      "value": " 3/3 [03:14&lt;00:00, 64.76s/Epoch]"
     }
    },
    "270cf6185c614cc9b5ebbaf406cd7f17": {
     "model_module": "@jupyter-widgets/controls",
     "model_name": "ProgressStyleModel",
     "state": {
      "_model_module": "@jupyter-widgets/controls",
      "_model_module_version": "1.5.0",
      "_model_name": "ProgressStyleModel",
      "_view_count": null,
      "_view_module": "@jupyter-widgets/base",
      "_view_module_version": "1.2.0",
      "_view_name": "StyleView",
      "bar_color": null,
      "description_width": "initial"
     }
    },
    "2a371cb66cad45e7b7930f8e68e66a52": {
     "model_module": "@jupyter-widgets/controls",
     "model_name": "FloatProgressModel",
     "state": {
      "_dom_classes": [],
      "_model_module": "@jupyter-widgets/controls",
      "_model_module_version": "1.5.0",
      "_model_name": "FloatProgressModel",
      "_view_count": null,
      "_view_module": "@jupyter-widgets/controls",
      "_view_module_version": "1.5.0",
      "_view_name": "ProgressView",
      "bar_style": "success",
      "description": "Training: 100%",
      "description_tooltip": null,
      "layout": "IPY_MODEL_7031d87c8ab64e8ea41d6496ec2a2a04",
      "max": 3,
      "min": 0,
      "orientation": "horizontal",
      "style": "IPY_MODEL_40354b6f75694ba0babe6443418dd187",
      "value": 3
     }
    },
    "2b7151063e4341e2a0bcc32e856b67b0": {
     "model_module": "@jupyter-widgets/base",
     "model_name": "LayoutModel",
     "state": {
      "_model_module": "@jupyter-widgets/base",
      "_model_module_version": "1.2.0",
      "_model_name": "LayoutModel",
      "_view_count": null,
      "_view_module": "@jupyter-widgets/base",
      "_view_module_version": "1.2.0",
      "_view_name": "LayoutView",
      "align_content": null,
      "align_items": null,
      "align_self": null,
      "border": null,
      "bottom": null,
      "display": null,
      "flex": null,
      "flex_flow": null,
      "grid_area": null,
      "grid_auto_columns": null,
      "grid_auto_flow": null,
      "grid_auto_rows": null,
      "grid_column": null,
      "grid_gap": null,
      "grid_row": null,
      "grid_template_areas": null,
      "grid_template_columns": null,
      "grid_template_rows": null,
      "height": null,
      "justify_content": null,
      "justify_items": null,
      "left": null,
      "margin": null,
      "max_height": null,
      "max_width": null,
      "min_height": null,
      "min_width": null,
      "object_fit": null,
      "object_position": null,
      "order": null,
      "overflow": null,
      "overflow_x": null,
      "overflow_y": null,
      "padding": null,
      "right": null,
      "top": null,
      "visibility": null,
      "width": null
     }
    },
    "2c96550b11464f93a1019374066d773f": {
     "model_module": "@jupyter-widgets/controls",
     "model_name": "FloatProgressModel",
     "state": {
      "_dom_classes": [],
      "_model_module": "@jupyter-widgets/controls",
      "_model_module_version": "1.5.0",
      "_model_name": "FloatProgressModel",
      "_view_count": null,
      "_view_module": "@jupyter-widgets/controls",
      "_view_module_version": "1.5.0",
      "_view_name": "ProgressView",
      "bar_style": "success",
      "description": "Training: 100%",
      "description_tooltip": null,
      "layout": "IPY_MODEL_596ccf290cc9402a80c267b49dbdf5da",
      "max": 3,
      "min": 0,
      "orientation": "horizontal",
      "style": "IPY_MODEL_9b61e0a9a4d34e6c9d603a818f945a2b",
      "value": 3
     }
    },
    "2d3765e494a947faa2b0ac9fd5dd250b": {
     "model_module": "@jupyter-widgets/base",
     "model_name": "LayoutModel",
     "state": {
      "_model_module": "@jupyter-widgets/base",
      "_model_module_version": "1.2.0",
      "_model_name": "LayoutModel",
      "_view_count": null,
      "_view_module": "@jupyter-widgets/base",
      "_view_module_version": "1.2.0",
      "_view_name": "LayoutView",
      "align_content": null,
      "align_items": null,
      "align_self": null,
      "border": null,
      "bottom": null,
      "display": null,
      "flex": null,
      "flex_flow": null,
      "grid_area": null,
      "grid_auto_columns": null,
      "grid_auto_flow": null,
      "grid_auto_rows": null,
      "grid_column": null,
      "grid_gap": null,
      "grid_row": null,
      "grid_template_areas": null,
      "grid_template_columns": null,
      "grid_template_rows": null,
      "height": null,
      "justify_content": null,
      "justify_items": null,
      "left": null,
      "margin": null,
      "max_height": null,
      "max_width": null,
      "min_height": null,
      "min_width": null,
      "object_fit": null,
      "object_position": null,
      "order": null,
      "overflow": null,
      "overflow_x": null,
      "overflow_y": null,
      "padding": null,
      "right": null,
      "top": null,
      "visibility": null,
      "width": null
     }
    },
    "2e2880aaa3d34588a99e95e3ee98c447": {
     "model_module": "@jupyter-widgets/controls",
     "model_name": "DescriptionStyleModel",
     "state": {
      "_model_module": "@jupyter-widgets/controls",
      "_model_module_version": "1.5.0",
      "_model_name": "DescriptionStyleModel",
      "_view_count": null,
      "_view_module": "@jupyter-widgets/base",
      "_view_module_version": "1.2.0",
      "_view_name": "StyleView",
      "description_width": ""
     }
    },
    "2e4a5d264c654a18aaa5e32975ca8138": {
     "model_module": "@jupyter-widgets/controls",
     "model_name": "HTMLModel",
     "state": {
      "_dom_classes": [],
      "_model_module": "@jupyter-widgets/controls",
      "_model_module_version": "1.5.0",
      "_model_name": "HTMLModel",
      "_view_count": null,
      "_view_module": "@jupyter-widgets/controls",
      "_view_module_version": "1.5.0",
      "_view_name": "HTMLView",
      "description": "",
      "description_tooltip": null,
      "layout": "IPY_MODEL_f1cdd79a41c54737a34a12f6ebf388f5",
      "placeholder": "​",
      "style": "IPY_MODEL_00ca867fa7e64330a40838bf301a1f38",
      "value": " 3/3 [09:00&lt;00:00, 180.09s/Epoch]"
     }
    },
    "2e869f4332914f92a7b98d2244ff39ae": {
     "model_module": "@jupyter-widgets/controls",
     "model_name": "DescriptionStyleModel",
     "state": {
      "_model_module": "@jupyter-widgets/controls",
      "_model_module_version": "1.5.0",
      "_model_name": "DescriptionStyleModel",
      "_view_count": null,
      "_view_module": "@jupyter-widgets/base",
      "_view_module_version": "1.2.0",
      "_view_name": "StyleView",
      "description_width": ""
     }
    },
    "303c4b62039845f4a076bb459ded1687": {
     "model_module": "@jupyter-widgets/controls",
     "model_name": "FloatProgressModel",
     "state": {
      "_dom_classes": [],
      "_model_module": "@jupyter-widgets/controls",
      "_model_module_version": "1.5.0",
      "_model_name": "FloatProgressModel",
      "_view_count": null,
      "_view_module": "@jupyter-widgets/controls",
      "_view_module_version": "1.5.0",
      "_view_name": "ProgressView",
      "bar_style": "success",
      "description": "Training: 100%",
      "description_tooltip": null,
      "layout": "IPY_MODEL_87752b5650d04052b488922983a81e4e",
      "max": 3,
      "min": 0,
      "orientation": "horizontal",
      "style": "IPY_MODEL_b23581aa693a4ce89ee2f343fbbe1caf",
      "value": 3
     }
    },
    "35c103cea72b4c59a9d10d3be1567ba5": {
     "model_module": "@jupyter-widgets/controls",
     "model_name": "FloatProgressModel",
     "state": {
      "_dom_classes": [],
      "_model_module": "@jupyter-widgets/controls",
      "_model_module_version": "1.5.0",
      "_model_name": "FloatProgressModel",
      "_view_count": null,
      "_view_module": "@jupyter-widgets/controls",
      "_view_module_version": "1.5.0",
      "_view_name": "ProgressView",
      "bar_style": "success",
      "description": "Training: 100%",
      "description_tooltip": null,
      "layout": "IPY_MODEL_760831e951a4423f89f65e61bf6420fd",
      "max": 3,
      "min": 0,
      "orientation": "horizontal",
      "style": "IPY_MODEL_a436b6cf9b4f4563a8839f55a11581bb",
      "value": 3
     }
    },
    "3754b4de5934445bb34c98c9dcbbb54a": {
     "model_module": "@jupyter-widgets/controls",
     "model_name": "FloatProgressModel",
     "state": {
      "_dom_classes": [],
      "_model_module": "@jupyter-widgets/controls",
      "_model_module_version": "1.5.0",
      "_model_name": "FloatProgressModel",
      "_view_count": null,
      "_view_module": "@jupyter-widgets/controls",
      "_view_module_version": "1.5.0",
      "_view_name": "ProgressView",
      "bar_style": "success",
      "description": "Training: 100%",
      "description_tooltip": null,
      "layout": "IPY_MODEL_1dfd3ba3160647b69b9abf7128ccce7a",
      "max": 3,
      "min": 0,
      "orientation": "horizontal",
      "style": "IPY_MODEL_d5904f65f19c4ee99da344cb8b18991d",
      "value": 3
     }
    },
    "3946eaf1e40b4f5a964c50a6588c6f4e": {
     "model_module": "@jupyter-widgets/base",
     "model_name": "LayoutModel",
     "state": {
      "_model_module": "@jupyter-widgets/base",
      "_model_module_version": "1.2.0",
      "_model_name": "LayoutModel",
      "_view_count": null,
      "_view_module": "@jupyter-widgets/base",
      "_view_module_version": "1.2.0",
      "_view_name": "LayoutView",
      "align_content": null,
      "align_items": null,
      "align_self": null,
      "border": null,
      "bottom": null,
      "display": null,
      "flex": null,
      "flex_flow": null,
      "grid_area": null,
      "grid_auto_columns": null,
      "grid_auto_flow": null,
      "grid_auto_rows": null,
      "grid_column": null,
      "grid_gap": null,
      "grid_row": null,
      "grid_template_areas": null,
      "grid_template_columns": null,
      "grid_template_rows": null,
      "height": null,
      "justify_content": null,
      "justify_items": null,
      "left": null,
      "margin": null,
      "max_height": null,
      "max_width": null,
      "min_height": null,
      "min_width": null,
      "object_fit": null,
      "object_position": null,
      "order": null,
      "overflow": null,
      "overflow_x": null,
      "overflow_y": null,
      "padding": null,
      "right": null,
      "top": null,
      "visibility": null,
      "width": null
     }
    },
    "3a53e6692d9f418a981cc0c3b29ce4fa": {
     "model_module": "@jupyter-widgets/base",
     "model_name": "LayoutModel",
     "state": {
      "_model_module": "@jupyter-widgets/base",
      "_model_module_version": "1.2.0",
      "_model_name": "LayoutModel",
      "_view_count": null,
      "_view_module": "@jupyter-widgets/base",
      "_view_module_version": "1.2.0",
      "_view_name": "LayoutView",
      "align_content": null,
      "align_items": null,
      "align_self": null,
      "border": null,
      "bottom": null,
      "display": null,
      "flex": null,
      "flex_flow": null,
      "grid_area": null,
      "grid_auto_columns": null,
      "grid_auto_flow": null,
      "grid_auto_rows": null,
      "grid_column": null,
      "grid_gap": null,
      "grid_row": null,
      "grid_template_areas": null,
      "grid_template_columns": null,
      "grid_template_rows": null,
      "height": null,
      "justify_content": null,
      "justify_items": null,
      "left": null,
      "margin": null,
      "max_height": null,
      "max_width": null,
      "min_height": null,
      "min_width": null,
      "object_fit": null,
      "object_position": null,
      "order": null,
      "overflow": null,
      "overflow_x": null,
      "overflow_y": null,
      "padding": null,
      "right": null,
      "top": null,
      "visibility": null,
      "width": null
     }
    },
    "3e332b25d0224464aaaa1518c5560a53": {
     "model_module": "@jupyter-widgets/base",
     "model_name": "LayoutModel",
     "state": {
      "_model_module": "@jupyter-widgets/base",
      "_model_module_version": "1.2.0",
      "_model_name": "LayoutModel",
      "_view_count": null,
      "_view_module": "@jupyter-widgets/base",
      "_view_module_version": "1.2.0",
      "_view_name": "LayoutView",
      "align_content": null,
      "align_items": null,
      "align_self": null,
      "border": null,
      "bottom": null,
      "display": null,
      "flex": null,
      "flex_flow": null,
      "grid_area": null,
      "grid_auto_columns": null,
      "grid_auto_flow": null,
      "grid_auto_rows": null,
      "grid_column": null,
      "grid_gap": null,
      "grid_row": null,
      "grid_template_areas": null,
      "grid_template_columns": null,
      "grid_template_rows": null,
      "height": null,
      "justify_content": null,
      "justify_items": null,
      "left": null,
      "margin": null,
      "max_height": null,
      "max_width": null,
      "min_height": null,
      "min_width": null,
      "object_fit": null,
      "object_position": null,
      "order": null,
      "overflow": null,
      "overflow_x": null,
      "overflow_y": null,
      "padding": null,
      "right": null,
      "top": null,
      "visibility": null,
      "width": null
     }
    },
    "40354b6f75694ba0babe6443418dd187": {
     "model_module": "@jupyter-widgets/controls",
     "model_name": "ProgressStyleModel",
     "state": {
      "_model_module": "@jupyter-widgets/controls",
      "_model_module_version": "1.5.0",
      "_model_name": "ProgressStyleModel",
      "_view_count": null,
      "_view_module": "@jupyter-widgets/base",
      "_view_module_version": "1.2.0",
      "_view_name": "StyleView",
      "bar_color": null,
      "description_width": "initial"
     }
    },
    "40899404c2f84f43b2adb8c1b8e7a83c": {
     "model_module": "@jupyter-widgets/controls",
     "model_name": "DescriptionStyleModel",
     "state": {
      "_model_module": "@jupyter-widgets/controls",
      "_model_module_version": "1.5.0",
      "_model_name": "DescriptionStyleModel",
      "_view_count": null,
      "_view_module": "@jupyter-widgets/base",
      "_view_module_version": "1.2.0",
      "_view_name": "StyleView",
      "description_width": ""
     }
    },
    "4400762ed92d408c94b9f2f693e174e6": {
     "model_module": "@jupyter-widgets/base",
     "model_name": "LayoutModel",
     "state": {
      "_model_module": "@jupyter-widgets/base",
      "_model_module_version": "1.2.0",
      "_model_name": "LayoutModel",
      "_view_count": null,
      "_view_module": "@jupyter-widgets/base",
      "_view_module_version": "1.2.0",
      "_view_name": "LayoutView",
      "align_content": null,
      "align_items": null,
      "align_self": null,
      "border": null,
      "bottom": null,
      "display": null,
      "flex": null,
      "flex_flow": null,
      "grid_area": null,
      "grid_auto_columns": null,
      "grid_auto_flow": null,
      "grid_auto_rows": null,
      "grid_column": null,
      "grid_gap": null,
      "grid_row": null,
      "grid_template_areas": null,
      "grid_template_columns": null,
      "grid_template_rows": null,
      "height": null,
      "justify_content": null,
      "justify_items": null,
      "left": null,
      "margin": null,
      "max_height": null,
      "max_width": null,
      "min_height": null,
      "min_width": null,
      "object_fit": null,
      "object_position": null,
      "order": null,
      "overflow": null,
      "overflow_x": null,
      "overflow_y": null,
      "padding": null,
      "right": null,
      "top": null,
      "visibility": null,
      "width": null
     }
    },
    "46d44545b51e4d41be17c158fa3965dd": {
     "model_module": "@jupyter-widgets/controls",
     "model_name": "HBoxModel",
     "state": {
      "_dom_classes": [],
      "_model_module": "@jupyter-widgets/controls",
      "_model_module_version": "1.5.0",
      "_model_name": "HBoxModel",
      "_view_count": null,
      "_view_module": "@jupyter-widgets/controls",
      "_view_module_version": "1.5.0",
      "_view_name": "HBoxView",
      "box_style": "",
      "children": [
       "IPY_MODEL_2a371cb66cad45e7b7930f8e68e66a52",
       "IPY_MODEL_64b9e7e5924047abb3cad322e1a49e0b"
      ],
      "layout": "IPY_MODEL_98e1f4fabeb6474bae2a440be4bf67e9"
     }
    },
    "4d1e90543c5447129524e233cc01e939": {
     "model_module": "@jupyter-widgets/controls",
     "model_name": "DescriptionStyleModel",
     "state": {
      "_model_module": "@jupyter-widgets/controls",
      "_model_module_version": "1.5.0",
      "_model_name": "DescriptionStyleModel",
      "_view_count": null,
      "_view_module": "@jupyter-widgets/base",
      "_view_module_version": "1.2.0",
      "_view_name": "StyleView",
      "description_width": ""
     }
    },
    "5010aa733c704145827881d5ec3298ed": {
     "model_module": "@jupyter-widgets/controls",
     "model_name": "HBoxModel",
     "state": {
      "_dom_classes": [],
      "_model_module": "@jupyter-widgets/controls",
      "_model_module_version": "1.5.0",
      "_model_name": "HBoxModel",
      "_view_count": null,
      "_view_module": "@jupyter-widgets/controls",
      "_view_module_version": "1.5.0",
      "_view_name": "HBoxView",
      "box_style": "",
      "children": [
       "IPY_MODEL_35c103cea72b4c59a9d10d3be1567ba5",
       "IPY_MODEL_26b6c036fa4842c8908064dc88699563"
      ],
      "layout": "IPY_MODEL_b21c66d314754e979b98c3f3b80f27f3"
     }
    },
    "501916a8861c4272b4ad9fa50d70bc60": {
     "model_module": "@jupyter-widgets/controls",
     "model_name": "FloatProgressModel",
     "state": {
      "_dom_classes": [],
      "_model_module": "@jupyter-widgets/controls",
      "_model_module_version": "1.5.0",
      "_model_name": "FloatProgressModel",
      "_view_count": null,
      "_view_module": "@jupyter-widgets/controls",
      "_view_module_version": "1.5.0",
      "_view_name": "ProgressView",
      "bar_style": "success",
      "description": "Training: 100%",
      "description_tooltip": null,
      "layout": "IPY_MODEL_b9fc5236b25d43838276bf2503f78763",
      "max": 20,
      "min": 0,
      "orientation": "horizontal",
      "style": "IPY_MODEL_1d275c64cc844929b971cadea760ac29",
      "value": 20
     }
    },
    "50e5263ccd2b40109dda9b2495f78d1f": {
     "model_module": "@jupyter-widgets/base",
     "model_name": "LayoutModel",
     "state": {
      "_model_module": "@jupyter-widgets/base",
      "_model_module_version": "1.2.0",
      "_model_name": "LayoutModel",
      "_view_count": null,
      "_view_module": "@jupyter-widgets/base",
      "_view_module_version": "1.2.0",
      "_view_name": "LayoutView",
      "align_content": null,
      "align_items": null,
      "align_self": null,
      "border": null,
      "bottom": null,
      "display": null,
      "flex": null,
      "flex_flow": null,
      "grid_area": null,
      "grid_auto_columns": null,
      "grid_auto_flow": null,
      "grid_auto_rows": null,
      "grid_column": null,
      "grid_gap": null,
      "grid_row": null,
      "grid_template_areas": null,
      "grid_template_columns": null,
      "grid_template_rows": null,
      "height": null,
      "justify_content": null,
      "justify_items": null,
      "left": null,
      "margin": null,
      "max_height": null,
      "max_width": null,
      "min_height": null,
      "min_width": null,
      "object_fit": null,
      "object_position": null,
      "order": null,
      "overflow": null,
      "overflow_x": null,
      "overflow_y": null,
      "padding": null,
      "right": null,
      "top": null,
      "visibility": null,
      "width": null
     }
    },
    "53fae26e5c2c4bb58329e3d54a996143": {
     "model_module": "@jupyter-widgets/controls",
     "model_name": "HTMLModel",
     "state": {
      "_dom_classes": [],
      "_model_module": "@jupyter-widgets/controls",
      "_model_module_version": "1.5.0",
      "_model_name": "HTMLModel",
      "_view_count": null,
      "_view_module": "@jupyter-widgets/controls",
      "_view_module_version": "1.5.0",
      "_view_name": "HTMLView",
      "description": "",
      "description_tooltip": null,
      "layout": "IPY_MODEL_93e68840a3d149aeba5cfa6a33e5b13f",
      "placeholder": "​",
      "style": "IPY_MODEL_efb25312bd5345d1ac102a9d103d523e",
      "value": " 20/20 [24:36&lt;00:00, 73.81s/Epoch]"
     }
    },
    "55e628577d1a4389bc69c922c9584aff": {
     "model_module": "@jupyter-widgets/base",
     "model_name": "LayoutModel",
     "state": {
      "_model_module": "@jupyter-widgets/base",
      "_model_module_version": "1.2.0",
      "_model_name": "LayoutModel",
      "_view_count": null,
      "_view_module": "@jupyter-widgets/base",
      "_view_module_version": "1.2.0",
      "_view_name": "LayoutView",
      "align_content": null,
      "align_items": null,
      "align_self": null,
      "border": null,
      "bottom": null,
      "display": null,
      "flex": null,
      "flex_flow": null,
      "grid_area": null,
      "grid_auto_columns": null,
      "grid_auto_flow": null,
      "grid_auto_rows": null,
      "grid_column": null,
      "grid_gap": null,
      "grid_row": null,
      "grid_template_areas": null,
      "grid_template_columns": null,
      "grid_template_rows": null,
      "height": null,
      "justify_content": null,
      "justify_items": null,
      "left": null,
      "margin": null,
      "max_height": null,
      "max_width": null,
      "min_height": null,
      "min_width": null,
      "object_fit": null,
      "object_position": null,
      "order": null,
      "overflow": null,
      "overflow_x": null,
      "overflow_y": null,
      "padding": null,
      "right": null,
      "top": null,
      "visibility": null,
      "width": null
     }
    },
    "596ccf290cc9402a80c267b49dbdf5da": {
     "model_module": "@jupyter-widgets/base",
     "model_name": "LayoutModel",
     "state": {
      "_model_module": "@jupyter-widgets/base",
      "_model_module_version": "1.2.0",
      "_model_name": "LayoutModel",
      "_view_count": null,
      "_view_module": "@jupyter-widgets/base",
      "_view_module_version": "1.2.0",
      "_view_name": "LayoutView",
      "align_content": null,
      "align_items": null,
      "align_self": null,
      "border": null,
      "bottom": null,
      "display": null,
      "flex": null,
      "flex_flow": null,
      "grid_area": null,
      "grid_auto_columns": null,
      "grid_auto_flow": null,
      "grid_auto_rows": null,
      "grid_column": null,
      "grid_gap": null,
      "grid_row": null,
      "grid_template_areas": null,
      "grid_template_columns": null,
      "grid_template_rows": null,
      "height": null,
      "justify_content": null,
      "justify_items": null,
      "left": null,
      "margin": null,
      "max_height": null,
      "max_width": null,
      "min_height": null,
      "min_width": null,
      "object_fit": null,
      "object_position": null,
      "order": null,
      "overflow": null,
      "overflow_x": null,
      "overflow_y": null,
      "padding": null,
      "right": null,
      "top": null,
      "visibility": null,
      "width": null
     }
    },
    "5b74bce96576405cb2e23bd85eba4ba5": {
     "model_module": "@jupyter-widgets/controls",
     "model_name": "HBoxModel",
     "state": {
      "_dom_classes": [],
      "_model_module": "@jupyter-widgets/controls",
      "_model_module_version": "1.5.0",
      "_model_name": "HBoxModel",
      "_view_count": null,
      "_view_module": "@jupyter-widgets/controls",
      "_view_module_version": "1.5.0",
      "_view_name": "HBoxView",
      "box_style": "",
      "children": [
       "IPY_MODEL_dc78ba99e4344476a6026f10eda8a836",
       "IPY_MODEL_90f65a0e1e4f42359c0304a80abedb54"
      ],
      "layout": "IPY_MODEL_2d3765e494a947faa2b0ac9fd5dd250b"
     }
    },
    "60b5df71ef374089b73d5422286f0ef2": {
     "model_module": "@jupyter-widgets/controls",
     "model_name": "HTMLModel",
     "state": {
      "_dom_classes": [],
      "_model_module": "@jupyter-widgets/controls",
      "_model_module_version": "1.5.0",
      "_model_name": "HTMLModel",
      "_view_count": null,
      "_view_module": "@jupyter-widgets/controls",
      "_view_module_version": "1.5.0",
      "_view_name": "HTMLView",
      "description": "",
      "description_tooltip": null,
      "layout": "IPY_MODEL_e919eb873a4d428d919aa82ab73734ba",
      "placeholder": "​",
      "style": "IPY_MODEL_2e869f4332914f92a7b98d2244ff39ae",
      "value": " 2640397312/? [10:24&lt;00:00, 4225640.29it/s]"
     }
    },
    "636e7b1c2bef4a81985d74be2c0472b5": {
     "model_module": "@jupyter-widgets/controls",
     "model_name": "HTMLModel",
     "state": {
      "_dom_classes": [],
      "_model_module": "@jupyter-widgets/controls",
      "_model_module_version": "1.5.0",
      "_model_name": "HTMLModel",
      "_view_count": null,
      "_view_module": "@jupyter-widgets/controls",
      "_view_module_version": "1.5.0",
      "_view_name": "HTMLView",
      "description": "",
      "description_tooltip": null,
      "layout": "IPY_MODEL_eb66561fdd4f45789bd257adefc7e096",
      "placeholder": "​",
      "style": "IPY_MODEL_4d1e90543c5447129524e233cc01e939",
      "value": " 20/20 [12:07&lt;00:00, 36.39s/Epoch]"
     }
    },
    "64b9e7e5924047abb3cad322e1a49e0b": {
     "model_module": "@jupyter-widgets/controls",
     "model_name": "HTMLModel",
     "state": {
      "_dom_classes": [],
      "_model_module": "@jupyter-widgets/controls",
      "_model_module_version": "1.5.0",
      "_model_name": "HTMLModel",
      "_view_count": null,
      "_view_module": "@jupyter-widgets/controls",
      "_view_module_version": "1.5.0",
      "_view_name": "HTMLView",
      "description": "",
      "description_tooltip": null,
      "layout": "IPY_MODEL_238be877c36e43279fcd6e0f772c219f",
      "placeholder": "​",
      "style": "IPY_MODEL_b011b4c025204fdba8dd0eebeae7bf2f",
      "value": " 3/3 [06:49&lt;00:00, 136.40s/Epoch]"
     }
    },
    "66d8b44dc5c94442bb7cde114a77a0ce": {
     "model_module": "@jupyter-widgets/base",
     "model_name": "LayoutModel",
     "state": {
      "_model_module": "@jupyter-widgets/base",
      "_model_module_version": "1.2.0",
      "_model_name": "LayoutModel",
      "_view_count": null,
      "_view_module": "@jupyter-widgets/base",
      "_view_module_version": "1.2.0",
      "_view_name": "LayoutView",
      "align_content": null,
      "align_items": null,
      "align_self": null,
      "border": null,
      "bottom": null,
      "display": null,
      "flex": null,
      "flex_flow": null,
      "grid_area": null,
      "grid_auto_columns": null,
      "grid_auto_flow": null,
      "grid_auto_rows": null,
      "grid_column": null,
      "grid_gap": null,
      "grid_row": null,
      "grid_template_areas": null,
      "grid_template_columns": null,
      "grid_template_rows": null,
      "height": null,
      "justify_content": null,
      "justify_items": null,
      "left": null,
      "margin": null,
      "max_height": null,
      "max_width": null,
      "min_height": null,
      "min_width": null,
      "object_fit": null,
      "object_position": null,
      "order": null,
      "overflow": null,
      "overflow_x": null,
      "overflow_y": null,
      "padding": null,
      "right": null,
      "top": null,
      "visibility": null,
      "width": null
     }
    },
    "680e8bdb4f044008be721b0a1269a3bc": {
     "model_module": "@jupyter-widgets/base",
     "model_name": "LayoutModel",
     "state": {
      "_model_module": "@jupyter-widgets/base",
      "_model_module_version": "1.2.0",
      "_model_name": "LayoutModel",
      "_view_count": null,
      "_view_module": "@jupyter-widgets/base",
      "_view_module_version": "1.2.0",
      "_view_name": "LayoutView",
      "align_content": null,
      "align_items": null,
      "align_self": null,
      "border": null,
      "bottom": null,
      "display": null,
      "flex": null,
      "flex_flow": null,
      "grid_area": null,
      "grid_auto_columns": null,
      "grid_auto_flow": null,
      "grid_auto_rows": null,
      "grid_column": null,
      "grid_gap": null,
      "grid_row": null,
      "grid_template_areas": null,
      "grid_template_columns": null,
      "grid_template_rows": null,
      "height": null,
      "justify_content": null,
      "justify_items": null,
      "left": null,
      "margin": null,
      "max_height": null,
      "max_width": null,
      "min_height": null,
      "min_width": null,
      "object_fit": null,
      "object_position": null,
      "order": null,
      "overflow": null,
      "overflow_x": null,
      "overflow_y": null,
      "padding": null,
      "right": null,
      "top": null,
      "visibility": null,
      "width": null
     }
    },
    "6c071515e3604f8f9ecdb5f2ffb7b52d": {
     "model_module": "@jupyter-widgets/base",
     "model_name": "LayoutModel",
     "state": {
      "_model_module": "@jupyter-widgets/base",
      "_model_module_version": "1.2.0",
      "_model_name": "LayoutModel",
      "_view_count": null,
      "_view_module": "@jupyter-widgets/base",
      "_view_module_version": "1.2.0",
      "_view_name": "LayoutView",
      "align_content": null,
      "align_items": null,
      "align_self": null,
      "border": null,
      "bottom": null,
      "display": null,
      "flex": null,
      "flex_flow": null,
      "grid_area": null,
      "grid_auto_columns": null,
      "grid_auto_flow": null,
      "grid_auto_rows": null,
      "grid_column": null,
      "grid_gap": null,
      "grid_row": null,
      "grid_template_areas": null,
      "grid_template_columns": null,
      "grid_template_rows": null,
      "height": null,
      "justify_content": null,
      "justify_items": null,
      "left": null,
      "margin": null,
      "max_height": null,
      "max_width": null,
      "min_height": null,
      "min_width": null,
      "object_fit": null,
      "object_position": null,
      "order": null,
      "overflow": null,
      "overflow_x": null,
      "overflow_y": null,
      "padding": null,
      "right": null,
      "top": null,
      "visibility": null,
      "width": null
     }
    },
    "6c8926a641d54baeb6c96e568e971817": {
     "model_module": "@jupyter-widgets/controls",
     "model_name": "HTMLModel",
     "state": {
      "_dom_classes": [],
      "_model_module": "@jupyter-widgets/controls",
      "_model_module_version": "1.5.0",
      "_model_name": "HTMLModel",
      "_view_count": null,
      "_view_module": "@jupyter-widgets/controls",
      "_view_module_version": "1.5.0",
      "_view_name": "HTMLView",
      "description": "",
      "description_tooltip": null,
      "layout": "IPY_MODEL_94f8ebc159d147228d81d1ab39856dd7",
      "placeholder": "​",
      "style": "IPY_MODEL_b309a2ba51184e068d94c14a8b1794f7",
      "value": " 3/3 [03:37&lt;00:00, 72.55s/Epoch]"
     }
    },
    "6dd65540a61d4e04a3c5f48e6a55797f": {
     "model_module": "@jupyter-widgets/controls",
     "model_name": "ProgressStyleModel",
     "state": {
      "_model_module": "@jupyter-widgets/controls",
      "_model_module_version": "1.5.0",
      "_model_name": "ProgressStyleModel",
      "_view_count": null,
      "_view_module": "@jupyter-widgets/base",
      "_view_module_version": "1.2.0",
      "_view_name": "StyleView",
      "bar_color": null,
      "description_width": "initial"
     }
    },
    "7031d87c8ab64e8ea41d6496ec2a2a04": {
     "model_module": "@jupyter-widgets/base",
     "model_name": "LayoutModel",
     "state": {
      "_model_module": "@jupyter-widgets/base",
      "_model_module_version": "1.2.0",
      "_model_name": "LayoutModel",
      "_view_count": null,
      "_view_module": "@jupyter-widgets/base",
      "_view_module_version": "1.2.0",
      "_view_name": "LayoutView",
      "align_content": null,
      "align_items": null,
      "align_self": null,
      "border": null,
      "bottom": null,
      "display": null,
      "flex": null,
      "flex_flow": null,
      "grid_area": null,
      "grid_auto_columns": null,
      "grid_auto_flow": null,
      "grid_auto_rows": null,
      "grid_column": null,
      "grid_gap": null,
      "grid_row": null,
      "grid_template_areas": null,
      "grid_template_columns": null,
      "grid_template_rows": null,
      "height": null,
      "justify_content": null,
      "justify_items": null,
      "left": null,
      "margin": null,
      "max_height": null,
      "max_width": null,
      "min_height": null,
      "min_width": null,
      "object_fit": null,
      "object_position": null,
      "order": null,
      "overflow": null,
      "overflow_x": null,
      "overflow_y": null,
      "padding": null,
      "right": null,
      "top": null,
      "visibility": null,
      "width": null
     }
    },
    "760831e951a4423f89f65e61bf6420fd": {
     "model_module": "@jupyter-widgets/base",
     "model_name": "LayoutModel",
     "state": {
      "_model_module": "@jupyter-widgets/base",
      "_model_module_version": "1.2.0",
      "_model_name": "LayoutModel",
      "_view_count": null,
      "_view_module": "@jupyter-widgets/base",
      "_view_module_version": "1.2.0",
      "_view_name": "LayoutView",
      "align_content": null,
      "align_items": null,
      "align_self": null,
      "border": null,
      "bottom": null,
      "display": null,
      "flex": null,
      "flex_flow": null,
      "grid_area": null,
      "grid_auto_columns": null,
      "grid_auto_flow": null,
      "grid_auto_rows": null,
      "grid_column": null,
      "grid_gap": null,
      "grid_row": null,
      "grid_template_areas": null,
      "grid_template_columns": null,
      "grid_template_rows": null,
      "height": null,
      "justify_content": null,
      "justify_items": null,
      "left": null,
      "margin": null,
      "max_height": null,
      "max_width": null,
      "min_height": null,
      "min_width": null,
      "object_fit": null,
      "object_position": null,
      "order": null,
      "overflow": null,
      "overflow_x": null,
      "overflow_y": null,
      "padding": null,
      "right": null,
      "top": null,
      "visibility": null,
      "width": null
     }
    },
    "7a5051587d384ca794b2899d02265d98": {
     "model_module": "@jupyter-widgets/base",
     "model_name": "LayoutModel",
     "state": {
      "_model_module": "@jupyter-widgets/base",
      "_model_module_version": "1.2.0",
      "_model_name": "LayoutModel",
      "_view_count": null,
      "_view_module": "@jupyter-widgets/base",
      "_view_module_version": "1.2.0",
      "_view_name": "LayoutView",
      "align_content": null,
      "align_items": null,
      "align_self": null,
      "border": null,
      "bottom": null,
      "display": null,
      "flex": null,
      "flex_flow": null,
      "grid_area": null,
      "grid_auto_columns": null,
      "grid_auto_flow": null,
      "grid_auto_rows": null,
      "grid_column": null,
      "grid_gap": null,
      "grid_row": null,
      "grid_template_areas": null,
      "grid_template_columns": null,
      "grid_template_rows": null,
      "height": null,
      "justify_content": null,
      "justify_items": null,
      "left": null,
      "margin": null,
      "max_height": null,
      "max_width": null,
      "min_height": null,
      "min_width": null,
      "object_fit": null,
      "object_position": null,
      "order": null,
      "overflow": null,
      "overflow_x": null,
      "overflow_y": null,
      "padding": null,
      "right": null,
      "top": null,
      "visibility": null,
      "width": null
     }
    },
    "7ac716c574464b76919b81fc574f6192": {
     "model_module": "@jupyter-widgets/base",
     "model_name": "LayoutModel",
     "state": {
      "_model_module": "@jupyter-widgets/base",
      "_model_module_version": "1.2.0",
      "_model_name": "LayoutModel",
      "_view_count": null,
      "_view_module": "@jupyter-widgets/base",
      "_view_module_version": "1.2.0",
      "_view_name": "LayoutView",
      "align_content": null,
      "align_items": null,
      "align_self": null,
      "border": null,
      "bottom": null,
      "display": null,
      "flex": null,
      "flex_flow": null,
      "grid_area": null,
      "grid_auto_columns": null,
      "grid_auto_flow": null,
      "grid_auto_rows": null,
      "grid_column": null,
      "grid_gap": null,
      "grid_row": null,
      "grid_template_areas": null,
      "grid_template_columns": null,
      "grid_template_rows": null,
      "height": null,
      "justify_content": null,
      "justify_items": null,
      "left": null,
      "margin": null,
      "max_height": null,
      "max_width": null,
      "min_height": null,
      "min_width": null,
      "object_fit": null,
      "object_position": null,
      "order": null,
      "overflow": null,
      "overflow_x": null,
      "overflow_y": null,
      "padding": null,
      "right": null,
      "top": null,
      "visibility": null,
      "width": null
     }
    },
    "7bf1839781f44783a13b2433c645f513": {
     "model_module": "@jupyter-widgets/controls",
     "model_name": "DescriptionStyleModel",
     "state": {
      "_model_module": "@jupyter-widgets/controls",
      "_model_module_version": "1.5.0",
      "_model_name": "DescriptionStyleModel",
      "_view_count": null,
      "_view_module": "@jupyter-widgets/base",
      "_view_module_version": "1.2.0",
      "_view_name": "StyleView",
      "description_width": ""
     }
    },
    "850e10eab5294bca85e1e94a98a7a1e7": {
     "model_module": "@jupyter-widgets/base",
     "model_name": "LayoutModel",
     "state": {
      "_model_module": "@jupyter-widgets/base",
      "_model_module_version": "1.2.0",
      "_model_name": "LayoutModel",
      "_view_count": null,
      "_view_module": "@jupyter-widgets/base",
      "_view_module_version": "1.2.0",
      "_view_name": "LayoutView",
      "align_content": null,
      "align_items": null,
      "align_self": null,
      "border": null,
      "bottom": null,
      "display": null,
      "flex": null,
      "flex_flow": null,
      "grid_area": null,
      "grid_auto_columns": null,
      "grid_auto_flow": null,
      "grid_auto_rows": null,
      "grid_column": null,
      "grid_gap": null,
      "grid_row": null,
      "grid_template_areas": null,
      "grid_template_columns": null,
      "grid_template_rows": null,
      "height": null,
      "justify_content": null,
      "justify_items": null,
      "left": null,
      "margin": null,
      "max_height": null,
      "max_width": null,
      "min_height": null,
      "min_width": null,
      "object_fit": null,
      "object_position": null,
      "order": null,
      "overflow": null,
      "overflow_x": null,
      "overflow_y": null,
      "padding": null,
      "right": null,
      "top": null,
      "visibility": null,
      "width": null
     }
    },
    "855707c887a1494c99f04aaf2d85ff1d": {
     "model_module": "@jupyter-widgets/base",
     "model_name": "LayoutModel",
     "state": {
      "_model_module": "@jupyter-widgets/base",
      "_model_module_version": "1.2.0",
      "_model_name": "LayoutModel",
      "_view_count": null,
      "_view_module": "@jupyter-widgets/base",
      "_view_module_version": "1.2.0",
      "_view_name": "LayoutView",
      "align_content": null,
      "align_items": null,
      "align_self": null,
      "border": null,
      "bottom": null,
      "display": null,
      "flex": null,
      "flex_flow": null,
      "grid_area": null,
      "grid_auto_columns": null,
      "grid_auto_flow": null,
      "grid_auto_rows": null,
      "grid_column": null,
      "grid_gap": null,
      "grid_row": null,
      "grid_template_areas": null,
      "grid_template_columns": null,
      "grid_template_rows": null,
      "height": null,
      "justify_content": null,
      "justify_items": null,
      "left": null,
      "margin": null,
      "max_height": null,
      "max_width": null,
      "min_height": null,
      "min_width": null,
      "object_fit": null,
      "object_position": null,
      "order": null,
      "overflow": null,
      "overflow_x": null,
      "overflow_y": null,
      "padding": null,
      "right": null,
      "top": null,
      "visibility": null,
      "width": null
     }
    },
    "873478392da341378ac15ac3d556a8dd": {
     "model_module": "@jupyter-widgets/base",
     "model_name": "LayoutModel",
     "state": {
      "_model_module": "@jupyter-widgets/base",
      "_model_module_version": "1.2.0",
      "_model_name": "LayoutModel",
      "_view_count": null,
      "_view_module": "@jupyter-widgets/base",
      "_view_module_version": "1.2.0",
      "_view_name": "LayoutView",
      "align_content": null,
      "align_items": null,
      "align_self": null,
      "border": null,
      "bottom": null,
      "display": null,
      "flex": null,
      "flex_flow": null,
      "grid_area": null,
      "grid_auto_columns": null,
      "grid_auto_flow": null,
      "grid_auto_rows": null,
      "grid_column": null,
      "grid_gap": null,
      "grid_row": null,
      "grid_template_areas": null,
      "grid_template_columns": null,
      "grid_template_rows": null,
      "height": null,
      "justify_content": null,
      "justify_items": null,
      "left": null,
      "margin": null,
      "max_height": null,
      "max_width": null,
      "min_height": null,
      "min_width": null,
      "object_fit": null,
      "object_position": null,
      "order": null,
      "overflow": null,
      "overflow_x": null,
      "overflow_y": null,
      "padding": null,
      "right": null,
      "top": null,
      "visibility": null,
      "width": null
     }
    },
    "87752b5650d04052b488922983a81e4e": {
     "model_module": "@jupyter-widgets/base",
     "model_name": "LayoutModel",
     "state": {
      "_model_module": "@jupyter-widgets/base",
      "_model_module_version": "1.2.0",
      "_model_name": "LayoutModel",
      "_view_count": null,
      "_view_module": "@jupyter-widgets/base",
      "_view_module_version": "1.2.0",
      "_view_name": "LayoutView",
      "align_content": null,
      "align_items": null,
      "align_self": null,
      "border": null,
      "bottom": null,
      "display": null,
      "flex": null,
      "flex_flow": null,
      "grid_area": null,
      "grid_auto_columns": null,
      "grid_auto_flow": null,
      "grid_auto_rows": null,
      "grid_column": null,
      "grid_gap": null,
      "grid_row": null,
      "grid_template_areas": null,
      "grid_template_columns": null,
      "grid_template_rows": null,
      "height": null,
      "justify_content": null,
      "justify_items": null,
      "left": null,
      "margin": null,
      "max_height": null,
      "max_width": null,
      "min_height": null,
      "min_width": null,
      "object_fit": null,
      "object_position": null,
      "order": null,
      "overflow": null,
      "overflow_x": null,
      "overflow_y": null,
      "padding": null,
      "right": null,
      "top": null,
      "visibility": null,
      "width": null
     }
    },
    "898c74b1a7b4409f9cfc3f6016f57f7d": {
     "model_module": "@jupyter-widgets/controls",
     "model_name": "HBoxModel",
     "state": {
      "_dom_classes": [],
      "_model_module": "@jupyter-widgets/controls",
      "_model_module_version": "1.5.0",
      "_model_name": "HBoxModel",
      "_view_count": null,
      "_view_module": "@jupyter-widgets/controls",
      "_view_module_version": "1.5.0",
      "_view_name": "HBoxView",
      "box_style": "",
      "children": [
       "IPY_MODEL_3754b4de5934445bb34c98c9dcbbb54a",
       "IPY_MODEL_b5f2e3dcf5be4f7bb21cc190d9e6554c"
      ],
      "layout": "IPY_MODEL_c6f34cb9530540889b315a8b45e69aaf"
     }
    },
    "90f65a0e1e4f42359c0304a80abedb54": {
     "model_module": "@jupyter-widgets/controls",
     "model_name": "HTMLModel",
     "state": {
      "_dom_classes": [],
      "_model_module": "@jupyter-widgets/controls",
      "_model_module_version": "1.5.0",
      "_model_name": "HTMLModel",
      "_view_count": null,
      "_view_module": "@jupyter-widgets/controls",
      "_view_module_version": "1.5.0",
      "_view_name": "HTMLView",
      "description": "",
      "description_tooltip": null,
      "layout": "IPY_MODEL_850e10eab5294bca85e1e94a98a7a1e7",
      "placeholder": "​",
      "style": "IPY_MODEL_087c4180641e4ac198fa2b1ea897c682",
      "value": " 10/10 [06:50&lt;00:00, 41.06s/Epoch]"
     }
    },
    "92f4fbec352e4d898ef71a78c41d9af2": {
     "model_module": "@jupyter-widgets/controls",
     "model_name": "HBoxModel",
     "state": {
      "_dom_classes": [],
      "_model_module": "@jupyter-widgets/controls",
      "_model_module_version": "1.5.0",
      "_model_name": "HBoxModel",
      "_view_count": null,
      "_view_module": "@jupyter-widgets/controls",
      "_view_module_version": "1.5.0",
      "_view_name": "HBoxView",
      "box_style": "",
      "children": [
       "IPY_MODEL_2c96550b11464f93a1019374066d773f",
       "IPY_MODEL_6c8926a641d54baeb6c96e568e971817"
      ],
      "layout": "IPY_MODEL_9d060130ecfd429ba319590ea3f1aa86"
     }
    },
    "9329da97eaa64906b63677d72222d9b9": {
     "model_module": "@jupyter-widgets/controls",
     "model_name": "HTMLModel",
     "state": {
      "_dom_classes": [],
      "_model_module": "@jupyter-widgets/controls",
      "_model_module_version": "1.5.0",
      "_model_name": "HTMLModel",
      "_view_count": null,
      "_view_module": "@jupyter-widgets/controls",
      "_view_module_version": "1.5.0",
      "_view_name": "HTMLView",
      "description": "",
      "description_tooltip": null,
      "layout": "IPY_MODEL_db77c2e3315e47bb8f7dae758a4bc2ea",
      "placeholder": "​",
      "style": "IPY_MODEL_7bf1839781f44783a13b2433c645f513",
      "value": " 3/3 [05:56&lt;00:00, 118.80s/Epoch]"
     }
    },
    "93e68840a3d149aeba5cfa6a33e5b13f": {
     "model_module": "@jupyter-widgets/base",
     "model_name": "LayoutModel",
     "state": {
      "_model_module": "@jupyter-widgets/base",
      "_model_module_version": "1.2.0",
      "_model_name": "LayoutModel",
      "_view_count": null,
      "_view_module": "@jupyter-widgets/base",
      "_view_module_version": "1.2.0",
      "_view_name": "LayoutView",
      "align_content": null,
      "align_items": null,
      "align_self": null,
      "border": null,
      "bottom": null,
      "display": null,
      "flex": null,
      "flex_flow": null,
      "grid_area": null,
      "grid_auto_columns": null,
      "grid_auto_flow": null,
      "grid_auto_rows": null,
      "grid_column": null,
      "grid_gap": null,
      "grid_row": null,
      "grid_template_areas": null,
      "grid_template_columns": null,
      "grid_template_rows": null,
      "height": null,
      "justify_content": null,
      "justify_items": null,
      "left": null,
      "margin": null,
      "max_height": null,
      "max_width": null,
      "min_height": null,
      "min_width": null,
      "object_fit": null,
      "object_position": null,
      "order": null,
      "overflow": null,
      "overflow_x": null,
      "overflow_y": null,
      "padding": null,
      "right": null,
      "top": null,
      "visibility": null,
      "width": null
     }
    },
    "94f8ebc159d147228d81d1ab39856dd7": {
     "model_module": "@jupyter-widgets/base",
     "model_name": "LayoutModel",
     "state": {
      "_model_module": "@jupyter-widgets/base",
      "_model_module_version": "1.2.0",
      "_model_name": "LayoutModel",
      "_view_count": null,
      "_view_module": "@jupyter-widgets/base",
      "_view_module_version": "1.2.0",
      "_view_name": "LayoutView",
      "align_content": null,
      "align_items": null,
      "align_self": null,
      "border": null,
      "bottom": null,
      "display": null,
      "flex": null,
      "flex_flow": null,
      "grid_area": null,
      "grid_auto_columns": null,
      "grid_auto_flow": null,
      "grid_auto_rows": null,
      "grid_column": null,
      "grid_gap": null,
      "grid_row": null,
      "grid_template_areas": null,
      "grid_template_columns": null,
      "grid_template_rows": null,
      "height": null,
      "justify_content": null,
      "justify_items": null,
      "left": null,
      "margin": null,
      "max_height": null,
      "max_width": null,
      "min_height": null,
      "min_width": null,
      "object_fit": null,
      "object_position": null,
      "order": null,
      "overflow": null,
      "overflow_x": null,
      "overflow_y": null,
      "padding": null,
      "right": null,
      "top": null,
      "visibility": null,
      "width": null
     }
    },
    "98e1f4fabeb6474bae2a440be4bf67e9": {
     "model_module": "@jupyter-widgets/base",
     "model_name": "LayoutModel",
     "state": {
      "_model_module": "@jupyter-widgets/base",
      "_model_module_version": "1.2.0",
      "_model_name": "LayoutModel",
      "_view_count": null,
      "_view_module": "@jupyter-widgets/base",
      "_view_module_version": "1.2.0",
      "_view_name": "LayoutView",
      "align_content": null,
      "align_items": null,
      "align_self": null,
      "border": null,
      "bottom": null,
      "display": null,
      "flex": null,
      "flex_flow": null,
      "grid_area": null,
      "grid_auto_columns": null,
      "grid_auto_flow": null,
      "grid_auto_rows": null,
      "grid_column": null,
      "grid_gap": null,
      "grid_row": null,
      "grid_template_areas": null,
      "grid_template_columns": null,
      "grid_template_rows": null,
      "height": null,
      "justify_content": null,
      "justify_items": null,
      "left": null,
      "margin": null,
      "max_height": null,
      "max_width": null,
      "min_height": null,
      "min_width": null,
      "object_fit": null,
      "object_position": null,
      "order": null,
      "overflow": null,
      "overflow_x": null,
      "overflow_y": null,
      "padding": null,
      "right": null,
      "top": null,
      "visibility": null,
      "width": null
     }
    },
    "9b1a04ee4e2247439e752f9c6ba709ed": {
     "model_module": "@jupyter-widgets/base",
     "model_name": "LayoutModel",
     "state": {
      "_model_module": "@jupyter-widgets/base",
      "_model_module_version": "1.2.0",
      "_model_name": "LayoutModel",
      "_view_count": null,
      "_view_module": "@jupyter-widgets/base",
      "_view_module_version": "1.2.0",
      "_view_name": "LayoutView",
      "align_content": null,
      "align_items": null,
      "align_self": null,
      "border": null,
      "bottom": null,
      "display": null,
      "flex": null,
      "flex_flow": null,
      "grid_area": null,
      "grid_auto_columns": null,
      "grid_auto_flow": null,
      "grid_auto_rows": null,
      "grid_column": null,
      "grid_gap": null,
      "grid_row": null,
      "grid_template_areas": null,
      "grid_template_columns": null,
      "grid_template_rows": null,
      "height": null,
      "justify_content": null,
      "justify_items": null,
      "left": null,
      "margin": null,
      "max_height": null,
      "max_width": null,
      "min_height": null,
      "min_width": null,
      "object_fit": null,
      "object_position": null,
      "order": null,
      "overflow": null,
      "overflow_x": null,
      "overflow_y": null,
      "padding": null,
      "right": null,
      "top": null,
      "visibility": null,
      "width": null
     }
    },
    "9b61e0a9a4d34e6c9d603a818f945a2b": {
     "model_module": "@jupyter-widgets/controls",
     "model_name": "ProgressStyleModel",
     "state": {
      "_model_module": "@jupyter-widgets/controls",
      "_model_module_version": "1.5.0",
      "_model_name": "ProgressStyleModel",
      "_view_count": null,
      "_view_module": "@jupyter-widgets/base",
      "_view_module_version": "1.2.0",
      "_view_name": "StyleView",
      "bar_color": null,
      "description_width": "initial"
     }
    },
    "9d060130ecfd429ba319590ea3f1aa86": {
     "model_module": "@jupyter-widgets/base",
     "model_name": "LayoutModel",
     "state": {
      "_model_module": "@jupyter-widgets/base",
      "_model_module_version": "1.2.0",
      "_model_name": "LayoutModel",
      "_view_count": null,
      "_view_module": "@jupyter-widgets/base",
      "_view_module_version": "1.2.0",
      "_view_name": "LayoutView",
      "align_content": null,
      "align_items": null,
      "align_self": null,
      "border": null,
      "bottom": null,
      "display": null,
      "flex": null,
      "flex_flow": null,
      "grid_area": null,
      "grid_auto_columns": null,
      "grid_auto_flow": null,
      "grid_auto_rows": null,
      "grid_column": null,
      "grid_gap": null,
      "grid_row": null,
      "grid_template_areas": null,
      "grid_template_columns": null,
      "grid_template_rows": null,
      "height": null,
      "justify_content": null,
      "justify_items": null,
      "left": null,
      "margin": null,
      "max_height": null,
      "max_width": null,
      "min_height": null,
      "min_width": null,
      "object_fit": null,
      "object_position": null,
      "order": null,
      "overflow": null,
      "overflow_x": null,
      "overflow_y": null,
      "padding": null,
      "right": null,
      "top": null,
      "visibility": null,
      "width": null
     }
    },
    "9dd85b9c998749b0814d7273763a08a5": {
     "model_module": "@jupyter-widgets/base",
     "model_name": "LayoutModel",
     "state": {
      "_model_module": "@jupyter-widgets/base",
      "_model_module_version": "1.2.0",
      "_model_name": "LayoutModel",
      "_view_count": null,
      "_view_module": "@jupyter-widgets/base",
      "_view_module_version": "1.2.0",
      "_view_name": "LayoutView",
      "align_content": null,
      "align_items": null,
      "align_self": null,
      "border": null,
      "bottom": null,
      "display": null,
      "flex": null,
      "flex_flow": null,
      "grid_area": null,
      "grid_auto_columns": null,
      "grid_auto_flow": null,
      "grid_auto_rows": null,
      "grid_column": null,
      "grid_gap": null,
      "grid_row": null,
      "grid_template_areas": null,
      "grid_template_columns": null,
      "grid_template_rows": null,
      "height": null,
      "justify_content": null,
      "justify_items": null,
      "left": null,
      "margin": null,
      "max_height": null,
      "max_width": null,
      "min_height": null,
      "min_width": null,
      "object_fit": null,
      "object_position": null,
      "order": null,
      "overflow": null,
      "overflow_x": null,
      "overflow_y": null,
      "padding": null,
      "right": null,
      "top": null,
      "visibility": null,
      "width": null
     }
    },
    "9debfd58980049e590df982f04fe2984": {
     "model_module": "@jupyter-widgets/controls",
     "model_name": "ProgressStyleModel",
     "state": {
      "_model_module": "@jupyter-widgets/controls",
      "_model_module_version": "1.5.0",
      "_model_name": "ProgressStyleModel",
      "_view_count": null,
      "_view_module": "@jupyter-widgets/base",
      "_view_module_version": "1.2.0",
      "_view_name": "StyleView",
      "bar_color": null,
      "description_width": "initial"
     }
    },
    "a06ac4115821404087b3a5e6750af606": {
     "model_module": "@jupyter-widgets/base",
     "model_name": "LayoutModel",
     "state": {
      "_model_module": "@jupyter-widgets/base",
      "_model_module_version": "1.2.0",
      "_model_name": "LayoutModel",
      "_view_count": null,
      "_view_module": "@jupyter-widgets/base",
      "_view_module_version": "1.2.0",
      "_view_name": "LayoutView",
      "align_content": null,
      "align_items": null,
      "align_self": null,
      "border": null,
      "bottom": null,
      "display": null,
      "flex": null,
      "flex_flow": null,
      "grid_area": null,
      "grid_auto_columns": null,
      "grid_auto_flow": null,
      "grid_auto_rows": null,
      "grid_column": null,
      "grid_gap": null,
      "grid_row": null,
      "grid_template_areas": null,
      "grid_template_columns": null,
      "grid_template_rows": null,
      "height": null,
      "justify_content": null,
      "justify_items": null,
      "left": null,
      "margin": null,
      "max_height": null,
      "max_width": null,
      "min_height": null,
      "min_width": null,
      "object_fit": null,
      "object_position": null,
      "order": null,
      "overflow": null,
      "overflow_x": null,
      "overflow_y": null,
      "padding": null,
      "right": null,
      "top": null,
      "visibility": null,
      "width": null
     }
    },
    "a161cf0517834a4996a29453ab0b56d6": {
     "model_module": "@jupyter-widgets/controls",
     "model_name": "HBoxModel",
     "state": {
      "_dom_classes": [],
      "_model_module": "@jupyter-widgets/controls",
      "_model_module_version": "1.5.0",
      "_model_name": "HBoxModel",
      "_view_count": null,
      "_view_module": "@jupyter-widgets/controls",
      "_view_module_version": "1.5.0",
      "_view_name": "HBoxView",
      "box_style": "",
      "children": [
       "IPY_MODEL_c9bbc51c567b4020959da1823da9e288",
       "IPY_MODEL_b3c67aeb3c224e2fb9797760d9534327"
      ],
      "layout": "IPY_MODEL_1d6d45eb0e704c308fa42c10063d40a2"
     }
    },
    "a436b6cf9b4f4563a8839f55a11581bb": {
     "model_module": "@jupyter-widgets/controls",
     "model_name": "ProgressStyleModel",
     "state": {
      "_model_module": "@jupyter-widgets/controls",
      "_model_module_version": "1.5.0",
      "_model_name": "ProgressStyleModel",
      "_view_count": null,
      "_view_module": "@jupyter-widgets/base",
      "_view_module_version": "1.2.0",
      "_view_name": "StyleView",
      "bar_color": null,
      "description_width": "initial"
     }
    },
    "a70b5dd92e744df6846bfed2adb0cbfe": {
     "model_module": "@jupyter-widgets/controls",
     "model_name": "HBoxModel",
     "state": {
      "_dom_classes": [],
      "_model_module": "@jupyter-widgets/controls",
      "_model_module_version": "1.5.0",
      "_model_name": "HBoxModel",
      "_view_count": null,
      "_view_module": "@jupyter-widgets/controls",
      "_view_module_version": "1.5.0",
      "_view_name": "HBoxView",
      "box_style": "",
      "children": [
       "IPY_MODEL_501916a8861c4272b4ad9fa50d70bc60",
       "IPY_MODEL_53fae26e5c2c4bb58329e3d54a996143"
      ],
      "layout": "IPY_MODEL_3946eaf1e40b4f5a964c50a6588c6f4e"
     }
    },
    "ab2b790324c0467c9fa5be5f70cfd311": {
     "model_module": "@jupyter-widgets/controls",
     "model_name": "ProgressStyleModel",
     "state": {
      "_model_module": "@jupyter-widgets/controls",
      "_model_module_version": "1.5.0",
      "_model_name": "ProgressStyleModel",
      "_view_count": null,
      "_view_module": "@jupyter-widgets/base",
      "_view_module_version": "1.2.0",
      "_view_name": "StyleView",
      "bar_color": null,
      "description_width": "initial"
     }
    },
    "ad5732b570d84ccdb7898384b9c0a45e": {
     "model_module": "@jupyter-widgets/controls",
     "model_name": "HBoxModel",
     "state": {
      "_dom_classes": [],
      "_model_module": "@jupyter-widgets/controls",
      "_model_module_version": "1.5.0",
      "_model_name": "HBoxModel",
      "_view_count": null,
      "_view_module": "@jupyter-widgets/controls",
      "_view_module_version": "1.5.0",
      "_view_name": "HBoxView",
      "box_style": "",
      "children": [
       "IPY_MODEL_d67bdcc5786b4069b45abf9d93176327",
       "IPY_MODEL_c6cee3372e444924a651f05111674436"
      ],
      "layout": "IPY_MODEL_c9582c080d3f4d2fac8df56bc5bed90c"
     }
    },
    "af022191555d49b4b09915b5323304c1": {
     "model_module": "@jupyter-widgets/base",
     "model_name": "LayoutModel",
     "state": {
      "_model_module": "@jupyter-widgets/base",
      "_model_module_version": "1.2.0",
      "_model_name": "LayoutModel",
      "_view_count": null,
      "_view_module": "@jupyter-widgets/base",
      "_view_module_version": "1.2.0",
      "_view_name": "LayoutView",
      "align_content": null,
      "align_items": null,
      "align_self": null,
      "border": null,
      "bottom": null,
      "display": null,
      "flex": null,
      "flex_flow": null,
      "grid_area": null,
      "grid_auto_columns": null,
      "grid_auto_flow": null,
      "grid_auto_rows": null,
      "grid_column": null,
      "grid_gap": null,
      "grid_row": null,
      "grid_template_areas": null,
      "grid_template_columns": null,
      "grid_template_rows": null,
      "height": null,
      "justify_content": null,
      "justify_items": null,
      "left": null,
      "margin": null,
      "max_height": null,
      "max_width": null,
      "min_height": null,
      "min_width": null,
      "object_fit": null,
      "object_position": null,
      "order": null,
      "overflow": null,
      "overflow_x": null,
      "overflow_y": null,
      "padding": null,
      "right": null,
      "top": null,
      "visibility": null,
      "width": null
     }
    },
    "af7541ad97df462093ff32734bf2c67e": {
     "model_module": "@jupyter-widgets/controls",
     "model_name": "FloatProgressModel",
     "state": {
      "_dom_classes": [],
      "_model_module": "@jupyter-widgets/controls",
      "_model_module_version": "1.5.0",
      "_model_name": "FloatProgressModel",
      "_view_count": null,
      "_view_module": "@jupyter-widgets/controls",
      "_view_module_version": "1.5.0",
      "_view_name": "ProgressView",
      "bar_style": "success",
      "description": "Training: 100%",
      "description_tooltip": null,
      "layout": "IPY_MODEL_66d8b44dc5c94442bb7cde114a77a0ce",
      "max": 3,
      "min": 0,
      "orientation": "horizontal",
      "style": "IPY_MODEL_0cb371cf687543cb86a294f45e7a994b",
      "value": 3
     }
    },
    "b011b4c025204fdba8dd0eebeae7bf2f": {
     "model_module": "@jupyter-widgets/controls",
     "model_name": "DescriptionStyleModel",
     "state": {
      "_model_module": "@jupyter-widgets/controls",
      "_model_module_version": "1.5.0",
      "_model_name": "DescriptionStyleModel",
      "_view_count": null,
      "_view_module": "@jupyter-widgets/base",
      "_view_module_version": "1.2.0",
      "_view_name": "StyleView",
      "description_width": ""
     }
    },
    "b0d25fb23ac0478fbf88d8b18e92540e": {
     "model_module": "@jupyter-widgets/controls",
     "model_name": "ProgressStyleModel",
     "state": {
      "_model_module": "@jupyter-widgets/controls",
      "_model_module_version": "1.5.0",
      "_model_name": "ProgressStyleModel",
      "_view_count": null,
      "_view_module": "@jupyter-widgets/base",
      "_view_module_version": "1.2.0",
      "_view_name": "StyleView",
      "bar_color": null,
      "description_width": "initial"
     }
    },
    "b21c66d314754e979b98c3f3b80f27f3": {
     "model_module": "@jupyter-widgets/base",
     "model_name": "LayoutModel",
     "state": {
      "_model_module": "@jupyter-widgets/base",
      "_model_module_version": "1.2.0",
      "_model_name": "LayoutModel",
      "_view_count": null,
      "_view_module": "@jupyter-widgets/base",
      "_view_module_version": "1.2.0",
      "_view_name": "LayoutView",
      "align_content": null,
      "align_items": null,
      "align_self": null,
      "border": null,
      "bottom": null,
      "display": null,
      "flex": null,
      "flex_flow": null,
      "grid_area": null,
      "grid_auto_columns": null,
      "grid_auto_flow": null,
      "grid_auto_rows": null,
      "grid_column": null,
      "grid_gap": null,
      "grid_row": null,
      "grid_template_areas": null,
      "grid_template_columns": null,
      "grid_template_rows": null,
      "height": null,
      "justify_content": null,
      "justify_items": null,
      "left": null,
      "margin": null,
      "max_height": null,
      "max_width": null,
      "min_height": null,
      "min_width": null,
      "object_fit": null,
      "object_position": null,
      "order": null,
      "overflow": null,
      "overflow_x": null,
      "overflow_y": null,
      "padding": null,
      "right": null,
      "top": null,
      "visibility": null,
      "width": null
     }
    },
    "b23581aa693a4ce89ee2f343fbbe1caf": {
     "model_module": "@jupyter-widgets/controls",
     "model_name": "ProgressStyleModel",
     "state": {
      "_model_module": "@jupyter-widgets/controls",
      "_model_module_version": "1.5.0",
      "_model_name": "ProgressStyleModel",
      "_view_count": null,
      "_view_module": "@jupyter-widgets/base",
      "_view_module_version": "1.2.0",
      "_view_name": "StyleView",
      "bar_color": null,
      "description_width": "initial"
     }
    },
    "b309a2ba51184e068d94c14a8b1794f7": {
     "model_module": "@jupyter-widgets/controls",
     "model_name": "DescriptionStyleModel",
     "state": {
      "_model_module": "@jupyter-widgets/controls",
      "_model_module_version": "1.5.0",
      "_model_name": "DescriptionStyleModel",
      "_view_count": null,
      "_view_module": "@jupyter-widgets/base",
      "_view_module_version": "1.2.0",
      "_view_name": "StyleView",
      "description_width": ""
     }
    },
    "b3c67aeb3c224e2fb9797760d9534327": {
     "model_module": "@jupyter-widgets/controls",
     "model_name": "HTMLModel",
     "state": {
      "_dom_classes": [],
      "_model_module": "@jupyter-widgets/controls",
      "_model_module_version": "1.5.0",
      "_model_name": "HTMLModel",
      "_view_count": null,
      "_view_module": "@jupyter-widgets/controls",
      "_view_module_version": "1.5.0",
      "_view_name": "HTMLView",
      "description": "",
      "description_tooltip": null,
      "layout": "IPY_MODEL_251e350f8da0414f928eff5ceed30b95",
      "placeholder": "​",
      "style": "IPY_MODEL_dfaea71d1d314e16a9c11d6e4ca170b5",
      "value": " 528M/528M [10:40&lt;00:00, 864kB/s]"
     }
    },
    "b5542a4f05054c9f8e39ec2689d8d681": {
     "model_module": "@jupyter-widgets/controls",
     "model_name": "ProgressStyleModel",
     "state": {
      "_model_module": "@jupyter-widgets/controls",
      "_model_module_version": "1.5.0",
      "_model_name": "ProgressStyleModel",
      "_view_count": null,
      "_view_module": "@jupyter-widgets/base",
      "_view_module_version": "1.2.0",
      "_view_name": "StyleView",
      "bar_color": null,
      "description_width": "initial"
     }
    },
    "b5f2e3dcf5be4f7bb21cc190d9e6554c": {
     "model_module": "@jupyter-widgets/controls",
     "model_name": "HTMLModel",
     "state": {
      "_dom_classes": [],
      "_model_module": "@jupyter-widgets/controls",
      "_model_module_version": "1.5.0",
      "_model_name": "HTMLModel",
      "_view_count": null,
      "_view_module": "@jupyter-widgets/controls",
      "_view_module_version": "1.5.0",
      "_view_name": "HTMLView",
      "description": "",
      "description_tooltip": null,
      "layout": "IPY_MODEL_50e5263ccd2b40109dda9b2495f78d1f",
      "placeholder": "​",
      "style": "IPY_MODEL_f8d80f6945614a5ca1879636cc3e3f3c",
      "value": " 3/3 [05:56&lt;00:00, 118.84s/Epoch]"
     }
    },
    "b6936bfa0d2e4ac19be5a6f2570a4390": {
     "model_module": "@jupyter-widgets/controls",
     "model_name": "HBoxModel",
     "state": {
      "_dom_classes": [],
      "_model_module": "@jupyter-widgets/controls",
      "_model_module_version": "1.5.0",
      "_model_name": "HBoxModel",
      "_view_count": null,
      "_view_module": "@jupyter-widgets/controls",
      "_view_module_version": "1.5.0",
      "_view_name": "HBoxView",
      "box_style": "",
      "children": [
       "IPY_MODEL_135a05bb9cf54d0eb3d9e6283781fab9",
       "IPY_MODEL_636e7b1c2bef4a81985d74be2c0472b5"
      ],
      "layout": "IPY_MODEL_9dd85b9c998749b0814d7273763a08a5"
     }
    },
    "b9fc5236b25d43838276bf2503f78763": {
     "model_module": "@jupyter-widgets/base",
     "model_name": "LayoutModel",
     "state": {
      "_model_module": "@jupyter-widgets/base",
      "_model_module_version": "1.2.0",
      "_model_name": "LayoutModel",
      "_view_count": null,
      "_view_module": "@jupyter-widgets/base",
      "_view_module_version": "1.2.0",
      "_view_name": "LayoutView",
      "align_content": null,
      "align_items": null,
      "align_self": null,
      "border": null,
      "bottom": null,
      "display": null,
      "flex": null,
      "flex_flow": null,
      "grid_area": null,
      "grid_auto_columns": null,
      "grid_auto_flow": null,
      "grid_auto_rows": null,
      "grid_column": null,
      "grid_gap": null,
      "grid_row": null,
      "grid_template_areas": null,
      "grid_template_columns": null,
      "grid_template_rows": null,
      "height": null,
      "justify_content": null,
      "justify_items": null,
      "left": null,
      "margin": null,
      "max_height": null,
      "max_width": null,
      "min_height": null,
      "min_width": null,
      "object_fit": null,
      "object_position": null,
      "order": null,
      "overflow": null,
      "overflow_x": null,
      "overflow_y": null,
      "padding": null,
      "right": null,
      "top": null,
      "visibility": null,
      "width": null
     }
    },
    "c486076ad2f34011b7378526092b558d": {
     "model_module": "@jupyter-widgets/controls",
     "model_name": "HTMLModel",
     "state": {
      "_dom_classes": [],
      "_model_module": "@jupyter-widgets/controls",
      "_model_module_version": "1.5.0",
      "_model_name": "HTMLModel",
      "_view_count": null,
      "_view_module": "@jupyter-widgets/controls",
      "_view_module_version": "1.5.0",
      "_view_name": "HTMLView",
      "description": "",
      "description_tooltip": null,
      "layout": "IPY_MODEL_4400762ed92d408c94b9f2f693e174e6",
      "placeholder": "​",
      "style": "IPY_MODEL_40899404c2f84f43b2adb8c1b8e7a83c",
      "value": " 3/3 [03:31&lt;00:00, 70.56s/Epoch]"
     }
    },
    "c6cee3372e444924a651f05111674436": {
     "model_module": "@jupyter-widgets/controls",
     "model_name": "HTMLModel",
     "state": {
      "_dom_classes": [],
      "_model_module": "@jupyter-widgets/controls",
      "_model_module_version": "1.5.0",
      "_model_name": "HTMLModel",
      "_view_count": null,
      "_view_module": "@jupyter-widgets/controls",
      "_view_module_version": "1.5.0",
      "_view_name": "HTMLView",
      "description": "",
      "description_tooltip": null,
      "layout": "IPY_MODEL_680e8bdb4f044008be721b0a1269a3bc",
      "placeholder": "​",
      "style": "IPY_MODEL_0a5166c03c1a4a3aba953e360294dc97",
      "value": " 3/3 [02:17&lt;00:00, 45.82s/Epoch]"
     }
    },
    "c6f34cb9530540889b315a8b45e69aaf": {
     "model_module": "@jupyter-widgets/base",
     "model_name": "LayoutModel",
     "state": {
      "_model_module": "@jupyter-widgets/base",
      "_model_module_version": "1.2.0",
      "_model_name": "LayoutModel",
      "_view_count": null,
      "_view_module": "@jupyter-widgets/base",
      "_view_module_version": "1.2.0",
      "_view_name": "LayoutView",
      "align_content": null,
      "align_items": null,
      "align_self": null,
      "border": null,
      "bottom": null,
      "display": null,
      "flex": null,
      "flex_flow": null,
      "grid_area": null,
      "grid_auto_columns": null,
      "grid_auto_flow": null,
      "grid_auto_rows": null,
      "grid_column": null,
      "grid_gap": null,
      "grid_row": null,
      "grid_template_areas": null,
      "grid_template_columns": null,
      "grid_template_rows": null,
      "height": null,
      "justify_content": null,
      "justify_items": null,
      "left": null,
      "margin": null,
      "max_height": null,
      "max_width": null,
      "min_height": null,
      "min_width": null,
      "object_fit": null,
      "object_position": null,
      "order": null,
      "overflow": null,
      "overflow_x": null,
      "overflow_y": null,
      "padding": null,
      "right": null,
      "top": null,
      "visibility": null,
      "width": null
     }
    },
    "c9582c080d3f4d2fac8df56bc5bed90c": {
     "model_module": "@jupyter-widgets/base",
     "model_name": "LayoutModel",
     "state": {
      "_model_module": "@jupyter-widgets/base",
      "_model_module_version": "1.2.0",
      "_model_name": "LayoutModel",
      "_view_count": null,
      "_view_module": "@jupyter-widgets/base",
      "_view_module_version": "1.2.0",
      "_view_name": "LayoutView",
      "align_content": null,
      "align_items": null,
      "align_self": null,
      "border": null,
      "bottom": null,
      "display": null,
      "flex": null,
      "flex_flow": null,
      "grid_area": null,
      "grid_auto_columns": null,
      "grid_auto_flow": null,
      "grid_auto_rows": null,
      "grid_column": null,
      "grid_gap": null,
      "grid_row": null,
      "grid_template_areas": null,
      "grid_template_columns": null,
      "grid_template_rows": null,
      "height": null,
      "justify_content": null,
      "justify_items": null,
      "left": null,
      "margin": null,
      "max_height": null,
      "max_width": null,
      "min_height": null,
      "min_width": null,
      "object_fit": null,
      "object_position": null,
      "order": null,
      "overflow": null,
      "overflow_x": null,
      "overflow_y": null,
      "padding": null,
      "right": null,
      "top": null,
      "visibility": null,
      "width": null
     }
    },
    "c9bbc51c567b4020959da1823da9e288": {
     "model_module": "@jupyter-widgets/controls",
     "model_name": "FloatProgressModel",
     "state": {
      "_dom_classes": [],
      "_model_module": "@jupyter-widgets/controls",
      "_model_module_version": "1.5.0",
      "_model_name": "FloatProgressModel",
      "_view_count": null,
      "_view_module": "@jupyter-widgets/controls",
      "_view_module_version": "1.5.0",
      "_view_name": "ProgressView",
      "bar_style": "success",
      "description": "100%",
      "description_tooltip": null,
      "layout": "IPY_MODEL_55e628577d1a4389bc69c922c9584aff",
      "max": 553433881,
      "min": 0,
      "orientation": "horizontal",
      "style": "IPY_MODEL_b5542a4f05054c9f8e39ec2689d8d681",
      "value": 553433881
     }
    },
    "d00d2de59cea47fb8d0fbf742399086e": {
     "model_module": "@jupyter-widgets/controls",
     "model_name": "HBoxModel",
     "state": {
      "_dom_classes": [],
      "_model_module": "@jupyter-widgets/controls",
      "_model_module_version": "1.5.0",
      "_model_name": "HBoxModel",
      "_view_count": null,
      "_view_module": "@jupyter-widgets/controls",
      "_view_module_version": "1.5.0",
      "_view_name": "HBoxView",
      "box_style": "",
      "children": [
       "IPY_MODEL_e8329756d9834c64aa2f4e10f9c81f23",
       "IPY_MODEL_60b5df71ef374089b73d5422286f0ef2"
      ],
      "layout": "IPY_MODEL_a06ac4115821404087b3a5e6750af606"
     }
    },
    "d5904f65f19c4ee99da344cb8b18991d": {
     "model_module": "@jupyter-widgets/controls",
     "model_name": "ProgressStyleModel",
     "state": {
      "_model_module": "@jupyter-widgets/controls",
      "_model_module_version": "1.5.0",
      "_model_name": "ProgressStyleModel",
      "_view_count": null,
      "_view_module": "@jupyter-widgets/base",
      "_view_module_version": "1.2.0",
      "_view_name": "StyleView",
      "bar_color": null,
      "description_width": "initial"
     }
    },
    "d67bdcc5786b4069b45abf9d93176327": {
     "model_module": "@jupyter-widgets/controls",
     "model_name": "FloatProgressModel",
     "state": {
      "_dom_classes": [],
      "_model_module": "@jupyter-widgets/controls",
      "_model_module_version": "1.5.0",
      "_model_name": "FloatProgressModel",
      "_view_count": null,
      "_view_module": "@jupyter-widgets/controls",
      "_view_module_version": "1.5.0",
      "_view_name": "ProgressView",
      "bar_style": "success",
      "description": "Training: 100%",
      "description_tooltip": null,
      "layout": "IPY_MODEL_0678275a7a9040e49f0436576c51e38d",
      "max": 3,
      "min": 0,
      "orientation": "horizontal",
      "style": "IPY_MODEL_1aade2fb10b544e5861ef84d3409c2a0",
      "value": 3
     }
    },
    "d9a90c24c1bd485f97b3df76b77e6e35": {
     "model_module": "@jupyter-widgets/controls",
     "model_name": "HTMLModel",
     "state": {
      "_dom_classes": [],
      "_model_module": "@jupyter-widgets/controls",
      "_model_module_version": "1.5.0",
      "_model_name": "HTMLModel",
      "_view_count": null,
      "_view_module": "@jupyter-widgets/controls",
      "_view_module_version": "1.5.0",
      "_view_name": "HTMLView",
      "description": "",
      "description_tooltip": null,
      "layout": "IPY_MODEL_3e332b25d0224464aaaa1518c5560a53",
      "placeholder": "​",
      "style": "IPY_MODEL_e2e5fb411e844778acc19dac47fc13b1",
      "value": " 3/3 [03:40&lt;00:00, 73.34s/Epoch]"
     }
    },
    "daad0c74e82a453492ad780145efb8d2": {
     "model_module": "@jupyter-widgets/controls",
     "model_name": "HBoxModel",
     "state": {
      "_dom_classes": [],
      "_model_module": "@jupyter-widgets/controls",
      "_model_module_version": "1.5.0",
      "_model_name": "HBoxModel",
      "_view_count": null,
      "_view_module": "@jupyter-widgets/controls",
      "_view_module_version": "1.5.0",
      "_view_name": "HBoxView",
      "box_style": "",
      "children": [
       "IPY_MODEL_af7541ad97df462093ff32734bf2c67e",
       "IPY_MODEL_f1549cd90bd34c53a7bea4c3827cebba"
      ],
      "layout": "IPY_MODEL_7ac716c574464b76919b81fc574f6192"
     }
    },
    "db77c2e3315e47bb8f7dae758a4bc2ea": {
     "model_module": "@jupyter-widgets/base",
     "model_name": "LayoutModel",
     "state": {
      "_model_module": "@jupyter-widgets/base",
      "_model_module_version": "1.2.0",
      "_model_name": "LayoutModel",
      "_view_count": null,
      "_view_module": "@jupyter-widgets/base",
      "_view_module_version": "1.2.0",
      "_view_name": "LayoutView",
      "align_content": null,
      "align_items": null,
      "align_self": null,
      "border": null,
      "bottom": null,
      "display": null,
      "flex": null,
      "flex_flow": null,
      "grid_area": null,
      "grid_auto_columns": null,
      "grid_auto_flow": null,
      "grid_auto_rows": null,
      "grid_column": null,
      "grid_gap": null,
      "grid_row": null,
      "grid_template_areas": null,
      "grid_template_columns": null,
      "grid_template_rows": null,
      "height": null,
      "justify_content": null,
      "justify_items": null,
      "left": null,
      "margin": null,
      "max_height": null,
      "max_width": null,
      "min_height": null,
      "min_width": null,
      "object_fit": null,
      "object_position": null,
      "order": null,
      "overflow": null,
      "overflow_x": null,
      "overflow_y": null,
      "padding": null,
      "right": null,
      "top": null,
      "visibility": null,
      "width": null
     }
    },
    "dc78ba99e4344476a6026f10eda8a836": {
     "model_module": "@jupyter-widgets/controls",
     "model_name": "FloatProgressModel",
     "state": {
      "_dom_classes": [],
      "_model_module": "@jupyter-widgets/controls",
      "_model_module_version": "1.5.0",
      "_model_name": "FloatProgressModel",
      "_view_count": null,
      "_view_module": "@jupyter-widgets/controls",
      "_view_module_version": "1.5.0",
      "_view_name": "ProgressView",
      "bar_style": "success",
      "description": "Training: 100%",
      "description_tooltip": null,
      "layout": "IPY_MODEL_f707bbd212ef4c4faca2996e94a9b02d",
      "max": 10,
      "min": 0,
      "orientation": "horizontal",
      "style": "IPY_MODEL_ab2b790324c0467c9fa5be5f70cfd311",
      "value": 10
     }
    },
    "de9a1a4e1883464d95424f26b6f08b03": {
     "model_module": "@jupyter-widgets/controls",
     "model_name": "FloatProgressModel",
     "state": {
      "_dom_classes": [],
      "_model_module": "@jupyter-widgets/controls",
      "_model_module_version": "1.5.0",
      "_model_name": "FloatProgressModel",
      "_view_count": null,
      "_view_module": "@jupyter-widgets/controls",
      "_view_module_version": "1.5.0",
      "_view_name": "ProgressView",
      "bar_style": "success",
      "description": "Training: 100%",
      "description_tooltip": null,
      "layout": "IPY_MODEL_e6412e00144a4dfab76be0edcf78b256",
      "max": 3,
      "min": 0,
      "orientation": "horizontal",
      "style": "IPY_MODEL_6dd65540a61d4e04a3c5f48e6a55797f",
      "value": 3
     }
    },
    "dfaea71d1d314e16a9c11d6e4ca170b5": {
     "model_module": "@jupyter-widgets/controls",
     "model_name": "DescriptionStyleModel",
     "state": {
      "_model_module": "@jupyter-widgets/controls",
      "_model_module_version": "1.5.0",
      "_model_name": "DescriptionStyleModel",
      "_view_count": null,
      "_view_module": "@jupyter-widgets/base",
      "_view_module_version": "1.2.0",
      "_view_name": "StyleView",
      "description_width": ""
     }
    },
    "e2e5fb411e844778acc19dac47fc13b1": {
     "model_module": "@jupyter-widgets/controls",
     "model_name": "DescriptionStyleModel",
     "state": {
      "_model_module": "@jupyter-widgets/controls",
      "_model_module_version": "1.5.0",
      "_model_name": "DescriptionStyleModel",
      "_view_count": null,
      "_view_module": "@jupyter-widgets/base",
      "_view_module_version": "1.2.0",
      "_view_name": "StyleView",
      "description_width": ""
     }
    },
    "e5869ef1b367498ba15a9874766d3289": {
     "model_module": "@jupyter-widgets/controls",
     "model_name": "FloatProgressModel",
     "state": {
      "_dom_classes": [],
      "_model_module": "@jupyter-widgets/controls",
      "_model_module_version": "1.5.0",
      "_model_name": "FloatProgressModel",
      "_view_count": null,
      "_view_module": "@jupyter-widgets/controls",
      "_view_module_version": "1.5.0",
      "_view_name": "ProgressView",
      "bar_style": "success",
      "description": "Training: 100%",
      "description_tooltip": null,
      "layout": "IPY_MODEL_af022191555d49b4b09915b5323304c1",
      "max": 3,
      "min": 0,
      "orientation": "horizontal",
      "style": "IPY_MODEL_9debfd58980049e590df982f04fe2984",
      "value": 3
     }
    },
    "e6412e00144a4dfab76be0edcf78b256": {
     "model_module": "@jupyter-widgets/base",
     "model_name": "LayoutModel",
     "state": {
      "_model_module": "@jupyter-widgets/base",
      "_model_module_version": "1.2.0",
      "_model_name": "LayoutModel",
      "_view_count": null,
      "_view_module": "@jupyter-widgets/base",
      "_view_module_version": "1.2.0",
      "_view_name": "LayoutView",
      "align_content": null,
      "align_items": null,
      "align_self": null,
      "border": null,
      "bottom": null,
      "display": null,
      "flex": null,
      "flex_flow": null,
      "grid_area": null,
      "grid_auto_columns": null,
      "grid_auto_flow": null,
      "grid_auto_rows": null,
      "grid_column": null,
      "grid_gap": null,
      "grid_row": null,
      "grid_template_areas": null,
      "grid_template_columns": null,
      "grid_template_rows": null,
      "height": null,
      "justify_content": null,
      "justify_items": null,
      "left": null,
      "margin": null,
      "max_height": null,
      "max_width": null,
      "min_height": null,
      "min_width": null,
      "object_fit": null,
      "object_position": null,
      "order": null,
      "overflow": null,
      "overflow_x": null,
      "overflow_y": null,
      "padding": null,
      "right": null,
      "top": null,
      "visibility": null,
      "width": null
     }
    },
    "e8329756d9834c64aa2f4e10f9c81f23": {
     "model_module": "@jupyter-widgets/controls",
     "model_name": "FloatProgressModel",
     "state": {
      "_dom_classes": [],
      "_model_module": "@jupyter-widgets/controls",
      "_model_module_version": "1.5.0",
      "_model_name": "FloatProgressModel",
      "_view_count": null,
      "_view_module": "@jupyter-widgets/controls",
      "_view_module_version": "1.5.0",
      "_view_name": "ProgressView",
      "bar_style": "success",
      "description": "",
      "description_tooltip": null,
      "layout": "IPY_MODEL_3a53e6692d9f418a981cc0c3b29ce4fa",
      "max": 2640397119,
      "min": 0,
      "orientation": "horizontal",
      "style": "IPY_MODEL_270cf6185c614cc9b5ebbaf406cd7f17",
      "value": 2640397119
     }
    },
    "e919eb873a4d428d919aa82ab73734ba": {
     "model_module": "@jupyter-widgets/base",
     "model_name": "LayoutModel",
     "state": {
      "_model_module": "@jupyter-widgets/base",
      "_model_module_version": "1.2.0",
      "_model_name": "LayoutModel",
      "_view_count": null,
      "_view_module": "@jupyter-widgets/base",
      "_view_module_version": "1.2.0",
      "_view_name": "LayoutView",
      "align_content": null,
      "align_items": null,
      "align_self": null,
      "border": null,
      "bottom": null,
      "display": null,
      "flex": null,
      "flex_flow": null,
      "grid_area": null,
      "grid_auto_columns": null,
      "grid_auto_flow": null,
      "grid_auto_rows": null,
      "grid_column": null,
      "grid_gap": null,
      "grid_row": null,
      "grid_template_areas": null,
      "grid_template_columns": null,
      "grid_template_rows": null,
      "height": null,
      "justify_content": null,
      "justify_items": null,
      "left": null,
      "margin": null,
      "max_height": null,
      "max_width": null,
      "min_height": null,
      "min_width": null,
      "object_fit": null,
      "object_position": null,
      "order": null,
      "overflow": null,
      "overflow_x": null,
      "overflow_y": null,
      "padding": null,
      "right": null,
      "top": null,
      "visibility": null,
      "width": null
     }
    },
    "eb66561fdd4f45789bd257adefc7e096": {
     "model_module": "@jupyter-widgets/base",
     "model_name": "LayoutModel",
     "state": {
      "_model_module": "@jupyter-widgets/base",
      "_model_module_version": "1.2.0",
      "_model_name": "LayoutModel",
      "_view_count": null,
      "_view_module": "@jupyter-widgets/base",
      "_view_module_version": "1.2.0",
      "_view_name": "LayoutView",
      "align_content": null,
      "align_items": null,
      "align_self": null,
      "border": null,
      "bottom": null,
      "display": null,
      "flex": null,
      "flex_flow": null,
      "grid_area": null,
      "grid_auto_columns": null,
      "grid_auto_flow": null,
      "grid_auto_rows": null,
      "grid_column": null,
      "grid_gap": null,
      "grid_row": null,
      "grid_template_areas": null,
      "grid_template_columns": null,
      "grid_template_rows": null,
      "height": null,
      "justify_content": null,
      "justify_items": null,
      "left": null,
      "margin": null,
      "max_height": null,
      "max_width": null,
      "min_height": null,
      "min_width": null,
      "object_fit": null,
      "object_position": null,
      "order": null,
      "overflow": null,
      "overflow_x": null,
      "overflow_y": null,
      "padding": null,
      "right": null,
      "top": null,
      "visibility": null,
      "width": null
     }
    },
    "ec5517ea1b8d4c7598adaab56040afe6": {
     "model_module": "@jupyter-widgets/controls",
     "model_name": "DescriptionStyleModel",
     "state": {
      "_model_module": "@jupyter-widgets/controls",
      "_model_module_version": "1.5.0",
      "_model_name": "DescriptionStyleModel",
      "_view_count": null,
      "_view_module": "@jupyter-widgets/base",
      "_view_module_version": "1.2.0",
      "_view_name": "StyleView",
      "description_width": ""
     }
    },
    "efb25312bd5345d1ac102a9d103d523e": {
     "model_module": "@jupyter-widgets/controls",
     "model_name": "DescriptionStyleModel",
     "state": {
      "_model_module": "@jupyter-widgets/controls",
      "_model_module_version": "1.5.0",
      "_model_name": "DescriptionStyleModel",
      "_view_count": null,
      "_view_module": "@jupyter-widgets/base",
      "_view_module_version": "1.2.0",
      "_view_name": "StyleView",
      "description_width": ""
     }
    },
    "f1549cd90bd34c53a7bea4c3827cebba": {
     "model_module": "@jupyter-widgets/controls",
     "model_name": "HTMLModel",
     "state": {
      "_dom_classes": [],
      "_model_module": "@jupyter-widgets/controls",
      "_model_module_version": "1.5.0",
      "_model_name": "HTMLModel",
      "_view_count": null,
      "_view_module": "@jupyter-widgets/controls",
      "_view_module_version": "1.5.0",
      "_view_name": "HTMLView",
      "description": "",
      "description_tooltip": null,
      "layout": "IPY_MODEL_9b1a04ee4e2247439e752f9c6ba709ed",
      "placeholder": "​",
      "style": "IPY_MODEL_ec5517ea1b8d4c7598adaab56040afe6",
      "value": " 3/3 [14:58&lt;00:00, 299.34s/Epoch]"
     }
    },
    "f1cdd79a41c54737a34a12f6ebf388f5": {
     "model_module": "@jupyter-widgets/base",
     "model_name": "LayoutModel",
     "state": {
      "_model_module": "@jupyter-widgets/base",
      "_model_module_version": "1.2.0",
      "_model_name": "LayoutModel",
      "_view_count": null,
      "_view_module": "@jupyter-widgets/base",
      "_view_module_version": "1.2.0",
      "_view_name": "LayoutView",
      "align_content": null,
      "align_items": null,
      "align_self": null,
      "border": null,
      "bottom": null,
      "display": null,
      "flex": null,
      "flex_flow": null,
      "grid_area": null,
      "grid_auto_columns": null,
      "grid_auto_flow": null,
      "grid_auto_rows": null,
      "grid_column": null,
      "grid_gap": null,
      "grid_row": null,
      "grid_template_areas": null,
      "grid_template_columns": null,
      "grid_template_rows": null,
      "height": null,
      "justify_content": null,
      "justify_items": null,
      "left": null,
      "margin": null,
      "max_height": null,
      "max_width": null,
      "min_height": null,
      "min_width": null,
      "object_fit": null,
      "object_position": null,
      "order": null,
      "overflow": null,
      "overflow_x": null,
      "overflow_y": null,
      "padding": null,
      "right": null,
      "top": null,
      "visibility": null,
      "width": null
     }
    },
    "f6cc3b88cf6149ae8c4284840b7a02ce": {
     "model_module": "@jupyter-widgets/controls",
     "model_name": "HBoxModel",
     "state": {
      "_dom_classes": [],
      "_model_module": "@jupyter-widgets/controls",
      "_model_module_version": "1.5.0",
      "_model_name": "HBoxModel",
      "_view_count": null,
      "_view_module": "@jupyter-widgets/controls",
      "_view_module_version": "1.5.0",
      "_view_name": "HBoxView",
      "box_style": "",
      "children": [
       "IPY_MODEL_f8ec5f7765c94b949635c1739301f12f",
       "IPY_MODEL_c486076ad2f34011b7378526092b558d"
      ],
      "layout": "IPY_MODEL_2b7151063e4341e2a0bcc32e856b67b0"
     }
    },
    "f707bbd212ef4c4faca2996e94a9b02d": {
     "model_module": "@jupyter-widgets/base",
     "model_name": "LayoutModel",
     "state": {
      "_model_module": "@jupyter-widgets/base",
      "_model_module_version": "1.2.0",
      "_model_name": "LayoutModel",
      "_view_count": null,
      "_view_module": "@jupyter-widgets/base",
      "_view_module_version": "1.2.0",
      "_view_name": "LayoutView",
      "align_content": null,
      "align_items": null,
      "align_self": null,
      "border": null,
      "bottom": null,
      "display": null,
      "flex": null,
      "flex_flow": null,
      "grid_area": null,
      "grid_auto_columns": null,
      "grid_auto_flow": null,
      "grid_auto_rows": null,
      "grid_column": null,
      "grid_gap": null,
      "grid_row": null,
      "grid_template_areas": null,
      "grid_template_columns": null,
      "grid_template_rows": null,
      "height": null,
      "justify_content": null,
      "justify_items": null,
      "left": null,
      "margin": null,
      "max_height": null,
      "max_width": null,
      "min_height": null,
      "min_width": null,
      "object_fit": null,
      "object_position": null,
      "order": null,
      "overflow": null,
      "overflow_x": null,
      "overflow_y": null,
      "padding": null,
      "right": null,
      "top": null,
      "visibility": null,
      "width": null
     }
    },
    "f76f75e4c0504a228ce5c4b3abdaef50": {
     "model_module": "@jupyter-widgets/controls",
     "model_name": "HBoxModel",
     "state": {
      "_dom_classes": [],
      "_model_module": "@jupyter-widgets/controls",
      "_model_module_version": "1.5.0",
      "_model_name": "HBoxModel",
      "_view_count": null,
      "_view_module": "@jupyter-widgets/controls",
      "_view_module_version": "1.5.0",
      "_view_name": "HBoxView",
      "box_style": "",
      "children": [
       "IPY_MODEL_303c4b62039845f4a076bb459ded1687",
       "IPY_MODEL_2e4a5d264c654a18aaa5e32975ca8138"
      ],
      "layout": "IPY_MODEL_855707c887a1494c99f04aaf2d85ff1d"
     }
    },
    "f8d80f6945614a5ca1879636cc3e3f3c": {
     "model_module": "@jupyter-widgets/controls",
     "model_name": "DescriptionStyleModel",
     "state": {
      "_model_module": "@jupyter-widgets/controls",
      "_model_module_version": "1.5.0",
      "_model_name": "DescriptionStyleModel",
      "_view_count": null,
      "_view_module": "@jupyter-widgets/base",
      "_view_module_version": "1.2.0",
      "_view_name": "StyleView",
      "description_width": ""
     }
    },
    "f8ec5f7765c94b949635c1739301f12f": {
     "model_module": "@jupyter-widgets/controls",
     "model_name": "FloatProgressModel",
     "state": {
      "_dom_classes": [],
      "_model_module": "@jupyter-widgets/controls",
      "_model_module_version": "1.5.0",
      "_model_name": "FloatProgressModel",
      "_view_count": null,
      "_view_module": "@jupyter-widgets/controls",
      "_view_module_version": "1.5.0",
      "_view_name": "ProgressView",
      "bar_style": "success",
      "description": "Training: 100%",
      "description_tooltip": null,
      "layout": "IPY_MODEL_7a5051587d384ca794b2899d02265d98",
      "max": 3,
      "min": 0,
      "orientation": "horizontal",
      "style": "IPY_MODEL_0db30d29c9584bd69a23ed4c723a1a4a",
      "value": 3
     }
    }
   }
  }
 },
 "nbformat": 4,
 "nbformat_minor": 1
}
