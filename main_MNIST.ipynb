{
 "cells": [
  {
   "cell_type": "markdown",
   "metadata": {
    "id": "9wIx_2FWSoSS"
   },
   "source": [
    "کد مربوطه به مقاله ارسالی با عنوان:\n",
    "\n",
    "### ترکیب روش آسیب مغزی بهینه و منظم‌سازی تُنُک ‌ در کوچک‌سازی یک مدل یادگیری عمیق\n",
    "\n",
    "به لحاظ ماهیت تصادفی مقداردهی اولیه‌ی وزنهای شبکه‌های عصبی و روال آموزش شبکه، اختلافات جزیی در اجراهای مختلف وجود دارد.\n",
    "\n",
    "M. Amintoosi, m.amintoosi at gmail.com"
   ]
  },
  {
   "cell_type": "code",
   "execution_count": 1,
   "metadata": {
    "colab": {
     "base_uri": "https://localhost:8080/"
    },
    "executionInfo": {
     "elapsed": 851,
     "status": "ok",
     "timestamp": 1623806222053,
     "user": {
      "displayName": "Mahmood Amintoosi",
      "photoUrl": "https://lh3.googleusercontent.com/a-/AOh14GiWZ48HqYJJmPdDTueTtb12dMDVlabGiGyYWEXTkA=s64",
      "userId": "06389092743998374259"
     },
     "user_tz": -270
    },
    "id": "m3osW4zW6Q9I",
    "outputId": "29688ff9-3bf3-46f4-e725-8829a57a276f"
   },
   "outputs": [
    {
     "name": "stdout",
     "output_type": "stream",
     "text": [
      "2021/​06/16, 05:46:59\n"
     ]
    }
   ],
   "source": [
    "import os, time\n",
    "if hasattr(time, 'tzset'):\n",
    "    os.environ['TZ'] = 'Asia/Tehran'\n",
    "    time.tzset()\n",
    "print(time.strftime('%Y/​%m/%d, %X'))"
   ]
  },
  {
   "cell_type": "code",
   "execution_count": 2,
   "metadata": {
    "executionInfo": {
     "elapsed": 4892,
     "status": "ok",
     "timestamp": 1623806228450,
     "user": {
      "displayName": "Mahmood Amintoosi",
      "photoUrl": "https://lh3.googleusercontent.com/a-/AOh14GiWZ48HqYJJmPdDTueTtb12dMDVlabGiGyYWEXTkA=s64",
      "userId": "06389092743998374259"
     },
     "user_tz": -270
    },
    "id": "Le-zhQ_OnJgO"
   },
   "outputs": [],
   "source": [
    "import torch\n",
    "torch.manual_seed(1)\n",
    "import random\n",
    "random.seed(1)"
   ]
  },
  {
   "cell_type": "code",
   "execution_count": 5,
   "metadata": {
    "colab": {
     "base_uri": "https://localhost:8080/"
    },
    "executionInfo": {
     "elapsed": 3862,
     "status": "ok",
     "timestamp": 1623806318994,
     "user": {
      "displayName": "Mahmood Amintoosi",
      "photoUrl": "https://lh3.googleusercontent.com/a-/AOh14GiWZ48HqYJJmPdDTueTtb12dMDVlabGiGyYWEXTkA=s64",
      "userId": "06389092743998374259"
     },
     "user_tz": -270
    },
    "id": "JafVLkRaN28-",
    "outputId": "23b4e027-3088-45ea-a2d5-c19b770d197b"
   },
   "outputs": [
    {
     "name": "stdout",
     "output_type": "stream",
     "text": [
      "Collecting pycm\n",
      "\u001b[?25l  Downloading https://files.pythonhosted.org/packages/76/c4/a05b90819dcf7e50bdddb030238a771bf87b0695e6c47a247f66ab7ed5d0/pycm-3.1-py2.py3-none-any.whl (63kB)\n",
      "\r",
      "\u001b[K     |█████▏                          | 10kB 18.8MB/s eta 0:00:01\r",
      "\u001b[K     |██████████▎                     | 20kB 16.9MB/s eta 0:00:01\r",
      "\u001b[K     |███████████████▍                | 30kB 14.4MB/s eta 0:00:01\r",
      "\u001b[K     |████████████████████▌           | 40kB 13.2MB/s eta 0:00:01\r",
      "\u001b[K     |█████████████████████████▊      | 51kB 7.5MB/s eta 0:00:01\r",
      "\u001b[K     |██████████████████████████████▉ | 61kB 8.8MB/s eta 0:00:01\r",
      "\u001b[K     |████████████████████████████████| 71kB 5.7MB/s \n",
      "\u001b[?25hCollecting art>=1.8\n",
      "\u001b[?25l  Downloading https://files.pythonhosted.org/packages/a1/74/55552eaad673dc81546d1386161e6cd8f7edf951690de82df822fe46541d/art-5.2-py2.py3-none-any.whl (571kB)\n",
      "\u001b[K     |████████████████████████████████| 573kB 9.9MB/s \n",
      "\u001b[?25hRequirement already satisfied: numpy>=1.9.0 in /usr/local/lib/python3.7/dist-packages (from pycm) (1.19.5)\n",
      "Installing collected packages: art, pycm\n",
      "Successfully installed art-5.2 pycm-3.1\n"
     ]
    }
   ],
   "source": [
    "!pip install pycm"
   ]
  },
  {
   "cell_type": "code",
   "execution_count": null,
   "metadata": {
    "colab": {
     "base_uri": "https://localhost:8080/"
    },
    "executionInfo": {
     "elapsed": 1942,
     "status": "ok",
     "timestamp": 1623806353133,
     "user": {
      "displayName": "Mahmood Amintoosi",
      "photoUrl": "https://lh3.googleusercontent.com/a-/AOh14GiWZ48HqYJJmPdDTueTtb12dMDVlabGiGyYWEXTkA=s64",
      "userId": "06389092743998374259"
     },
     "user_tz": -270
    },
    "id": "i5czjq6_8lAK",
    "outputId": "bfcd490c-c194-491c-d4a2-2d150d8dfc29"
   },
   "outputs": [],
   "source": [
    "!git clone https://github.com/mamintoosi/Reg-OBD-for-VGG-Pruning"
   ]
  },
  {
   "cell_type": "code",
   "execution_count": null,
   "metadata": {
    "colab": {
     "base_uri": "https://localhost:8080/"
    },
    "executionInfo": {
     "elapsed": 4,
     "status": "ok",
     "timestamp": 1623806357647,
     "user": {
      "displayName": "Mahmood Amintoosi",
      "photoUrl": "https://lh3.googleusercontent.com/a-/AOh14GiWZ48HqYJJmPdDTueTtb12dMDVlabGiGyYWEXTkA=s64",
      "userId": "06389092743998374259"
     },
     "user_tz": -270
    },
    "id": "Qeiu88GAdjh0",
    "outputId": "2a2b1fc3-85c8-4add-e82b-772484faf48c"
   },
   "outputs": [],
   "source": [
    "%cd Reg-OBD-for-VGG-Pruning"
   ]
  },
  {
   "cell_type": "code",
   "execution_count": null,
   "metadata": {
    "colab": {
     "base_uri": "https://localhost:8080/"
    },
    "id": "yWIDh3P73G3a",
    "outputId": "182df047-8290-454b-c2ab-17c9654f2e11"
   },
   "outputs": [],
   "source": [
    "!ls models"
   ]
  },
  {
   "cell_type": "code",
   "execution_count": 8,
   "metadata": {
    "colab": {
     "base_uri": "https://localhost:8080/",
     "height": 1000,
     "referenced_widgets": [
      "fd90d34055944c47848b4eb6bd5b5f54",
      "c107a1159cb548689f6f83435b53d23f",
      "be8377c8d7e44e3c8e16bdaa4fadee9e",
      "4bbd798bd33547b998bbad1621a04f82",
      "3f4852f914ac4f5189854b03bc5d6ec8",
      "677818afc9e0473f8363786d100ffb3f",
      "cddb3a97dd3d4b83a1af98fef04379ee",
      "d9d9cf2172664499a588a0dc28cce939",
      "a45f3f2377124a0bb614fe0aed663c29",
      "884313016332431eb967beb5acb67ca4",
      "993708c24236402ca558c6dcc8e6374a",
      "a754f489fc884107a010c9fbe6f2f96f",
      "e4b2705282664daa8b91105992b8cda1",
      "6cfade9562eb4ab4bcda242050544b8d",
      "e60952455fda4adb9f892c2eee2bf52d",
      "9a42fcf095614e16a8aea3af2a5d6fb7",
      "dcc2aa0d9421423d87504bf11945b48f",
      "31c78a046756404bbeb1f06405a011aa",
      "1457392103cf45888faec755454dc14e",
      "854a1007886844659901f9b0a95eca8e",
      "67e7401596194188a05a7735b009d288",
      "b60c82ef9d254421bfd10856577252d7",
      "d373969c6e424e10bead53569c5922c8",
      "1be46561e8cf48d4ad86e81be83b3977",
      "5c0f44eff5994eb7839ee67edf493228",
      "c0015834aea14dc29ac32ab40821fea6",
      "e695f94374e2408e99c039742778e6ba",
      "f29b6b1e561d4cf2a98cfdbd5e3e1f31",
      "07c4cf8500be4705afb2d2db1beb71ba",
      "9e0787f6d2df429e96eb7bb69c1667a9",
      "a34d93c5ecab4723a631f74206fed65b",
      "15e0af61f765435c99271c20a0ce5da1",
      "05d8385fbd794effbb45b6c0bb8813bf",
      "0a7b537795034af3971693fa4bd4fd01",
      "cc6b9eb628cb4c5598bc5123d900a173",
      "f8d46a3328e9463ab31b28576544e725",
      "f87eb31e05da42ada32dbae4423c7f60",
      "0c81cef218734c50bb0db798a2ef6bfc",
      "4bfdee3a03be41e29bd7356a20237f25",
      "ac7519de81044298a02f2ab3b7c9f0c6",
      "ab033ace398c45ecad8083f8123ca3db",
      "503771f384cf44468ee879601a6cf9ee",
      "e46a0ed1dbb541cebbf9dd1bca875a99",
      "a793b6ac74fc4201aabdb3be8c641b2a",
      "875baf99ec1a4ebfb4889ce5f9b1acb3",
      "0036f4471c454ab3bb55278cb5a8c590",
      "d405f507195d46c5813a16f24ec96569",
      "8e6156a283024cab897ad6feb86badcc"
     ]
    },
    "executionInfo": {
     "elapsed": 740414,
     "status": "ok",
     "timestamp": 1623807107978,
     "user": {
      "displayName": "Mahmood Amintoosi",
      "photoUrl": "https://lh3.googleusercontent.com/a-/AOh14GiWZ48HqYJJmPdDTueTtb12dMDVlabGiGyYWEXTkA=s64",
      "userId": "06389092743998374259"
     },
     "user_tz": -270
    },
    "id": "vqxfnKid9Tcq",
    "outputId": "a539c1c1-7b91-4c37-ba29-32494dc5eec6"
   },
   "outputs": [
    {
     "name": "stdout",
     "output_type": "stream",
     "text": [
      "MNIST\n"
     ]
    },
    {
     "name": "stderr",
     "output_type": "stream",
     "text": [
      "Downloading: \"https://download.pytorch.org/models/vgg16-397923af.pth\" to /root/.cache/torch/hub/checkpoints/vgg16-397923af.pth\n"
     ]
    },
    {
     "data": {
      "application/vnd.jupyter.widget-view+json": {
       "model_id": "fd90d34055944c47848b4eb6bd5b5f54",
       "version_major": 2,
       "version_minor": 0
      },
      "text/plain": [
       "HBox(children=(FloatProgress(value=0.0, max=553433881.0), HTML(value='')))"
      ]
     },
     "metadata": {
      "tags": []
     },
     "output_type": "display_data"
    },
    {
     "name": "stdout",
     "output_type": "stream",
     "text": [
      "\n",
      "Using CUDA...\n",
      "Downloading http://yann.lecun.com/exdb/mnist/train-images-idx3-ubyte.gz\n",
      "Downloading http://yann.lecun.com/exdb/mnist/train-images-idx3-ubyte.gz to /content/data/MNIST/raw/train-images-idx3-ubyte.gz\n"
     ]
    },
    {
     "data": {
      "application/vnd.jupyter.widget-view+json": {
       "model_id": "a45f3f2377124a0bb614fe0aed663c29",
       "version_major": 2,
       "version_minor": 0
      },
      "text/plain": [
       "HBox(children=(FloatProgress(value=0.0, max=9912422.0), HTML(value='')))"
      ]
     },
     "metadata": {
      "tags": []
     },
     "output_type": "display_data"
    },
    {
     "name": "stdout",
     "output_type": "stream",
     "text": [
      "\n",
      "Extracting /content/data/MNIST/raw/train-images-idx3-ubyte.gz to /content/data/MNIST/raw\n",
      "\n",
      "Downloading http://yann.lecun.com/exdb/mnist/train-labels-idx1-ubyte.gz\n",
      "Downloading http://yann.lecun.com/exdb/mnist/train-labels-idx1-ubyte.gz to /content/data/MNIST/raw/train-labels-idx1-ubyte.gz\n",
      "Failed to download (trying next):\n",
      "HTTP Error 503: Service Unavailable\n",
      "\n",
      "Downloading https://ossci-datasets.s3.amazonaws.com/mnist/train-labels-idx1-ubyte.gz\n",
      "Downloading https://ossci-datasets.s3.amazonaws.com/mnist/train-labels-idx1-ubyte.gz to /content/data/MNIST/raw/train-labels-idx1-ubyte.gz\n"
     ]
    },
    {
     "data": {
      "application/vnd.jupyter.widget-view+json": {
       "model_id": "dcc2aa0d9421423d87504bf11945b48f",
       "version_major": 2,
       "version_minor": 0
      },
      "text/plain": [
       "HBox(children=(FloatProgress(value=0.0, max=28881.0), HTML(value='')))"
      ]
     },
     "metadata": {
      "tags": []
     },
     "output_type": "display_data"
    },
    {
     "name": "stdout",
     "output_type": "stream",
     "text": [
      "\n",
      "Extracting /content/data/MNIST/raw/train-labels-idx1-ubyte.gz to /content/data/MNIST/raw\n",
      "\n",
      "Downloading http://yann.lecun.com/exdb/mnist/t10k-images-idx3-ubyte.gz\n",
      "Downloading http://yann.lecun.com/exdb/mnist/t10k-images-idx3-ubyte.gz to /content/data/MNIST/raw/t10k-images-idx3-ubyte.gz\n",
      "Failed to download (trying next):\n",
      "HTTP Error 503: Service Unavailable\n",
      "\n",
      "Downloading https://ossci-datasets.s3.amazonaws.com/mnist/t10k-images-idx3-ubyte.gz\n",
      "Downloading https://ossci-datasets.s3.amazonaws.com/mnist/t10k-images-idx3-ubyte.gz to /content/data/MNIST/raw/t10k-images-idx3-ubyte.gz\n"
     ]
    },
    {
     "data": {
      "application/vnd.jupyter.widget-view+json": {
       "model_id": "5c0f44eff5994eb7839ee67edf493228",
       "version_major": 2,
       "version_minor": 0
      },
      "text/plain": [
       "HBox(children=(FloatProgress(value=0.0, max=1648877.0), HTML(value='')))"
      ]
     },
     "metadata": {
      "tags": []
     },
     "output_type": "display_data"
    },
    {
     "name": "stdout",
     "output_type": "stream",
     "text": [
      "\n",
      "Extracting /content/data/MNIST/raw/t10k-images-idx3-ubyte.gz to /content/data/MNIST/raw\n",
      "\n",
      "Downloading http://yann.lecun.com/exdb/mnist/t10k-labels-idx1-ubyte.gz\n",
      "Failed to download (trying next):\n",
      "HTTP Error 503: Service Unavailable\n",
      "\n",
      "Downloading https://ossci-datasets.s3.amazonaws.com/mnist/t10k-labels-idx1-ubyte.gz\n",
      "Downloading https://ossci-datasets.s3.amazonaws.com/mnist/t10k-labels-idx1-ubyte.gz to /content/data/MNIST/raw/t10k-labels-idx1-ubyte.gz\n"
     ]
    },
    {
     "data": {
      "application/vnd.jupyter.widget-view+json": {
       "model_id": "05d8385fbd794effbb45b6c0bb8813bf",
       "version_major": 2,
       "version_minor": 0
      },
      "text/plain": [
       "HBox(children=(FloatProgress(value=0.0, max=4542.0), HTML(value='')))"
      ]
     },
     "metadata": {
      "tags": []
     },
     "output_type": "display_data"
    },
    {
     "name": "stdout",
     "output_type": "stream",
     "text": [
      "\n",
      "Extracting /content/data/MNIST/raw/t10k-labels-idx1-ubyte.gz to /content/data/MNIST/raw\n",
      "\n",
      "Processing...\n",
      "Done!\n"
     ]
    },
    {
     "name": "stderr",
     "output_type": "stream",
     "text": [
      "/usr/local/lib/python3.7/dist-packages/torchvision/datasets/mnist.py:502: UserWarning: The given NumPy array is not writeable, and PyTorch does not support non-writeable tensors. This means you can write to the underlying (supposedly non-writeable) NumPy array using the tensor. You may want to copy the array to protect its data or make it writeable before converting it to a tensor. This type of warning will be suppressed for the rest of this program. (Triggered internally at  /pytorch/torch/csrc/utils/tensor_numpy.cpp:143.)\n",
      "  return torch.from_numpy(parsed.astype(m[2], copy=False)).view(*s)\n"
     ]
    },
    {
     "data": {
      "application/vnd.jupyter.widget-view+json": {
       "model_id": "ab033ace398c45ecad8083f8123ca3db",
       "version_major": 2,
       "version_minor": 0
      },
      "text/plain": [
       "HBox(children=(FloatProgress(value=0.0, description='Training', max=10.0, style=ProgressStyle(description_widt…"
      ]
     },
     "metadata": {
      "tags": []
     },
     "output_type": "display_data"
    },
    {
     "name": "stdout",
     "output_type": "stream",
     "text": [
      "Accuracy on  val :0.966 \t Loss:0.117\n",
      "Accuracy on  val :0.966 \t Loss:0.090\n",
      "Accuracy on  val :0.978 \t Loss:0.089\n",
      "Accuracy on  val :0.965 \t Loss:0.105\n",
      "Accuracy on  val :0.977 \t Loss:0.094\n",
      "Accuracy on  val :0.969 \t Loss:0.124\n",
      "Accuracy on  val :0.980 \t Loss:0.067\n",
      "Accuracy on  val :0.980 \t Loss:0.085\n",
      "Accuracy on  val :0.980 \t Loss:0.083\n",
      "Accuracy on  val :0.976 \t Loss:0.086\n",
      "\n",
      "Finished fine tuning.\n",
      "Accuracy on  test :0.975 \t Loss:0.079\n",
      "CPU times: user 6min 58s, sys: 18 s, total: 7min 16s\n",
      "Wall time: 12min 19s\n"
     ]
    }
   ],
   "source": [
    "%%time\n",
    "# Transfer Learning: Train the VGG16 model\n",
    "torch.manual_seed(1)\n",
    "random.seed(1)\n",
    "# Download a pre-trained VGG16 model and train it\n",
    "%run finetune_SpReg_pds.py --train --use-cuda \\\n",
    "  --train_epoch 10 --ds_name 'MNIST' \\\n",
    "  --output_model 'vgg'"
   ]
  },
  {
   "cell_type": "code",
   "execution_count": 9,
   "metadata": {
    "colab": {
     "base_uri": "https://localhost:8080/",
     "height": 296
    },
    "executionInfo": {
     "elapsed": 1238,
     "status": "ok",
     "timestamp": 1623807172793,
     "user": {
      "displayName": "Mahmood Amintoosi",
      "photoUrl": "https://lh3.googleusercontent.com/a-/AOh14GiWZ48HqYJJmPdDTueTtb12dMDVlabGiGyYWEXTkA=s64",
      "userId": "06389092743998374259"
     },
     "user_tz": -270
    },
    "id": "5ZyM1H25hQvH",
    "outputId": "567b79eb-1563-4e77-bda3-8b1088bf219b"
   },
   "outputs": [
    {
     "data": {
      "image/png": "[encoded data removed]",
      "text/plain": [
       "<Figure size 432x288 with 1 Axes>"
      ]
     },
     "metadata": {
      "needs_background": "light",
      "tags": []
     },
     "output_type": "display_data"
    },
    {
     "name": "stdout",
     "output_type": "stream",
     "text": [
      "6\n"
     ]
    }
   ],
   "source": [
    "fig, ax = plt.subplots()\n",
    "ax.plot(np.arange(1,len(Train_loss)+1), Train_loss, label='Train Loss', color='blue')\n",
    "ax.plot(np.arange(1,len(Train_loss)+1), Val_loss, label='Valid Loss', color = 'red')\n",
    "ax.plot(np.argmin(Val_loss)+1, np.min(Val_loss),'g*')\n",
    "# legend = ax.legend(loc='upper right', fontsize='x-large')\n",
    "legend = ax.legend(loc='center right', fontsize='x-large')\n",
    "plt.xlabel('Epoch No.')\n",
    "plt.ylabel('Loss')\n",
    "plt.show()\n",
    "print(np.argmin(Val_loss))"
   ]
  },
  {
   "cell_type": "code",
   "execution_count": 11,
   "metadata": {
    "colab": {
     "base_uri": "https://localhost:8080/",
     "height": 448
    },
    "executionInfo": {
     "elapsed": 6658,
     "status": "ok",
     "timestamp": 1623807208857,
     "user": {
      "displayName": "Mahmood Amintoosi",
      "photoUrl": "https://lh3.googleusercontent.com/a-/AOh14GiWZ48HqYJJmPdDTueTtb12dMDVlabGiGyYWEXTkA=s64",
      "userId": "06389092743998374259"
     },
     "user_tz": -270
    },
    "id": "9FZoXfGppYEw",
    "outputId": "4c7c7f0b-39a4-48f3-d60f-90adc762a2f2"
   },
   "outputs": [
    {
     "name": "stdout",
     "output_type": "stream",
     "text": [
      "MNIST\n",
      "Using CUDA...\n",
      "Accuracy on  test :0.976 \t Loss:0.071\n",
      "ACC=0.98\n",
      "0:0.99\t1:1.00\t2:0.97\t3:0.99\t4:1.00\t5:0.96\t6:0.98\t7:0.99\t8:1.00\t9:0.99\n",
      "FNR:0.03, FPR:0.00\n",
      "TNR:1.00, TPR:0.97\n",
      "CPU times: user 4.58 s, sys: 705 ms, total: 5.29 s\n",
      "Wall time: 5.87 s\n"
     ]
    },
    {
     "data": {
      "image/png": "[encoded data removed]",
      "text/plain": [
       "<Figure size 432x288 with 2 Axes>"
      ]
     },
     "metadata": {
      "needs_background": "light",
      "tags": []
     },
     "output_type": "display_data"
    }
   ],
   "source": [
    "%%time\n",
    "# Test report the trained model \n",
    "torch.manual_seed(1)\n",
    "random.seed(1)\n",
    "%run finetune_SpReg_pds.py --test --use-cuda --ds_name 'MNIST' \\\n",
    "  --input_model 'vgg' --output_model 'vgg'"
   ]
  },
  {
   "cell_type": "code",
   "execution_count": null,
   "metadata": {
    "colab": {
     "base_uri": "https://localhost:8080/"
    },
    "id": "JYGtD1PGiIWP",
    "outputId": "670818e4-e9c8-46fd-db9d-82c012ea225a"
   },
   "outputs": [
    {
     "name": "stdout",
     "output_type": "stream",
     "text": [
      "total 524648\n",
      "     4 .       4 ..       0 for_models.txt  524640 vgg.pt\n"
     ]
    }
   ],
   "source": [
    "!ls -as models"
   ]
  },
  {
   "cell_type": "code",
   "execution_count": 12,
   "metadata": {
    "colab": {
     "base_uri": "https://localhost:8080/",
     "height": 561,
     "referenced_widgets": [
      "a1f4668ff3de4f86b44450eacd2c16d6",
      "b5f8aade7daa4db79e710493affa70a4",
      "056e6dd9adf74774a46763f1b06877d1",
      "33768278cf824460a6e6095a2ff2b135",
      "6f92ca033c034994b653f000517c1a9d",
      "6dfdceec08a44e5692d17f15a6aef98f",
      "32ef29158b2a4ff8af4431f183f43973",
      "2bfb4c37ee834300a857d902df17d5e2"
     ]
    },
    "executionInfo": {
     "elapsed": 2023178,
     "status": "ok",
     "timestamp": 1623809260205,
     "user": {
      "displayName": "Mahmood Amintoosi",
      "photoUrl": "https://lh3.googleusercontent.com/a-/AOh14GiWZ48HqYJJmPdDTueTtb12dMDVlabGiGyYWEXTkA=s64",
      "userId": "06389092743998374259"
     },
     "user_tz": -270
    },
    "id": "gnCnYpvKvPXE",
    "outputId": "f4b880e7-fbe6-484c-89da-d15dd11532c0"
   },
   "outputs": [
    {
     "name": "stdout",
     "output_type": "stream",
     "text": [
      "MNIST\n",
      "Using CUDA...\n",
      "Using Regularization:  HSQGL12\n",
      "Accuracy on  val :0.980 \t Loss:0.067\n",
      "Retraining with regularization ... \n"
     ]
    },
    {
     "data": {
      "application/vnd.jupyter.widget-view+json": {
       "model_id": "a1f4668ff3de4f86b44450eacd2c16d6",
       "version_major": 2,
       "version_minor": 0
      },
      "text/plain": [
       "HBox(children=(FloatProgress(value=0.0, description='Training', max=20.0, style=ProgressStyle(description_widt…"
      ]
     },
     "metadata": {
      "tags": []
     },
     "output_type": "display_data"
    },
    {
     "name": "stdout",
     "output_type": "stream",
     "text": [
      "Accuracy on  val :0.965 \t Loss:0.123\n",
      "Accuracy on  val :0.988 \t Loss:0.054\n",
      "Accuracy on  val :0.979 \t Loss:0.090\n",
      "Accuracy on  val :0.965 \t Loss:0.098\n",
      "Accuracy on  val :0.976 \t Loss:0.063\n",
      "Accuracy on  val :0.976 \t Loss:0.070\n",
      "Accuracy on  val :0.964 \t Loss:0.091\n",
      "Accuracy on  val :0.982 \t Loss:0.057\n",
      "Accuracy on  val :0.984 \t Loss:0.055\n",
      "Accuracy on  val :0.969 \t Loss:0.107\n",
      "Accuracy on  val :0.973 \t Loss:0.084\n",
      "Accuracy on  val :0.989 \t Loss:0.033\n",
      "Accuracy on  val :0.983 \t Loss:0.053\n",
      "Accuracy on  val :0.985 \t Loss:0.056\n",
      "Accuracy on  val :0.974 \t Loss:0.076\n",
      "Accuracy on  val :0.977 \t Loss:0.057\n",
      "Accuracy on  val :0.977 \t Loss:0.060\n",
      "Accuracy on  val :0.979 \t Loss:0.056\n",
      "Accuracy on  val :0.987 \t Loss:0.039\n",
      "Accuracy on  val :0.975 \t Loss:0.062\n",
      "\n",
      "Finished fine tuning.\n",
      "Accuracy on  test :0.974 \t Loss:0.082\n",
      "CPU times: user 32min 58s, sys: 27.1 s, total: 33min 25s\n",
      "Wall time: 33min 43s\n"
     ]
    }
   ],
   "source": [
    "%%time\n",
    "# Pruning the trained model using HSQGL12 method\n",
    "torch.manual_seed(1)\n",
    "random.seed(1)\n",
    "%run finetune_SpReg_pds.py --prune --use-cuda --train_epoch 20 --reg_name 'HSQGL12' --ds_name 'MNIST' \\\n",
    "  --input_model 'vgg' --output_model 'HSQGL12' --landa 1e-5"
   ]
  },
  {
   "cell_type": "code",
   "execution_count": 13,
   "metadata": {
    "colab": {
     "base_uri": "https://localhost:8080/",
     "height": 448
    },
    "executionInfo": {
     "elapsed": 6371,
     "status": "ok",
     "timestamp": 1623809288136,
     "user": {
      "displayName": "Mahmood Amintoosi",
      "photoUrl": "https://lh3.googleusercontent.com/a-/AOh14GiWZ48HqYJJmPdDTueTtb12dMDVlabGiGyYWEXTkA=s64",
      "userId": "06389092743998374259"
     },
     "user_tz": -270
    },
    "id": "DMxZoLHooPj7",
    "outputId": "f3fbe547-c203-4e80-c97c-bedcdfcabd63"
   },
   "outputs": [
    {
     "name": "stdout",
     "output_type": "stream",
     "text": [
      "MNIST\n",
      "Using CUDA...\n",
      "Accuracy on  test :0.981 \t Loss:0.071\n",
      "ACC=0.98\n",
      "0:0.99\t1:1.00\t2:1.00\t3:0.99\t4:0.99\t5:0.98\t6:0.97\t7:0.98\t8:1.00\t9:1.00\n",
      "FNR:0.02, FPR:0.00\n",
      "TNR:1.00, TPR:0.98\n",
      "CPU times: user 4.92 s, sys: 647 ms, total: 5.57 s\n",
      "Wall time: 5.69 s\n"
     ]
    },
    {
     "data": {
      "image/png": "[encoded data removed]",
      "text/plain": [
       "<Figure size 432x288 with 2 Axes>"
      ]
     },
     "metadata": {
      "needs_background": "light",
      "tags": []
     },
     "output_type": "display_data"
    }
   ],
   "source": [
    "%%time\n",
    "# Test report for HSQGL12 method\n",
    "torch.manual_seed(1)\n",
    "random.seed(1)\n",
    "%run finetune_SpReg_pds.py --test --use-cuda --ds_name 'MNIST' \\\n",
    "  --input_model 'HSQGL12' --output_model 'HSQGL12'"
   ]
  },
  {
   "cell_type": "code",
   "execution_count": 14,
   "metadata": {
    "colab": {
     "base_uri": "https://localhost:8080/"
    },
    "executionInfo": {
     "elapsed": 408,
     "status": "ok",
     "timestamp": 1623809310631,
     "user": {
      "displayName": "Mahmood Amintoosi",
      "photoUrl": "https://lh3.googleusercontent.com/a-/AOh14GiWZ48HqYJJmPdDTueTtb12dMDVlabGiGyYWEXTkA=s64",
      "userId": "06389092743998374259"
     },
     "user_tz": -270
    },
    "id": "Mti_ExXF4DbP",
    "outputId": "a71ded47-c33f-4a9d-b83d-9fabb08154fc"
   },
   "outputs": [
    {
     "name": "stdout",
     "output_type": "stream",
     "text": [
      "total 1049288\n",
      "     4 .       4 ..       0 for_models.txt  524640 HSQGL12.pt  524640 vgg.pt\n"
     ]
    }
   ],
   "source": [
    "!ls -as models"
   ]
  },
  {
   "cell_type": "code",
   "execution_count": 15,
   "metadata": {
    "colab": {
     "base_uri": "https://localhost:8080/",
     "height": 1000,
     "referenced_widgets": [
      "860cea4d8853464a92474446e62d1558",
      "c41e577f679549c9b518200e4f64674b",
      "1cc0788b3d0e4232aa70e8200a28a2e5",
      "1579c2e83a5d455a82ab3b673a626989",
      "1cd77e1cb6754dadb036e4300c1a35d4",
      "8e888e19f1e44234b65fd27d2660eb50",
      "1d6837238b154e38ae2d6ebbeaf6f19a",
      "b4962cbbfc1143b788a6e7d91d47fb37",
      "9c96df2c7e1248e38bae20cd92ebfe74",
      "989e1041d0fa440894b896cd5fb1d625",
      "f038765e03be4dc38fe977d76a66f7ae",
      "bb3906b9d31747bc8fcf6e7058e22a27",
      "0e570935017a4846ab426b0d45369cb3",
      "d3d3c15a33f04a9bb61aa1ba61c23c17",
      "01fe234337d44d658b0c64f45cea9967",
      "49648ddcc6324f4f83539ebfb8fcf345",
      "81613af83bdb4e77af8da64e517eda5c",
      "463d7dfa8a824118b6dd1955e434a5ce",
      "0f287d57fefe4359b3f86cb097b9c832",
      "dd7c4bd55c9f4127a47332a456de196e",
      "db8a8d8ad5a04689ab8c18380dedc1c1",
      "0ef9613289e9483087c55203d41a25c6",
      "aa14e5e6ecd24732861d70684b807434",
      "24f1d8b3c62044748c2e0b7095e08812",
      "60a2c158a68648d9b73752321651345b",
      "c35168bdd00847e8808d4ea9f6b03869",
      "1c28ca19ad254e4889ae1f9f9f1bef34",
      "173862fa403b4b9cbef82066395b050e",
      "6fb2e5b881ae4f68afec1a07f6978a92",
      "ad62bd0d97164f67a9f392d8262f7816",
      "2327163dcb4a497dabd4987ffb798752",
      "de963813cafa440ba23bdbb1d4e7c314",
      "fafc5cdab00b4098a23545dfcc15faa7",
      "d18374f569c34d37b42b94ba95932805",
      "6ba6e6f9f21b44ca9deb01333a8a6528",
      "929f305b56eb4d5eb2d89e1123aba91f",
      "f5f0ce888f674b9f8066b08411c2b59f",
      "b3fac9fbac1842709d494bbbea4ac2d5",
      "291471d64fcb44bda58ede8ecf98d15f",
      "63e6c8a29a014f0f84d2d762685231db"
     ]
    },
    "executionInfo": {
     "elapsed": 1856930,
     "status": "ok",
     "timestamp": 1623811173975,
     "user": {
      "displayName": "Mahmood Amintoosi",
      "photoUrl": "https://lh3.googleusercontent.com/a-/AOh14GiWZ48HqYJJmPdDTueTtb12dMDVlabGiGyYWEXTkA=s64",
      "userId": "06389092743998374259"
     },
     "user_tz": -270
    },
    "id": "MAhrCTM_q_w7",
    "outputId": "bae75bb8-a32d-4ddc-bf0c-08631e663845"
   },
   "outputs": [
    {
     "name": "stdout",
     "output_type": "stream",
     "text": [
      "MNIST\n",
      "Using CUDA...\n",
      "Accuracy on  val :0.980 \t Loss:0.067\n",
      "5\n",
      "Number of prunning iterations to reduce 70% filters: 5\n",
      "Iter:  1 / 5\n",
      "Ranking filters.. \n",
      "Layers that will be prunned {0: 13, 10: 13, 17: 74, 28: 55, 26: 60, 24: 69, 14: 24, 21: 83, 12: 22, 7: 7, 19: 81, 5: 8, 2: 3}\n",
      "Prunning filters.. \n",
      "Filters prunned 12.121212121212125%\n",
      "Accuracy on  val :0.979 \t Loss:0.072\n",
      "Fine tuning to recover from prunning iteration.\n"
     ]
    },
    {
     "data": {
      "application/vnd.jupyter.widget-view+json": {
       "model_id": "860cea4d8853464a92474446e62d1558",
       "version_major": 2,
       "version_minor": 0
      },
      "text/plain": [
       "HBox(children=(FloatProgress(value=0.0, description='Training', max=3.0, style=ProgressStyle(description_width…"
      ]
     },
     "metadata": {
      "tags": []
     },
     "output_type": "display_data"
    },
    {
     "name": "stdout",
     "output_type": "stream",
     "text": [
      "Accuracy on  val :0.972 \t Loss:0.088\n",
      "Accuracy on  val :0.968 \t Loss:0.129\n",
      "Accuracy on  val :0.963 \t Loss:0.128\n",
      "\n",
      "Finished fine tuning.\n",
      "Iter:  2 / 5\n",
      "Ranking filters.. \n",
      "Layers that will be prunned {28: 67, 26: 73, 12: 32, 5: 4, 21: 94, 14: 23, 17: 68, 24: 50, 19: 67, 7: 10, 0: 2, 2: 4, 10: 18}\n",
      "Prunning filters.. \n",
      "Filters prunned 24.24242424242425%\n",
      "Accuracy on  val :0.967 \t Loss:0.129\n",
      "Fine tuning to recover from prunning iteration.\n"
     ]
    },
    {
     "data": {
      "application/vnd.jupyter.widget-view+json": {
       "model_id": "9c96df2c7e1248e38bae20cd92ebfe74",
       "version_major": 2,
       "version_minor": 0
      },
      "text/plain": [
       "HBox(children=(FloatProgress(value=0.0, description='Training', max=3.0, style=ProgressStyle(description_width…"
      ]
     },
     "metadata": {
      "tags": []
     },
     "output_type": "display_data"
    },
    {
     "name": "stdout",
     "output_type": "stream",
     "text": [
      "Accuracy on  val :0.976 \t Loss:0.067\n",
      "Accuracy on  val :0.980 \t Loss:0.067\n",
      "Accuracy on  val :0.978 \t Loss:0.073\n",
      "\n",
      "Finished fine tuning.\n",
      "Iter:  3 / 5\n",
      "Ranking filters.. \n",
      "Layers that will be prunned {26: 65, 7: 16, 28: 69, 19: 69, 21: 75, 14: 35, 17: 65, 2: 7, 24: 59, 12: 33, 10: 16, 5: 3}\n",
      "Prunning filters.. \n",
      "Filters prunned 36.36363636363637%\n",
      "Accuracy on  val :0.979 \t Loss:0.070\n",
      "Fine tuning to recover from prunning iteration.\n"
     ]
    },
    {
     "data": {
      "application/vnd.jupyter.widget-view+json": {
       "model_id": "81613af83bdb4e77af8da64e517eda5c",
       "version_major": 2,
       "version_minor": 0
      },
      "text/plain": [
       "HBox(children=(FloatProgress(value=0.0, description='Training', max=3.0, style=ProgressStyle(description_width…"
      ]
     },
     "metadata": {
      "tags": []
     },
     "output_type": "display_data"
    },
    {
     "name": "stdout",
     "output_type": "stream",
     "text": [
      "Accuracy on  val :0.987 \t Loss:0.042\n",
      "Accuracy on  val :0.976 \t Loss:0.093\n",
      "Accuracy on  val :0.977 \t Loss:0.066\n",
      "\n",
      "Finished fine tuning.\n",
      "Iter:  4 / 5\n",
      "Ranking filters.. \n",
      "Layers that will be prunned {12: 36, 24: 55, 21: 57, 17: 59, 28: 74, 10: 28, 2: 10, 26: 64, 7: 16, 19: 68, 14: 32, 0: 5, 5: 8}\n",
      "Prunning filters.. \n",
      "Filters prunned 48.484848484848484%\n",
      "Accuracy on  val :0.966 \t Loss:0.116\n",
      "Fine tuning to recover from prunning iteration.\n"
     ]
    },
    {
     "data": {
      "application/vnd.jupyter.widget-view+json": {
       "model_id": "60a2c158a68648d9b73752321651345b",
       "version_major": 2,
       "version_minor": 0
      },
      "text/plain": [
       "HBox(children=(FloatProgress(value=0.0, description='Training', max=3.0, style=ProgressStyle(description_width…"
      ]
     },
     "metadata": {
      "tags": []
     },
     "output_type": "display_data"
    },
    {
     "name": "stdout",
     "output_type": "stream",
     "text": [
      "Accuracy on  val :0.976 \t Loss:0.077\n",
      "Accuracy on  val :0.987 \t Loss:0.060\n",
      "Accuracy on  val :0.989 \t Loss:0.038\n",
      "\n",
      "Finished fine tuning.\n",
      "Iter:  5 / 5\n",
      "Ranking filters.. \n",
      "Layers that will be prunned {21: 48, 28: 63, 2: 11, 24: 91, 17: 56, 19: 62, 14: 31, 5: 16, 7: 11, 26: 63, 12: 29, 10: 27, 0: 4}\n",
      "Prunning filters.. \n",
      "Filters prunned 60.60606060606061%\n",
      "Accuracy on  val :0.967 \t Loss:0.128\n",
      "Fine tuning to recover from prunning iteration.\n"
     ]
    },
    {
     "data": {
      "application/vnd.jupyter.widget-view+json": {
       "model_id": "fafc5cdab00b4098a23545dfcc15faa7",
       "version_major": 2,
       "version_minor": 0
      },
      "text/plain": [
       "HBox(children=(FloatProgress(value=0.0, description='Training', max=3.0, style=ProgressStyle(description_width…"
      ]
     },
     "metadata": {
      "tags": []
     },
     "output_type": "display_data"
    },
    {
     "name": "stdout",
     "output_type": "stream",
     "text": [
      "Accuracy on  val :0.986 \t Loss:0.052\n",
      "Accuracy on  val :0.981 \t Loss:0.061\n",
      "Accuracy on  val :0.987 \t Loss:0.037\n",
      "\n",
      "Finished fine tuning.\n",
      "Accuracy on  test :0.979 \t Loss:0.071\n",
      "CPU times: user 30min, sys: 34.4 s, total: 30min 35s\n",
      "Wall time: 30min 54s\n"
     ]
    }
   ],
   "source": [
    "# Pruning the trained model using OBD method\n",
    "%%time\n",
    "torch.manual_seed(1)\n",
    "random.seed(1)\n",
    "%run finetune_SpReg_pds.py --prune --use-cuda --ds_name 'MNIST' \\\n",
    "  --input_model 'vgg' --output_model 'OBD' \\\n",
    "  --eat 3"
   ]
  },
  {
   "cell_type": "code",
   "execution_count": 16,
   "metadata": {
    "colab": {
     "base_uri": "https://localhost:8080/",
     "height": 448
    },
    "executionInfo": {
     "elapsed": 4270,
     "status": "ok",
     "timestamp": 1623811288798,
     "user": {
      "displayName": "Mahmood Amintoosi",
      "photoUrl": "https://lh3.googleusercontent.com/a-/AOh14GiWZ48HqYJJmPdDTueTtb12dMDVlabGiGyYWEXTkA=s64",
      "userId": "06389092743998374259"
     },
     "user_tz": -270
    },
    "id": "c6xleJ_9p-WX",
    "outputId": "f904d36e-9681-46d4-d9e3-a14e1e2c8eca"
   },
   "outputs": [
    {
     "name": "stdout",
     "output_type": "stream",
     "text": [
      "MNIST\n",
      "Using CUDA...\n",
      "Accuracy on  test :0.979 \t Loss:0.071\n",
      "ACC=0.98\n",
      "0:0.99\t1:1.00\t2:0.99\t3:0.99\t4:0.99\t5:0.99\t6:0.97\t7:0.99\t8:0.98\t9:1.00\n",
      "FNR:0.02, FPR:0.00\n",
      "TNR:1.00, TPR:0.98\n",
      "CPU times: user 2.49 s, sys: 492 ms, total: 2.99 s\n",
      "Wall time: 3.36 s\n"
     ]
    },
    {
     "data": {
      "image/png": "[encoded data removed]",
      "text/plain": [
       "<Figure size 432x288 with 2 Axes>"
      ]
     },
     "metadata": {
      "needs_background": "light",
      "tags": []
     },
     "output_type": "display_data"
    }
   ],
   "source": [
    "%%time\n",
    "# Test report for OBD method\n",
    "torch.manual_seed(1)\n",
    "random.seed(1)\n",
    "%run finetune_SpReg_pds.py --test --use-cuda --ds_name 'MNIST' \\\n",
    "  --input_model 'OBD' --output_model 'OBD'"
   ]
  },
  {
   "cell_type": "code",
   "execution_count": 21,
   "metadata": {
    "colab": {
     "base_uri": "https://localhost:8080/"
    },
    "executionInfo": {
     "elapsed": 390,
     "status": "ok",
     "timestamp": 1623813301985,
     "user": {
      "displayName": "Mahmood Amintoosi",
      "photoUrl": "https://lh3.googleusercontent.com/a-/AOh14GiWZ48HqYJJmPdDTueTtb12dMDVlabGiGyYWEXTkA=s64",
      "userId": "06389092743998374259"
     },
     "user_tz": -270
    },
    "id": "A34ynVoA78ox",
    "outputId": "60a2e42b-8763-4871-8fb2-14cedcd11f6b"
   },
   "outputs": [
    {
     "name": "stdout",
     "output_type": "stream",
     "text": [
      "total 1594884\n",
      "     4 .        0 for_models.txt  524640 HSQGL12.pt  524640 vgg.pt\n",
      "     4 ..  327688 HSQGL12_OBD.pt  217908 OBD.pt\n"
     ]
    }
   ],
   "source": [
    "!ls -as models"
   ]
  },
  {
   "cell_type": "code",
   "execution_count": 17,
   "metadata": {
    "colab": {
     "base_uri": "https://localhost:8080/",
     "height": 1000,
     "referenced_widgets": [
      "c290f8cfd75b42e1a0f457f9993cb705",
      "654caef93a524161886cbfc3292fc3a3",
      "217b56fb08b54c5cb77774c70b889d5a",
      "937d169774c24543a0f0fcfd98cd3228",
      "bc25178f4ab14a55842bda4f47be0bc8",
      "a1ef5b6656c2464999bbdb1bb679ec5f",
      "54fe1c215e5f4d6fa2b1dc72766dabc6",
      "4f66772e429f4fa2adb03e21b3c77fc6",
      "29ee22ad03e44d8cbec469644a735235",
      "ded8e37c52e4492ea7cddb2cdd3316bc",
      "3936c81f405043ce8956640c6eafb644",
      "b90b78cec5a74d26b99b2334cb04d134",
      "632a8f3df6e2497ebeed4458162cfcfc",
      "ad4ebe377ae545239234e04e2d4c467a",
      "28a1c85e5ed34ec993a71c18d0d933e5",
      "968b6ad27dae40fcbfc479a9d83d4fa6",
      "c1855a24d0414a349c2b6971886877d4",
      "5d03dcc759d449058aa6bfcd50e9906e",
      "2be3f10126fe4db5b692849ceb788b9c",
      "de42af2b20274b2ba907cbc819a673d5",
      "3db553dd258a42c3a0bc9b1cb3ef9cc3",
      "280c6d0479b3448abdea9df75b57af4f",
      "4dee3c1fb3d6404ea6f61e97dd289b36",
      "06fad13964ef4368a98817ede5c6b6c1",
      "ff96287426d54a71b5a96497707ab4a2",
      "e2a9d7c57246411eb42ce2352ae6bd76",
      "5ccf39a18b0c4d06896d463c287ed106",
      "4fe6d0bf84d54c1590b32fa5fabac5c9",
      "9afce6a002e148bda8e8e6e238e28033",
      "b38f108855674b64af7a6c617e87b784",
      "9d18f6dbb1ac46f39c991d86a86a012b",
      "a59a889f32ae4b2d981fa32ac14917ab",
      "27fdb290c8d8420ba2665cbbf614523e",
      "9cf8e450154240cfb2d67e7fe98d3dd2",
      "f88b35c2618a4601a3a8690d5218836f",
      "8009d30c1e2c4b4d97359f2993f21086",
      "bc09b9b081ae4a07ad6f4079c7014e37",
      "f1a1e0c015bf44d3b000151d44fddaaa",
      "ae3d6bee3e7241098c7b73e6f3db132f",
      "b0e39019d31a4e969e64a42d899f60e5"
     ]
    },
    "executionInfo": {
     "elapsed": 1848821,
     "status": "ok",
     "timestamp": 1623813157078,
     "user": {
      "displayName": "Mahmood Amintoosi",
      "photoUrl": "https://lh3.googleusercontent.com/a-/AOh14GiWZ48HqYJJmPdDTueTtb12dMDVlabGiGyYWEXTkA=s64",
      "userId": "06389092743998374259"
     },
     "user_tz": -270
    },
    "id": "HZeSjCPUISE_",
    "outputId": "761989d8-fcc4-4192-927e-16bf566ddeb0"
   },
   "outputs": [
    {
     "name": "stdout",
     "output_type": "stream",
     "text": [
      "MNIST\n",
      "Using CUDA...\n",
      "Accuracy on  val :0.989 \t Loss:0.033\n",
      "5\n",
      "Number of prunning iterations to reduce 70% filters: 5\n",
      "Iter:  1 / 5\n",
      "Ranking filters.. \n",
      "Layers that will be prunned {0: 11, 2: 2, 5: 6, 7: 8, 10: 30, 12: 27, 14: 20, 17: 106, 19: 107, 21: 77, 24: 50, 26: 50, 28: 18}\n",
      "Prunning filters.. \n",
      "Filters prunned 12.121212121212125%\n",
      "Accuracy on  val :0.989 \t Loss:0.033\n",
      "Fine tuning to recover from prunning iteration.\n"
     ]
    },
    {
     "data": {
      "application/vnd.jupyter.widget-view+json": {
       "model_id": "c290f8cfd75b42e1a0f457f9993cb705",
       "version_major": 2,
       "version_minor": 0
      },
      "text/plain": [
       "HBox(children=(FloatProgress(value=0.0, description='Training', max=3.0, style=ProgressStyle(description_width…"
      ]
     },
     "metadata": {
      "tags": []
     },
     "output_type": "display_data"
    },
    {
     "name": "stdout",
     "output_type": "stream",
     "text": [
      "Accuracy on  val :0.979 \t Loss:0.073\n",
      "Accuracy on  val :0.971 \t Loss:0.076\n",
      "Accuracy on  val :0.984 \t Loss:0.052\n",
      "\n",
      "Finished fine tuning.\n",
      "Iter:  2 / 5\n",
      "Ranking filters.. \n",
      "Layers that will be prunned {7: 3, 10: 15, 12: 35, 14: 29, 17: 70, 19: 88, 21: 94, 24: 70, 26: 71, 28: 37}\n",
      "Prunning filters.. \n",
      "Filters prunned 24.24242424242425%\n",
      "Accuracy on  val :0.984 \t Loss:0.052\n",
      "Fine tuning to recover from prunning iteration.\n"
     ]
    },
    {
     "data": {
      "application/vnd.jupyter.widget-view+json": {
       "model_id": "29ee22ad03e44d8cbec469644a735235",
       "version_major": 2,
       "version_minor": 0
      },
      "text/plain": [
       "HBox(children=(FloatProgress(value=0.0, description='Training', max=3.0, style=ProgressStyle(description_width…"
      ]
     },
     "metadata": {
      "tags": []
     },
     "output_type": "display_data"
    },
    {
     "name": "stdout",
     "output_type": "stream",
     "text": [
      "Accuracy on  val :0.987 \t Loss:0.043\n",
      "Accuracy on  val :0.982 \t Loss:0.070\n",
      "Accuracy on  val :0.987 \t Loss:0.057\n",
      "\n",
      "Finished fine tuning.\n",
      "Iter:  3 / 5\n",
      "Ranking filters.. \n",
      "Layers that will be prunned {5: 2, 10: 16, 12: 34, 14: 33, 17: 85, 19: 54, 21: 76, 24: 62, 26: 93, 28: 42, 7: 15}\n",
      "Prunning filters.. \n",
      "Filters prunned 36.36363636363637%\n",
      "Accuracy on  val :0.987 \t Loss:0.057\n",
      "Fine tuning to recover from prunning iteration.\n"
     ]
    },
    {
     "data": {
      "application/vnd.jupyter.widget-view+json": {
       "model_id": "c1855a24d0414a349c2b6971886877d4",
       "version_major": 2,
       "version_minor": 0
      },
      "text/plain": [
       "HBox(children=(FloatProgress(value=0.0, description='Training', max=3.0, style=ProgressStyle(description_width…"
      ]
     },
     "metadata": {
      "tags": []
     },
     "output_type": "display_data"
    },
    {
     "name": "stdout",
     "output_type": "stream",
     "text": [
      "Accuracy on  val :0.982 \t Loss:0.072\n",
      "Accuracy on  val :0.986 \t Loss:0.053\n",
      "Accuracy on  val :0.981 \t Loss:0.057\n",
      "\n",
      "Finished fine tuning.\n",
      "Iter:  4 / 5\n",
      "Ranking filters.. \n",
      "Layers that will be prunned {7: 23, 10: 32, 12: 30, 17: 72, 19: 66, 21: 47, 24: 66, 26: 72, 28: 51, 14: 34, 2: 9, 5: 9, 0: 1}\n",
      "Prunning filters.. \n",
      "Filters prunned 48.484848484848484%\n",
      "Accuracy on  val :0.981 \t Loss:0.057\n",
      "Fine tuning to recover from prunning iteration.\n"
     ]
    },
    {
     "data": {
      "application/vnd.jupyter.widget-view+json": {
       "model_id": "ff96287426d54a71b5a96497707ab4a2",
       "version_major": 2,
       "version_minor": 0
      },
      "text/plain": [
       "HBox(children=(FloatProgress(value=0.0, description='Training', max=3.0, style=ProgressStyle(description_width…"
      ]
     },
     "metadata": {
      "tags": []
     },
     "output_type": "display_data"
    },
    {
     "name": "stdout",
     "output_type": "stream",
     "text": [
      "Accuracy on  val :0.990 \t Loss:0.053\n",
      "Accuracy on  val :0.987 \t Loss:0.046\n",
      "Accuracy on  val :0.982 \t Loss:0.057\n",
      "\n",
      "Finished fine tuning.\n",
      "Iter:  5 / 5\n",
      "Ranking filters.. \n",
      "Layers that will be prunned {2: 18, 21: 78, 26: 78, 24: 63, 7: 17, 10: 35, 28: 39, 12: 22, 17: 51, 5: 23, 19: 57, 14: 24, 0: 7}\n",
      "Prunning filters.. \n",
      "Filters prunned 60.60606060606061%\n",
      "Accuracy on  val :0.982 \t Loss:0.067\n",
      "Fine tuning to recover from prunning iteration.\n"
     ]
    },
    {
     "data": {
      "application/vnd.jupyter.widget-view+json": {
       "model_id": "27fdb290c8d8420ba2665cbbf614523e",
       "version_major": 2,
       "version_minor": 0
      },
      "text/plain": [
       "HBox(children=(FloatProgress(value=0.0, description='Training', max=3.0, style=ProgressStyle(description_width…"
      ]
     },
     "metadata": {
      "tags": []
     },
     "output_type": "display_data"
    },
    {
     "name": "stdout",
     "output_type": "stream",
     "text": [
      "Accuracy on  val :0.989 \t Loss:0.042\n",
      "Accuracy on  val :0.992 \t Loss:0.027\n",
      "Accuracy on  val :0.983 \t Loss:0.052\n",
      "\n",
      "Finished fine tuning.\n",
      "Accuracy on  test :0.978 \t Loss:0.079\n",
      "CPU times: user 29min 30s, sys: 38 s, total: 30min 8s\n",
      "Wall time: 30min 48s\n"
     ]
    }
   ],
   "source": [
    "%%time\n",
    "# Train HSQGL12_OBD\n",
    "torch.manual_seed(1)\n",
    "random.seed(1)\n",
    "%run finetune_SpReg_pds.py --prune --use-cuda --ds_name 'MNIST' \\\n",
    "  --input_model 'HSQGL12' --output_model 'HSQGL12_OBD' \\\n",
    "  --eat 3 "
   ]
  },
  {
   "cell_type": "code",
   "execution_count": 18,
   "metadata": {
    "colab": {
     "base_uri": "https://localhost:8080/",
     "height": 448
    },
    "executionInfo": {
     "elapsed": 4181,
     "status": "ok",
     "timestamp": 1623813192173,
     "user": {
      "displayName": "Mahmood Amintoosi",
      "photoUrl": "https://lh3.googleusercontent.com/a-/AOh14GiWZ48HqYJJmPdDTueTtb12dMDVlabGiGyYWEXTkA=s64",
      "userId": "06389092743998374259"
     },
     "user_tz": -270
    },
    "id": "FNsSoNKm8kPp",
    "outputId": "7a9046fb-658c-4d4e-fdee-6e8850890651"
   },
   "outputs": [
    {
     "name": "stdout",
     "output_type": "stream",
     "text": [
      "MNIST\n",
      "Using CUDA...\n",
      "Accuracy on  test :0.985 \t Loss:0.060\n",
      "ACC=0.98\n",
      "0:1.00\t1:1.00\t2:0.99\t3:1.00\t4:1.00\t5:0.99\t6:0.97\t7:0.99\t8:1.00\t9:0.99\n",
      "FNR:0.01, FPR:0.00\n",
      "TNR:1.00, TPR:0.99\n",
      "CPU times: user 2.66 s, sys: 568 ms, total: 3.23 s\n",
      "Wall time: 3.53 s\n"
     ]
    },
    {
     "data": {
      "image/png": "[encoded data removed]",
      "text/plain": [
       "<Figure size 432x288 with 2 Axes>"
      ]
     },
     "metadata": {
      "needs_background": "light",
      "tags": []
     },
     "output_type": "display_data"
    }
   ],
   "source": [
    "%%time\n",
    "# Test report for HSQGL12+OBD method\n",
    "torch.manual_seed(1)\n",
    "random.seed(1)\n",
    "%run finetune_SpReg_pds.py --test --use-cuda --ds_name 'MNIST' \\\n",
    "  --input_model 'HSQGL12_OBD' --output_model 'HSQGL12_OBD'"
   ]
  },
  {
   "cell_type": "code",
   "execution_count": 23,
   "metadata": {
    "colab": {
     "base_uri": "https://localhost:8080/"
    },
    "executionInfo": {
     "elapsed": 620,
     "status": "ok",
     "timestamp": 1623813360247,
     "user": {
      "displayName": "Mahmood Amintoosi",
      "photoUrl": "https://lh3.googleusercontent.com/a-/AOh14GiWZ48HqYJJmPdDTueTtb12dMDVlabGiGyYWEXTkA=s64",
      "userId": "06389092743998374259"
     },
     "user_tz": -270
    },
    "id": "o944JwceRK5Z",
    "outputId": "ea5d8ff7-1c21-4a8c-dfac-d92e2897b8a7"
   },
   "outputs": [
    {
     "name": "stdout",
     "output_type": "stream",
     "text": [
      "total 1594884\n",
      "     4 .        0 for_models.txt  524640 HSQGL12.pt  524640 vgg.pt\n",
      "     4 ..  327688 HSQGL12_OBD.pt  217908 OBD.pt\n"
     ]
    }
   ],
   "source": [
    "# Print Model Sizes\n",
    "!ls -as models"
   ]
  },
  {
   "cell_type": "code",
   "execution_count": 24,
   "metadata": {
    "colab": {
     "base_uri": "https://localhost:8080/",
     "height": 561,
     "referenced_widgets": [
      "15a7226069df49a78f976cb8aa4aa5fe",
      "2eb6ab974c19405ba5d71daf859d80be",
      "06986e380b3a40728f88455287cbe34b",
      "d7a479133bf644fcbf0e627a57eb3af1",
      "89940f3651f244e5bec8eb400c6603e5",
      "296f230ffb524c868afbec0f6ada7a8d",
      "2629ffc48da54590aa6bb5a50ace883f",
      "303abea165b84920a7a0d9d2f1d660fa"
     ]
    },
    "executionInfo": {
     "elapsed": 1005316,
     "status": "ok",
     "timestamp": 1623814373430,
     "user": {
      "displayName": "Mahmood Amintoosi",
      "photoUrl": "https://lh3.googleusercontent.com/a-/AOh14GiWZ48HqYJJmPdDTueTtb12dMDVlabGiGyYWEXTkA=s64",
      "userId": "06389092743998374259"
     },
     "user_tz": -270
    },
    "id": "Dq6H0XFxPobQ",
    "outputId": "b3523f13-9b54-43de-e18a-b42d669a0306"
   },
   "outputs": [
    {
     "name": "stdout",
     "output_type": "stream",
     "text": [
      "MNIST\n",
      "Using CUDA...\n",
      "Using Regularization:  HSQGL12\n",
      "Accuracy on  val :0.987 \t Loss:0.037\n",
      "Retraining with regularization ... \n"
     ]
    },
    {
     "data": {
      "application/vnd.jupyter.widget-view+json": {
       "model_id": "15a7226069df49a78f976cb8aa4aa5fe",
       "version_major": 2,
       "version_minor": 0
      },
      "text/plain": [
       "HBox(children=(FloatProgress(value=0.0, description='Training', max=20.0, style=ProgressStyle(description_widt…"
      ]
     },
     "metadata": {
      "tags": []
     },
     "output_type": "display_data"
    },
    {
     "name": "stdout",
     "output_type": "stream",
     "text": [
      "Accuracy on  val :0.976 \t Loss:0.075\n",
      "Accuracy on  val :0.984 \t Loss:0.049\n",
      "Accuracy on  val :0.971 \t Loss:0.089\n",
      "Accuracy on  val :0.978 \t Loss:0.056\n",
      "Accuracy on  val :0.982 \t Loss:0.060\n",
      "Accuracy on  val :0.980 \t Loss:0.075\n",
      "Accuracy on  val :0.986 \t Loss:0.044\n",
      "Accuracy on  val :0.977 \t Loss:0.078\n",
      "Accuracy on  val :0.985 \t Loss:0.044\n",
      "Accuracy on  val :0.982 \t Loss:0.046\n",
      "Accuracy on  val :0.972 \t Loss:0.087\n",
      "Accuracy on  val :0.985 \t Loss:0.041\n",
      "Accuracy on  val :0.983 \t Loss:0.048\n",
      "Accuracy on  val :0.985 \t Loss:0.044\n",
      "Accuracy on  val :0.978 \t Loss:0.072\n",
      "Accuracy on  val :0.983 \t Loss:0.050\n",
      "Accuracy on  val :0.984 \t Loss:0.042\n",
      "Accuracy on  val :0.990 \t Loss:0.041\n",
      "Accuracy on  val :0.985 \t Loss:0.048\n",
      "Accuracy on  val :0.979 \t Loss:0.068\n",
      "\n",
      "Finished fine tuning.\n",
      "Accuracy on  test :0.984 \t Loss:0.056\n",
      "CPU times: user 15min 59s, sys: 25.6 s, total: 16min 25s\n",
      "Wall time: 16min 44s\n"
     ]
    }
   ],
   "source": [
    "%%time\n",
    "# Pruning the OBD pruned model using HSQGL12 method\n",
    "torch.manual_seed(1)\n",
    "random.seed(1)\n",
    "%run finetune_SpReg_pds.py --prune --use-cuda --train_epoch 20 --reg_name 'HSQGL12' --ds_name 'MNIST' \\\n",
    "  --input_model 'OBD' --output_model 'OBD_HSQGL12' --landa 1e-5"
   ]
  },
  {
   "cell_type": "code",
   "execution_count": 25,
   "metadata": {
    "colab": {
     "base_uri": "https://localhost:8080/"
    },
    "executionInfo": {
     "elapsed": 630,
     "status": "ok",
     "timestamp": 1623814394560,
     "user": {
      "displayName": "Mahmood Amintoosi",
      "photoUrl": "https://lh3.googleusercontent.com/a-/AOh14GiWZ48HqYJJmPdDTueTtb12dMDVlabGiGyYWEXTkA=s64",
      "userId": "06389092743998374259"
     },
     "user_tz": -270
    },
    "id": "r4UyVR3OQFzL",
    "outputId": "8f4cb7c9-da61-4d40-8a40-b98e9af79f62"
   },
   "outputs": [
    {
     "name": "stdout",
     "output_type": "stream",
     "text": [
      "total 1812792\n",
      "     4 .        0 for_models.txt  524640 HSQGL12.pt\t 217908 OBD.pt\n",
      "     4 ..  327688 HSQGL12_OBD.pt  217908 OBD_HSQGL12.pt  524640 vgg.pt\n"
     ]
    }
   ],
   "source": [
    "!ls -as models"
   ]
  },
  {
   "cell_type": "code",
   "execution_count": 26,
   "metadata": {
    "colab": {
     "base_uri": "https://localhost:8080/",
     "height": 448
    },
    "executionInfo": {
     "elapsed": 4052,
     "status": "ok",
     "timestamp": 1623814412488,
     "user": {
      "displayName": "Mahmood Amintoosi",
      "photoUrl": "https://lh3.googleusercontent.com/a-/AOh14GiWZ48HqYJJmPdDTueTtb12dMDVlabGiGyYWEXTkA=s64",
      "userId": "06389092743998374259"
     },
     "user_tz": -270
    },
    "id": "aAQqQBVGPzrg",
    "outputId": "84993c8f-c8cf-4a26-f710-935b2a4c0580"
   },
   "outputs": [
    {
     "name": "stdout",
     "output_type": "stream",
     "text": [
      "MNIST\n",
      "Using CUDA...\n",
      "Accuracy on  test :0.982 \t Loss:0.070\n",
      "ACC=0.98\n",
      "0:0.99\t1:1.00\t2:1.00\t3:0.99\t4:0.99\t5:0.99\t6:0.96\t7:1.00\t8:1.00\t9:0.99\n",
      "FNR:0.02, FPR:0.00\n",
      "TNR:1.00, TPR:0.98\n",
      "CPU times: user 2.52 s, sys: 495 ms, total: 3.02 s\n",
      "Wall time: 3.4 s\n"
     ]
    },
    {
     "data": {
      "image/png": "[encoded data removed]",
      "text/plain": [
       "<Figure size 432x288 with 2 Axes>"
      ]
     },
     "metadata": {
      "needs_background": "light",
      "tags": []
     },
     "output_type": "display_data"
    }
   ],
   "source": [
    "%%time\n",
    "# Test report for OBD+HSQGL12 method\n",
    "torch.manual_seed(1)\n",
    "random.seed(1)\n",
    "%run finetune_SpReg_pds.py --test --use-cuda --ds_name 'MNIST' \\\n",
    "  --input_model 'OBD_HSQGL12' --output_model 'OBD_HSQGL12'"
   ]
  },
  {
   "cell_type": "code",
   "execution_count": 28,
   "metadata": {
    "colab": {
     "base_uri": "https://localhost:8080/",
     "height": 299
    },
    "executionInfo": {
     "elapsed": 497,
     "status": "ok",
     "timestamp": 1623814487088,
     "user": {
      "displayName": "Mahmood Amintoosi",
      "photoUrl": "https://lh3.googleusercontent.com/a-/AOh14GiWZ48HqYJJmPdDTueTtb12dMDVlabGiGyYWEXTkA=s64",
      "userId": "06389092743998374259"
     },
     "user_tz": -270
    },
    "id": "aI5TK-RqcEG3",
    "outputId": "29d02335-9a07-47d9-f71b-df6b1deec553"
   },
   "outputs": [
    {
     "data": {
      "text/plain": [
       "<matplotlib.axes._subplots.AxesSubplot at 0x7f7ac75a4c10>"
      ]
     },
     "execution_count": 28,
     "metadata": {
      "tags": []
     },
     "output_type": "execute_result"
    },
    {
     "data": {
      "image/png": "[encoded data removed]",
      "text/plain": [
       "<Figure size 432x288 with 1 Axes>"
      ]
     },
     "metadata": {
      "needs_background": "light",
      "tags": []
     },
     "output_type": "display_data"
    }
   ],
   "source": [
    "%matplotlib inline\n",
    "# نمایش تعداد فیلترهای هرس شده در هر لایه\n",
    "pkl_file = open('MNIST_OBD_dic.pkl','rb')\n",
    "dic = pkl.load(pkl_file)\n",
    "dic_obd = bar_filters_pruned(dic)\n",
    "\n",
    "pkl_file = open('MNIST_HSQGL12_OBD_dic.pkl','rb')\n",
    "dic = pkl.load(pkl_file)\n",
    "dic_reg_obd = bar_filters_pruned(dic)\n",
    "\n",
    "d = {\n",
    "    'OBD': dic_obd,\n",
    "    'HSQGL12-OBD': dic_reg_obd\n",
    "}\n",
    "df = pd.DataFrame(d)\n",
    "df1 = df.stack().reset_index().rename(columns={'level_1': 'Method', 0: 'Num Filters Pruned'})\n",
    "df1.rename(columns={\"level_0\": \"Layer No.\"},inplace=True)\n",
    "sns.barplot(x=df1['Layer No.'], y='Num Filters Pruned', data=df1, hue='Method')"
   ]
  },
  {
   "cell_type": "code",
   "execution_count": 29,
   "metadata": {
    "colab": {
     "base_uri": "https://localhost:8080/"
    },
    "executionInfo": {
     "elapsed": 504,
     "status": "ok",
     "timestamp": 1623814503237,
     "user": {
      "displayName": "Mahmood Amintoosi",
      "photoUrl": "https://lh3.googleusercontent.com/a-/AOh14GiWZ48HqYJJmPdDTueTtb12dMDVlabGiGyYWEXTkA=s64",
      "userId": "06389092743998374259"
     },
     "user_tz": -270
    },
    "id": "lfzcyG5XCbov",
    "outputId": "316e11b1-5c8d-4c42-e03a-bfe65c9694c7"
   },
   "outputs": [
    {
     "name": "stdout",
     "output_type": "stream",
     "text": [
      "total 1812792\n",
      "     4 .        0 for_models.txt  524640 HSQGL12.pt\t 217908 OBD.pt\n",
      "     4 ..  327688 HSQGL12_OBD.pt  217908 OBD_HSQGL12.pt  524640 vgg.pt\n"
     ]
    }
   ],
   "source": [
    "!ls -as models"
   ]
  },
  {
   "cell_type": "code",
   "execution_count": 43,
   "metadata": {
    "colab": {
     "base_uri": "https://localhost:8080/"
    },
    "executionInfo": {
     "elapsed": 3131,
     "status": "ok",
     "timestamp": 1623815505872,
     "user": {
      "displayName": "Mahmood Amintoosi",
      "photoUrl": "https://lh3.googleusercontent.com/a-/AOh14GiWZ48HqYJJmPdDTueTtb12dMDVlabGiGyYWEXTkA=s64",
      "userId": "06389092743998374259"
     },
     "user_tz": -270
    },
    "id": "Gunp2UaeK46P",
    "outputId": "3a839f9c-bb2b-479d-f3f9-2f0f1b2d6a9f"
   },
   "outputs": [
    {
     "name": "stdout",
     "output_type": "stream",
     "text": [
      "Total Parameters: 134289088\n",
      "MDL \t\t ne \t\t ze \t\t ze/te \t 1-ze/te ne/te \t 1-ne/te \n",
      "MDL \t ne \t ze \t ze/te \t 1-ze/te \t ne/te \t 1-ne/te \n",
      "vgg.pt         \t 134289088 \t 1772756 \t 0.013 \t 0.987 \t 1.000 \t 0.000\n",
      "HSQGL12.pt     \t 134289088 \t 15606538 \t 0.116 \t 0.884 \t 1.000 \t 0.000\n",
      "OBD.pt         \t 55769688 \t 577319 \t 0.004 \t 0.996 \t 0.415 \t 0.585\n",
      "HSQGL12_OBD.pt \t 83872986 \t 865776 \t 0.006 \t 0.994 \t 0.625 \t 0.375\n",
      "OBD_HSQGL12.pt \t 55769688 \t 2016401 \t 0.015 \t 0.985 \t 0.415 \t 0.585\n"
     ]
    }
   ],
   "source": [
    "models_dir = 'models/'\n",
    "eps = 1e-4\n",
    "model = torch.load('models/vgg.pt', map_location=lambda storage, loc: storage)\n",
    "te, _ = num_parameters(model,eps)\n",
    "print('Total Parameters:', te)\n",
    "mdl_list = ['vgg.pt', 'HSQGL12.pt', 'OBD.pt', 'HSQGL12_OBD.pt', 'OBD_HSQGL12.pt']\n",
    "print('MDL \\t\\t ne \\t\\t ze \\t\\t ze/te \\t 1-ze/te ne/te \\t 1-ne/te ')\n",
    "print('MDL \\t ne \\t ze \\t ze/te \\t 1-ze/te \\t ne/te \\t 1-ne/te ')\n",
    "for mdl in mdl_list:\n",
    "  model_file_name = models_dir+mdl\n",
    "  model = torch.load(model_file_name, map_location=lambda storage, loc: storage)\n",
    "  num_el, ze = num_parameters(model,eps)\n",
    "  print(\"{:15s}\\t {} \\t {} \\t {:.3f} \\t {:.3f} \\t {:.3f} \\t {:.3f}\".format(\\\n",
    "          mdl,num_el, ze, ze/te, 1-ze/te, num_el/te, 1-num_el/te))\n"
   ]
  },
  {
   "cell_type": "code",
   "execution_count": 45,
   "metadata": {
    "colab": {
     "base_uri": "https://localhost:8080/",
     "height": 153
    },
    "executionInfo": {
     "elapsed": 611,
     "status": "ok",
     "timestamp": 1623816606133,
     "user": {
      "displayName": "Mahmood Amintoosi",
      "photoUrl": "https://lh3.googleusercontent.com/a-/AOh14GiWZ48HqYJJmPdDTueTtb12dMDVlabGiGyYWEXTkA=s64",
      "userId": "06389092743998374259"
     },
     "user_tz": -270
    },
    "id": "0Bi9PMbHtoXA",
    "outputId": "9da5a627-d44b-4f33-df6b-525d159c363e"
   },
   "outputs": [
    {
     "name": "stdout",
     "output_type": "stream",
     "text": [
      "updating: MNIST_HSQGL12_cm.pkl (deflated 56%)\n",
      "updating: MNIST_HSQGL12_OBD_cm.pkl (deflated 59%)\n",
      "updating: MNIST_HSQGL12_OBD_dic.pkl (deflated 32%)\n",
      "updating: MNIST_loss.pkl (deflated 9%)\n",
      "updating: MNIST_OBD_cm.pkl (deflated 54%)\n",
      "updating: MNIST_OBD_dic.pkl (deflated 33%)\n",
      "updating: MNIST_OBD_HSQGL12_cm.pkl (deflated 56%)\n",
      "updating: MNIST_vgg_cm.pkl (deflated 55%)\n"
     ]
    },
    {
     "data": {
      "application/javascript": [
       "\n",
       "    async function download(id, filename, size) {\n",
       "      if (!google.colab.kernel.accessAllowed) {\n",
       "        return;\n",
       "      }\n",
       "      const div = document.createElement('div');\n",
       "      const label = document.createElement('label');\n",
       "      label.textContent = `Downloading \"${filename}\": `;\n",
       "      div.appendChild(label);\n",
       "      const progress = document.createElement('progress');\n",
       "      progress.max = size;\n",
       "      div.appendChild(progress);\n",
       "      document.body.appendChild(div);\n",
       "\n",
       "      const buffers = [];\n",
       "      let downloaded = 0;\n",
       "\n",
       "      const channel = await google.colab.kernel.comms.open(id);\n",
       "      // Send a message to notify the kernel that we're ready.\n",
       "      channel.send({})\n",
       "\n",
       "      for await (const message of channel.messages) {\n",
       "        // Send a message to notify the kernel that we're ready.\n",
       "        channel.send({})\n",
       "        if (message.buffers) {\n",
       "          for (const buffer of message.buffers) {\n",
       "            buffers.push(buffer);\n",
       "            downloaded += buffer.byteLength;\n",
       "            progress.value = downloaded;\n",
       "          }\n",
       "        }\n",
       "      }\n",
       "      const blob = new Blob(buffers, {type: 'application/binary'});\n",
       "      const a = document.createElement('a');\n",
       "      a.href = window.URL.createObjectURL(blob);\n",
       "      a.download = filename;\n",
       "      div.appendChild(a);\n",
       "      a.click();\n",
       "      div.remove();\n",
       "    }\n",
       "  "
      ],
      "text/plain": [
       "<IPython.core.display.Javascript object>"
      ]
     },
     "metadata": {
      "tags": []
     },
     "output_type": "display_data"
    },
    {
     "data": {
      "application/javascript": [
       "download(\"download_8fd5ba1c-96a3-4bf4-b10d-76b62205c526\", \"MNIST_landa_1e5.zip\", 37551)"
      ],
      "text/plain": [
       "<IPython.core.display.Javascript object>"
      ]
     },
     "metadata": {
      "tags": []
     },
     "output_type": "display_data"
    }
   ],
   "source": [
    "!zip -r MNIST.zip ./MNIST*.*\n",
    "files.download('MNIST.zip')"
   ]
  }
 ],
 "metadata": {
  "accelerator": "GPU",
  "colab": {
   "collapsed_sections": [],
   "name": "main_MNIST.ipynb",
   "provenance": []
  },
  "kernelspec": {
   "display_name": "Python 3",
   "language": "python",
   "name": "python3"
  },
  "language_info": {
   "codemirror_mode": {
    "name": "ipython",
    "version": 3
   },
   "file_extension": ".py",
   "mimetype": "text/x-python",
   "name": "python",
   "nbconvert_exporter": "python",
   "pygments_lexer": "ipython3",
   "version": "3.7.6"
  },
  "widgets": {
   "application/vnd.jupyter.widget-state+json": {
    "0036f4471c454ab3bb55278cb5a8c590": {
     "model_module": "@jupyter-widgets/base",
     "model_name": "LayoutModel",
     "state": {
      "_model_module": "@jupyter-widgets/base",
      "_model_module_version": "1.2.0",
      "_model_name": "LayoutModel",
      "_view_count": null,
      "_view_module": "@jupyter-widgets/base",
      "_view_module_version": "1.2.0",
      "_view_name": "LayoutView",
      "align_content": null,
      "align_items": null,
      "align_self": null,
      "border": null,
      "bottom": null,
      "display": null,
      "flex": null,
      "flex_flow": null,
      "grid_area": null,
      "grid_auto_columns": null,
      "grid_auto_flow": null,
      "grid_auto_rows": null,
      "grid_column": null,
      "grid_gap": null,
      "grid_row": null,
      "grid_template_areas": null,
      "grid_template_columns": null,
      "grid_template_rows": null,
      "height": null,
      "justify_content": null,
      "justify_items": null,
      "left": null,
      "margin": null,
      "max_height": null,
      "max_width": null,
      "min_height": null,
      "min_width": null,
      "object_fit": null,
      "object_position": null,
      "order": null,
      "overflow": null,
      "overflow_x": null,
      "overflow_y": null,
      "padding": null,
      "right": null,
      "top": null,
      "visibility": null,
      "width": null
     }
    },
    "01fe234337d44d658b0c64f45cea9967": {
     "model_module": "@jupyter-widgets/controls",
     "model_name": "DescriptionStyleModel",
     "state": {
      "_model_module": "@jupyter-widgets/controls",
      "_model_module_version": "1.5.0",
      "_model_name": "DescriptionStyleModel",
      "_view_count": null,
      "_view_module": "@jupyter-widgets/base",
      "_view_module_version": "1.2.0",
      "_view_name": "StyleView",
      "description_width": ""
     }
    },
    "056e6dd9adf74774a46763f1b06877d1": {
     "model_module": "@jupyter-widgets/controls",
     "model_name": "FloatProgressModel",
     "state": {
      "_dom_classes": [],
      "_model_module": "@jupyter-widgets/controls",
      "_model_module_version": "1.5.0",
      "_model_name": "FloatProgressModel",
      "_view_count": null,
      "_view_module": "@jupyter-widgets/controls",
      "_view_module_version": "1.5.0",
      "_view_name": "ProgressView",
      "bar_style": "success",
      "description": "Training: 100%",
      "description_tooltip": null,
      "layout": "IPY_MODEL_6dfdceec08a44e5692d17f15a6aef98f",
      "max": 20,
      "min": 0,
      "orientation": "horizontal",
      "style": "IPY_MODEL_6f92ca033c034994b653f000517c1a9d",
      "value": 20
     }
    },
    "05d8385fbd794effbb45b6c0bb8813bf": {
     "model_module": "@jupyter-widgets/controls",
     "model_name": "HBoxModel",
     "state": {
      "_dom_classes": [],
      "_model_module": "@jupyter-widgets/controls",
      "_model_module_version": "1.5.0",
      "_model_name": "HBoxModel",
      "_view_count": null,
      "_view_module": "@jupyter-widgets/controls",
      "_view_module_version": "1.5.0",
      "_view_name": "HBoxView",
      "box_style": "",
      "children": [
       "IPY_MODEL_cc6b9eb628cb4c5598bc5123d900a173",
       "IPY_MODEL_f8d46a3328e9463ab31b28576544e725"
      ],
      "layout": "IPY_MODEL_0a7b537795034af3971693fa4bd4fd01"
     }
    },
    "06986e380b3a40728f88455287cbe34b": {
     "model_module": "@jupyter-widgets/controls",
     "model_name": "FloatProgressModel",
     "state": {
      "_dom_classes": [],
      "_model_module": "@jupyter-widgets/controls",
      "_model_module_version": "1.5.0",
      "_model_name": "FloatProgressModel",
      "_view_count": null,
      "_view_module": "@jupyter-widgets/controls",
      "_view_module_version": "1.5.0",
      "_view_name": "ProgressView",
      "bar_style": "success",
      "description": "Training: 100%",
      "description_tooltip": null,
      "layout": "IPY_MODEL_296f230ffb524c868afbec0f6ada7a8d",
      "max": 20,
      "min": 0,
      "orientation": "horizontal",
      "style": "IPY_MODEL_89940f3651f244e5bec8eb400c6603e5",
      "value": 20
     }
    },
    "06fad13964ef4368a98817ede5c6b6c1": {
     "model_module": "@jupyter-widgets/base",
     "model_name": "LayoutModel",
     "state": {
      "_model_module": "@jupyter-widgets/base",
      "_model_module_version": "1.2.0",
      "_model_name": "LayoutModel",
      "_view_count": null,
      "_view_module": "@jupyter-widgets/base",
      "_view_module_version": "1.2.0",
      "_view_name": "LayoutView",
      "align_content": null,
      "align_items": null,
      "align_self": null,
      "border": null,
      "bottom": null,
      "display": null,
      "flex": null,
      "flex_flow": null,
      "grid_area": null,
      "grid_auto_columns": null,
      "grid_auto_flow": null,
      "grid_auto_rows": null,
      "grid_column": null,
      "grid_gap": null,
      "grid_row": null,
      "grid_template_areas": null,
      "grid_template_columns": null,
      "grid_template_rows": null,
      "height": null,
      "justify_content": null,
      "justify_items": null,
      "left": null,
      "margin": null,
      "max_height": null,
      "max_width": null,
      "min_height": null,
      "min_width": null,
      "object_fit": null,
      "object_position": null,
      "order": null,
      "overflow": null,
      "overflow_x": null,
      "overflow_y": null,
      "padding": null,
      "right": null,
      "top": null,
      "visibility": null,
      "width": null
     }
    },
    "07c4cf8500be4705afb2d2db1beb71ba": {
     "model_module": "@jupyter-widgets/controls",
     "model_name": "ProgressStyleModel",
     "state": {
      "_model_module": "@jupyter-widgets/controls",
      "_model_module_version": "1.5.0",
      "_model_name": "ProgressStyleModel",
      "_view_count": null,
      "_view_module": "@jupyter-widgets/base",
      "_view_module_version": "1.2.0",
      "_view_name": "StyleView",
      "bar_color": null,
      "description_width": "initial"
     }
    },
    "0a7b537795034af3971693fa4bd4fd01": {
     "model_module": "@jupyter-widgets/base",
     "model_name": "LayoutModel",
     "state": {
      "_model_module": "@jupyter-widgets/base",
      "_model_module_version": "1.2.0",
      "_model_name": "LayoutModel",
      "_view_count": null,
      "_view_module": "@jupyter-widgets/base",
      "_view_module_version": "1.2.0",
      "_view_name": "LayoutView",
      "align_content": null,
      "align_items": null,
      "align_self": null,
      "border": null,
      "bottom": null,
      "display": null,
      "flex": null,
      "flex_flow": null,
      "grid_area": null,
      "grid_auto_columns": null,
      "grid_auto_flow": null,
      "grid_auto_rows": null,
      "grid_column": null,
      "grid_gap": null,
      "grid_row": null,
      "grid_template_areas": null,
      "grid_template_columns": null,
      "grid_template_rows": null,
      "height": null,
      "justify_content": null,
      "justify_items": null,
      "left": null,
      "margin": null,
      "max_height": null,
      "max_width": null,
      "min_height": null,
      "min_width": null,
      "object_fit": null,
      "object_position": null,
      "order": null,
      "overflow": null,
      "overflow_x": null,
      "overflow_y": null,
      "padding": null,
      "right": null,
      "top": null,
      "visibility": null,
      "width": null
     }
    },
    "0c81cef218734c50bb0db798a2ef6bfc": {
     "model_module": "@jupyter-widgets/base",
     "model_name": "LayoutModel",
     "state": {
      "_model_module": "@jupyter-widgets/base",
      "_model_module_version": "1.2.0",
      "_model_name": "LayoutModel",
      "_view_count": null,
      "_view_module": "@jupyter-widgets/base",
      "_view_module_version": "1.2.0",
      "_view_name": "LayoutView",
      "align_content": null,
      "align_items": null,
      "align_self": null,
      "border": null,
      "bottom": null,
      "display": null,
      "flex": null,
      "flex_flow": null,
      "grid_area": null,
      "grid_auto_columns": null,
      "grid_auto_flow": null,
      "grid_auto_rows": null,
      "grid_column": null,
      "grid_gap": null,
      "grid_row": null,
      "grid_template_areas": null,
      "grid_template_columns": null,
      "grid_template_rows": null,
      "height": null,
      "justify_content": null,
      "justify_items": null,
      "left": null,
      "margin": null,
      "max_height": null,
      "max_width": null,
      "min_height": null,
      "min_width": null,
      "object_fit": null,
      "object_position": null,
      "order": null,
      "overflow": null,
      "overflow_x": null,
      "overflow_y": null,
      "padding": null,
      "right": null,
      "top": null,
      "visibility": null,
      "width": null
     }
    },
    "0e570935017a4846ab426b0d45369cb3": {
     "model_module": "@jupyter-widgets/controls",
     "model_name": "ProgressStyleModel",
     "state": {
      "_model_module": "@jupyter-widgets/controls",
      "_model_module_version": "1.5.0",
      "_model_name": "ProgressStyleModel",
      "_view_count": null,
      "_view_module": "@jupyter-widgets/base",
      "_view_module_version": "1.2.0",
      "_view_name": "StyleView",
      "bar_color": null,
      "description_width": "initial"
     }
    },
    "0ef9613289e9483087c55203d41a25c6": {
     "model_module": "@jupyter-widgets/base",
     "model_name": "LayoutModel",
     "state": {
      "_model_module": "@jupyter-widgets/base",
      "_model_module_version": "1.2.0",
      "_model_name": "LayoutModel",
      "_view_count": null,
      "_view_module": "@jupyter-widgets/base",
      "_view_module_version": "1.2.0",
      "_view_name": "LayoutView",
      "align_content": null,
      "align_items": null,
      "align_self": null,
      "border": null,
      "bottom": null,
      "display": null,
      "flex": null,
      "flex_flow": null,
      "grid_area": null,
      "grid_auto_columns": null,
      "grid_auto_flow": null,
      "grid_auto_rows": null,
      "grid_column": null,
      "grid_gap": null,
      "grid_row": null,
      "grid_template_areas": null,
      "grid_template_columns": null,
      "grid_template_rows": null,
      "height": null,
      "justify_content": null,
      "justify_items": null,
      "left": null,
      "margin": null,
      "max_height": null,
      "max_width": null,
      "min_height": null,
      "min_width": null,
      "object_fit": null,
      "object_position": null,
      "order": null,
      "overflow": null,
      "overflow_x": null,
      "overflow_y": null,
      "padding": null,
      "right": null,
      "top": null,
      "visibility": null,
      "width": null
     }
    },
    "0f287d57fefe4359b3f86cb097b9c832": {
     "model_module": "@jupyter-widgets/controls",
     "model_name": "FloatProgressModel",
     "state": {
      "_dom_classes": [],
      "_model_module": "@jupyter-widgets/controls",
      "_model_module_version": "1.5.0",
      "_model_name": "FloatProgressModel",
      "_view_count": null,
      "_view_module": "@jupyter-widgets/controls",
      "_view_module_version": "1.5.0",
      "_view_name": "ProgressView",
      "bar_style": "success",
      "description": "Training: 100%",
      "description_tooltip": null,
      "layout": "IPY_MODEL_0ef9613289e9483087c55203d41a25c6",
      "max": 3,
      "min": 0,
      "orientation": "horizontal",
      "style": "IPY_MODEL_db8a8d8ad5a04689ab8c18380dedc1c1",
      "value": 3
     }
    },
    "1457392103cf45888faec755454dc14e": {
     "model_module": "@jupyter-widgets/controls",
     "model_name": "FloatProgressModel",
     "state": {
      "_dom_classes": [],
      "_model_module": "@jupyter-widgets/controls",
      "_model_module_version": "1.5.0",
      "_model_name": "FloatProgressModel",
      "_view_count": null,
      "_view_module": "@jupyter-widgets/controls",
      "_view_module_version": "1.5.0",
      "_view_name": "ProgressView",
      "bar_style": "success",
      "description": "",
      "description_tooltip": null,
      "layout": "IPY_MODEL_b60c82ef9d254421bfd10856577252d7",
      "max": 28881,
      "min": 0,
      "orientation": "horizontal",
      "style": "IPY_MODEL_67e7401596194188a05a7735b009d288",
      "value": 28881
     }
    },
    "1579c2e83a5d455a82ab3b673a626989": {
     "model_module": "@jupyter-widgets/controls",
     "model_name": "HTMLModel",
     "state": {
      "_dom_classes": [],
      "_model_module": "@jupyter-widgets/controls",
      "_model_module_version": "1.5.0",
      "_model_name": "HTMLModel",
      "_view_count": null,
      "_view_module": "@jupyter-widgets/controls",
      "_view_module_version": "1.5.0",
      "_view_name": "HTMLView",
      "description": "",
      "description_tooltip": null,
      "layout": "IPY_MODEL_b4962cbbfc1143b788a6e7d91d47fb37",
      "placeholder": "​",
      "style": "IPY_MODEL_1d6837238b154e38ae2d6ebbeaf6f19a",
      "value": " 3/3 [06:36&lt;00:00, 132.15s/Epoch]"
     }
    },
    "15a7226069df49a78f976cb8aa4aa5fe": {
     "model_module": "@jupyter-widgets/controls",
     "model_name": "HBoxModel",
     "state": {
      "_dom_classes": [],
      "_model_module": "@jupyter-widgets/controls",
      "_model_module_version": "1.5.0",
      "_model_name": "HBoxModel",
      "_view_count": null,
      "_view_module": "@jupyter-widgets/controls",
      "_view_module_version": "1.5.0",
      "_view_name": "HBoxView",
      "box_style": "",
      "children": [
       "IPY_MODEL_06986e380b3a40728f88455287cbe34b",
       "IPY_MODEL_d7a479133bf644fcbf0e627a57eb3af1"
      ],
      "layout": "IPY_MODEL_2eb6ab974c19405ba5d71daf859d80be"
     }
    },
    "15e0af61f765435c99271c20a0ce5da1": {
     "model_module": "@jupyter-widgets/base",
     "model_name": "LayoutModel",
     "state": {
      "_model_module": "@jupyter-widgets/base",
      "_model_module_version": "1.2.0",
      "_model_name": "LayoutModel",
      "_view_count": null,
      "_view_module": "@jupyter-widgets/base",
      "_view_module_version": "1.2.0",
      "_view_name": "LayoutView",
      "align_content": null,
      "align_items": null,
      "align_self": null,
      "border": null,
      "bottom": null,
      "display": null,
      "flex": null,
      "flex_flow": null,
      "grid_area": null,
      "grid_auto_columns": null,
      "grid_auto_flow": null,
      "grid_auto_rows": null,
      "grid_column": null,
      "grid_gap": null,
      "grid_row": null,
      "grid_template_areas": null,
      "grid_template_columns": null,
      "grid_template_rows": null,
      "height": null,
      "justify_content": null,
      "justify_items": null,
      "left": null,
      "margin": null,
      "max_height": null,
      "max_width": null,
      "min_height": null,
      "min_width": null,
      "object_fit": null,
      "object_position": null,
      "order": null,
      "overflow": null,
      "overflow_x": null,
      "overflow_y": null,
      "padding": null,
      "right": null,
      "top": null,
      "visibility": null,
      "width": null
     }
    },
    "173862fa403b4b9cbef82066395b050e": {
     "model_module": "@jupyter-widgets/controls",
     "model_name": "HTMLModel",
     "state": {
      "_dom_classes": [],
      "_model_module": "@jupyter-widgets/controls",
      "_model_module_version": "1.5.0",
      "_model_name": "HTMLModel",
      "_view_count": null,
      "_view_module": "@jupyter-widgets/controls",
      "_view_module_version": "1.5.0",
      "_view_name": "HTMLView",
      "description": "",
      "description_tooltip": null,
      "layout": "IPY_MODEL_de963813cafa440ba23bdbb1d4e7c314",
      "placeholder": "​",
      "style": "IPY_MODEL_2327163dcb4a497dabd4987ffb798752",
      "value": " 3/3 [05:14&lt;00:00, 104.96s/Epoch]"
     }
    },
    "1be46561e8cf48d4ad86e81be83b3977": {
     "model_module": "@jupyter-widgets/base",
     "model_name": "LayoutModel",
     "state": {
      "_model_module": "@jupyter-widgets/base",
      "_model_module_version": "1.2.0",
      "_model_name": "LayoutModel",
      "_view_count": null,
      "_view_module": "@jupyter-widgets/base",
      "_view_module_version": "1.2.0",
      "_view_name": "LayoutView",
      "align_content": null,
      "align_items": null,
      "align_self": null,
      "border": null,
      "bottom": null,
      "display": null,
      "flex": null,
      "flex_flow": null,
      "grid_area": null,
      "grid_auto_columns": null,
      "grid_auto_flow": null,
      "grid_auto_rows": null,
      "grid_column": null,
      "grid_gap": null,
      "grid_row": null,
      "grid_template_areas": null,
      "grid_template_columns": null,
      "grid_template_rows": null,
      "height": null,
      "justify_content": null,
      "justify_items": null,
      "left": null,
      "margin": null,
      "max_height": null,
      "max_width": null,
      "min_height": null,
      "min_width": null,
      "object_fit": null,
      "object_position": null,
      "order": null,
      "overflow": null,
      "overflow_x": null,
      "overflow_y": null,
      "padding": null,
      "right": null,
      "top": null,
      "visibility": null,
      "width": null
     }
    },
    "1c28ca19ad254e4889ae1f9f9f1bef34": {
     "model_module": "@jupyter-widgets/controls",
     "model_name": "FloatProgressModel",
     "state": {
      "_dom_classes": [],
      "_model_module": "@jupyter-widgets/controls",
      "_model_module_version": "1.5.0",
      "_model_name": "FloatProgressModel",
      "_view_count": null,
      "_view_module": "@jupyter-widgets/controls",
      "_view_module_version": "1.5.0",
      "_view_name": "ProgressView",
      "bar_style": "success",
      "description": "Training: 100%",
      "description_tooltip": null,
      "layout": "IPY_MODEL_ad62bd0d97164f67a9f392d8262f7816",
      "max": 3,
      "min": 0,
      "orientation": "horizontal",
      "style": "IPY_MODEL_6fb2e5b881ae4f68afec1a07f6978a92",
      "value": 3
     }
    },
    "1cc0788b3d0e4232aa70e8200a28a2e5": {
     "model_module": "@jupyter-widgets/controls",
     "model_name": "FloatProgressModel",
     "state": {
      "_dom_classes": [],
      "_model_module": "@jupyter-widgets/controls",
      "_model_module_version": "1.5.0",
      "_model_name": "FloatProgressModel",
      "_view_count": null,
      "_view_module": "@jupyter-widgets/controls",
      "_view_module_version": "1.5.0",
      "_view_name": "ProgressView",
      "bar_style": "success",
      "description": "Training: 100%",
      "description_tooltip": null,
      "layout": "IPY_MODEL_8e888e19f1e44234b65fd27d2660eb50",
      "max": 3,
      "min": 0,
      "orientation": "horizontal",
      "style": "IPY_MODEL_1cd77e1cb6754dadb036e4300c1a35d4",
      "value": 3
     }
    },
    "1cd77e1cb6754dadb036e4300c1a35d4": {
     "model_module": "@jupyter-widgets/controls",
     "model_name": "ProgressStyleModel",
     "state": {
      "_model_module": "@jupyter-widgets/controls",
      "_model_module_version": "1.5.0",
      "_model_name": "ProgressStyleModel",
      "_view_count": null,
      "_view_module": "@jupyter-widgets/base",
      "_view_module_version": "1.2.0",
      "_view_name": "StyleView",
      "bar_color": null,
      "description_width": "initial"
     }
    },
    "1d6837238b154e38ae2d6ebbeaf6f19a": {
     "model_module": "@jupyter-widgets/controls",
     "model_name": "DescriptionStyleModel",
     "state": {
      "_model_module": "@jupyter-widgets/controls",
      "_model_module_version": "1.5.0",
      "_model_name": "DescriptionStyleModel",
      "_view_count": null,
      "_view_module": "@jupyter-widgets/base",
      "_view_module_version": "1.2.0",
      "_view_name": "StyleView",
      "description_width": ""
     }
    },
    "217b56fb08b54c5cb77774c70b889d5a": {
     "model_module": "@jupyter-widgets/controls",
     "model_name": "FloatProgressModel",
     "state": {
      "_dom_classes": [],
      "_model_module": "@jupyter-widgets/controls",
      "_model_module_version": "1.5.0",
      "_model_name": "FloatProgressModel",
      "_view_count": null,
      "_view_module": "@jupyter-widgets/controls",
      "_view_module_version": "1.5.0",
      "_view_name": "ProgressView",
      "bar_style": "success",
      "description": "Training: 100%",
      "description_tooltip": null,
      "layout": "IPY_MODEL_a1ef5b6656c2464999bbdb1bb679ec5f",
      "max": 3,
      "min": 0,
      "orientation": "horizontal",
      "style": "IPY_MODEL_bc25178f4ab14a55842bda4f47be0bc8",
      "value": 3
     }
    },
    "2327163dcb4a497dabd4987ffb798752": {
     "model_module": "@jupyter-widgets/controls",
     "model_name": "DescriptionStyleModel",
     "state": {
      "_model_module": "@jupyter-widgets/controls",
      "_model_module_version": "1.5.0",
      "_model_name": "DescriptionStyleModel",
      "_view_count": null,
      "_view_module": "@jupyter-widgets/base",
      "_view_module_version": "1.2.0",
      "_view_name": "StyleView",
      "description_width": ""
     }
    },
    "24f1d8b3c62044748c2e0b7095e08812": {
     "model_module": "@jupyter-widgets/base",
     "model_name": "LayoutModel",
     "state": {
      "_model_module": "@jupyter-widgets/base",
      "_model_module_version": "1.2.0",
      "_model_name": "LayoutModel",
      "_view_count": null,
      "_view_module": "@jupyter-widgets/base",
      "_view_module_version": "1.2.0",
      "_view_name": "LayoutView",
      "align_content": null,
      "align_items": null,
      "align_self": null,
      "border": null,
      "bottom": null,
      "display": null,
      "flex": null,
      "flex_flow": null,
      "grid_area": null,
      "grid_auto_columns": null,
      "grid_auto_flow": null,
      "grid_auto_rows": null,
      "grid_column": null,
      "grid_gap": null,
      "grid_row": null,
      "grid_template_areas": null,
      "grid_template_columns": null,
      "grid_template_rows": null,
      "height": null,
      "justify_content": null,
      "justify_items": null,
      "left": null,
      "margin": null,
      "max_height": null,
      "max_width": null,
      "min_height": null,
      "min_width": null,
      "object_fit": null,
      "object_position": null,
      "order": null,
      "overflow": null,
      "overflow_x": null,
      "overflow_y": null,
      "padding": null,
      "right": null,
      "top": null,
      "visibility": null,
      "width": null
     }
    },
    "2629ffc48da54590aa6bb5a50ace883f": {
     "model_module": "@jupyter-widgets/controls",
     "model_name": "DescriptionStyleModel",
     "state": {
      "_model_module": "@jupyter-widgets/controls",
      "_model_module_version": "1.5.0",
      "_model_name": "DescriptionStyleModel",
      "_view_count": null,
      "_view_module": "@jupyter-widgets/base",
      "_view_module_version": "1.2.0",
      "_view_name": "StyleView",
      "description_width": ""
     }
    },
    "27fdb290c8d8420ba2665cbbf614523e": {
     "model_module": "@jupyter-widgets/controls",
     "model_name": "HBoxModel",
     "state": {
      "_dom_classes": [],
      "_model_module": "@jupyter-widgets/controls",
      "_model_module_version": "1.5.0",
      "_model_name": "HBoxModel",
      "_view_count": null,
      "_view_module": "@jupyter-widgets/controls",
      "_view_module_version": "1.5.0",
      "_view_name": "HBoxView",
      "box_style": "",
      "children": [
       "IPY_MODEL_f88b35c2618a4601a3a8690d5218836f",
       "IPY_MODEL_8009d30c1e2c4b4d97359f2993f21086"
      ],
      "layout": "IPY_MODEL_9cf8e450154240cfb2d67e7fe98d3dd2"
     }
    },
    "280c6d0479b3448abdea9df75b57af4f": {
     "model_module": "@jupyter-widgets/base",
     "model_name": "LayoutModel",
     "state": {
      "_model_module": "@jupyter-widgets/base",
      "_model_module_version": "1.2.0",
      "_model_name": "LayoutModel",
      "_view_count": null,
      "_view_module": "@jupyter-widgets/base",
      "_view_module_version": "1.2.0",
      "_view_name": "LayoutView",
      "align_content": null,
      "align_items": null,
      "align_self": null,
      "border": null,
      "bottom": null,
      "display": null,
      "flex": null,
      "flex_flow": null,
      "grid_area": null,
      "grid_auto_columns": null,
      "grid_auto_flow": null,
      "grid_auto_rows": null,
      "grid_column": null,
      "grid_gap": null,
      "grid_row": null,
      "grid_template_areas": null,
      "grid_template_columns": null,
      "grid_template_rows": null,
      "height": null,
      "justify_content": null,
      "justify_items": null,
      "left": null,
      "margin": null,
      "max_height": null,
      "max_width": null,
      "min_height": null,
      "min_width": null,
      "object_fit": null,
      "object_position": null,
      "order": null,
      "overflow": null,
      "overflow_x": null,
      "overflow_y": null,
      "padding": null,
      "right": null,
      "top": null,
      "visibility": null,
      "width": null
     }
    },
    "28a1c85e5ed34ec993a71c18d0d933e5": {
     "model_module": "@jupyter-widgets/controls",
     "model_name": "DescriptionStyleModel",
     "state": {
      "_model_module": "@jupyter-widgets/controls",
      "_model_module_version": "1.5.0",
      "_model_name": "DescriptionStyleModel",
      "_view_count": null,
      "_view_module": "@jupyter-widgets/base",
      "_view_module_version": "1.2.0",
      "_view_name": "StyleView",
      "description_width": ""
     }
    },
    "291471d64fcb44bda58ede8ecf98d15f": {
     "model_module": "@jupyter-widgets/controls",
     "model_name": "DescriptionStyleModel",
     "state": {
      "_model_module": "@jupyter-widgets/controls",
      "_model_module_version": "1.5.0",
      "_model_name": "DescriptionStyleModel",
      "_view_count": null,
      "_view_module": "@jupyter-widgets/base",
      "_view_module_version": "1.2.0",
      "_view_name": "StyleView",
      "description_width": ""
     }
    },
    "296f230ffb524c868afbec0f6ada7a8d": {
     "model_module": "@jupyter-widgets/base",
     "model_name": "LayoutModel",
     "state": {
      "_model_module": "@jupyter-widgets/base",
      "_model_module_version": "1.2.0",
      "_model_name": "LayoutModel",
      "_view_count": null,
      "_view_module": "@jupyter-widgets/base",
      "_view_module_version": "1.2.0",
      "_view_name": "LayoutView",
      "align_content": null,
      "align_items": null,
      "align_self": null,
      "border": null,
      "bottom": null,
      "display": null,
      "flex": null,
      "flex_flow": null,
      "grid_area": null,
      "grid_auto_columns": null,
      "grid_auto_flow": null,
      "grid_auto_rows": null,
      "grid_column": null,
      "grid_gap": null,
      "grid_row": null,
      "grid_template_areas": null,
      "grid_template_columns": null,
      "grid_template_rows": null,
      "height": null,
      "justify_content": null,
      "justify_items": null,
      "left": null,
      "margin": null,
      "max_height": null,
      "max_width": null,
      "min_height": null,
      "min_width": null,
      "object_fit": null,
      "object_position": null,
      "order": null,
      "overflow": null,
      "overflow_x": null,
      "overflow_y": null,
      "padding": null,
      "right": null,
      "top": null,
      "visibility": null,
      "width": null
     }
    },
    "29ee22ad03e44d8cbec469644a735235": {
     "model_module": "@jupyter-widgets/controls",
     "model_name": "HBoxModel",
     "state": {
      "_dom_classes": [],
      "_model_module": "@jupyter-widgets/controls",
      "_model_module_version": "1.5.0",
      "_model_name": "HBoxModel",
      "_view_count": null,
      "_view_module": "@jupyter-widgets/controls",
      "_view_module_version": "1.5.0",
      "_view_name": "HBoxView",
      "box_style": "",
      "children": [
       "IPY_MODEL_3936c81f405043ce8956640c6eafb644",
       "IPY_MODEL_b90b78cec5a74d26b99b2334cb04d134"
      ],
      "layout": "IPY_MODEL_ded8e37c52e4492ea7cddb2cdd3316bc"
     }
    },
    "2be3f10126fe4db5b692849ceb788b9c": {
     "model_module": "@jupyter-widgets/controls",
     "model_name": "FloatProgressModel",
     "state": {
      "_dom_classes": [],
      "_model_module": "@jupyter-widgets/controls",
      "_model_module_version": "1.5.0",
      "_model_name": "FloatProgressModel",
      "_view_count": null,
      "_view_module": "@jupyter-widgets/controls",
      "_view_module_version": "1.5.0",
      "_view_name": "ProgressView",
      "bar_style": "success",
      "description": "Training: 100%",
      "description_tooltip": null,
      "layout": "IPY_MODEL_280c6d0479b3448abdea9df75b57af4f",
      "max": 3,
      "min": 0,
      "orientation": "horizontal",
      "style": "IPY_MODEL_3db553dd258a42c3a0bc9b1cb3ef9cc3",
      "value": 3
     }
    },
    "2bfb4c37ee834300a857d902df17d5e2": {
     "model_module": "@jupyter-widgets/base",
     "model_name": "LayoutModel",
     "state": {
      "_model_module": "@jupyter-widgets/base",
      "_model_module_version": "1.2.0",
      "_model_name": "LayoutModel",
      "_view_count": null,
      "_view_module": "@jupyter-widgets/base",
      "_view_module_version": "1.2.0",
      "_view_name": "LayoutView",
      "align_content": null,
      "align_items": null,
      "align_self": null,
      "border": null,
      "bottom": null,
      "display": null,
      "flex": null,
      "flex_flow": null,
      "grid_area": null,
      "grid_auto_columns": null,
      "grid_auto_flow": null,
      "grid_auto_rows": null,
      "grid_column": null,
      "grid_gap": null,
      "grid_row": null,
      "grid_template_areas": null,
      "grid_template_columns": null,
      "grid_template_rows": null,
      "height": null,
      "justify_content": null,
      "justify_items": null,
      "left": null,
      "margin": null,
      "max_height": null,
      "max_width": null,
      "min_height": null,
      "min_width": null,
      "object_fit": null,
      "object_position": null,
      "order": null,
      "overflow": null,
      "overflow_x": null,
      "overflow_y": null,
      "padding": null,
      "right": null,
      "top": null,
      "visibility": null,
      "width": null
     }
    },
    "2eb6ab974c19405ba5d71daf859d80be": {
     "model_module": "@jupyter-widgets/base",
     "model_name": "LayoutModel",
     "state": {
      "_model_module": "@jupyter-widgets/base",
      "_model_module_version": "1.2.0",
      "_model_name": "LayoutModel",
      "_view_count": null,
      "_view_module": "@jupyter-widgets/base",
      "_view_module_version": "1.2.0",
      "_view_name": "LayoutView",
      "align_content": null,
      "align_items": null,
      "align_self": null,
      "border": null,
      "bottom": null,
      "display": null,
      "flex": null,
      "flex_flow": null,
      "grid_area": null,
      "grid_auto_columns": null,
      "grid_auto_flow": null,
      "grid_auto_rows": null,
      "grid_column": null,
      "grid_gap": null,
      "grid_row": null,
      "grid_template_areas": null,
      "grid_template_columns": null,
      "grid_template_rows": null,
      "height": null,
      "justify_content": null,
      "justify_items": null,
      "left": null,
      "margin": null,
      "max_height": null,
      "max_width": null,
      "min_height": null,
      "min_width": null,
      "object_fit": null,
      "object_position": null,
      "order": null,
      "overflow": null,
      "overflow_x": null,
      "overflow_y": null,
      "padding": null,
      "right": null,
      "top": null,
      "visibility": null,
      "width": null
     }
    },
    "303abea165b84920a7a0d9d2f1d660fa": {
     "model_module": "@jupyter-widgets/base",
     "model_name": "LayoutModel",
     "state": {
      "_model_module": "@jupyter-widgets/base",
      "_model_module_version": "1.2.0",
      "_model_name": "LayoutModel",
      "_view_count": null,
      "_view_module": "@jupyter-widgets/base",
      "_view_module_version": "1.2.0",
      "_view_name": "LayoutView",
      "align_content": null,
      "align_items": null,
      "align_self": null,
      "border": null,
      "bottom": null,
      "display": null,
      "flex": null,
      "flex_flow": null,
      "grid_area": null,
      "grid_auto_columns": null,
      "grid_auto_flow": null,
      "grid_auto_rows": null,
      "grid_column": null,
      "grid_gap": null,
      "grid_row": null,
      "grid_template_areas": null,
      "grid_template_columns": null,
      "grid_template_rows": null,
      "height": null,
      "justify_content": null,
      "justify_items": null,
      "left": null,
      "margin": null,
      "max_height": null,
      "max_width": null,
      "min_height": null,
      "min_width": null,
      "object_fit": null,
      "object_position": null,
      "order": null,
      "overflow": null,
      "overflow_x": null,
      "overflow_y": null,
      "padding": null,
      "right": null,
      "top": null,
      "visibility": null,
      "width": null
     }
    },
    "31c78a046756404bbeb1f06405a011aa": {
     "model_module": "@jupyter-widgets/base",
     "model_name": "LayoutModel",
     "state": {
      "_model_module": "@jupyter-widgets/base",
      "_model_module_version": "1.2.0",
      "_model_name": "LayoutModel",
      "_view_count": null,
      "_view_module": "@jupyter-widgets/base",
      "_view_module_version": "1.2.0",
      "_view_name": "LayoutView",
      "align_content": null,
      "align_items": null,
      "align_self": null,
      "border": null,
      "bottom": null,
      "display": null,
      "flex": null,
      "flex_flow": null,
      "grid_area": null,
      "grid_auto_columns": null,
      "grid_auto_flow": null,
      "grid_auto_rows": null,
      "grid_column": null,
      "grid_gap": null,
      "grid_row": null,
      "grid_template_areas": null,
      "grid_template_columns": null,
      "grid_template_rows": null,
      "height": null,
      "justify_content": null,
      "justify_items": null,
      "left": null,
      "margin": null,
      "max_height": null,
      "max_width": null,
      "min_height": null,
      "min_width": null,
      "object_fit": null,
      "object_position": null,
      "order": null,
      "overflow": null,
      "overflow_x": null,
      "overflow_y": null,
      "padding": null,
      "right": null,
      "top": null,
      "visibility": null,
      "width": null
     }
    },
    "32ef29158b2a4ff8af4431f183f43973": {
     "model_module": "@jupyter-widgets/controls",
     "model_name": "DescriptionStyleModel",
     "state": {
      "_model_module": "@jupyter-widgets/controls",
      "_model_module_version": "1.5.0",
      "_model_name": "DescriptionStyleModel",
      "_view_count": null,
      "_view_module": "@jupyter-widgets/base",
      "_view_module_version": "1.2.0",
      "_view_name": "StyleView",
      "description_width": ""
     }
    },
    "33768278cf824460a6e6095a2ff2b135": {
     "model_module": "@jupyter-widgets/controls",
     "model_name": "HTMLModel",
     "state": {
      "_dom_classes": [],
      "_model_module": "@jupyter-widgets/controls",
      "_model_module_version": "1.5.0",
      "_model_name": "HTMLModel",
      "_view_count": null,
      "_view_module": "@jupyter-widgets/controls",
      "_view_module_version": "1.5.0",
      "_view_name": "HTMLView",
      "description": "",
      "description_tooltip": null,
      "layout": "IPY_MODEL_2bfb4c37ee834300a857d902df17d5e2",
      "placeholder": "​",
      "style": "IPY_MODEL_32ef29158b2a4ff8af4431f183f43973",
      "value": " 20/20 [34:05&lt;00:00, 102.26s/Epoch]"
     }
    },
    "3936c81f405043ce8956640c6eafb644": {
     "model_module": "@jupyter-widgets/controls",
     "model_name": "FloatProgressModel",
     "state": {
      "_dom_classes": [],
      "_model_module": "@jupyter-widgets/controls",
      "_model_module_version": "1.5.0",
      "_model_name": "FloatProgressModel",
      "_view_count": null,
      "_view_module": "@jupyter-widgets/controls",
      "_view_module_version": "1.5.0",
      "_view_name": "ProgressView",
      "bar_style": "success",
      "description": "Training: 100%",
      "description_tooltip": null,
      "layout": "IPY_MODEL_ad4ebe377ae545239234e04e2d4c467a",
      "max": 3,
      "min": 0,
      "orientation": "horizontal",
      "style": "IPY_MODEL_632a8f3df6e2497ebeed4458162cfcfc",
      "value": 3
     }
    },
    "3db553dd258a42c3a0bc9b1cb3ef9cc3": {
     "model_module": "@jupyter-widgets/controls",
     "model_name": "ProgressStyleModel",
     "state": {
      "_model_module": "@jupyter-widgets/controls",
      "_model_module_version": "1.5.0",
      "_model_name": "ProgressStyleModel",
      "_view_count": null,
      "_view_module": "@jupyter-widgets/base",
      "_view_module_version": "1.2.0",
      "_view_name": "StyleView",
      "bar_color": null,
      "description_width": "initial"
     }
    },
    "3f4852f914ac4f5189854b03bc5d6ec8": {
     "model_module": "@jupyter-widgets/controls",
     "model_name": "ProgressStyleModel",
     "state": {
      "_model_module": "@jupyter-widgets/controls",
      "_model_module_version": "1.5.0",
      "_model_name": "ProgressStyleModel",
      "_view_count": null,
      "_view_module": "@jupyter-widgets/base",
      "_view_module_version": "1.2.0",
      "_view_name": "StyleView",
      "bar_color": null,
      "description_width": "initial"
     }
    },
    "463d7dfa8a824118b6dd1955e434a5ce": {
     "model_module": "@jupyter-widgets/base",
     "model_name": "LayoutModel",
     "state": {
      "_model_module": "@jupyter-widgets/base",
      "_model_module_version": "1.2.0",
      "_model_name": "LayoutModel",
      "_view_count": null,
      "_view_module": "@jupyter-widgets/base",
      "_view_module_version": "1.2.0",
      "_view_name": "LayoutView",
      "align_content": null,
      "align_items": null,
      "align_self": null,
      "border": null,
      "bottom": null,
      "display": null,
      "flex": null,
      "flex_flow": null,
      "grid_area": null,
      "grid_auto_columns": null,
      "grid_auto_flow": null,
      "grid_auto_rows": null,
      "grid_column": null,
      "grid_gap": null,
      "grid_row": null,
      "grid_template_areas": null,
      "grid_template_columns": null,
      "grid_template_rows": null,
      "height": null,
      "justify_content": null,
      "justify_items": null,
      "left": null,
      "margin": null,
      "max_height": null,
      "max_width": null,
      "min_height": null,
      "min_width": null,
      "object_fit": null,
      "object_position": null,
      "order": null,
      "overflow": null,
      "overflow_x": null,
      "overflow_y": null,
      "padding": null,
      "right": null,
      "top": null,
      "visibility": null,
      "width": null
     }
    },
    "49648ddcc6324f4f83539ebfb8fcf345": {
     "model_module": "@jupyter-widgets/base",
     "model_name": "LayoutModel",
     "state": {
      "_model_module": "@jupyter-widgets/base",
      "_model_module_version": "1.2.0",
      "_model_name": "LayoutModel",
      "_view_count": null,
      "_view_module": "@jupyter-widgets/base",
      "_view_module_version": "1.2.0",
      "_view_name": "LayoutView",
      "align_content": null,
      "align_items": null,
      "align_self": null,
      "border": null,
      "bottom": null,
      "display": null,
      "flex": null,
      "flex_flow": null,
      "grid_area": null,
      "grid_auto_columns": null,
      "grid_auto_flow": null,
      "grid_auto_rows": null,
      "grid_column": null,
      "grid_gap": null,
      "grid_row": null,
      "grid_template_areas": null,
      "grid_template_columns": null,
      "grid_template_rows": null,
      "height": null,
      "justify_content": null,
      "justify_items": null,
      "left": null,
      "margin": null,
      "max_height": null,
      "max_width": null,
      "min_height": null,
      "min_width": null,
      "object_fit": null,
      "object_position": null,
      "order": null,
      "overflow": null,
      "overflow_x": null,
      "overflow_y": null,
      "padding": null,
      "right": null,
      "top": null,
      "visibility": null,
      "width": null
     }
    },
    "4bbd798bd33547b998bbad1621a04f82": {
     "model_module": "@jupyter-widgets/controls",
     "model_name": "HTMLModel",
     "state": {
      "_dom_classes": [],
      "_model_module": "@jupyter-widgets/controls",
      "_model_module_version": "1.5.0",
      "_model_name": "HTMLModel",
      "_view_count": null,
      "_view_module": "@jupyter-widgets/controls",
      "_view_module_version": "1.5.0",
      "_view_name": "HTMLView",
      "description": "",
      "description_tooltip": null,
      "layout": "IPY_MODEL_d9d9cf2172664499a588a0dc28cce939",
      "placeholder": "​",
      "style": "IPY_MODEL_cddb3a97dd3d4b83a1af98fef04379ee",
      "value": " 528M/528M [13:21&lt;00:00, 691kB/s]"
     }
    },
    "4bfdee3a03be41e29bd7356a20237f25": {
     "model_module": "@jupyter-widgets/controls",
     "model_name": "DescriptionStyleModel",
     "state": {
      "_model_module": "@jupyter-widgets/controls",
      "_model_module_version": "1.5.0",
      "_model_name": "DescriptionStyleModel",
      "_view_count": null,
      "_view_module": "@jupyter-widgets/base",
      "_view_module_version": "1.2.0",
      "_view_name": "StyleView",
      "description_width": ""
     }
    },
    "4dee3c1fb3d6404ea6f61e97dd289b36": {
     "model_module": "@jupyter-widgets/controls",
     "model_name": "DescriptionStyleModel",
     "state": {
      "_model_module": "@jupyter-widgets/controls",
      "_model_module_version": "1.5.0",
      "_model_name": "DescriptionStyleModel",
      "_view_count": null,
      "_view_module": "@jupyter-widgets/base",
      "_view_module_version": "1.2.0",
      "_view_name": "StyleView",
      "description_width": ""
     }
    },
    "4f66772e429f4fa2adb03e21b3c77fc6": {
     "model_module": "@jupyter-widgets/base",
     "model_name": "LayoutModel",
     "state": {
      "_model_module": "@jupyter-widgets/base",
      "_model_module_version": "1.2.0",
      "_model_name": "LayoutModel",
      "_view_count": null,
      "_view_module": "@jupyter-widgets/base",
      "_view_module_version": "1.2.0",
      "_view_name": "LayoutView",
      "align_content": null,
      "align_items": null,
      "align_self": null,
      "border": null,
      "bottom": null,
      "display": null,
      "flex": null,
      "flex_flow": null,
      "grid_area": null,
      "grid_auto_columns": null,
      "grid_auto_flow": null,
      "grid_auto_rows": null,
      "grid_column": null,
      "grid_gap": null,
      "grid_row": null,
      "grid_template_areas": null,
      "grid_template_columns": null,
      "grid_template_rows": null,
      "height": null,
      "justify_content": null,
      "justify_items": null,
      "left": null,
      "margin": null,
      "max_height": null,
      "max_width": null,
      "min_height": null,
      "min_width": null,
      "object_fit": null,
      "object_position": null,
      "order": null,
      "overflow": null,
      "overflow_x": null,
      "overflow_y": null,
      "padding": null,
      "right": null,
      "top": null,
      "visibility": null,
      "width": null
     }
    },
    "4fe6d0bf84d54c1590b32fa5fabac5c9": {
     "model_module": "@jupyter-widgets/controls",
     "model_name": "HTMLModel",
     "state": {
      "_dom_classes": [],
      "_model_module": "@jupyter-widgets/controls",
      "_model_module_version": "1.5.0",
      "_model_name": "HTMLModel",
      "_view_count": null,
      "_view_module": "@jupyter-widgets/controls",
      "_view_module_version": "1.5.0",
      "_view_name": "HTMLView",
      "description": "",
      "description_tooltip": null,
      "layout": "IPY_MODEL_a59a889f32ae4b2d981fa32ac14917ab",
      "placeholder": "​",
      "style": "IPY_MODEL_9d18f6dbb1ac46f39c991d86a86a012b",
      "value": " 3/3 [08:44&lt;00:00, 174.68s/Epoch]"
     }
    },
    "503771f384cf44468ee879601a6cf9ee": {
     "model_module": "@jupyter-widgets/base",
     "model_name": "LayoutModel",
     "state": {
      "_model_module": "@jupyter-widgets/base",
      "_model_module_version": "1.2.0",
      "_model_name": "LayoutModel",
      "_view_count": null,
      "_view_module": "@jupyter-widgets/base",
      "_view_module_version": "1.2.0",
      "_view_name": "LayoutView",
      "align_content": null,
      "align_items": null,
      "align_self": null,
      "border": null,
      "bottom": null,
      "display": null,
      "flex": null,
      "flex_flow": null,
      "grid_area": null,
      "grid_auto_columns": null,
      "grid_auto_flow": null,
      "grid_auto_rows": null,
      "grid_column": null,
      "grid_gap": null,
      "grid_row": null,
      "grid_template_areas": null,
      "grid_template_columns": null,
      "grid_template_rows": null,
      "height": null,
      "justify_content": null,
      "justify_items": null,
      "left": null,
      "margin": null,
      "max_height": null,
      "max_width": null,
      "min_height": null,
      "min_width": null,
      "object_fit": null,
      "object_position": null,
      "order": null,
      "overflow": null,
      "overflow_x": null,
      "overflow_y": null,
      "padding": null,
      "right": null,
      "top": null,
      "visibility": null,
      "width": null
     }
    },
    "54fe1c215e5f4d6fa2b1dc72766dabc6": {
     "model_module": "@jupyter-widgets/controls",
     "model_name": "DescriptionStyleModel",
     "state": {
      "_model_module": "@jupyter-widgets/controls",
      "_model_module_version": "1.5.0",
      "_model_name": "DescriptionStyleModel",
      "_view_count": null,
      "_view_module": "@jupyter-widgets/base",
      "_view_module_version": "1.2.0",
      "_view_name": "StyleView",
      "description_width": ""
     }
    },
    "5c0f44eff5994eb7839ee67edf493228": {
     "model_module": "@jupyter-widgets/controls",
     "model_name": "HBoxModel",
     "state": {
      "_dom_classes": [],
      "_model_module": "@jupyter-widgets/controls",
      "_model_module_version": "1.5.0",
      "_model_name": "HBoxModel",
      "_view_count": null,
      "_view_module": "@jupyter-widgets/controls",
      "_view_module_version": "1.5.0",
      "_view_name": "HBoxView",
      "box_style": "",
      "children": [
       "IPY_MODEL_e695f94374e2408e99c039742778e6ba",
       "IPY_MODEL_f29b6b1e561d4cf2a98cfdbd5e3e1f31"
      ],
      "layout": "IPY_MODEL_c0015834aea14dc29ac32ab40821fea6"
     }
    },
    "5ccf39a18b0c4d06896d463c287ed106": {
     "model_module": "@jupyter-widgets/controls",
     "model_name": "FloatProgressModel",
     "state": {
      "_dom_classes": [],
      "_model_module": "@jupyter-widgets/controls",
      "_model_module_version": "1.5.0",
      "_model_name": "FloatProgressModel",
      "_view_count": null,
      "_view_module": "@jupyter-widgets/controls",
      "_view_module_version": "1.5.0",
      "_view_name": "ProgressView",
      "bar_style": "success",
      "description": "Training: 100%",
      "description_tooltip": null,
      "layout": "IPY_MODEL_b38f108855674b64af7a6c617e87b784",
      "max": 3,
      "min": 0,
      "orientation": "horizontal",
      "style": "IPY_MODEL_9afce6a002e148bda8e8e6e238e28033",
      "value": 3
     }
    },
    "5d03dcc759d449058aa6bfcd50e9906e": {
     "model_module": "@jupyter-widgets/base",
     "model_name": "LayoutModel",
     "state": {
      "_model_module": "@jupyter-widgets/base",
      "_model_module_version": "1.2.0",
      "_model_name": "LayoutModel",
      "_view_count": null,
      "_view_module": "@jupyter-widgets/base",
      "_view_module_version": "1.2.0",
      "_view_name": "LayoutView",
      "align_content": null,
      "align_items": null,
      "align_self": null,
      "border": null,
      "bottom": null,
      "display": null,
      "flex": null,
      "flex_flow": null,
      "grid_area": null,
      "grid_auto_columns": null,
      "grid_auto_flow": null,
      "grid_auto_rows": null,
      "grid_column": null,
      "grid_gap": null,
      "grid_row": null,
      "grid_template_areas": null,
      "grid_template_columns": null,
      "grid_template_rows": null,
      "height": null,
      "justify_content": null,
      "justify_items": null,
      "left": null,
      "margin": null,
      "max_height": null,
      "max_width": null,
      "min_height": null,
      "min_width": null,
      "object_fit": null,
      "object_position": null,
      "order": null,
      "overflow": null,
      "overflow_x": null,
      "overflow_y": null,
      "padding": null,
      "right": null,
      "top": null,
      "visibility": null,
      "width": null
     }
    },
    "60a2c158a68648d9b73752321651345b": {
     "model_module": "@jupyter-widgets/controls",
     "model_name": "HBoxModel",
     "state": {
      "_dom_classes": [],
      "_model_module": "@jupyter-widgets/controls",
      "_model_module_version": "1.5.0",
      "_model_name": "HBoxModel",
      "_view_count": null,
      "_view_module": "@jupyter-widgets/controls",
      "_view_module_version": "1.5.0",
      "_view_name": "HBoxView",
      "box_style": "",
      "children": [
       "IPY_MODEL_1c28ca19ad254e4889ae1f9f9f1bef34",
       "IPY_MODEL_173862fa403b4b9cbef82066395b050e"
      ],
      "layout": "IPY_MODEL_c35168bdd00847e8808d4ea9f6b03869"
     }
    },
    "632a8f3df6e2497ebeed4458162cfcfc": {
     "model_module": "@jupyter-widgets/controls",
     "model_name": "ProgressStyleModel",
     "state": {
      "_model_module": "@jupyter-widgets/controls",
      "_model_module_version": "1.5.0",
      "_model_name": "ProgressStyleModel",
      "_view_count": null,
      "_view_module": "@jupyter-widgets/base",
      "_view_module_version": "1.2.0",
      "_view_name": "StyleView",
      "bar_color": null,
      "description_width": "initial"
     }
    },
    "63e6c8a29a014f0f84d2d762685231db": {
     "model_module": "@jupyter-widgets/base",
     "model_name": "LayoutModel",
     "state": {
      "_model_module": "@jupyter-widgets/base",
      "_model_module_version": "1.2.0",
      "_model_name": "LayoutModel",
      "_view_count": null,
      "_view_module": "@jupyter-widgets/base",
      "_view_module_version": "1.2.0",
      "_view_name": "LayoutView",
      "align_content": null,
      "align_items": null,
      "align_self": null,
      "border": null,
      "bottom": null,
      "display": null,
      "flex": null,
      "flex_flow": null,
      "grid_area": null,
      "grid_auto_columns": null,
      "grid_auto_flow": null,
      "grid_auto_rows": null,
      "grid_column": null,
      "grid_gap": null,
      "grid_row": null,
      "grid_template_areas": null,
      "grid_template_columns": null,
      "grid_template_rows": null,
      "height": null,
      "justify_content": null,
      "justify_items": null,
      "left": null,
      "margin": null,
      "max_height": null,
      "max_width": null,
      "min_height": null,
      "min_width": null,
      "object_fit": null,
      "object_position": null,
      "order": null,
      "overflow": null,
      "overflow_x": null,
      "overflow_y": null,
      "padding": null,
      "right": null,
      "top": null,
      "visibility": null,
      "width": null
     }
    },
    "654caef93a524161886cbfc3292fc3a3": {
     "model_module": "@jupyter-widgets/base",
     "model_name": "LayoutModel",
     "state": {
      "_model_module": "@jupyter-widgets/base",
      "_model_module_version": "1.2.0",
      "_model_name": "LayoutModel",
      "_view_count": null,
      "_view_module": "@jupyter-widgets/base",
      "_view_module_version": "1.2.0",
      "_view_name": "LayoutView",
      "align_content": null,
      "align_items": null,
      "align_self": null,
      "border": null,
      "bottom": null,
      "display": null,
      "flex": null,
      "flex_flow": null,
      "grid_area": null,
      "grid_auto_columns": null,
      "grid_auto_flow": null,
      "grid_auto_rows": null,
      "grid_column": null,
      "grid_gap": null,
      "grid_row": null,
      "grid_template_areas": null,
      "grid_template_columns": null,
      "grid_template_rows": null,
      "height": null,
      "justify_content": null,
      "justify_items": null,
      "left": null,
      "margin": null,
      "max_height": null,
      "max_width": null,
      "min_height": null,
      "min_width": null,
      "object_fit": null,
      "object_position": null,
      "order": null,
      "overflow": null,
      "overflow_x": null,
      "overflow_y": null,
      "padding": null,
      "right": null,
      "top": null,
      "visibility": null,
      "width": null
     }
    },
    "677818afc9e0473f8363786d100ffb3f": {
     "model_module": "@jupyter-widgets/base",
     "model_name": "LayoutModel",
     "state": {
      "_model_module": "@jupyter-widgets/base",
      "_model_module_version": "1.2.0",
      "_model_name": "LayoutModel",
      "_view_count": null,
      "_view_module": "@jupyter-widgets/base",
      "_view_module_version": "1.2.0",
      "_view_name": "LayoutView",
      "align_content": null,
      "align_items": null,
      "align_self": null,
      "border": null,
      "bottom": null,
      "display": null,
      "flex": null,
      "flex_flow": null,
      "grid_area": null,
      "grid_auto_columns": null,
      "grid_auto_flow": null,
      "grid_auto_rows": null,
      "grid_column": null,
      "grid_gap": null,
      "grid_row": null,
      "grid_template_areas": null,
      "grid_template_columns": null,
      "grid_template_rows": null,
      "height": null,
      "justify_content": null,
      "justify_items": null,
      "left": null,
      "margin": null,
      "max_height": null,
      "max_width": null,
      "min_height": null,
      "min_width": null,
      "object_fit": null,
      "object_position": null,
      "order": null,
      "overflow": null,
      "overflow_x": null,
      "overflow_y": null,
      "padding": null,
      "right": null,
      "top": null,
      "visibility": null,
      "width": null
     }
    },
    "67e7401596194188a05a7735b009d288": {
     "model_module": "@jupyter-widgets/controls",
     "model_name": "ProgressStyleModel",
     "state": {
      "_model_module": "@jupyter-widgets/controls",
      "_model_module_version": "1.5.0",
      "_model_name": "ProgressStyleModel",
      "_view_count": null,
      "_view_module": "@jupyter-widgets/base",
      "_view_module_version": "1.2.0",
      "_view_name": "StyleView",
      "bar_color": null,
      "description_width": "initial"
     }
    },
    "6ba6e6f9f21b44ca9deb01333a8a6528": {
     "model_module": "@jupyter-widgets/controls",
     "model_name": "FloatProgressModel",
     "state": {
      "_dom_classes": [],
      "_model_module": "@jupyter-widgets/controls",
      "_model_module_version": "1.5.0",
      "_model_name": "FloatProgressModel",
      "_view_count": null,
      "_view_module": "@jupyter-widgets/controls",
      "_view_module_version": "1.5.0",
      "_view_name": "ProgressView",
      "bar_style": "success",
      "description": "Training: 100%",
      "description_tooltip": null,
      "layout": "IPY_MODEL_b3fac9fbac1842709d494bbbea4ac2d5",
      "max": 3,
      "min": 0,
      "orientation": "horizontal",
      "style": "IPY_MODEL_f5f0ce888f674b9f8066b08411c2b59f",
      "value": 3
     }
    },
    "6cfade9562eb4ab4bcda242050544b8d": {
     "model_module": "@jupyter-widgets/base",
     "model_name": "LayoutModel",
     "state": {
      "_model_module": "@jupyter-widgets/base",
      "_model_module_version": "1.2.0",
      "_model_name": "LayoutModel",
      "_view_count": null,
      "_view_module": "@jupyter-widgets/base",
      "_view_module_version": "1.2.0",
      "_view_name": "LayoutView",
      "align_content": null,
      "align_items": null,
      "align_self": null,
      "border": null,
      "bottom": null,
      "display": null,
      "flex": null,
      "flex_flow": null,
      "grid_area": null,
      "grid_auto_columns": null,
      "grid_auto_flow": null,
      "grid_auto_rows": null,
      "grid_column": null,
      "grid_gap": null,
      "grid_row": null,
      "grid_template_areas": null,
      "grid_template_columns": null,
      "grid_template_rows": null,
      "height": null,
      "justify_content": null,
      "justify_items": null,
      "left": null,
      "margin": null,
      "max_height": null,
      "max_width": null,
      "min_height": null,
      "min_width": null,
      "object_fit": null,
      "object_position": null,
      "order": null,
      "overflow": null,
      "overflow_x": null,
      "overflow_y": null,
      "padding": null,
      "right": null,
      "top": null,
      "visibility": null,
      "width": null
     }
    },
    "6dfdceec08a44e5692d17f15a6aef98f": {
     "model_module": "@jupyter-widgets/base",
     "model_name": "LayoutModel",
     "state": {
      "_model_module": "@jupyter-widgets/base",
      "_model_module_version": "1.2.0",
      "_model_name": "LayoutModel",
      "_view_count": null,
      "_view_module": "@jupyter-widgets/base",
      "_view_module_version": "1.2.0",
      "_view_name": "LayoutView",
      "align_content": null,
      "align_items": null,
      "align_self": null,
      "border": null,
      "bottom": null,
      "display": null,
      "flex": null,
      "flex_flow": null,
      "grid_area": null,
      "grid_auto_columns": null,
      "grid_auto_flow": null,
      "grid_auto_rows": null,
      "grid_column": null,
      "grid_gap": null,
      "grid_row": null,
      "grid_template_areas": null,
      "grid_template_columns": null,
      "grid_template_rows": null,
      "height": null,
      "justify_content": null,
      "justify_items": null,
      "left": null,
      "margin": null,
      "max_height": null,
      "max_width": null,
      "min_height": null,
      "min_width": null,
      "object_fit": null,
      "object_position": null,
      "order": null,
      "overflow": null,
      "overflow_x": null,
      "overflow_y": null,
      "padding": null,
      "right": null,
      "top": null,
      "visibility": null,
      "width": null
     }
    },
    "6f92ca033c034994b653f000517c1a9d": {
     "model_module": "@jupyter-widgets/controls",
     "model_name": "ProgressStyleModel",
     "state": {
      "_model_module": "@jupyter-widgets/controls",
      "_model_module_version": "1.5.0",
      "_model_name": "ProgressStyleModel",
      "_view_count": null,
      "_view_module": "@jupyter-widgets/base",
      "_view_module_version": "1.2.0",
      "_view_name": "StyleView",
      "bar_color": null,
      "description_width": "initial"
     }
    },
    "6fb2e5b881ae4f68afec1a07f6978a92": {
     "model_module": "@jupyter-widgets/controls",
     "model_name": "ProgressStyleModel",
     "state": {
      "_model_module": "@jupyter-widgets/controls",
      "_model_module_version": "1.5.0",
      "_model_name": "ProgressStyleModel",
      "_view_count": null,
      "_view_module": "@jupyter-widgets/base",
      "_view_module_version": "1.2.0",
      "_view_name": "StyleView",
      "bar_color": null,
      "description_width": "initial"
     }
    },
    "8009d30c1e2c4b4d97359f2993f21086": {
     "model_module": "@jupyter-widgets/controls",
     "model_name": "HTMLModel",
     "state": {
      "_dom_classes": [],
      "_model_module": "@jupyter-widgets/controls",
      "_model_module_version": "1.5.0",
      "_model_name": "HTMLModel",
      "_view_count": null,
      "_view_module": "@jupyter-widgets/controls",
      "_view_module_version": "1.5.0",
      "_view_name": "HTMLView",
      "description": "",
      "description_tooltip": null,
      "layout": "IPY_MODEL_b0e39019d31a4e969e64a42d899f60e5",
      "placeholder": "​",
      "style": "IPY_MODEL_ae3d6bee3e7241098c7b73e6f3db132f",
      "value": " 3/3 [03:29&lt;00:00, 69.82s/Epoch]"
     }
    },
    "81613af83bdb4e77af8da64e517eda5c": {
     "model_module": "@jupyter-widgets/controls",
     "model_name": "HBoxModel",
     "state": {
      "_dom_classes": [],
      "_model_module": "@jupyter-widgets/controls",
      "_model_module_version": "1.5.0",
      "_model_name": "HBoxModel",
      "_view_count": null,
      "_view_module": "@jupyter-widgets/controls",
      "_view_module_version": "1.5.0",
      "_view_name": "HBoxView",
      "box_style": "",
      "children": [
       "IPY_MODEL_0f287d57fefe4359b3f86cb097b9c832",
       "IPY_MODEL_dd7c4bd55c9f4127a47332a456de196e"
      ],
      "layout": "IPY_MODEL_463d7dfa8a824118b6dd1955e434a5ce"
     }
    },
    "854a1007886844659901f9b0a95eca8e": {
     "model_module": "@jupyter-widgets/controls",
     "model_name": "HTMLModel",
     "state": {
      "_dom_classes": [],
      "_model_module": "@jupyter-widgets/controls",
      "_model_module_version": "1.5.0",
      "_model_name": "HTMLModel",
      "_view_count": null,
      "_view_module": "@jupyter-widgets/controls",
      "_view_module_version": "1.5.0",
      "_view_name": "HTMLView",
      "description": "",
      "description_tooltip": null,
      "layout": "IPY_MODEL_1be46561e8cf48d4ad86e81be83b3977",
      "placeholder": "​",
      "style": "IPY_MODEL_d373969c6e424e10bead53569c5922c8",
      "value": " 29696/? [08:19&lt;00:00, 59.40it/s]"
     }
    },
    "860cea4d8853464a92474446e62d1558": {
     "model_module": "@jupyter-widgets/controls",
     "model_name": "HBoxModel",
     "state": {
      "_dom_classes": [],
      "_model_module": "@jupyter-widgets/controls",
      "_model_module_version": "1.5.0",
      "_model_name": "HBoxModel",
      "_view_count": null,
      "_view_module": "@jupyter-widgets/controls",
      "_view_module_version": "1.5.0",
      "_view_name": "HBoxView",
      "box_style": "",
      "children": [
       "IPY_MODEL_1cc0788b3d0e4232aa70e8200a28a2e5",
       "IPY_MODEL_1579c2e83a5d455a82ab3b673a626989"
      ],
      "layout": "IPY_MODEL_c41e577f679549c9b518200e4f64674b"
     }
    },
    "875baf99ec1a4ebfb4889ce5f9b1acb3": {
     "model_module": "@jupyter-widgets/controls",
     "model_name": "ProgressStyleModel",
     "state": {
      "_model_module": "@jupyter-widgets/controls",
      "_model_module_version": "1.5.0",
      "_model_name": "ProgressStyleModel",
      "_view_count": null,
      "_view_module": "@jupyter-widgets/base",
      "_view_module_version": "1.2.0",
      "_view_name": "StyleView",
      "bar_color": null,
      "description_width": "initial"
     }
    },
    "884313016332431eb967beb5acb67ca4": {
     "model_module": "@jupyter-widgets/base",
     "model_name": "LayoutModel",
     "state": {
      "_model_module": "@jupyter-widgets/base",
      "_model_module_version": "1.2.0",
      "_model_name": "LayoutModel",
      "_view_count": null,
      "_view_module": "@jupyter-widgets/base",
      "_view_module_version": "1.2.0",
      "_view_name": "LayoutView",
      "align_content": null,
      "align_items": null,
      "align_self": null,
      "border": null,
      "bottom": null,
      "display": null,
      "flex": null,
      "flex_flow": null,
      "grid_area": null,
      "grid_auto_columns": null,
      "grid_auto_flow": null,
      "grid_auto_rows": null,
      "grid_column": null,
      "grid_gap": null,
      "grid_row": null,
      "grid_template_areas": null,
      "grid_template_columns": null,
      "grid_template_rows": null,
      "height": null,
      "justify_content": null,
      "justify_items": null,
      "left": null,
      "margin": null,
      "max_height": null,
      "max_width": null,
      "min_height": null,
      "min_width": null,
      "object_fit": null,
      "object_position": null,
      "order": null,
      "overflow": null,
      "overflow_x": null,
      "overflow_y": null,
      "padding": null,
      "right": null,
      "top": null,
      "visibility": null,
      "width": null
     }
    },
    "89940f3651f244e5bec8eb400c6603e5": {
     "model_module": "@jupyter-widgets/controls",
     "model_name": "ProgressStyleModel",
     "state": {
      "_model_module": "@jupyter-widgets/controls",
      "_model_module_version": "1.5.0",
      "_model_name": "ProgressStyleModel",
      "_view_count": null,
      "_view_module": "@jupyter-widgets/base",
      "_view_module_version": "1.2.0",
      "_view_name": "StyleView",
      "bar_color": null,
      "description_width": "initial"
     }
    },
    "8e6156a283024cab897ad6feb86badcc": {
     "model_module": "@jupyter-widgets/base",
     "model_name": "LayoutModel",
     "state": {
      "_model_module": "@jupyter-widgets/base",
      "_model_module_version": "1.2.0",
      "_model_name": "LayoutModel",
      "_view_count": null,
      "_view_module": "@jupyter-widgets/base",
      "_view_module_version": "1.2.0",
      "_view_name": "LayoutView",
      "align_content": null,
      "align_items": null,
      "align_self": null,
      "border": null,
      "bottom": null,
      "display": null,
      "flex": null,
      "flex_flow": null,
      "grid_area": null,
      "grid_auto_columns": null,
      "grid_auto_flow": null,
      "grid_auto_rows": null,
      "grid_column": null,
      "grid_gap": null,
      "grid_row": null,
      "grid_template_areas": null,
      "grid_template_columns": null,
      "grid_template_rows": null,
      "height": null,
      "justify_content": null,
      "justify_items": null,
      "left": null,
      "margin": null,
      "max_height": null,
      "max_width": null,
      "min_height": null,
      "min_width": null,
      "object_fit": null,
      "object_position": null,
      "order": null,
      "overflow": null,
      "overflow_x": null,
      "overflow_y": null,
      "padding": null,
      "right": null,
      "top": null,
      "visibility": null,
      "width": null
     }
    },
    "8e888e19f1e44234b65fd27d2660eb50": {
     "model_module": "@jupyter-widgets/base",
     "model_name": "LayoutModel",
     "state": {
      "_model_module": "@jupyter-widgets/base",
      "_model_module_version": "1.2.0",
      "_model_name": "LayoutModel",
      "_view_count": null,
      "_view_module": "@jupyter-widgets/base",
      "_view_module_version": "1.2.0",
      "_view_name": "LayoutView",
      "align_content": null,
      "align_items": null,
      "align_self": null,
      "border": null,
      "bottom": null,
      "display": null,
      "flex": null,
      "flex_flow": null,
      "grid_area": null,
      "grid_auto_columns": null,
      "grid_auto_flow": null,
      "grid_auto_rows": null,
      "grid_column": null,
      "grid_gap": null,
      "grid_row": null,
      "grid_template_areas": null,
      "grid_template_columns": null,
      "grid_template_rows": null,
      "height": null,
      "justify_content": null,
      "justify_items": null,
      "left": null,
      "margin": null,
      "max_height": null,
      "max_width": null,
      "min_height": null,
      "min_width": null,
      "object_fit": null,
      "object_position": null,
      "order": null,
      "overflow": null,
      "overflow_x": null,
      "overflow_y": null,
      "padding": null,
      "right": null,
      "top": null,
      "visibility": null,
      "width": null
     }
    },
    "929f305b56eb4d5eb2d89e1123aba91f": {
     "model_module": "@jupyter-widgets/controls",
     "model_name": "HTMLModel",
     "state": {
      "_dom_classes": [],
      "_model_module": "@jupyter-widgets/controls",
      "_model_module_version": "1.5.0",
      "_model_name": "HTMLModel",
      "_view_count": null,
      "_view_module": "@jupyter-widgets/controls",
      "_view_module_version": "1.5.0",
      "_view_name": "HTMLView",
      "description": "",
      "description_tooltip": null,
      "layout": "IPY_MODEL_63e6c8a29a014f0f84d2d762685231db",
      "placeholder": "​",
      "style": "IPY_MODEL_291471d64fcb44bda58ede8ecf98d15f",
      "value": " 3/3 [39:07&lt;00:00, 782.55s/Epoch]"
     }
    },
    "937d169774c24543a0f0fcfd98cd3228": {
     "model_module": "@jupyter-widgets/controls",
     "model_name": "HTMLModel",
     "state": {
      "_dom_classes": [],
      "_model_module": "@jupyter-widgets/controls",
      "_model_module_version": "1.5.0",
      "_model_name": "HTMLModel",
      "_view_count": null,
      "_view_module": "@jupyter-widgets/controls",
      "_view_module_version": "1.5.0",
      "_view_name": "HTMLView",
      "description": "",
      "description_tooltip": null,
      "layout": "IPY_MODEL_4f66772e429f4fa2adb03e21b3c77fc6",
      "placeholder": "​",
      "style": "IPY_MODEL_54fe1c215e5f4d6fa2b1dc72766dabc6",
      "value": " 3/3 [08:57&lt;00:00, 179.19s/Epoch]"
     }
    },
    "968b6ad27dae40fcbfc479a9d83d4fa6": {
     "model_module": "@jupyter-widgets/base",
     "model_name": "LayoutModel",
     "state": {
      "_model_module": "@jupyter-widgets/base",
      "_model_module_version": "1.2.0",
      "_model_name": "LayoutModel",
      "_view_count": null,
      "_view_module": "@jupyter-widgets/base",
      "_view_module_version": "1.2.0",
      "_view_name": "LayoutView",
      "align_content": null,
      "align_items": null,
      "align_self": null,
      "border": null,
      "bottom": null,
      "display": null,
      "flex": null,
      "flex_flow": null,
      "grid_area": null,
      "grid_auto_columns": null,
      "grid_auto_flow": null,
      "grid_auto_rows": null,
      "grid_column": null,
      "grid_gap": null,
      "grid_row": null,
      "grid_template_areas": null,
      "grid_template_columns": null,
      "grid_template_rows": null,
      "height": null,
      "justify_content": null,
      "justify_items": null,
      "left": null,
      "margin": null,
      "max_height": null,
      "max_width": null,
      "min_height": null,
      "min_width": null,
      "object_fit": null,
      "object_position": null,
      "order": null,
      "overflow": null,
      "overflow_x": null,
      "overflow_y": null,
      "padding": null,
      "right": null,
      "top": null,
      "visibility": null,
      "width": null
     }
    },
    "989e1041d0fa440894b896cd5fb1d625": {
     "model_module": "@jupyter-widgets/base",
     "model_name": "LayoutModel",
     "state": {
      "_model_module": "@jupyter-widgets/base",
      "_model_module_version": "1.2.0",
      "_model_name": "LayoutModel",
      "_view_count": null,
      "_view_module": "@jupyter-widgets/base",
      "_view_module_version": "1.2.0",
      "_view_name": "LayoutView",
      "align_content": null,
      "align_items": null,
      "align_self": null,
      "border": null,
      "bottom": null,
      "display": null,
      "flex": null,
      "flex_flow": null,
      "grid_area": null,
      "grid_auto_columns": null,
      "grid_auto_flow": null,
      "grid_auto_rows": null,
      "grid_column": null,
      "grid_gap": null,
      "grid_row": null,
      "grid_template_areas": null,
      "grid_template_columns": null,
      "grid_template_rows": null,
      "height": null,
      "justify_content": null,
      "justify_items": null,
      "left": null,
      "margin": null,
      "max_height": null,
      "max_width": null,
      "min_height": null,
      "min_width": null,
      "object_fit": null,
      "object_position": null,
      "order": null,
      "overflow": null,
      "overflow_x": null,
      "overflow_y": null,
      "padding": null,
      "right": null,
      "top": null,
      "visibility": null,
      "width": null
     }
    },
    "993708c24236402ca558c6dcc8e6374a": {
     "model_module": "@jupyter-widgets/controls",
     "model_name": "FloatProgressModel",
     "state": {
      "_dom_classes": [],
      "_model_module": "@jupyter-widgets/controls",
      "_model_module_version": "1.5.0",
      "_model_name": "FloatProgressModel",
      "_view_count": null,
      "_view_module": "@jupyter-widgets/controls",
      "_view_module_version": "1.5.0",
      "_view_name": "ProgressView",
      "bar_style": "success",
      "description": "",
      "description_tooltip": null,
      "layout": "IPY_MODEL_6cfade9562eb4ab4bcda242050544b8d",
      "max": 9912422,
      "min": 0,
      "orientation": "horizontal",
      "style": "IPY_MODEL_e4b2705282664daa8b91105992b8cda1",
      "value": 9912422
     }
    },
    "9a42fcf095614e16a8aea3af2a5d6fb7": {
     "model_module": "@jupyter-widgets/base",
     "model_name": "LayoutModel",
     "state": {
      "_model_module": "@jupyter-widgets/base",
      "_model_module_version": "1.2.0",
      "_model_name": "LayoutModel",
      "_view_count": null,
      "_view_module": "@jupyter-widgets/base",
      "_view_module_version": "1.2.0",
      "_view_name": "LayoutView",
      "align_content": null,
      "align_items": null,
      "align_self": null,
      "border": null,
      "bottom": null,
      "display": null,
      "flex": null,
      "flex_flow": null,
      "grid_area": null,
      "grid_auto_columns": null,
      "grid_auto_flow": null,
      "grid_auto_rows": null,
      "grid_column": null,
      "grid_gap": null,
      "grid_row": null,
      "grid_template_areas": null,
      "grid_template_columns": null,
      "grid_template_rows": null,
      "height": null,
      "justify_content": null,
      "justify_items": null,
      "left": null,
      "margin": null,
      "max_height": null,
      "max_width": null,
      "min_height": null,
      "min_width": null,
      "object_fit": null,
      "object_position": null,
      "order": null,
      "overflow": null,
      "overflow_x": null,
      "overflow_y": null,
      "padding": null,
      "right": null,
      "top": null,
      "visibility": null,
      "width": null
     }
    },
    "9afce6a002e148bda8e8e6e238e28033": {
     "model_module": "@jupyter-widgets/controls",
     "model_name": "ProgressStyleModel",
     "state": {
      "_model_module": "@jupyter-widgets/controls",
      "_model_module_version": "1.5.0",
      "_model_name": "ProgressStyleModel",
      "_view_count": null,
      "_view_module": "@jupyter-widgets/base",
      "_view_module_version": "1.2.0",
      "_view_name": "StyleView",
      "bar_color": null,
      "description_width": "initial"
     }
    },
    "9c96df2c7e1248e38bae20cd92ebfe74": {
     "model_module": "@jupyter-widgets/controls",
     "model_name": "HBoxModel",
     "state": {
      "_dom_classes": [],
      "_model_module": "@jupyter-widgets/controls",
      "_model_module_version": "1.5.0",
      "_model_name": "HBoxModel",
      "_view_count": null,
      "_view_module": "@jupyter-widgets/controls",
      "_view_module_version": "1.5.0",
      "_view_name": "HBoxView",
      "box_style": "",
      "children": [
       "IPY_MODEL_f038765e03be4dc38fe977d76a66f7ae",
       "IPY_MODEL_bb3906b9d31747bc8fcf6e7058e22a27"
      ],
      "layout": "IPY_MODEL_989e1041d0fa440894b896cd5fb1d625"
     }
    },
    "9cf8e450154240cfb2d67e7fe98d3dd2": {
     "model_module": "@jupyter-widgets/base",
     "model_name": "LayoutModel",
     "state": {
      "_model_module": "@jupyter-widgets/base",
      "_model_module_version": "1.2.0",
      "_model_name": "LayoutModel",
      "_view_count": null,
      "_view_module": "@jupyter-widgets/base",
      "_view_module_version": "1.2.0",
      "_view_name": "LayoutView",
      "align_content": null,
      "align_items": null,
      "align_self": null,
      "border": null,
      "bottom": null,
      "display": null,
      "flex": null,
      "flex_flow": null,
      "grid_area": null,
      "grid_auto_columns": null,
      "grid_auto_flow": null,
      "grid_auto_rows": null,
      "grid_column": null,
      "grid_gap": null,
      "grid_row": null,
      "grid_template_areas": null,
      "grid_template_columns": null,
      "grid_template_rows": null,
      "height": null,
      "justify_content": null,
      "justify_items": null,
      "left": null,
      "margin": null,
      "max_height": null,
      "max_width": null,
      "min_height": null,
      "min_width": null,
      "object_fit": null,
      "object_position": null,
      "order": null,
      "overflow": null,
      "overflow_x": null,
      "overflow_y": null,
      "padding": null,
      "right": null,
      "top": null,
      "visibility": null,
      "width": null
     }
    },
    "9d18f6dbb1ac46f39c991d86a86a012b": {
     "model_module": "@jupyter-widgets/controls",
     "model_name": "DescriptionStyleModel",
     "state": {
      "_model_module": "@jupyter-widgets/controls",
      "_model_module_version": "1.5.0",
      "_model_name": "DescriptionStyleModel",
      "_view_count": null,
      "_view_module": "@jupyter-widgets/base",
      "_view_module_version": "1.2.0",
      "_view_name": "StyleView",
      "description_width": ""
     }
    },
    "9e0787f6d2df429e96eb7bb69c1667a9": {
     "model_module": "@jupyter-widgets/base",
     "model_name": "LayoutModel",
     "state": {
      "_model_module": "@jupyter-widgets/base",
      "_model_module_version": "1.2.0",
      "_model_name": "LayoutModel",
      "_view_count": null,
      "_view_module": "@jupyter-widgets/base",
      "_view_module_version": "1.2.0",
      "_view_name": "LayoutView",
      "align_content": null,
      "align_items": null,
      "align_self": null,
      "border": null,
      "bottom": null,
      "display": null,
      "flex": null,
      "flex_flow": null,
      "grid_area": null,
      "grid_auto_columns": null,
      "grid_auto_flow": null,
      "grid_auto_rows": null,
      "grid_column": null,
      "grid_gap": null,
      "grid_row": null,
      "grid_template_areas": null,
      "grid_template_columns": null,
      "grid_template_rows": null,
      "height": null,
      "justify_content": null,
      "justify_items": null,
      "left": null,
      "margin": null,
      "max_height": null,
      "max_width": null,
      "min_height": null,
      "min_width": null,
      "object_fit": null,
      "object_position": null,
      "order": null,
      "overflow": null,
      "overflow_x": null,
      "overflow_y": null,
      "padding": null,
      "right": null,
      "top": null,
      "visibility": null,
      "width": null
     }
    },
    "a1ef5b6656c2464999bbdb1bb679ec5f": {
     "model_module": "@jupyter-widgets/base",
     "model_name": "LayoutModel",
     "state": {
      "_model_module": "@jupyter-widgets/base",
      "_model_module_version": "1.2.0",
      "_model_name": "LayoutModel",
      "_view_count": null,
      "_view_module": "@jupyter-widgets/base",
      "_view_module_version": "1.2.0",
      "_view_name": "LayoutView",
      "align_content": null,
      "align_items": null,
      "align_self": null,
      "border": null,
      "bottom": null,
      "display": null,
      "flex": null,
      "flex_flow": null,
      "grid_area": null,
      "grid_auto_columns": null,
      "grid_auto_flow": null,
      "grid_auto_rows": null,
      "grid_column": null,
      "grid_gap": null,
      "grid_row": null,
      "grid_template_areas": null,
      "grid_template_columns": null,
      "grid_template_rows": null,
      "height": null,
      "justify_content": null,
      "justify_items": null,
      "left": null,
      "margin": null,
      "max_height": null,
      "max_width": null,
      "min_height": null,
      "min_width": null,
      "object_fit": null,
      "object_position": null,
      "order": null,
      "overflow": null,
      "overflow_x": null,
      "overflow_y": null,
      "padding": null,
      "right": null,
      "top": null,
      "visibility": null,
      "width": null
     }
    },
    "a1f4668ff3de4f86b44450eacd2c16d6": {
     "model_module": "@jupyter-widgets/controls",
     "model_name": "HBoxModel",
     "state": {
      "_dom_classes": [],
      "_model_module": "@jupyter-widgets/controls",
      "_model_module_version": "1.5.0",
      "_model_name": "HBoxModel",
      "_view_count": null,
      "_view_module": "@jupyter-widgets/controls",
      "_view_module_version": "1.5.0",
      "_view_name": "HBoxView",
      "box_style": "",
      "children": [
       "IPY_MODEL_056e6dd9adf74774a46763f1b06877d1",
       "IPY_MODEL_33768278cf824460a6e6095a2ff2b135"
      ],
      "layout": "IPY_MODEL_b5f8aade7daa4db79e710493affa70a4"
     }
    },
    "a34d93c5ecab4723a631f74206fed65b": {
     "model_module": "@jupyter-widgets/controls",
     "model_name": "DescriptionStyleModel",
     "state": {
      "_model_module": "@jupyter-widgets/controls",
      "_model_module_version": "1.5.0",
      "_model_name": "DescriptionStyleModel",
      "_view_count": null,
      "_view_module": "@jupyter-widgets/base",
      "_view_module_version": "1.2.0",
      "_view_name": "StyleView",
      "description_width": ""
     }
    },
    "a45f3f2377124a0bb614fe0aed663c29": {
     "model_module": "@jupyter-widgets/controls",
     "model_name": "HBoxModel",
     "state": {
      "_dom_classes": [],
      "_model_module": "@jupyter-widgets/controls",
      "_model_module_version": "1.5.0",
      "_model_name": "HBoxModel",
      "_view_count": null,
      "_view_module": "@jupyter-widgets/controls",
      "_view_module_version": "1.5.0",
      "_view_name": "HBoxView",
      "box_style": "",
      "children": [
       "IPY_MODEL_993708c24236402ca558c6dcc8e6374a",
       "IPY_MODEL_a754f489fc884107a010c9fbe6f2f96f"
      ],
      "layout": "IPY_MODEL_884313016332431eb967beb5acb67ca4"
     }
    },
    "a59a889f32ae4b2d981fa32ac14917ab": {
     "model_module": "@jupyter-widgets/base",
     "model_name": "LayoutModel",
     "state": {
      "_model_module": "@jupyter-widgets/base",
      "_model_module_version": "1.2.0",
      "_model_name": "LayoutModel",
      "_view_count": null,
      "_view_module": "@jupyter-widgets/base",
      "_view_module_version": "1.2.0",
      "_view_name": "LayoutView",
      "align_content": null,
      "align_items": null,
      "align_self": null,
      "border": null,
      "bottom": null,
      "display": null,
      "flex": null,
      "flex_flow": null,
      "grid_area": null,
      "grid_auto_columns": null,
      "grid_auto_flow": null,
      "grid_auto_rows": null,
      "grid_column": null,
      "grid_gap": null,
      "grid_row": null,
      "grid_template_areas": null,
      "grid_template_columns": null,
      "grid_template_rows": null,
      "height": null,
      "justify_content": null,
      "justify_items": null,
      "left": null,
      "margin": null,
      "max_height": null,
      "max_width": null,
      "min_height": null,
      "min_width": null,
      "object_fit": null,
      "object_position": null,
      "order": null,
      "overflow": null,
      "overflow_x": null,
      "overflow_y": null,
      "padding": null,
      "right": null,
      "top": null,
      "visibility": null,
      "width": null
     }
    },
    "a754f489fc884107a010c9fbe6f2f96f": {
     "model_module": "@jupyter-widgets/controls",
     "model_name": "HTMLModel",
     "state": {
      "_dom_classes": [],
      "_model_module": "@jupyter-widgets/controls",
      "_model_module_version": "1.5.0",
      "_model_name": "HTMLModel",
      "_view_count": null,
      "_view_module": "@jupyter-widgets/controls",
      "_view_module_version": "1.5.0",
      "_view_name": "HTMLView",
      "description": "",
      "description_tooltip": null,
      "layout": "IPY_MODEL_9a42fcf095614e16a8aea3af2a5d6fb7",
      "placeholder": "​",
      "style": "IPY_MODEL_e60952455fda4adb9f892c2eee2bf52d",
      "value": " 9913344/? [04:45&lt;00:00, 34742.20it/s]"
     }
    },
    "a793b6ac74fc4201aabdb3be8c641b2a": {
     "model_module": "@jupyter-widgets/controls",
     "model_name": "HTMLModel",
     "state": {
      "_dom_classes": [],
      "_model_module": "@jupyter-widgets/controls",
      "_model_module_version": "1.5.0",
      "_model_name": "HTMLModel",
      "_view_count": null,
      "_view_module": "@jupyter-widgets/controls",
      "_view_module_version": "1.5.0",
      "_view_name": "HTMLView",
      "description": "",
      "description_tooltip": null,
      "layout": "IPY_MODEL_8e6156a283024cab897ad6feb86badcc",
      "placeholder": "​",
      "style": "IPY_MODEL_d405f507195d46c5813a16f24ec96569",
      "value": " 10/10 [08:17&lt;00:00, 49.76s/Epoch]"
     }
    },
    "aa14e5e6ecd24732861d70684b807434": {
     "model_module": "@jupyter-widgets/controls",
     "model_name": "DescriptionStyleModel",
     "state": {
      "_model_module": "@jupyter-widgets/controls",
      "_model_module_version": "1.5.0",
      "_model_name": "DescriptionStyleModel",
      "_view_count": null,
      "_view_module": "@jupyter-widgets/base",
      "_view_module_version": "1.2.0",
      "_view_name": "StyleView",
      "description_width": ""
     }
    },
    "ab033ace398c45ecad8083f8123ca3db": {
     "model_module": "@jupyter-widgets/controls",
     "model_name": "HBoxModel",
     "state": {
      "_dom_classes": [],
      "_model_module": "@jupyter-widgets/controls",
      "_model_module_version": "1.5.0",
      "_model_name": "HBoxModel",
      "_view_count": null,
      "_view_module": "@jupyter-widgets/controls",
      "_view_module_version": "1.5.0",
      "_view_name": "HBoxView",
      "box_style": "",
      "children": [
       "IPY_MODEL_e46a0ed1dbb541cebbf9dd1bca875a99",
       "IPY_MODEL_a793b6ac74fc4201aabdb3be8c641b2a"
      ],
      "layout": "IPY_MODEL_503771f384cf44468ee879601a6cf9ee"
     }
    },
    "ac7519de81044298a02f2ab3b7c9f0c6": {
     "model_module": "@jupyter-widgets/base",
     "model_name": "LayoutModel",
     "state": {
      "_model_module": "@jupyter-widgets/base",
      "_model_module_version": "1.2.0",
      "_model_name": "LayoutModel",
      "_view_count": null,
      "_view_module": "@jupyter-widgets/base",
      "_view_module_version": "1.2.0",
      "_view_name": "LayoutView",
      "align_content": null,
      "align_items": null,
      "align_self": null,
      "border": null,
      "bottom": null,
      "display": null,
      "flex": null,
      "flex_flow": null,
      "grid_area": null,
      "grid_auto_columns": null,
      "grid_auto_flow": null,
      "grid_auto_rows": null,
      "grid_column": null,
      "grid_gap": null,
      "grid_row": null,
      "grid_template_areas": null,
      "grid_template_columns": null,
      "grid_template_rows": null,
      "height": null,
      "justify_content": null,
      "justify_items": null,
      "left": null,
      "margin": null,
      "max_height": null,
      "max_width": null,
      "min_height": null,
      "min_width": null,
      "object_fit": null,
      "object_position": null,
      "order": null,
      "overflow": null,
      "overflow_x": null,
      "overflow_y": null,
      "padding": null,
      "right": null,
      "top": null,
      "visibility": null,
      "width": null
     }
    },
    "ad4ebe377ae545239234e04e2d4c467a": {
     "model_module": "@jupyter-widgets/base",
     "model_name": "LayoutModel",
     "state": {
      "_model_module": "@jupyter-widgets/base",
      "_model_module_version": "1.2.0",
      "_model_name": "LayoutModel",
      "_view_count": null,
      "_view_module": "@jupyter-widgets/base",
      "_view_module_version": "1.2.0",
      "_view_name": "LayoutView",
      "align_content": null,
      "align_items": null,
      "align_self": null,
      "border": null,
      "bottom": null,
      "display": null,
      "flex": null,
      "flex_flow": null,
      "grid_area": null,
      "grid_auto_columns": null,
      "grid_auto_flow": null,
      "grid_auto_rows": null,
      "grid_column": null,
      "grid_gap": null,
      "grid_row": null,
      "grid_template_areas": null,
      "grid_template_columns": null,
      "grid_template_rows": null,
      "height": null,
      "justify_content": null,
      "justify_items": null,
      "left": null,
      "margin": null,
      "max_height": null,
      "max_width": null,
      "min_height": null,
      "min_width": null,
      "object_fit": null,
      "object_position": null,
      "order": null,
      "overflow": null,
      "overflow_x": null,
      "overflow_y": null,
      "padding": null,
      "right": null,
      "top": null,
      "visibility": null,
      "width": null
     }
    },
    "ad62bd0d97164f67a9f392d8262f7816": {
     "model_module": "@jupyter-widgets/base",
     "model_name": "LayoutModel",
     "state": {
      "_model_module": "@jupyter-widgets/base",
      "_model_module_version": "1.2.0",
      "_model_name": "LayoutModel",
      "_view_count": null,
      "_view_module": "@jupyter-widgets/base",
      "_view_module_version": "1.2.0",
      "_view_name": "LayoutView",
      "align_content": null,
      "align_items": null,
      "align_self": null,
      "border": null,
      "bottom": null,
      "display": null,
      "flex": null,
      "flex_flow": null,
      "grid_area": null,
      "grid_auto_columns": null,
      "grid_auto_flow": null,
      "grid_auto_rows": null,
      "grid_column": null,
      "grid_gap": null,
      "grid_row": null,
      "grid_template_areas": null,
      "grid_template_columns": null,
      "grid_template_rows": null,
      "height": null,
      "justify_content": null,
      "justify_items": null,
      "left": null,
      "margin": null,
      "max_height": null,
      "max_width": null,
      "min_height": null,
      "min_width": null,
      "object_fit": null,
      "object_position": null,
      "order": null,
      "overflow": null,
      "overflow_x": null,
      "overflow_y": null,
      "padding": null,
      "right": null,
      "top": null,
      "visibility": null,
      "width": null
     }
    },
    "ae3d6bee3e7241098c7b73e6f3db132f": {
     "model_module": "@jupyter-widgets/controls",
     "model_name": "DescriptionStyleModel",
     "state": {
      "_model_module": "@jupyter-widgets/controls",
      "_model_module_version": "1.5.0",
      "_model_name": "DescriptionStyleModel",
      "_view_count": null,
      "_view_module": "@jupyter-widgets/base",
      "_view_module_version": "1.2.0",
      "_view_name": "StyleView",
      "description_width": ""
     }
    },
    "b0e39019d31a4e969e64a42d899f60e5": {
     "model_module": "@jupyter-widgets/base",
     "model_name": "LayoutModel",
     "state": {
      "_model_module": "@jupyter-widgets/base",
      "_model_module_version": "1.2.0",
      "_model_name": "LayoutModel",
      "_view_count": null,
      "_view_module": "@jupyter-widgets/base",
      "_view_module_version": "1.2.0",
      "_view_name": "LayoutView",
      "align_content": null,
      "align_items": null,
      "align_self": null,
      "border": null,
      "bottom": null,
      "display": null,
      "flex": null,
      "flex_flow": null,
      "grid_area": null,
      "grid_auto_columns": null,
      "grid_auto_flow": null,
      "grid_auto_rows": null,
      "grid_column": null,
      "grid_gap": null,
      "grid_row": null,
      "grid_template_areas": null,
      "grid_template_columns": null,
      "grid_template_rows": null,
      "height": null,
      "justify_content": null,
      "justify_items": null,
      "left": null,
      "margin": null,
      "max_height": null,
      "max_width": null,
      "min_height": null,
      "min_width": null,
      "object_fit": null,
      "object_position": null,
      "order": null,
      "overflow": null,
      "overflow_x": null,
      "overflow_y": null,
      "padding": null,
      "right": null,
      "top": null,
      "visibility": null,
      "width": null
     }
    },
    "b38f108855674b64af7a6c617e87b784": {
     "model_module": "@jupyter-widgets/base",
     "model_name": "LayoutModel",
     "state": {
      "_model_module": "@jupyter-widgets/base",
      "_model_module_version": "1.2.0",
      "_model_name": "LayoutModel",
      "_view_count": null,
      "_view_module": "@jupyter-widgets/base",
      "_view_module_version": "1.2.0",
      "_view_name": "LayoutView",
      "align_content": null,
      "align_items": null,
      "align_self": null,
      "border": null,
      "bottom": null,
      "display": null,
      "flex": null,
      "flex_flow": null,
      "grid_area": null,
      "grid_auto_columns": null,
      "grid_auto_flow": null,
      "grid_auto_rows": null,
      "grid_column": null,
      "grid_gap": null,
      "grid_row": null,
      "grid_template_areas": null,
      "grid_template_columns": null,
      "grid_template_rows": null,
      "height": null,
      "justify_content": null,
      "justify_items": null,
      "left": null,
      "margin": null,
      "max_height": null,
      "max_width": null,
      "min_height": null,
      "min_width": null,
      "object_fit": null,
      "object_position": null,
      "order": null,
      "overflow": null,
      "overflow_x": null,
      "overflow_y": null,
      "padding": null,
      "right": null,
      "top": null,
      "visibility": null,
      "width": null
     }
    },
    "b3fac9fbac1842709d494bbbea4ac2d5": {
     "model_module": "@jupyter-widgets/base",
     "model_name": "LayoutModel",
     "state": {
      "_model_module": "@jupyter-widgets/base",
      "_model_module_version": "1.2.0",
      "_model_name": "LayoutModel",
      "_view_count": null,
      "_view_module": "@jupyter-widgets/base",
      "_view_module_version": "1.2.0",
      "_view_name": "LayoutView",
      "align_content": null,
      "align_items": null,
      "align_self": null,
      "border": null,
      "bottom": null,
      "display": null,
      "flex": null,
      "flex_flow": null,
      "grid_area": null,
      "grid_auto_columns": null,
      "grid_auto_flow": null,
      "grid_auto_rows": null,
      "grid_column": null,
      "grid_gap": null,
      "grid_row": null,
      "grid_template_areas": null,
      "grid_template_columns": null,
      "grid_template_rows": null,
      "height": null,
      "justify_content": null,
      "justify_items": null,
      "left": null,
      "margin": null,
      "max_height": null,
      "max_width": null,
      "min_height": null,
      "min_width": null,
      "object_fit": null,
      "object_position": null,
      "order": null,
      "overflow": null,
      "overflow_x": null,
      "overflow_y": null,
      "padding": null,
      "right": null,
      "top": null,
      "visibility": null,
      "width": null
     }
    },
    "b4962cbbfc1143b788a6e7d91d47fb37": {
     "model_module": "@jupyter-widgets/base",
     "model_name": "LayoutModel",
     "state": {
      "_model_module": "@jupyter-widgets/base",
      "_model_module_version": "1.2.0",
      "_model_name": "LayoutModel",
      "_view_count": null,
      "_view_module": "@jupyter-widgets/base",
      "_view_module_version": "1.2.0",
      "_view_name": "LayoutView",
      "align_content": null,
      "align_items": null,
      "align_self": null,
      "border": null,
      "bottom": null,
      "display": null,
      "flex": null,
      "flex_flow": null,
      "grid_area": null,
      "grid_auto_columns": null,
      "grid_auto_flow": null,
      "grid_auto_rows": null,
      "grid_column": null,
      "grid_gap": null,
      "grid_row": null,
      "grid_template_areas": null,
      "grid_template_columns": null,
      "grid_template_rows": null,
      "height": null,
      "justify_content": null,
      "justify_items": null,
      "left": null,
      "margin": null,
      "max_height": null,
      "max_width": null,
      "min_height": null,
      "min_width": null,
      "object_fit": null,
      "object_position": null,
      "order": null,
      "overflow": null,
      "overflow_x": null,
      "overflow_y": null,
      "padding": null,
      "right": null,
      "top": null,
      "visibility": null,
      "width": null
     }
    },
    "b5f8aade7daa4db79e710493affa70a4": {
     "model_module": "@jupyter-widgets/base",
     "model_name": "LayoutModel",
     "state": {
      "_model_module": "@jupyter-widgets/base",
      "_model_module_version": "1.2.0",
      "_model_name": "LayoutModel",
      "_view_count": null,
      "_view_module": "@jupyter-widgets/base",
      "_view_module_version": "1.2.0",
      "_view_name": "LayoutView",
      "align_content": null,
      "align_items": null,
      "align_self": null,
      "border": null,
      "bottom": null,
      "display": null,
      "flex": null,
      "flex_flow": null,
      "grid_area": null,
      "grid_auto_columns": null,
      "grid_auto_flow": null,
      "grid_auto_rows": null,
      "grid_column": null,
      "grid_gap": null,
      "grid_row": null,
      "grid_template_areas": null,
      "grid_template_columns": null,
      "grid_template_rows": null,
      "height": null,
      "justify_content": null,
      "justify_items": null,
      "left": null,
      "margin": null,
      "max_height": null,
      "max_width": null,
      "min_height": null,
      "min_width": null,
      "object_fit": null,
      "object_position": null,
      "order": null,
      "overflow": null,
      "overflow_x": null,
      "overflow_y": null,
      "padding": null,
      "right": null,
      "top": null,
      "visibility": null,
      "width": null
     }
    },
    "b60c82ef9d254421bfd10856577252d7": {
     "model_module": "@jupyter-widgets/base",
     "model_name": "LayoutModel",
     "state": {
      "_model_module": "@jupyter-widgets/base",
      "_model_module_version": "1.2.0",
      "_model_name": "LayoutModel",
      "_view_count": null,
      "_view_module": "@jupyter-widgets/base",
      "_view_module_version": "1.2.0",
      "_view_name": "LayoutView",
      "align_content": null,
      "align_items": null,
      "align_self": null,
      "border": null,
      "bottom": null,
      "display": null,
      "flex": null,
      "flex_flow": null,
      "grid_area": null,
      "grid_auto_columns": null,
      "grid_auto_flow": null,
      "grid_auto_rows": null,
      "grid_column": null,
      "grid_gap": null,
      "grid_row": null,
      "grid_template_areas": null,
      "grid_template_columns": null,
      "grid_template_rows": null,
      "height": null,
      "justify_content": null,
      "justify_items": null,
      "left": null,
      "margin": null,
      "max_height": null,
      "max_width": null,
      "min_height": null,
      "min_width": null,
      "object_fit": null,
      "object_position": null,
      "order": null,
      "overflow": null,
      "overflow_x": null,
      "overflow_y": null,
      "padding": null,
      "right": null,
      "top": null,
      "visibility": null,
      "width": null
     }
    },
    "b90b78cec5a74d26b99b2334cb04d134": {
     "model_module": "@jupyter-widgets/controls",
     "model_name": "HTMLModel",
     "state": {
      "_dom_classes": [],
      "_model_module": "@jupyter-widgets/controls",
      "_model_module_version": "1.5.0",
      "_model_name": "HTMLModel",
      "_view_count": null,
      "_view_module": "@jupyter-widgets/controls",
      "_view_module_version": "1.5.0",
      "_view_name": "HTMLView",
      "description": "",
      "description_tooltip": null,
      "layout": "IPY_MODEL_968b6ad27dae40fcbfc479a9d83d4fa6",
      "placeholder": "​",
      "style": "IPY_MODEL_28a1c85e5ed34ec993a71c18d0d933e5",
      "value": " 3/3 [24:38&lt;00:00, 492.75s/Epoch]"
     }
    },
    "bb3906b9d31747bc8fcf6e7058e22a27": {
     "model_module": "@jupyter-widgets/controls",
     "model_name": "HTMLModel",
     "state": {
      "_dom_classes": [],
      "_model_module": "@jupyter-widgets/controls",
      "_model_module_version": "1.5.0",
      "_model_name": "HTMLModel",
      "_view_count": null,
      "_view_module": "@jupyter-widgets/controls",
      "_view_module_version": "1.5.0",
      "_view_name": "HTMLView",
      "description": "",
      "description_tooltip": null,
      "layout": "IPY_MODEL_49648ddcc6324f4f83539ebfb8fcf345",
      "placeholder": "​",
      "style": "IPY_MODEL_01fe234337d44d658b0c64f45cea9967",
      "value": " 3/3 [05:57&lt;00:00, 119.14s/Epoch]"
     }
    },
    "bc09b9b081ae4a07ad6f4079c7014e37": {
     "model_module": "@jupyter-widgets/controls",
     "model_name": "ProgressStyleModel",
     "state": {
      "_model_module": "@jupyter-widgets/controls",
      "_model_module_version": "1.5.0",
      "_model_name": "ProgressStyleModel",
      "_view_count": null,
      "_view_module": "@jupyter-widgets/base",
      "_view_module_version": "1.2.0",
      "_view_name": "StyleView",
      "bar_color": null,
      "description_width": "initial"
     }
    },
    "bc25178f4ab14a55842bda4f47be0bc8": {
     "model_module": "@jupyter-widgets/controls",
     "model_name": "ProgressStyleModel",
     "state": {
      "_model_module": "@jupyter-widgets/controls",
      "_model_module_version": "1.5.0",
      "_model_name": "ProgressStyleModel",
      "_view_count": null,
      "_view_module": "@jupyter-widgets/base",
      "_view_module_version": "1.2.0",
      "_view_name": "StyleView",
      "bar_color": null,
      "description_width": "initial"
     }
    },
    "be8377c8d7e44e3c8e16bdaa4fadee9e": {
     "model_module": "@jupyter-widgets/controls",
     "model_name": "FloatProgressModel",
     "state": {
      "_dom_classes": [],
      "_model_module": "@jupyter-widgets/controls",
      "_model_module_version": "1.5.0",
      "_model_name": "FloatProgressModel",
      "_view_count": null,
      "_view_module": "@jupyter-widgets/controls",
      "_view_module_version": "1.5.0",
      "_view_name": "ProgressView",
      "bar_style": "success",
      "description": "100%",
      "description_tooltip": null,
      "layout": "IPY_MODEL_677818afc9e0473f8363786d100ffb3f",
      "max": 553433881,
      "min": 0,
      "orientation": "horizontal",
      "style": "IPY_MODEL_3f4852f914ac4f5189854b03bc5d6ec8",
      "value": 553433881
     }
    },
    "c0015834aea14dc29ac32ab40821fea6": {
     "model_module": "@jupyter-widgets/base",
     "model_name": "LayoutModel",
     "state": {
      "_model_module": "@jupyter-widgets/base",
      "_model_module_version": "1.2.0",
      "_model_name": "LayoutModel",
      "_view_count": null,
      "_view_module": "@jupyter-widgets/base",
      "_view_module_version": "1.2.0",
      "_view_name": "LayoutView",
      "align_content": null,
      "align_items": null,
      "align_self": null,
      "border": null,
      "bottom": null,
      "display": null,
      "flex": null,
      "flex_flow": null,
      "grid_area": null,
      "grid_auto_columns": null,
      "grid_auto_flow": null,
      "grid_auto_rows": null,
      "grid_column": null,
      "grid_gap": null,
      "grid_row": null,
      "grid_template_areas": null,
      "grid_template_columns": null,
      "grid_template_rows": null,
      "height": null,
      "justify_content": null,
      "justify_items": null,
      "left": null,
      "margin": null,
      "max_height": null,
      "max_width": null,
      "min_height": null,
      "min_width": null,
      "object_fit": null,
      "object_position": null,
      "order": null,
      "overflow": null,
      "overflow_x": null,
      "overflow_y": null,
      "padding": null,
      "right": null,
      "top": null,
      "visibility": null,
      "width": null
     }
    },
    "c107a1159cb548689f6f83435b53d23f": {
     "model_module": "@jupyter-widgets/base",
     "model_name": "LayoutModel",
     "state": {
      "_model_module": "@jupyter-widgets/base",
      "_model_module_version": "1.2.0",
      "_model_name": "LayoutModel",
      "_view_count": null,
      "_view_module": "@jupyter-widgets/base",
      "_view_module_version": "1.2.0",
      "_view_name": "LayoutView",
      "align_content": null,
      "align_items": null,
      "align_self": null,
      "border": null,
      "bottom": null,
      "display": null,
      "flex": null,
      "flex_flow": null,
      "grid_area": null,
      "grid_auto_columns": null,
      "grid_auto_flow": null,
      "grid_auto_rows": null,
      "grid_column": null,
      "grid_gap": null,
      "grid_row": null,
      "grid_template_areas": null,
      "grid_template_columns": null,
      "grid_template_rows": null,
      "height": null,
      "justify_content": null,
      "justify_items": null,
      "left": null,
      "margin": null,
      "max_height": null,
      "max_width": null,
      "min_height": null,
      "min_width": null,
      "object_fit": null,
      "object_position": null,
      "order": null,
      "overflow": null,
      "overflow_x": null,
      "overflow_y": null,
      "padding": null,
      "right": null,
      "top": null,
      "visibility": null,
      "width": null
     }
    },
    "c1855a24d0414a349c2b6971886877d4": {
     "model_module": "@jupyter-widgets/controls",
     "model_name": "HBoxModel",
     "state": {
      "_dom_classes": [],
      "_model_module": "@jupyter-widgets/controls",
      "_model_module_version": "1.5.0",
      "_model_name": "HBoxModel",
      "_view_count": null,
      "_view_module": "@jupyter-widgets/controls",
      "_view_module_version": "1.5.0",
      "_view_name": "HBoxView",
      "box_style": "",
      "children": [
       "IPY_MODEL_2be3f10126fe4db5b692849ceb788b9c",
       "IPY_MODEL_de42af2b20274b2ba907cbc819a673d5"
      ],
      "layout": "IPY_MODEL_5d03dcc759d449058aa6bfcd50e9906e"
     }
    },
    "c290f8cfd75b42e1a0f457f9993cb705": {
     "model_module": "@jupyter-widgets/controls",
     "model_name": "HBoxModel",
     "state": {
      "_dom_classes": [],
      "_model_module": "@jupyter-widgets/controls",
      "_model_module_version": "1.5.0",
      "_model_name": "HBoxModel",
      "_view_count": null,
      "_view_module": "@jupyter-widgets/controls",
      "_view_module_version": "1.5.0",
      "_view_name": "HBoxView",
      "box_style": "",
      "children": [
       "IPY_MODEL_217b56fb08b54c5cb77774c70b889d5a",
       "IPY_MODEL_937d169774c24543a0f0fcfd98cd3228"
      ],
      "layout": "IPY_MODEL_654caef93a524161886cbfc3292fc3a3"
     }
    },
    "c35168bdd00847e8808d4ea9f6b03869": {
     "model_module": "@jupyter-widgets/base",
     "model_name": "LayoutModel",
     "state": {
      "_model_module": "@jupyter-widgets/base",
      "_model_module_version": "1.2.0",
      "_model_name": "LayoutModel",
      "_view_count": null,
      "_view_module": "@jupyter-widgets/base",
      "_view_module_version": "1.2.0",
      "_view_name": "LayoutView",
      "align_content": null,
      "align_items": null,
      "align_self": null,
      "border": null,
      "bottom": null,
      "display": null,
      "flex": null,
      "flex_flow": null,
      "grid_area": null,
      "grid_auto_columns": null,
      "grid_auto_flow": null,
      "grid_auto_rows": null,
      "grid_column": null,
      "grid_gap": null,
      "grid_row": null,
      "grid_template_areas": null,
      "grid_template_columns": null,
      "grid_template_rows": null,
      "height": null,
      "justify_content": null,
      "justify_items": null,
      "left": null,
      "margin": null,
      "max_height": null,
      "max_width": null,
      "min_height": null,
      "min_width": null,
      "object_fit": null,
      "object_position": null,
      "order": null,
      "overflow": null,
      "overflow_x": null,
      "overflow_y": null,
      "padding": null,
      "right": null,
      "top": null,
      "visibility": null,
      "width": null
     }
    },
    "c41e577f679549c9b518200e4f64674b": {
     "model_module": "@jupyter-widgets/base",
     "model_name": "LayoutModel",
     "state": {
      "_model_module": "@jupyter-widgets/base",
      "_model_module_version": "1.2.0",
      "_model_name": "LayoutModel",
      "_view_count": null,
      "_view_module": "@jupyter-widgets/base",
      "_view_module_version": "1.2.0",
      "_view_name": "LayoutView",
      "align_content": null,
      "align_items": null,
      "align_self": null,
      "border": null,
      "bottom": null,
      "display": null,
      "flex": null,
      "flex_flow": null,
      "grid_area": null,
      "grid_auto_columns": null,
      "grid_auto_flow": null,
      "grid_auto_rows": null,
      "grid_column": null,
      "grid_gap": null,
      "grid_row": null,
      "grid_template_areas": null,
      "grid_template_columns": null,
      "grid_template_rows": null,
      "height": null,
      "justify_content": null,
      "justify_items": null,
      "left": null,
      "margin": null,
      "max_height": null,
      "max_width": null,
      "min_height": null,
      "min_width": null,
      "object_fit": null,
      "object_position": null,
      "order": null,
      "overflow": null,
      "overflow_x": null,
      "overflow_y": null,
      "padding": null,
      "right": null,
      "top": null,
      "visibility": null,
      "width": null
     }
    },
    "cc6b9eb628cb4c5598bc5123d900a173": {
     "model_module": "@jupyter-widgets/controls",
     "model_name": "FloatProgressModel",
     "state": {
      "_dom_classes": [],
      "_model_module": "@jupyter-widgets/controls",
      "_model_module_version": "1.5.0",
      "_model_name": "FloatProgressModel",
      "_view_count": null,
      "_view_module": "@jupyter-widgets/controls",
      "_view_module_version": "1.5.0",
      "_view_name": "ProgressView",
      "bar_style": "success",
      "description": "",
      "description_tooltip": null,
      "layout": "IPY_MODEL_0c81cef218734c50bb0db798a2ef6bfc",
      "max": 4542,
      "min": 0,
      "orientation": "horizontal",
      "style": "IPY_MODEL_f87eb31e05da42ada32dbae4423c7f60",
      "value": 4542
     }
    },
    "cddb3a97dd3d4b83a1af98fef04379ee": {
     "model_module": "@jupyter-widgets/controls",
     "model_name": "DescriptionStyleModel",
     "state": {
      "_model_module": "@jupyter-widgets/controls",
      "_model_module_version": "1.5.0",
      "_model_name": "DescriptionStyleModel",
      "_view_count": null,
      "_view_module": "@jupyter-widgets/base",
      "_view_module_version": "1.2.0",
      "_view_name": "StyleView",
      "description_width": ""
     }
    },
    "d18374f569c34d37b42b94ba95932805": {
     "model_module": "@jupyter-widgets/base",
     "model_name": "LayoutModel",
     "state": {
      "_model_module": "@jupyter-widgets/base",
      "_model_module_version": "1.2.0",
      "_model_name": "LayoutModel",
      "_view_count": null,
      "_view_module": "@jupyter-widgets/base",
      "_view_module_version": "1.2.0",
      "_view_name": "LayoutView",
      "align_content": null,
      "align_items": null,
      "align_self": null,
      "border": null,
      "bottom": null,
      "display": null,
      "flex": null,
      "flex_flow": null,
      "grid_area": null,
      "grid_auto_columns": null,
      "grid_auto_flow": null,
      "grid_auto_rows": null,
      "grid_column": null,
      "grid_gap": null,
      "grid_row": null,
      "grid_template_areas": null,
      "grid_template_columns": null,
      "grid_template_rows": null,
      "height": null,
      "justify_content": null,
      "justify_items": null,
      "left": null,
      "margin": null,
      "max_height": null,
      "max_width": null,
      "min_height": null,
      "min_width": null,
      "object_fit": null,
      "object_position": null,
      "order": null,
      "overflow": null,
      "overflow_x": null,
      "overflow_y": null,
      "padding": null,
      "right": null,
      "top": null,
      "visibility": null,
      "width": null
     }
    },
    "d373969c6e424e10bead53569c5922c8": {
     "model_module": "@jupyter-widgets/controls",
     "model_name": "DescriptionStyleModel",
     "state": {
      "_model_module": "@jupyter-widgets/controls",
      "_model_module_version": "1.5.0",
      "_model_name": "DescriptionStyleModel",
      "_view_count": null,
      "_view_module": "@jupyter-widgets/base",
      "_view_module_version": "1.2.0",
      "_view_name": "StyleView",
      "description_width": ""
     }
    },
    "d3d3c15a33f04a9bb61aa1ba61c23c17": {
     "model_module": "@jupyter-widgets/base",
     "model_name": "LayoutModel",
     "state": {
      "_model_module": "@jupyter-widgets/base",
      "_model_module_version": "1.2.0",
      "_model_name": "LayoutModel",
      "_view_count": null,
      "_view_module": "@jupyter-widgets/base",
      "_view_module_version": "1.2.0",
      "_view_name": "LayoutView",
      "align_content": null,
      "align_items": null,
      "align_self": null,
      "border": null,
      "bottom": null,
      "display": null,
      "flex": null,
      "flex_flow": null,
      "grid_area": null,
      "grid_auto_columns": null,
      "grid_auto_flow": null,
      "grid_auto_rows": null,
      "grid_column": null,
      "grid_gap": null,
      "grid_row": null,
      "grid_template_areas": null,
      "grid_template_columns": null,
      "grid_template_rows": null,
      "height": null,
      "justify_content": null,
      "justify_items": null,
      "left": null,
      "margin": null,
      "max_height": null,
      "max_width": null,
      "min_height": null,
      "min_width": null,
      "object_fit": null,
      "object_position": null,
      "order": null,
      "overflow": null,
      "overflow_x": null,
      "overflow_y": null,
      "padding": null,
      "right": null,
      "top": null,
      "visibility": null,
      "width": null
     }
    },
    "d405f507195d46c5813a16f24ec96569": {
     "model_module": "@jupyter-widgets/controls",
     "model_name": "DescriptionStyleModel",
     "state": {
      "_model_module": "@jupyter-widgets/controls",
      "_model_module_version": "1.5.0",
      "_model_name": "DescriptionStyleModel",
      "_view_count": null,
      "_view_module": "@jupyter-widgets/base",
      "_view_module_version": "1.2.0",
      "_view_name": "StyleView",
      "description_width": ""
     }
    },
    "d7a479133bf644fcbf0e627a57eb3af1": {
     "model_module": "@jupyter-widgets/controls",
     "model_name": "HTMLModel",
     "state": {
      "_dom_classes": [],
      "_model_module": "@jupyter-widgets/controls",
      "_model_module_version": "1.5.0",
      "_model_name": "HTMLModel",
      "_view_count": null,
      "_view_module": "@jupyter-widgets/controls",
      "_view_module_version": "1.5.0",
      "_view_name": "HTMLView",
      "description": "",
      "description_tooltip": null,
      "layout": "IPY_MODEL_303abea165b84920a7a0d9d2f1d660fa",
      "placeholder": "​",
      "style": "IPY_MODEL_2629ffc48da54590aa6bb5a50ace883f",
      "value": " 20/20 [17:20&lt;00:00, 52.02s/Epoch]"
     }
    },
    "d9d9cf2172664499a588a0dc28cce939": {
     "model_module": "@jupyter-widgets/base",
     "model_name": "LayoutModel",
     "state": {
      "_model_module": "@jupyter-widgets/base",
      "_model_module_version": "1.2.0",
      "_model_name": "LayoutModel",
      "_view_count": null,
      "_view_module": "@jupyter-widgets/base",
      "_view_module_version": "1.2.0",
      "_view_name": "LayoutView",
      "align_content": null,
      "align_items": null,
      "align_self": null,
      "border": null,
      "bottom": null,
      "display": null,
      "flex": null,
      "flex_flow": null,
      "grid_area": null,
      "grid_auto_columns": null,
      "grid_auto_flow": null,
      "grid_auto_rows": null,
      "grid_column": null,
      "grid_gap": null,
      "grid_row": null,
      "grid_template_areas": null,
      "grid_template_columns": null,
      "grid_template_rows": null,
      "height": null,
      "justify_content": null,
      "justify_items": null,
      "left": null,
      "margin": null,
      "max_height": null,
      "max_width": null,
      "min_height": null,
      "min_width": null,
      "object_fit": null,
      "object_position": null,
      "order": null,
      "overflow": null,
      "overflow_x": null,
      "overflow_y": null,
      "padding": null,
      "right": null,
      "top": null,
      "visibility": null,
      "width": null
     }
    },
    "db8a8d8ad5a04689ab8c18380dedc1c1": {
     "model_module": "@jupyter-widgets/controls",
     "model_name": "ProgressStyleModel",
     "state": {
      "_model_module": "@jupyter-widgets/controls",
      "_model_module_version": "1.5.0",
      "_model_name": "ProgressStyleModel",
      "_view_count": null,
      "_view_module": "@jupyter-widgets/base",
      "_view_module_version": "1.2.0",
      "_view_name": "StyleView",
      "bar_color": null,
      "description_width": "initial"
     }
    },
    "dcc2aa0d9421423d87504bf11945b48f": {
     "model_module": "@jupyter-widgets/controls",
     "model_name": "HBoxModel",
     "state": {
      "_dom_classes": [],
      "_model_module": "@jupyter-widgets/controls",
      "_model_module_version": "1.5.0",
      "_model_name": "HBoxModel",
      "_view_count": null,
      "_view_module": "@jupyter-widgets/controls",
      "_view_module_version": "1.5.0",
      "_view_name": "HBoxView",
      "box_style": "",
      "children": [
       "IPY_MODEL_1457392103cf45888faec755454dc14e",
       "IPY_MODEL_854a1007886844659901f9b0a95eca8e"
      ],
      "layout": "IPY_MODEL_31c78a046756404bbeb1f06405a011aa"
     }
    },
    "dd7c4bd55c9f4127a47332a456de196e": {
     "model_module": "@jupyter-widgets/controls",
     "model_name": "HTMLModel",
     "state": {
      "_dom_classes": [],
      "_model_module": "@jupyter-widgets/controls",
      "_model_module_version": "1.5.0",
      "_model_name": "HTMLModel",
      "_view_count": null,
      "_view_module": "@jupyter-widgets/controls",
      "_view_module_version": "1.5.0",
      "_view_name": "HTMLView",
      "description": "",
      "description_tooltip": null,
      "layout": "IPY_MODEL_24f1d8b3c62044748c2e0b7095e08812",
      "placeholder": "​",
      "style": "IPY_MODEL_aa14e5e6ecd24732861d70684b807434",
      "value": " 3/3 [11:15&lt;00:00, 225.01s/Epoch]"
     }
    },
    "de42af2b20274b2ba907cbc819a673d5": {
     "model_module": "@jupyter-widgets/controls",
     "model_name": "HTMLModel",
     "state": {
      "_dom_classes": [],
      "_model_module": "@jupyter-widgets/controls",
      "_model_module_version": "1.5.0",
      "_model_name": "HTMLModel",
      "_view_count": null,
      "_view_module": "@jupyter-widgets/controls",
      "_view_module_version": "1.5.0",
      "_view_name": "HTMLView",
      "description": "",
      "description_tooltip": null,
      "layout": "IPY_MODEL_06fad13964ef4368a98817ede5c6b6c1",
      "placeholder": "​",
      "style": "IPY_MODEL_4dee3c1fb3d6404ea6f61e97dd289b36",
      "value": " 3/3 [05:27&lt;00:00, 109.13s/Epoch]"
     }
    },
    "de963813cafa440ba23bdbb1d4e7c314": {
     "model_module": "@jupyter-widgets/base",
     "model_name": "LayoutModel",
     "state": {
      "_model_module": "@jupyter-widgets/base",
      "_model_module_version": "1.2.0",
      "_model_name": "LayoutModel",
      "_view_count": null,
      "_view_module": "@jupyter-widgets/base",
      "_view_module_version": "1.2.0",
      "_view_name": "LayoutView",
      "align_content": null,
      "align_items": null,
      "align_self": null,
      "border": null,
      "bottom": null,
      "display": null,
      "flex": null,
      "flex_flow": null,
      "grid_area": null,
      "grid_auto_columns": null,
      "grid_auto_flow": null,
      "grid_auto_rows": null,
      "grid_column": null,
      "grid_gap": null,
      "grid_row": null,
      "grid_template_areas": null,
      "grid_template_columns": null,
      "grid_template_rows": null,
      "height": null,
      "justify_content": null,
      "justify_items": null,
      "left": null,
      "margin": null,
      "max_height": null,
      "max_width": null,
      "min_height": null,
      "min_width": null,
      "object_fit": null,
      "object_position": null,
      "order": null,
      "overflow": null,
      "overflow_x": null,
      "overflow_y": null,
      "padding": null,
      "right": null,
      "top": null,
      "visibility": null,
      "width": null
     }
    },
    "ded8e37c52e4492ea7cddb2cdd3316bc": {
     "model_module": "@jupyter-widgets/base",
     "model_name": "LayoutModel",
     "state": {
      "_model_module": "@jupyter-widgets/base",
      "_model_module_version": "1.2.0",
      "_model_name": "LayoutModel",
      "_view_count": null,
      "_view_module": "@jupyter-widgets/base",
      "_view_module_version": "1.2.0",
      "_view_name": "LayoutView",
      "align_content": null,
      "align_items": null,
      "align_self": null,
      "border": null,
      "bottom": null,
      "display": null,
      "flex": null,
      "flex_flow": null,
      "grid_area": null,
      "grid_auto_columns": null,
      "grid_auto_flow": null,
      "grid_auto_rows": null,
      "grid_column": null,
      "grid_gap": null,
      "grid_row": null,
      "grid_template_areas": null,
      "grid_template_columns": null,
      "grid_template_rows": null,
      "height": null,
      "justify_content": null,
      "justify_items": null,
      "left": null,
      "margin": null,
      "max_height": null,
      "max_width": null,
      "min_height": null,
      "min_width": null,
      "object_fit": null,
      "object_position": null,
      "order": null,
      "overflow": null,
      "overflow_x": null,
      "overflow_y": null,
      "padding": null,
      "right": null,
      "top": null,
      "visibility": null,
      "width": null
     }
    },
    "e2a9d7c57246411eb42ce2352ae6bd76": {
     "model_module": "@jupyter-widgets/base",
     "model_name": "LayoutModel",
     "state": {
      "_model_module": "@jupyter-widgets/base",
      "_model_module_version": "1.2.0",
      "_model_name": "LayoutModel",
      "_view_count": null,
      "_view_module": "@jupyter-widgets/base",
      "_view_module_version": "1.2.0",
      "_view_name": "LayoutView",
      "align_content": null,
      "align_items": null,
      "align_self": null,
      "border": null,
      "bottom": null,
      "display": null,
      "flex": null,
      "flex_flow": null,
      "grid_area": null,
      "grid_auto_columns": null,
      "grid_auto_flow": null,
      "grid_auto_rows": null,
      "grid_column": null,
      "grid_gap": null,
      "grid_row": null,
      "grid_template_areas": null,
      "grid_template_columns": null,
      "grid_template_rows": null,
      "height": null,
      "justify_content": null,
      "justify_items": null,
      "left": null,
      "margin": null,
      "max_height": null,
      "max_width": null,
      "min_height": null,
      "min_width": null,
      "object_fit": null,
      "object_position": null,
      "order": null,
      "overflow": null,
      "overflow_x": null,
      "overflow_y": null,
      "padding": null,
      "right": null,
      "top": null,
      "visibility": null,
      "width": null
     }
    },
    "e46a0ed1dbb541cebbf9dd1bca875a99": {
     "model_module": "@jupyter-widgets/controls",
     "model_name": "FloatProgressModel",
     "state": {
      "_dom_classes": [],
      "_model_module": "@jupyter-widgets/controls",
      "_model_module_version": "1.5.0",
      "_model_name": "FloatProgressModel",
      "_view_count": null,
      "_view_module": "@jupyter-widgets/controls",
      "_view_module_version": "1.5.0",
      "_view_name": "ProgressView",
      "bar_style": "success",
      "description": "Training: 100%",
      "description_tooltip": null,
      "layout": "IPY_MODEL_0036f4471c454ab3bb55278cb5a8c590",
      "max": 10,
      "min": 0,
      "orientation": "horizontal",
      "style": "IPY_MODEL_875baf99ec1a4ebfb4889ce5f9b1acb3",
      "value": 10
     }
    },
    "e4b2705282664daa8b91105992b8cda1": {
     "model_module": "@jupyter-widgets/controls",
     "model_name": "ProgressStyleModel",
     "state": {
      "_model_module": "@jupyter-widgets/controls",
      "_model_module_version": "1.5.0",
      "_model_name": "ProgressStyleModel",
      "_view_count": null,
      "_view_module": "@jupyter-widgets/base",
      "_view_module_version": "1.2.0",
      "_view_name": "StyleView",
      "bar_color": null,
      "description_width": "initial"
     }
    },
    "e60952455fda4adb9f892c2eee2bf52d": {
     "model_module": "@jupyter-widgets/controls",
     "model_name": "DescriptionStyleModel",
     "state": {
      "_model_module": "@jupyter-widgets/controls",
      "_model_module_version": "1.5.0",
      "_model_name": "DescriptionStyleModel",
      "_view_count": null,
      "_view_module": "@jupyter-widgets/base",
      "_view_module_version": "1.2.0",
      "_view_name": "StyleView",
      "description_width": ""
     }
    },
    "e695f94374e2408e99c039742778e6ba": {
     "model_module": "@jupyter-widgets/controls",
     "model_name": "FloatProgressModel",
     "state": {
      "_dom_classes": [],
      "_model_module": "@jupyter-widgets/controls",
      "_model_module_version": "1.5.0",
      "_model_name": "FloatProgressModel",
      "_view_count": null,
      "_view_module": "@jupyter-widgets/controls",
      "_view_module_version": "1.5.0",
      "_view_name": "ProgressView",
      "bar_style": "success",
      "description": "",
      "description_tooltip": null,
      "layout": "IPY_MODEL_9e0787f6d2df429e96eb7bb69c1667a9",
      "max": 1648877,
      "min": 0,
      "orientation": "horizontal",
      "style": "IPY_MODEL_07c4cf8500be4705afb2d2db1beb71ba",
      "value": 1648877
     }
    },
    "f038765e03be4dc38fe977d76a66f7ae": {
     "model_module": "@jupyter-widgets/controls",
     "model_name": "FloatProgressModel",
     "state": {
      "_dom_classes": [],
      "_model_module": "@jupyter-widgets/controls",
      "_model_module_version": "1.5.0",
      "_model_name": "FloatProgressModel",
      "_view_count": null,
      "_view_module": "@jupyter-widgets/controls",
      "_view_module_version": "1.5.0",
      "_view_name": "ProgressView",
      "bar_style": "success",
      "description": "Training: 100%",
      "description_tooltip": null,
      "layout": "IPY_MODEL_d3d3c15a33f04a9bb61aa1ba61c23c17",
      "max": 3,
      "min": 0,
      "orientation": "horizontal",
      "style": "IPY_MODEL_0e570935017a4846ab426b0d45369cb3",
      "value": 3
     }
    },
    "f1a1e0c015bf44d3b000151d44fddaaa": {
     "model_module": "@jupyter-widgets/base",
     "model_name": "LayoutModel",
     "state": {
      "_model_module": "@jupyter-widgets/base",
      "_model_module_version": "1.2.0",
      "_model_name": "LayoutModel",
      "_view_count": null,
      "_view_module": "@jupyter-widgets/base",
      "_view_module_version": "1.2.0",
      "_view_name": "LayoutView",
      "align_content": null,
      "align_items": null,
      "align_self": null,
      "border": null,
      "bottom": null,
      "display": null,
      "flex": null,
      "flex_flow": null,
      "grid_area": null,
      "grid_auto_columns": null,
      "grid_auto_flow": null,
      "grid_auto_rows": null,
      "grid_column": null,
      "grid_gap": null,
      "grid_row": null,
      "grid_template_areas": null,
      "grid_template_columns": null,
      "grid_template_rows": null,
      "height": null,
      "justify_content": null,
      "justify_items": null,
      "left": null,
      "margin": null,
      "max_height": null,
      "max_width": null,
      "min_height": null,
      "min_width": null,
      "object_fit": null,
      "object_position": null,
      "order": null,
      "overflow": null,
      "overflow_x": null,
      "overflow_y": null,
      "padding": null,
      "right": null,
      "top": null,
      "visibility": null,
      "width": null
     }
    },
    "f29b6b1e561d4cf2a98cfdbd5e3e1f31": {
     "model_module": "@jupyter-widgets/controls",
     "model_name": "HTMLModel",
     "state": {
      "_dom_classes": [],
      "_model_module": "@jupyter-widgets/controls",
      "_model_module_version": "1.5.0",
      "_model_name": "HTMLModel",
      "_view_count": null,
      "_view_module": "@jupyter-widgets/controls",
      "_view_module_version": "1.5.0",
      "_view_name": "HTMLView",
      "description": "",
      "description_tooltip": null,
      "layout": "IPY_MODEL_15e0af61f765435c99271c20a0ce5da1",
      "placeholder": "​",
      "style": "IPY_MODEL_a34d93c5ecab4723a631f74206fed65b",
      "value": " 1649664/? [00:01&lt;00:00, 1212783.16it/s]"
     }
    },
    "f5f0ce888f674b9f8066b08411c2b59f": {
     "model_module": "@jupyter-widgets/controls",
     "model_name": "ProgressStyleModel",
     "state": {
      "_model_module": "@jupyter-widgets/controls",
      "_model_module_version": "1.5.0",
      "_model_name": "ProgressStyleModel",
      "_view_count": null,
      "_view_module": "@jupyter-widgets/base",
      "_view_module_version": "1.2.0",
      "_view_name": "StyleView",
      "bar_color": null,
      "description_width": "initial"
     }
    },
    "f87eb31e05da42ada32dbae4423c7f60": {
     "model_module": "@jupyter-widgets/controls",
     "model_name": "ProgressStyleModel",
     "state": {
      "_model_module": "@jupyter-widgets/controls",
      "_model_module_version": "1.5.0",
      "_model_name": "ProgressStyleModel",
      "_view_count": null,
      "_view_module": "@jupyter-widgets/base",
      "_view_module_version": "1.2.0",
      "_view_name": "StyleView",
      "bar_color": null,
      "description_width": "initial"
     }
    },
    "f88b35c2618a4601a3a8690d5218836f": {
     "model_module": "@jupyter-widgets/controls",
     "model_name": "FloatProgressModel",
     "state": {
      "_dom_classes": [],
      "_model_module": "@jupyter-widgets/controls",
      "_model_module_version": "1.5.0",
      "_model_name": "FloatProgressModel",
      "_view_count": null,
      "_view_module": "@jupyter-widgets/controls",
      "_view_module_version": "1.5.0",
      "_view_name": "ProgressView",
      "bar_style": "success",
      "description": "Training: 100%",
      "description_tooltip": null,
      "layout": "IPY_MODEL_f1a1e0c015bf44d3b000151d44fddaaa",
      "max": 3,
      "min": 0,
      "orientation": "horizontal",
      "style": "IPY_MODEL_bc09b9b081ae4a07ad6f4079c7014e37",
      "value": 3
     }
    },
    "f8d46a3328e9463ab31b28576544e725": {
     "model_module": "@jupyter-widgets/controls",
     "model_name": "HTMLModel",
     "state": {
      "_dom_classes": [],
      "_model_module": "@jupyter-widgets/controls",
      "_model_module_version": "1.5.0",
      "_model_name": "HTMLModel",
      "_view_count": null,
      "_view_module": "@jupyter-widgets/controls",
      "_view_module_version": "1.5.0",
      "_view_name": "HTMLView",
      "description": "",
      "description_tooltip": null,
      "layout": "IPY_MODEL_ac7519de81044298a02f2ab3b7c9f0c6",
      "placeholder": "​",
      "style": "IPY_MODEL_4bfdee3a03be41e29bd7356a20237f25",
      "value": " 5120/? [00:00&lt;00:00, 27759.94it/s]"
     }
    },
    "fafc5cdab00b4098a23545dfcc15faa7": {
     "model_module": "@jupyter-widgets/controls",
     "model_name": "HBoxModel",
     "state": {
      "_dom_classes": [],
      "_model_module": "@jupyter-widgets/controls",
      "_model_module_version": "1.5.0",
      "_model_name": "HBoxModel",
      "_view_count": null,
      "_view_module": "@jupyter-widgets/controls",
      "_view_module_version": "1.5.0",
      "_view_name": "HBoxView",
      "box_style": "",
      "children": [
       "IPY_MODEL_6ba6e6f9f21b44ca9deb01333a8a6528",
       "IPY_MODEL_929f305b56eb4d5eb2d89e1123aba91f"
      ],
      "layout": "IPY_MODEL_d18374f569c34d37b42b94ba95932805"
     }
    },
    "fd90d34055944c47848b4eb6bd5b5f54": {
     "model_module": "@jupyter-widgets/controls",
     "model_name": "HBoxModel",
     "state": {
      "_dom_classes": [],
      "_model_module": "@jupyter-widgets/controls",
      "_model_module_version": "1.5.0",
      "_model_name": "HBoxModel",
      "_view_count": null,
      "_view_module": "@jupyter-widgets/controls",
      "_view_module_version": "1.5.0",
      "_view_name": "HBoxView",
      "box_style": "",
      "children": [
       "IPY_MODEL_be8377c8d7e44e3c8e16bdaa4fadee9e",
       "IPY_MODEL_4bbd798bd33547b998bbad1621a04f82"
      ],
      "layout": "IPY_MODEL_c107a1159cb548689f6f83435b53d23f"
     }
    },
    "ff96287426d54a71b5a96497707ab4a2": {
     "model_module": "@jupyter-widgets/controls",
     "model_name": "HBoxModel",
     "state": {
      "_dom_classes": [],
      "_model_module": "@jupyter-widgets/controls",
      "_model_module_version": "1.5.0",
      "_model_name": "HBoxModel",
      "_view_count": null,
      "_view_module": "@jupyter-widgets/controls",
      "_view_module_version": "1.5.0",
      "_view_name": "HBoxView",
      "box_style": "",
      "children": [
       "IPY_MODEL_5ccf39a18b0c4d06896d463c287ed106",
       "IPY_MODEL_4fe6d0bf84d54c1590b32fa5fabac5c9"
      ],
      "layout": "IPY_MODEL_e2a9d7c57246411eb42ce2352ae6bd76"
     }
    }
   }
  }
 },
 "nbformat": 4,
 "nbformat_minor": 1
}