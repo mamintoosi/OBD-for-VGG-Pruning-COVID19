{
 "cells": [
  {
   "cell_type": "markdown",
   "metadata": {
    "id": "9wIx_2FWSoSS"
   },
   "source": [
    "کد مربوطه به مقاله ارسالی با عنوان:\n",
    "\n",
    "### ترکیب روش آسیب مغزی بهینه و منظم‌سازی تُنُک ‌ در کوچک‌سازی یک مدل یادگیری عمیق\n",
    "\n",
    "به لحاظ ماهیت تصادفی مقداردهی اولیه‌ی وزنهای شبکه‌های عصبی و روال آموزش شبکه، اختلافات جزیی در اجراهای مختلف وجود دارد.\n",
    "\n",
    "M. Amintoosi, m.amintoosi at gmail.com"
   ]
  },
  {
   "cell_type": "code",
   "execution_count": 1,
   "metadata": {
    "colab": {
     "base_uri": "https://localhost:8080/"
    },
    "executionInfo": {
     "elapsed": 489,
     "status": "ok",
     "timestamp": 1623746850580,
     "user": {
      "displayName": "Sousan Ramezanzadeh",
      "photoUrl": "https://lh3.googleusercontent.com/a-/AOh14GjEZipB1poNmOj_zPGwa00G0L5jTKZ5P_2d3Nuo=s64",
      "userId": "03179465075119731104"
     },
     "user_tz": -270
    },
    "id": "m3osW4zW6Q9I",
    "outputId": "1fa24b1d-7300-4aa9-eabd-ff20d001f002"
   },
   "outputs": [
    {
     "name": "stdout",
     "output_type": "stream",
     "text": [
      "2021/​06/15, 13:17:29\n"
     ]
    }
   ],
   "source": [
    "import os, time\n",
    "if hasattr(time, 'tzset'):\n",
    "    os.environ['TZ'] = 'Asia/Tehran'\n",
    "    time.tzset()\n",
    "print(time.strftime('%Y/​%m/%d, %X'))"
   ]
  },
  {
   "cell_type": "code",
   "execution_count": 2,
   "metadata": {
    "executionInfo": {
     "elapsed": 3700,
     "status": "ok",
     "timestamp": 1623746855782,
     "user": {
      "displayName": "Sousan Ramezanzadeh",
      "photoUrl": "https://lh3.googleusercontent.com/a-/AOh14GjEZipB1poNmOj_zPGwa00G0L5jTKZ5P_2d3Nuo=s64",
      "userId": "03179465075119731104"
     },
     "user_tz": -270
    },
    "id": "Le-zhQ_OnJgO"
   },
   "outputs": [],
   "source": [
    "import torch\n",
    "torch.manual_seed(1)\n",
    "import random\n",
    "random.seed(1)"
   ]
  },
  {
   "cell_type": "code",
   "execution_count": 4,
   "metadata": {
    "colab": {
     "base_uri": "https://localhost:8080/"
    },
    "executionInfo": {
     "elapsed": 4228,
     "status": "ok",
     "timestamp": 1623746886237,
     "user": {
      "displayName": "Sousan Ramezanzadeh",
      "photoUrl": "https://lh3.googleusercontent.com/a-/AOh14GjEZipB1poNmOj_zPGwa00G0L5jTKZ5P_2d3Nuo=s64",
      "userId": "03179465075119731104"
     },
     "user_tz": -270
    },
    "id": "JafVLkRaN28-",
    "outputId": "55b1870c-a8c3-4c40-dc6b-9d34b6ca9d73"
   },
   "outputs": [
    {
     "name": "stdout",
     "output_type": "stream",
     "text": [
      "Collecting pycm\n",
      "\u001b[?25l  Downloading https://files.pythonhosted.org/packages/76/c4/a05b90819dcf7e50bdddb030238a771bf87b0695e6c47a247f66ab7ed5d0/pycm-3.1-py2.py3-none-any.whl (63kB)\n",
      "\r",
      "\u001b[K     |█████▏                          | 10kB 15.1MB/s eta 0:00:01\r",
      "\u001b[K     |██████████▎                     | 20kB 20.2MB/s eta 0:00:01\r",
      "\u001b[K     |███████████████▍                | 30kB 21.9MB/s eta 0:00:01\r",
      "\u001b[K     |████████████████████▌           | 40kB 23.3MB/s eta 0:00:01\r",
      "\u001b[K     |█████████████████████████▊      | 51kB 17.2MB/s eta 0:00:01\r",
      "\u001b[K     |██████████████████████████████▉ | 61kB 12.8MB/s eta 0:00:01\r",
      "\u001b[K     |████████████████████████████████| 71kB 6.1MB/s \n",
      "\u001b[?25hRequirement already satisfied: numpy>=1.9.0 in /usr/local/lib/python3.7/dist-packages (from pycm) (1.19.5)\n",
      "Collecting art>=1.8\n",
      "\u001b[?25l  Downloading https://files.pythonhosted.org/packages/a1/74/55552eaad673dc81546d1386161e6cd8f7edf951690de82df822fe46541d/art-5.2-py2.py3-none-any.whl (571kB)\n",
      "\u001b[K     |████████████████████████████████| 573kB 21.1MB/s \n",
      "\u001b[?25hInstalling collected packages: art, pycm\n",
      "Successfully installed art-5.2 pycm-3.1\n"
     ]
    }
   ],
   "source": [
    "!pip install pycm"
   ]
  },
  {
   "cell_type": "code",
   "execution_count": 5,
   "metadata": {
    "colab": {
     "base_uri": "https://localhost:8080/"
    },
    "executionInfo": {
     "elapsed": 1600,
     "status": "ok",
     "timestamp": 1623746889771,
     "user": {
      "displayName": "Sousan Ramezanzadeh",
      "photoUrl": "https://lh3.googleusercontent.com/a-/AOh14GjEZipB1poNmOj_zPGwa00G0L5jTKZ5P_2d3Nuo=s64",
      "userId": "03179465075119731104"
     },
     "user_tz": -270
    },
    "id": "i5czjq6_8lAK",
    "outputId": "4d43039a-b20f-46e8-b158-1cd2c541fe32"
   },
   "outputs": [
    {
     "name": "stdout",
     "output_type": "stream",
     "text": [
      "Cloning into 'CNN-Pruning'...\n",
      "remote: Enumerating objects: 167, done.\u001b[K\n",
      "remote: Counting objects: 100% (167/167), done.\u001b[K\n",
      "remote: Compressing objects: 100% (115/115), done.\u001b[K\n",
      "remote: Total 167 (delta 99), reused 116 (delta 48), pack-reused 0\u001b[K\n",
      "Receiving objects: 100% (167/167), 126.31 KiB | 930.00 KiB/s, done.\n",
      "Resolving deltas: 100% (99/99), done.\n"
     ]
    }
   ],
   "source": [
    "!git clone https://github.com/mamintoosi/Reg-OBD-for-VGG-Pruning"
   ]
  },
  {
   "cell_type": "code",
   "execution_count": 6,
   "metadata": {
    "colab": {
     "base_uri": "https://localhost:8080/"
    },
    "executionInfo": {
     "elapsed": 502,
     "status": "ok",
     "timestamp": 1623746892434,
     "user": {
      "displayName": "Sousan Ramezanzadeh",
      "photoUrl": "https://lh3.googleusercontent.com/a-/AOh14GjEZipB1poNmOj_zPGwa00G0L5jTKZ5P_2d3Nuo=s64",
      "userId": "03179465075119731104"
     },
     "user_tz": -270
    },
    "id": "Qeiu88GAdjh0",
    "outputId": "176e8ee7-31e3-4c0d-c9b9-153735c7f298"
   },
   "outputs": [
    {
     "name": "stdout",
     "output_type": "stream",
     "text": [
      "/content/CNN-Pruning\n"
     ]
    }
   ],
   "source": [
    "%cd Reg-OBD-for-VGG-Pruning"
   ]
  },
  {
   "cell_type": "code",
   "execution_count": null,
   "metadata": {
    "colab": {
     "base_uri": "https://localhost:8080/",
     "height": 344,
     "referenced_widgets": [
      "b6c49e080645429ebf496eebd4ac17ff",
      "3cf4c00e86d048eea1cbf3ebee6c6ded",
      "348407edee4247b29f9543c138839af3",
      "57cb3b6e0b414a1093d5545b2e01e9b2",
      "3b8d6fc8ff9a46f68d9938975e9a4c9d",
      "616d25baf8424ebba51656a5dc5f0123",
      "0f5e51197a01490194a96f8bbe603109",
      "e99e9cf62ba54f4596068d1d41103d55"
     ]
    },
    "executionInfo": {
     "elapsed": 430996,
     "status": "ok",
     "timestamp": 1623736506452,
     "user": {
      "displayName": "Sousan Ramezanzadeh",
      "photoUrl": "https://lh3.googleusercontent.com/a-/AOh14GjEZipB1poNmOj_zPGwa00G0L5jTKZ5P_2d3Nuo=s64",
      "userId": "03179465075119731104"
     },
     "user_tz": -270
    },
    "id": "vqxfnKid9Tcq",
    "outputId": "9405ef07-f148-4f6a-8652-246c10870a87"
   },
   "outputs": [
    {
     "name": "stdout",
     "output_type": "stream",
     "text": [
      "FashionMNIST\n",
      "Using CUDA...\n"
     ]
    },
    {
     "data": {
      "application/vnd.jupyter.widget-view+json": {
       "model_id": "b6c49e080645429ebf496eebd4ac17ff",
       "version_major": 2,
       "version_minor": 0
      },
      "text/plain": [
       "HBox(children=(FloatProgress(value=0.0, description='Training', max=10.0, style=ProgressStyle(description_widt…"
      ]
     },
     "metadata": {
      "tags": []
     },
     "output_type": "display_data"
    },
    {
     "name": "stdout",
     "output_type": "stream",
     "text": [
      "Accuracy on  val : 0.852 \t Loss: 0.40693655074574053\n",
      "Accuracy on  val : 0.852 \t Loss: 0.42859710939228535\n",
      "Accuracy on  val : 0.851 \t Loss: 0.4312006624531932\n",
      "Accuracy on  val : 0.876 \t Loss: 0.39487762667704374\n",
      "Accuracy on  val : 0.861 \t Loss: 0.48264251989894547\n",
      "Accuracy on  val : 0.873 \t Loss: 0.4846992801176384\n",
      "Accuracy on  val : 0.858 \t Loss: 0.458834963850677\n",
      "Accuracy on  val : 0.862 \t Loss: 0.5352201492059976\n",
      "Accuracy on  val : 0.864 \t Loss: 0.5457228007144295\n",
      "Accuracy on  val : 0.877 \t Loss: 0.5141506615327671\n",
      "\n",
      "Finished fine tuning.\n",
      "Accuracy on  test : 0.897 \t Loss: 0.42206745594739914\n",
      "CPU times: user 6min 49s, sys: 12.8 s, total: 7min 2s\n",
      "Wall time: 7min 10s\n"
     ]
    }
   ],
   "source": [
    "%%time\n",
    "# Transfer Learning: Train the VGG16 model\n",
    "torch.manual_seed(1)\n",
    "random.seed(1)\n",
    "# Download a pre-trained VGG16 model and train it\n",
    "%run finetune_SpReg_pds.py --train --use-cuda \\\n",
    "  --train_epoch 10 --ds_name 'FashionMNIST' \\\n",
    "  --output_model 'vgg'"
   ]
  },
  {
   "cell_type": "code",
   "execution_count": null,
   "metadata": {
    "colab": {
     "base_uri": "https://localhost:8080/",
     "height": 296
    },
    "executionInfo": {
     "elapsed": 482,
     "status": "ok",
     "timestamp": 1623736658172,
     "user": {
      "displayName": "Sousan Ramezanzadeh",
      "photoUrl": "https://lh3.googleusercontent.com/a-/AOh14GjEZipB1poNmOj_zPGwa00G0L5jTKZ5P_2d3Nuo=s64",
      "userId": "03179465075119731104"
     },
     "user_tz": -270
    },
    "id": "5ZyM1H25hQvH",
    "outputId": "0e6c78a5-7482-4970-dd06-141fed5d71e1"
   },
   "outputs": [
    {
     "data": {
      "image/png": "[encoded data removed]",
      "text/plain": [
       "<Figure size 432x288 with 1 Axes>"
      ]
     },
     "metadata": {
      "needs_background": "light",
      "tags": []
     },
     "output_type": "display_data"
    },
    {
     "name": "stdout",
     "output_type": "stream",
     "text": [
      "3\n"
     ]
    }
   ],
   "source": [
    "fig, ax = plt.subplots()\n",
    "ax.plot(np.arange(1,len(Train_loss)+1), Train_loss, label='Train Loss', color='blue')\n",
    "ax.plot(np.arange(1,len(Train_loss)+1), Val_loss, label='Valid Loss', color = 'red')\n",
    "ax.plot(np.argmin(Val_loss)+1, np.min(Val_loss),'g*')\n",
    "# legend = ax.legend(loc='upper right', fontsize='x-large')\n",
    "legend = ax.legend(loc='center right', fontsize='x-large')\n",
    "plt.xlabel('Epoch No.')\n",
    "plt.ylabel('Loss')\n",
    "plt.show()\n",
    "print(np.argmin(Val_loss))"
   ]
  },
  {
   "cell_type": "code",
   "execution_count": null,
   "metadata": {
    "colab": {
     "base_uri": "https://localhost:8080/",
     "height": 451
    },
    "executionInfo": {
     "elapsed": 6051,
     "status": "ok",
     "timestamp": 1623736683104,
     "user": {
      "displayName": "Sousan Ramezanzadeh",
      "photoUrl": "https://lh3.googleusercontent.com/a-/AOh14GjEZipB1poNmOj_zPGwa00G0L5jTKZ5P_2d3Nuo=s64",
      "userId": "03179465075119731104"
     },
     "user_tz": -270
    },
    "id": "9FZoXfGppYEw",
    "outputId": "369130da-b560-4f8b-87c6-2ddffb398ab7"
   },
   "outputs": [
    {
     "name": "stdout",
     "output_type": "stream",
     "text": [
      "FashionMNIST\n",
      "Using CUDA...\n",
      "Accuracy on  test : 0.889 \t Loss: 0.3709481715923175\n",
      "ACC=0.89\n",
      "0:0.92\t1:0.98\t2:0.90\t3:0.91\t4:0.92\t5:0.97\t6:0.82\t7:0.98\t8:0.99\t9:0.96\n",
      "FNR:0.12, FPR:0.01\n",
      "TNR:0.99, TPR:0.88\n",
      "CPU times: user 4.98 s, sys: 585 ms, total: 5.56 s\n",
      "Wall time: 5.67 s\n"
     ]
    },
    {
     "data": {
      "image/png": "[encoded data removed]",
      "text/plain": [
       "<Figure size 432x288 with 2 Axes>"
      ]
     },
     "metadata": {
      "needs_background": "light",
      "tags": []
     },
     "output_type": "display_data"
    }
   ],
   "source": [
    "%%time\n",
    "# Test report the trained model \n",
    "torch.manual_seed(1)\n",
    "random.seed(1)\n",
    "%run finetune_SpReg_pds.py --test --use-cuda --ds_name 'FashionMNIST' \\\n",
    "  --input_model 'vgg' --output_model 'vgg'"
   ]
  },
  {
   "cell_type": "code",
   "execution_count": null,
   "metadata": {
    "colab": {
     "base_uri": "https://localhost:8080/"
    },
    "executionInfo": {
     "elapsed": 400,
     "status": "ok",
     "timestamp": 1623736697894,
     "user": {
      "displayName": "Sousan Ramezanzadeh",
      "photoUrl": "https://lh3.googleusercontent.com/a-/AOh14GjEZipB1poNmOj_zPGwa00G0L5jTKZ5P_2d3Nuo=s64",
      "userId": "03179465075119731104"
     },
     "user_tz": -270
    },
    "id": "JYGtD1PGiIWP",
    "outputId": "670818e4-e9c8-46fd-db9d-82c012ea225a"
   },
   "outputs": [
    {
     "name": "stdout",
     "output_type": "stream",
     "text": [
      "total 524648\n",
      "     4 .       4 ..       0 for_models.txt  524640 vgg.pt\n"
     ]
    }
   ],
   "source": [
    "!ls -as models"
   ]
  },
  {
   "cell_type": "code",
   "execution_count": null,
   "metadata": {
    "colab": {
     "base_uri": "https://localhost:8080/",
     "height": 570,
     "referenced_widgets": [
      "02ee9ce099a8427fb1281ce5fbe120a0",
      "36e742eafec141aaa3b0a51b4b8f5fb4",
      "08793c6b1ab24d88bef245cfb5f1e773",
      "5da914c340524491860e6436b3ff67d1",
      "f4432db29b894e1b8e56c066cdd356ee",
      "c18e0c5bb0f44d77b1727f748ba834b1",
      "fc882ddff9a844619af62bbd60f1fc3b",
      "c596559ff3474cb4a04713b906e3509b"
     ]
    },
    "executionInfo": {
     "elapsed": 2005587,
     "status": "ok",
     "timestamp": 1623738714891,
     "user": {
      "displayName": "Sousan Ramezanzadeh",
      "photoUrl": "https://lh3.googleusercontent.com/a-/AOh14GjEZipB1poNmOj_zPGwa00G0L5jTKZ5P_2d3Nuo=s64",
      "userId": "03179465075119731104"
     },
     "user_tz": -270
    },
    "id": "gnCnYpvKvPXE",
    "outputId": "e9fc473d-19b9-4d67-ac88-a34b9f7b64f0"
   },
   "outputs": [
    {
     "name": "stdout",
     "output_type": "stream",
     "text": [
      "FashionMNIST\n",
      "Using CUDA...\n",
      "Using Regularization:  HSQGL12\n",
      "Accuracy on  val : 0.876 \t Loss: 0.39487762667704374\n",
      "Retraining with regularization ... \n"
     ]
    },
    {
     "data": {
      "application/vnd.jupyter.widget-view+json": {
       "model_id": "02ee9ce099a8427fb1281ce5fbe120a0",
       "version_major": 2,
       "version_minor": 0
      },
      "text/plain": [
       "HBox(children=(FloatProgress(value=0.0, description='Training', max=20.0, style=ProgressStyle(description_widt…"
      ]
     },
     "metadata": {
      "tags": []
     },
     "output_type": "display_data"
    },
    {
     "name": "stdout",
     "output_type": "stream",
     "text": [
      "Accuracy on  val : 0.829 \t Loss: 0.4493200352881104\n",
      "Accuracy on  val : 0.84 \t Loss: 0.46475220983847976\n",
      "Accuracy on  val : 0.86 \t Loss: 0.41035186406224966\n",
      "Accuracy on  val : 0.859 \t Loss: 0.35719644965138286\n",
      "Accuracy on  val : 0.879 \t Loss: 0.3420894497539848\n",
      "Accuracy on  val : 0.849 \t Loss: 0.4427294635679573\n",
      "Accuracy on  val : 0.872 \t Loss: 0.3709768611006439\n",
      "Accuracy on  val : 0.873 \t Loss: 0.3334813197143376\n",
      "Accuracy on  val : 0.88 \t Loss: 0.3182881355751306\n",
      "Accuracy on  val : 0.869 \t Loss: 0.3554743927670643\n",
      "Accuracy on  val : 0.893 \t Loss: 0.3005351070314646\n",
      "Accuracy on  val : 0.889 \t Loss: 0.29066167131531984\n",
      "Accuracy on  val : 0.875 \t Loss: 0.33619834389537573\n",
      "Accuracy on  val : 0.869 \t Loss: 0.36800590297207236\n",
      "Accuracy on  val : 0.875 \t Loss: 0.34284267225302756\n",
      "Accuracy on  val : 0.869 \t Loss: 0.3309525931254029\n",
      "Accuracy on  val : 0.856 \t Loss: 0.42310002353042364\n",
      "Accuracy on  val : 0.882 \t Loss: 0.3295287801884115\n",
      "Accuracy on  val : 0.89 \t Loss: 0.3128461597952992\n",
      "Accuracy on  val : 0.877 \t Loss: 0.3263869567308575\n",
      "\n",
      "Finished fine tuning.\n",
      "Accuracy on  test : 0.894 \t Loss: 0.30838076025247574\n",
      "CPU times: user 32min 33s, sys: 29.8 s, total: 33min 3s\n",
      "Wall time: 33min 25s\n"
     ]
    }
   ],
   "source": [
    "%%time\n",
    "# Pruning the trained model using HSQGL12 method\n",
    "torch.manual_seed(1)\n",
    "random.seed(1)\n",
    "%run finetune_SpReg_pds.py --prune --use-cuda --train_epoch 20 --reg_name 'HSQGL12' --ds_name 'FashionMNIST' \\\n",
    "  --input_model 'vgg' --output_model 'HSQGL12' --landa 1e-5"
   ]
  },
  {
   "cell_type": "code",
   "execution_count": null,
   "metadata": {
    "colab": {
     "base_uri": "https://localhost:8080/",
     "height": 451
    },
    "executionInfo": {
     "elapsed": 6755,
     "status": "ok",
     "timestamp": 1623738867460,
     "user": {
      "displayName": "Sousan Ramezanzadeh",
      "photoUrl": "https://lh3.googleusercontent.com/a-/AOh14GjEZipB1poNmOj_zPGwa00G0L5jTKZ5P_2d3Nuo=s64",
      "userId": "03179465075119731104"
     },
     "user_tz": -270
    },
    "id": "DMxZoLHooPj7",
    "outputId": "546e2791-3384-443b-b636-11fb03f0eb05"
   },
   "outputs": [
    {
     "name": "stdout",
     "output_type": "stream",
     "text": [
      "FashionMNIST\n",
      "Using CUDA...\n",
      "Accuracy on  test : 0.888 \t Loss: 0.3158440876286477\n",
      "ACC=0.89\n",
      "0:0.89\t1:0.98\t2:0.93\t3:0.91\t4:0.91\t5:0.98\t6:0.83\t7:0.99\t8:0.99\t9:0.96\n",
      "FNR:0.12, FPR:0.01\n",
      "TNR:0.99, TPR:0.88\n",
      "CPU times: user 5.09 s, sys: 588 ms, total: 5.68 s\n",
      "Wall time: 5.83 s\n"
     ]
    },
    {
     "data": {
      "image/png": "[encoded data removed]",
      "text/plain": [
       "<Figure size 432x288 with 2 Axes>"
      ]
     },
     "metadata": {
      "needs_background": "light",
      "tags": []
     },
     "output_type": "display_data"
    }
   ],
   "source": [
    "%%time\n",
    "# Test report for HSQGL12 method\n",
    "torch.manual_seed(1)\n",
    "random.seed(1)\n",
    "%run finetune_SpReg_pds.py --test --use-cuda --ds_name 'FashionMNIST' \\\n",
    "  --input_model 'HSQGL12' --output_model 'HSQGL12'"
   ]
  },
  {
   "cell_type": "code",
   "execution_count": null,
   "metadata": {
    "colab": {
     "base_uri": "https://localhost:8080/"
    },
    "executionInfo": {
     "elapsed": 429,
     "status": "ok",
     "timestamp": 1623740896009,
     "user": {
      "displayName": "Sousan Ramezanzadeh",
      "photoUrl": "https://lh3.googleusercontent.com/a-/AOh14GjEZipB1poNmOj_zPGwa00G0L5jTKZ5P_2d3Nuo=s64",
      "userId": "03179465075119731104"
     },
     "user_tz": -270
    },
    "id": "Mti_ExXF4DbP",
    "outputId": "01ce72f8-737e-4724-82fa-67294431ee5e"
   },
   "outputs": [
    {
     "name": "stdout",
     "output_type": "stream",
     "text": [
      "total 1278568\n",
      "     4 .        0 for_models.txt  229280 OBD.pt\n",
      "     4 ..  524640 HSQGL12.pt\t  524640 vgg.pt\n"
     ]
    }
   ],
   "source": [
    "!ls -as models"
   ]
  },
  {
   "cell_type": "code",
   "execution_count": null,
   "metadata": {
    "colab": {
     "base_uri": "https://localhost:8080/",
     "height": 1000,
     "referenced_widgets": [
      "28bf00708d374a7b9587b3e6bbe6d50a",
      "816f2e587cc948f28be7522012221b2a",
      "a9375eaa90ef4a90a316e846d3d6eec4",
      "612faf0188d0469388974d94910f19c3",
      "2340d1292411400ab82efb05a2d070c2",
      "4a94d2810f684de5bc12c3d761633261",
      "df755887f9934e8fa1a3bbee4db3cf66",
      "33a7365be9db4315ae2623c1816a577a",
      "994ce1ab1df54a92a3216456e0c6f2d4",
      "36857deba8cd462c82ceaaa6d99f1dce",
      "5646bdb9e8eb4387929bd751c9cb64ce",
      "30c55649ad6b476eb27a0f057f54d03e",
      "3dca6250065b4e52aa7303ca522fb132",
      "67fea3efaa8641738334d3b30a152bdd",
      "0dee23f17e634b39865a35eaa954dd4c",
      "ebe375bf0d8d4a2e9b805d27a891da59",
      "dc497540c02a4e38ab12483345895351",
      "a9d9dd3833ce4b08bbde535ad1452455",
      "1b8e47b334244f4da2f660a39daf49eb",
      "c5a082f2518d407da16e629adda49c98",
      "d3ad9dbaa40f4ec9b2ed68b72bce652e",
      "8082f6d14b16413f95df95f007b00841",
      "c040186f3e564486b63bda6f1c1d536e",
      "a7e13eb0551346afa41a8c6a519e709f",
      "886cb3119e2b415e9b6f1614d8c38ef0",
      "62587a8c5f964f0a884d0200fc261039",
      "647a5a9bd7764b5983526b960a866d3a",
      "5da4c133d73448c9b606cd7f5d545434",
      "75c4b5744b32475f8357e7fde5f4daf8",
      "79e4b80c0be248189541361a718f6eeb",
      "fd895c97fd5b466bb8c93780cfac55f2",
      "ab751e147e2c441eaacc44fd912486f7",
      "e6d3c3322c54430b96ac331768b8b692",
      "795631908fdc4ec0bb1a2f2273425f3d",
      "45d31add9f304444bf8b0d4028bace3f",
      "109798f6e5444f0486d5e16b1d0fb349",
      "ebceb875921d45aea4e21e4cb743af3e",
      "89525e9ea4a64dfabf5b506ca7c34048",
      "86e33356a9ea45838e42f3bb5b9a53e9",
      "3f69d261687a4791a81d7ac6c8caa848"
     ]
    },
    "executionInfo": {
     "elapsed": 1764558,
     "status": "ok",
     "timestamp": 1623740814930,
     "user": {
      "displayName": "Sousan Ramezanzadeh",
      "photoUrl": "https://lh3.googleusercontent.com/a-/AOh14GjEZipB1poNmOj_zPGwa00G0L5jTKZ5P_2d3Nuo=s64",
      "userId": "03179465075119731104"
     },
     "user_tz": -270
    },
    "id": "MAhrCTM_q_w7",
    "outputId": "6e083a75-82b3-4c2b-8f1d-1403918b0231"
   },
   "outputs": [
    {
     "name": "stdout",
     "output_type": "stream",
     "text": [
      "FashionMNIST\n",
      "Using CUDA...\n",
      "Accuracy on  val : 0.876 \t Loss: 0.39487762667704374\n",
      "5\n",
      "Number of prunning iterations to reduce 70% filters: 5\n",
      "Iter:  1 / 5\n",
      "Ranking filters.. \n",
      "Layers that will be prunned {0: 12, 17: 78, 10: 33, 24: 53, 19: 72, 14: 25, 21: 74, 26: 74, 7: 6, 2: 9, 28: 41, 12: 26, 5: 9}\n",
      "Prunning filters.. \n",
      "Filters prunned 12.121212121212125%\n",
      "Accuracy on  val : 0.866 \t Loss: 0.3831114824861288\n",
      "Fine tuning to recover from prunning iteration.\n"
     ]
    },
    {
     "data": {
      "application/vnd.jupyter.widget-view+json": {
       "model_id": "28bf00708d374a7b9587b3e6bbe6d50a",
       "version_major": 2,
       "version_minor": 0
      },
      "text/plain": [
       "HBox(children=(FloatProgress(value=0.0, description='Training', max=3.0, style=ProgressStyle(description_width…"
      ]
     },
     "metadata": {
      "tags": []
     },
     "output_type": "display_data"
    },
    {
     "name": "stdout",
     "output_type": "stream",
     "text": [
      "Accuracy on  val : 0.873 \t Loss: 0.36645752331241965\n",
      "Accuracy on  val : 0.863 \t Loss: 0.3895961248781532\n",
      "Accuracy on  val : 0.821 \t Loss: 0.6065470860339701\n",
      "\n",
      "Finished fine tuning.\n",
      "Iter:  2 / 5\n",
      "Ranking filters.. \n",
      "Layers that will be prunned {24: 59, 17: 63, 14: 39, 21: 80, 26: 55, 28: 65, 19: 61, 12: 45, 0: 5, 10: 19, 7: 14, 5: 6, 2: 1}\n",
      "Prunning filters.. \n",
      "Filters prunned 24.24242424242425%\n",
      "Accuracy on  val : 0.818 \t Loss: 0.5449229311197996\n",
      "Fine tuning to recover from prunning iteration.\n"
     ]
    },
    {
     "data": {
      "application/vnd.jupyter.widget-view+json": {
       "model_id": "994ce1ab1df54a92a3216456e0c6f2d4",
       "version_major": 2,
       "version_minor": 0
      },
      "text/plain": [
       "HBox(children=(FloatProgress(value=0.0, description='Training', max=3.0, style=ProgressStyle(description_width…"
      ]
     },
     "metadata": {
      "tags": []
     },
     "output_type": "display_data"
    },
    {
     "name": "stdout",
     "output_type": "stream",
     "text": [
      "Accuracy on  val : 0.878 \t Loss: 0.3679308768478222\n",
      "Accuracy on  val : 0.877 \t Loss: 0.40319659607484937\n",
      "Accuracy on  val : 0.887 \t Loss: 0.3761204892070964\n",
      "\n",
      "Finished fine tuning.\n",
      "Iter:  3 / 5\n",
      "Ranking filters.. \n",
      "Layers that will be prunned {19: 74, 24: 81, 28: 68, 26: 54, 5: 5, 21: 66, 12: 19, 10: 29, 17: 57, 7: 21, 2: 8, 14: 23, 0: 7}\n",
      "Prunning filters.. \n",
      "Filters prunned 36.36363636363637%\n",
      "Accuracy on  val : 0.882 \t Loss: 0.35293575399555266\n",
      "Fine tuning to recover from prunning iteration.\n"
     ]
    },
    {
     "data": {
      "application/vnd.jupyter.widget-view+json": {
       "model_id": "dc497540c02a4e38ab12483345895351",
       "version_major": 2,
       "version_minor": 0
      },
      "text/plain": [
       "HBox(children=(FloatProgress(value=0.0, description='Training', max=3.0, style=ProgressStyle(description_width…"
      ]
     },
     "metadata": {
      "tags": []
     },
     "output_type": "display_data"
    },
    {
     "name": "stdout",
     "output_type": "stream",
     "text": [
      "Accuracy on  val : 0.876 \t Loss: 0.4332036223495379\n",
      "Accuracy on  val : 0.895 \t Loss: 0.37403405213262886\n",
      "Accuracy on  val : 0.875 \t Loss: 0.4659583102911711\n",
      "\n",
      "Finished fine tuning.\n",
      "Iter:  4 / 5\n",
      "Ranking filters.. \n",
      "Layers that will be prunned {21: 58, 28: 70, 14: 26, 19: 63, 24: 61, 17: 59, 26: 62, 7: 16, 12: 32, 10: 30, 0: 9, 5: 14, 2: 12}\n",
      "Prunning filters.. \n",
      "Filters prunned 48.484848484848484%\n",
      "Accuracy on  val : 0.845 \t Loss: 0.4345138263888657\n",
      "Fine tuning to recover from prunning iteration.\n"
     ]
    },
    {
     "data": {
      "application/vnd.jupyter.widget-view+json": {
       "model_id": "886cb3119e2b415e9b6f1614d8c38ef0",
       "version_major": 2,
       "version_minor": 0
      },
      "text/plain": [
       "HBox(children=(FloatProgress(value=0.0, description='Training', max=3.0, style=ProgressStyle(description_width…"
      ]
     },
     "metadata": {
      "tags": []
     },
     "output_type": "display_data"
    },
    {
     "name": "stdout",
     "output_type": "stream",
     "text": [
      "Accuracy on  val : 0.888 \t Loss: 0.3323187150526792\n",
      "Accuracy on  val : 0.882 \t Loss: 0.3940564803779125\n",
      "Accuracy on  val : 0.893 \t Loss: 0.40555583860259503\n",
      "\n",
      "Finished fine tuning.\n",
      "Iter:  5 / 5\n",
      "Ranking filters.. \n",
      "Layers that will be prunned {17: 60, 28: 70, 0: 6, 14: 30, 24: 72, 21: 76, 19: 56, 10: 39, 26: 64, 7: 5, 12: 20, 5: 11, 2: 3}\n",
      "Prunning filters.. \n",
      "Filters prunned 60.60606060606061%\n",
      "Accuracy on  val : 0.783 \t Loss: 0.6820824183523655\n",
      "Fine tuning to recover from prunning iteration.\n"
     ]
    },
    {
     "data": {
      "application/vnd.jupyter.widget-view+json": {
       "model_id": "e6d3c3322c54430b96ac331768b8b692",
       "version_major": 2,
       "version_minor": 0
      },
      "text/plain": [
       "HBox(children=(FloatProgress(value=0.0, description='Training', max=3.0, style=ProgressStyle(description_width…"
      ]
     },
     "metadata": {
      "tags": []
     },
     "output_type": "display_data"
    },
    {
     "name": "stdout",
     "output_type": "stream",
     "text": [
      "Accuracy on  val : 0.867 \t Loss: 0.43422311125323176\n",
      "Accuracy on  val : 0.894 \t Loss: 0.3538321254309267\n",
      "Accuracy on  val : 0.862 \t Loss: 0.42591654357966036\n",
      "\n",
      "Finished fine tuning.\n",
      "Accuracy on  test : 0.874 \t Loss: 0.42081881256308407\n",
      "CPU times: user 28min 29s, sys: 36.2 s, total: 29min 5s\n",
      "Wall time: 29min 24s\n"
     ]
    }
   ],
   "source": [
    "# Pruning the trained model using OBD method\n",
    "%%time\n",
    "torch.manual_seed(1)\n",
    "random.seed(1)\n",
    "%run finetune_SpReg_pds.py --prune --use-cuda --ds_name 'FashionMNIST' \\\n",
    "  --input_model 'vgg' --output_model 'OBD' \\\n",
    "  --eat 3"
   ]
  },
  {
   "cell_type": "code",
   "execution_count": null,
   "metadata": {
    "colab": {
     "base_uri": "https://localhost:8080/",
     "height": 451
    },
    "executionInfo": {
     "elapsed": 3969,
     "status": "ok",
     "timestamp": 1623740953681,
     "user": {
      "displayName": "Sousan Ramezanzadeh",
      "photoUrl": "https://lh3.googleusercontent.com/a-/AOh14GjEZipB1poNmOj_zPGwa00G0L5jTKZ5P_2d3Nuo=s64",
      "userId": "03179465075119731104"
     },
     "user_tz": -270
    },
    "id": "c6xleJ_9p-WX",
    "outputId": "1c327e84-ead9-474b-cb92-ca91734ccd2c"
   },
   "outputs": [
    {
     "name": "stdout",
     "output_type": "stream",
     "text": [
      "FashionMNIST\n",
      "Using CUDA...\n",
      "Accuracy on  test : 0.901 \t Loss: 0.3408374722348526\n",
      "ACC=0.90\n",
      "0:0.85\t1:0.99\t2:0.95\t3:0.91\t4:0.91\t5:0.99\t6:0.88\t7:0.98\t8:1.00\t9:0.98\n",
      "FNR:0.10, FPR:0.01\n",
      "TNR:0.99, TPR:0.90\n",
      "CPU times: user 2.19 s, sys: 486 ms, total: 2.67 s\n",
      "Wall time: 3.27 s\n"
     ]
    },
    {
     "data": {
      "image/png": "[encoded data removed]",
      "text/plain": [
       "<Figure size 432x288 with 2 Axes>"
      ]
     },
     "metadata": {
      "needs_background": "light",
      "tags": []
     },
     "output_type": "display_data"
    }
   ],
   "source": [
    "%%time\n",
    "# Test report for OBD method\n",
    "torch.manual_seed(1)\n",
    "random.seed(1)\n",
    "%run finetune_SpReg_pds.py --test --use-cuda --ds_name 'FashionMNIST' \\\n",
    "  --input_model 'OBD' --output_model 'OBD'"
   ]
  },
  {
   "cell_type": "code",
   "execution_count": null,
   "metadata": {
    "colab": {
     "base_uri": "https://localhost:8080/"
    },
    "executionInfo": {
     "elapsed": 403,
     "status": "ok",
     "timestamp": 1623740962513,
     "user": {
      "displayName": "Sousan Ramezanzadeh",
      "photoUrl": "https://lh3.googleusercontent.com/a-/AOh14GjEZipB1poNmOj_zPGwa00G0L5jTKZ5P_2d3Nuo=s64",
      "userId": "03179465075119731104"
     },
     "user_tz": -270
    },
    "id": "A34ynVoA78ox",
    "outputId": "e63f3dd0-087c-4cd5-e688-b6f453c7b53a"
   },
   "outputs": [
    {
     "name": "stdout",
     "output_type": "stream",
     "text": [
      "total 1278568\n",
      "     4 .        0 for_models.txt  229280 OBD.pt\n",
      "     4 ..  524640 HSQGL12.pt\t  524640 vgg.pt\n"
     ]
    }
   ],
   "source": [
    "!ls -as models"
   ]
  },
  {
   "cell_type": "code",
   "execution_count": null,
   "metadata": {
    "colab": {
     "base_uri": "https://localhost:8080/",
     "height": 1000,
     "referenced_widgets": [
      "b82c44a48dca4803a735f4220d7e7e7e",
      "5bbe5f9b2ddb43ac8d9b92d1cce43bcf",
      "0c590fcac1454f2ab3c2b50f578b3312",
      "73f0d5b6385f4c15a9425de02d81e65c",
      "1ba43db4f55f492799c3e1886dfdc123",
      "22771e2e505c4bae80edc3afa4c15940",
      "b6e834e3856e45e89341d32c182fd5d1",
      "3068de404c364e2ab654d6a729458ff3",
      "033a378941db4652b727917309e625bd",
      "a2c38b9586ab42ac8115804d43dfae0a",
      "0f13cd1b69d04af696ef80e52c8e6472",
      "2887363063254cb3bb83036c0c5b7bd0",
      "dfb97a3d884045f08f15ab4d66679e60",
      "f008cf231e724496a6b1aa3d6ab18657",
      "a394811356fd4cec8fea0fe8ae2878eb",
      "41857c81a3d24c13a470be0ce33754fb",
      "df3bff32304d46619d7e6793bfa750eb",
      "699614cc589f47f1b5770ec22657c020",
      "7ddc3f18855e4244836c8423586f1e95",
      "aa48dd1edcca4566b8bbce23d2b27913",
      "7967426cc35944a0a9ad4e25be81d63d",
      "c646502fc1f244848b5ca1e19f52dfa3",
      "f891c54f7b354ef5a26136a545fc41ec",
      "eda3a8f65d5547539b474bddd6dd5cbf",
      "031bac1e998d48929b41edba950d2baa",
      "6e03d40542424336aaea34dc0c7319df",
      "ee5c9e0d52524caea582ca4329153ffd",
      "5522b42e20ab4820a4a06f49ff583f08",
      "0ed02953e6124269b45ab3c483d2fe98",
      "bfc936d4083042aea9ca159382b25c29",
      "645a0a4994214aaeaacd2288dee8566c",
      "5a0e9b64fba5473791ef9bd3e3000911",
      "5cd862fa98d541e8aad22ce92edfd6d0",
      "cdfae8e3b4604f858879e66d352f3840",
      "f2ee70ef10db4651a88676f520c5538b",
      "4c39bf4fcd8e4df28f62608a535bb2ae",
      "d1bb4eaf038a46cc987b2646daffdd77",
      "c895b92cbd064b1da70e8a2f89c6a8f7",
      "8e614b8bda3c4658a6eb9923dfd959dc",
      "c43a3fcbd4fd4c5ebeabeb1fd29e72b2"
     ]
    },
    "executionInfo": {
     "elapsed": 1797735,
     "status": "ok",
     "timestamp": 1623742844804,
     "user": {
      "displayName": "Sousan Ramezanzadeh",
      "photoUrl": "https://lh3.googleusercontent.com/a-/AOh14GjEZipB1poNmOj_zPGwa00G0L5jTKZ5P_2d3Nuo=s64",
      "userId": "03179465075119731104"
     },
     "user_tz": -270
    },
    "id": "HZeSjCPUISE_",
    "outputId": "94b49ab2-f105-4000-9bad-e318f93cc5d8"
   },
   "outputs": [
    {
     "name": "stdout",
     "output_type": "stream",
     "text": [
      "FashionMNIST\n",
      "Using CUDA...\n",
      "Accuracy on  val : 0.889 \t Loss: 0.29066167131531984\n",
      "5\n",
      "Number of prunning iterations to reduce 70% filters: 5\n",
      "Iter:  1 / 5\n",
      "Ranking filters.. \n",
      "Layers that will be prunned {0: 13, 2: 8, 5: 6, 7: 11, 10: 30, 12: 37, 14: 23, 17: 116, 19: 82, 21: 59, 24: 62, 26: 45, 28: 20}\n",
      "Prunning filters.. \n",
      "Filters prunned 12.121212121212125%\n",
      "Accuracy on  val : 0.89 \t Loss: 0.29038459237199277\n",
      "Fine tuning to recover from prunning iteration.\n"
     ]
    },
    {
     "data": {
      "application/vnd.jupyter.widget-view+json": {
       "model_id": "b82c44a48dca4803a735f4220d7e7e7e",
       "version_major": 2,
       "version_minor": 0
      },
      "text/plain": [
       "HBox(children=(FloatProgress(value=0.0, description='Training', max=3.0, style=ProgressStyle(description_width…"
      ]
     },
     "metadata": {
      "tags": []
     },
     "output_type": "display_data"
    },
    {
     "name": "stdout",
     "output_type": "stream",
     "text": [
      "Accuracy on  val : 0.882 \t Loss: 0.3288072075229138\n",
      "Accuracy on  val : 0.847 \t Loss: 0.41897560423240066\n",
      "Accuracy on  val : 0.872 \t Loss: 0.3130799101199955\n",
      "\n",
      "Finished fine tuning.\n",
      "Iter:  2 / 5\n",
      "Ranking filters.. \n",
      "Layers that will be prunned {2: 1, 5: 2, 7: 3, 10: 9, 12: 33, 14: 25, 17: 89, 19: 106, 21: 92, 24: 69, 26: 48, 28: 35}\n",
      "Prunning filters.. \n",
      "Filters prunned 24.24242424242425%\n",
      "Accuracy on  val : 0.872 \t Loss: 0.3130800253711641\n",
      "Fine tuning to recover from prunning iteration.\n"
     ]
    },
    {
     "data": {
      "application/vnd.jupyter.widget-view+json": {
       "model_id": "033a378941db4652b727917309e625bd",
       "version_major": 2,
       "version_minor": 0
      },
      "text/plain": [
       "HBox(children=(FloatProgress(value=0.0, description='Training', max=3.0, style=ProgressStyle(description_width…"
      ]
     },
     "metadata": {
      "tags": []
     },
     "output_type": "display_data"
    },
    {
     "name": "stdout",
     "output_type": "stream",
     "text": [
      "Accuracy on  val : 0.89 \t Loss: 0.32569160405546427\n",
      "Accuracy on  val : 0.868 \t Loss: 0.41035954048857093\n",
      "Accuracy on  val : 0.868 \t Loss: 0.389875854132697\n",
      "\n",
      "Finished fine tuning.\n",
      "Iter:  3 / 5\n",
      "Ranking filters.. \n",
      "Layers that will be prunned {5: 3, 7: 13, 10: 16, 12: 34, 14: 32, 17: 71, 19: 97, 21: 88, 24: 63, 26: 67, 28: 28}\n",
      "Prunning filters.. \n",
      "Filters prunned 36.36363636363637%\n",
      "Accuracy on  val : 0.868 \t Loss: 0.3898735248949379\n",
      "Fine tuning to recover from prunning iteration.\n"
     ]
    },
    {
     "data": {
      "application/vnd.jupyter.widget-view+json": {
       "model_id": "df3bff32304d46619d7e6793bfa750eb",
       "version_major": 2,
       "version_minor": 0
      },
      "text/plain": [
       "HBox(children=(FloatProgress(value=0.0, description='Training', max=3.0, style=ProgressStyle(description_width…"
      ]
     },
     "metadata": {
      "tags": []
     },
     "output_type": "display_data"
    },
    {
     "name": "stdout",
     "output_type": "stream",
     "text": [
      "Accuracy on  val : 0.889 \t Loss: 0.3133979808771983\n",
      "Accuracy on  val : 0.897 \t Loss: 0.31461008777841926\n",
      "Accuracy on  val : 0.899 \t Loss: 0.3399771598633379\n",
      "\n",
      "Finished fine tuning.\n",
      "Iter:  4 / 5\n",
      "Ranking filters.. \n",
      "Layers that will be prunned {5: 7, 7: 17, 10: 39, 12: 16, 14: 29, 17: 63, 19: 47, 21: 64, 24: 73, 26: 102, 28: 50, 2: 4, 0: 1}\n",
      "Prunning filters.. \n",
      "Filters prunned 48.484848484848484%\n",
      "Accuracy on  val : 0.9 \t Loss: 0.3386879481258802\n",
      "Fine tuning to recover from prunning iteration.\n"
     ]
    },
    {
     "data": {
      "application/vnd.jupyter.widget-view+json": {
       "model_id": "031bac1e998d48929b41edba950d2baa",
       "version_major": 2,
       "version_minor": 0
      },
      "text/plain": [
       "HBox(children=(FloatProgress(value=0.0, description='Training', max=3.0, style=ProgressStyle(description_width…"
      ]
     },
     "metadata": {
      "tags": []
     },
     "output_type": "display_data"
    },
    {
     "name": "stdout",
     "output_type": "stream",
     "text": [
      "Accuracy on  val : 0.879 \t Loss: 0.35986996156862006\n",
      "Accuracy on  val : 0.888 \t Loss: 0.4248029306763783\n",
      "Accuracy on  val : 0.898 \t Loss: 0.3470936893718317\n",
      "\n",
      "Finished fine tuning.\n",
      "Iter:  5 / 5\n",
      "Ranking filters.. \n",
      "Layers that will be prunned {28: 56, 19: 46, 21: 53, 24: 62, 7: 24, 17: 71, 14: 34, 26: 65, 12: 27, 2: 10, 5: 13, 10: 46, 0: 5}\n",
      "Prunning filters.. \n",
      "Filters prunned 60.60606060606061%\n",
      "Accuracy on  val : 0.888 \t Loss: 0.3408271928783506\n",
      "Fine tuning to recover from prunning iteration.\n"
     ]
    },
    {
     "data": {
      "application/vnd.jupyter.widget-view+json": {
       "model_id": "5cd862fa98d541e8aad22ce92edfd6d0",
       "version_major": 2,
       "version_minor": 0
      },
      "text/plain": [
       "HBox(children=(FloatProgress(value=0.0, description='Training', max=3.0, style=ProgressStyle(description_width…"
      ]
     },
     "metadata": {
      "tags": []
     },
     "output_type": "display_data"
    },
    {
     "name": "stdout",
     "output_type": "stream",
     "text": [
      "Accuracy on  val : 0.889 \t Loss: 0.36943446355871856\n",
      "Accuracy on  val : 0.878 \t Loss: 0.34506482235156\n",
      "Accuracy on  val : 0.892 \t Loss: 0.3583171275240602\n",
      "\n",
      "Finished fine tuning.\n",
      "Accuracy on  test : 0.894 \t Loss: 0.4182214438333176\n",
      "CPU times: user 28min 57s, sys: 40.4 s, total: 29min 37s\n",
      "Wall time: 29min 57s\n"
     ]
    }
   ],
   "source": [
    "%%time\n",
    "# Train HSQGL12_OBD\n",
    "torch.manual_seed(1)\n",
    "random.seed(1)\n",
    "%run finetune_SpReg_pds.py --prune --use-cuda --ds_name 'FashionMNIST' \\\n",
    "  --input_model 'HSQGL12' --output_model 'HSQGL12_OBD' \\\n",
    "  --eat 3 "
   ]
  },
  {
   "cell_type": "code",
   "execution_count": null,
   "metadata": {
    "colab": {
     "base_uri": "https://localhost:8080/",
     "height": 451
    },
    "executionInfo": {
     "elapsed": 4262,
     "status": "ok",
     "timestamp": 1623743133088,
     "user": {
      "displayName": "Sousan Ramezanzadeh",
      "photoUrl": "https://lh3.googleusercontent.com/a-/AOh14GjEZipB1poNmOj_zPGwa00G0L5jTKZ5P_2d3Nuo=s64",
      "userId": "03179465075119731104"
     },
     "user_tz": -270
    },
    "id": "FNsSoNKm8kPp",
    "outputId": "d642f0d6-c947-4d31-90d3-400276ce1c26"
   },
   "outputs": [
    {
     "name": "stdout",
     "output_type": "stream",
     "text": [
      "FashionMNIST\n",
      "Using CUDA...\n",
      "Accuracy on  test : 0.888 \t Loss: 0.3690994097851217\n",
      "ACC=0.89\n",
      "0:0.85\t1:0.97\t2:0.95\t3:0.95\t4:0.90\t5:0.98\t6:0.81\t7:0.99\t8:0.99\t9:0.98\n",
      "FNR:0.11, FPR:0.01\n",
      "TNR:0.99, TPR:0.89\n",
      "CPU times: user 2.71 s, sys: 550 ms, total: 3.26 s\n",
      "Wall time: 3.54 s\n"
     ]
    },
    {
     "data": {
      "image/png": "[encoded data removed]",
      "text/plain": [
       "<Figure size 432x288 with 2 Axes>"
      ]
     },
     "metadata": {
      "needs_background": "light",
      "tags": []
     },
     "output_type": "display_data"
    }
   ],
   "source": [
    "%%time\n",
    "# Test report for HSQGL12+OBD method\n",
    "torch.manual_seed(1)\n",
    "random.seed(1)\n",
    "%run finetune_SpReg_pds.py --test --use-cuda --ds_name 'FashionMNIST' \\\n",
    "  --input_model 'HSQGL12_OBD' --output_model 'HSQGL12_OBD'"
   ]
  },
  {
   "cell_type": "code",
   "execution_count": null,
   "metadata": {
    "colab": {
     "base_uri": "https://localhost:8080/"
    },
    "executionInfo": {
     "elapsed": 421,
     "status": "ok",
     "timestamp": 1623743152470,
     "user": {
      "displayName": "Sousan Ramezanzadeh",
      "photoUrl": "https://lh3.googleusercontent.com/a-/AOh14GjEZipB1poNmOj_zPGwa00G0L5jTKZ5P_2d3Nuo=s64",
      "userId": "03179465075119731104"
     },
     "user_tz": -270
    },
    "id": "o944JwceRK5Z",
    "outputId": "6f8db766-8c4c-49e4-b83c-7d456ac891dd"
   },
   "outputs": [
    {
     "name": "stdout",
     "output_type": "stream",
     "text": [
      "total 1605008\n",
      "     4 .        0 for_models.txt  524640 HSQGL12.pt  524640 vgg.pt\n",
      "     4 ..  326440 HSQGL12_OBD.pt  229280 OBD.pt\n"
     ]
    }
   ],
   "source": [
    "# Print Model Sizes\n",
    "!ls -as models"
   ]
  },
  {
   "cell_type": "code",
   "execution_count": 14,
   "metadata": {
    "colab": {
     "base_uri": "https://localhost:8080/",
     "height": 1000,
     "referenced_widgets": [
      "9ee211a7df67498e859fd41c2665f2e8",
      "3ead93be2ee8401890038154916365c9",
      "569d839bf13245fc88a6b032aaf724d0",
      "48d255970ff54dad8f0475e67a792f37",
      "031050835dc1478d89211b8cf0b9f581",
      "d4a3d35e5de7482aa9886fd2ba0c54fe",
      "01f9b50766be40ce99dcf09202a5cdff",
      "7fc12cc15ecd4dfda74f3613a0711298",
      "f7843012ef2b45b9b1ef3e3990a36492",
      "c469775caaeb4874b72cd130b79aeaf8",
      "07b2c61cfbfa49d7af92d1a7be45c892",
      "ba98f42518664d228fab8a5511bc468d",
      "eb759658398b4d10ac5b0707b18120f2",
      "0caf3558d61049a1818d7e19108da1af",
      "1b76ea33ddba426da3b381b9072f8d93",
      "222fbcc9e69141afbe8599f4f78b3f25",
      "750f534412e0472a86014f1e0552c3b9",
      "cdd616e2113e47e2b97a23790c1c4d89",
      "804debbc1914474490080997da4e30ba",
      "f6f62f7d5beb49879151b525e08a015c",
      "32465c9fccd6401693ca90e19a5e9020",
      "790991fe0e90479b8ec322f5dc87402d",
      "f456b9c366f74133be91646956929e93",
      "9a402a2b3dba4119b3f0c5aadf67d7dd",
      "44a80275b32241c2b1cb0ced47ab2c3f",
      "3bce932a451447c8876b7673aee3ae88",
      "caf0efb6eb6e4afb9a72ec62bdf036f3",
      "3d0047db0143469e8d2c4498a40f85fd",
      "fa566680f1e34410b7e86ba42123b380",
      "870efe7945d34df4a2270877c99a833d",
      "2e221af09cba443c99752d2415e5e46c",
      "c64238fdc19941f8883742940695013f",
      "7d63e5a7a4e342e38e602a0284373079",
      "799c1086884c46e2a779a950c9ffed5d",
      "b7d039ce757c4003b012dd03b6e2fb61",
      "f6eb53b178b6449bb3f39f6741f6ffaa",
      "786b6d71a2bf412aae3600f24f8c6ba6",
      "2b66a36e7c9a417ea8ea042156711cfc",
      "d5aec24da3014d85bee48bc490194abb",
      "6ff412ba6f464237a1b8d6edd09eec5d"
     ]
    },
    "executionInfo": {
     "elapsed": 2113435,
     "status": "ok",
     "timestamp": 1623749611563,
     "user": {
      "displayName": "Sousan Ramezanzadeh",
      "photoUrl": "https://lh3.googleusercontent.com/a-/AOh14GjEZipB1poNmOj_zPGwa00G0L5jTKZ5P_2d3Nuo=s64",
      "userId": "03179465075119731104"
     },
     "user_tz": -270
    },
    "id": "Dq6H0XFxPobQ",
    "outputId": "7fc41fdc-4e2e-4b08-8b8c-f2fb7ce6bec6"
   },
   "outputs": [
    {
     "name": "stdout",
     "output_type": "stream",
     "text": [
      "FashionMNIST\n",
      "Using CUDA...\n",
      "Downloading http://fashion-mnist.s3-website.eu-central-1.amazonaws.com/train-images-idx3-ubyte.gz\n",
      "Downloading http://fashion-mnist.s3-website.eu-central-1.amazonaws.com/train-images-idx3-ubyte.gz to /content/data/FashionMNIST/raw/train-images-idx3-ubyte.gz\n"
     ]
    },
    {
     "data": {
      "application/vnd.jupyter.widget-view+json": {
       "model_id": "9ee211a7df67498e859fd41c2665f2e8",
       "version_major": 2,
       "version_minor": 0
      },
      "text/plain": [
       "HBox(children=(FloatProgress(value=0.0, max=26421880.0), HTML(value='')))"
      ]
     },
     "metadata": {
      "tags": []
     },
     "output_type": "display_data"
    },
    {
     "name": "stdout",
     "output_type": "stream",
     "text": [
      "\n",
      "Extracting /content/data/FashionMNIST/raw/train-images-idx3-ubyte.gz to /content/data/FashionMNIST/raw\n",
      "\n",
      "Downloading http://fashion-mnist.s3-website.eu-central-1.amazonaws.com/train-labels-idx1-ubyte.gz\n",
      "Downloading http://fashion-mnist.s3-website.eu-central-1.amazonaws.com/train-labels-idx1-ubyte.gz to /content/data/FashionMNIST/raw/train-labels-idx1-ubyte.gz\n"
     ]
    },
    {
     "data": {
      "application/vnd.jupyter.widget-view+json": {
       "model_id": "f7843012ef2b45b9b1ef3e3990a36492",
       "version_major": 2,
       "version_minor": 0
      },
      "text/plain": [
       "HBox(children=(FloatProgress(value=0.0, max=29515.0), HTML(value='')))"
      ]
     },
     "metadata": {
      "tags": []
     },
     "output_type": "display_data"
    },
    {
     "name": "stdout",
     "output_type": "stream",
     "text": [
      "\n",
      "Extracting /content/data/FashionMNIST/raw/train-labels-idx1-ubyte.gz to /content/data/FashionMNIST/raw\n",
      "\n",
      "Downloading http://fashion-mnist.s3-website.eu-central-1.amazonaws.com/t10k-images-idx3-ubyte.gz\n",
      "Downloading http://fashion-mnist.s3-website.eu-central-1.amazonaws.com/t10k-images-idx3-ubyte.gz to /content/data/FashionMNIST/raw/t10k-images-idx3-ubyte.gz\n"
     ]
    },
    {
     "data": {
      "application/vnd.jupyter.widget-view+json": {
       "model_id": "750f534412e0472a86014f1e0552c3b9",
       "version_major": 2,
       "version_minor": 0
      },
      "text/plain": [
       "HBox(children=(FloatProgress(value=0.0, max=4422102.0), HTML(value='')))"
      ]
     },
     "metadata": {
      "tags": []
     },
     "output_type": "display_data"
    },
    {
     "name": "stdout",
     "output_type": "stream",
     "text": [
      "\n",
      "Extracting /content/data/FashionMNIST/raw/t10k-images-idx3-ubyte.gz to /content/data/FashionMNIST/raw\n",
      "\n",
      "Downloading http://fashion-mnist.s3-website.eu-central-1.amazonaws.com/t10k-labels-idx1-ubyte.gz\n",
      "Downloading http://fashion-mnist.s3-website.eu-central-1.amazonaws.com/t10k-labels-idx1-ubyte.gz to /content/data/FashionMNIST/raw/t10k-labels-idx1-ubyte.gz\n"
     ]
    },
    {
     "data": {
      "application/vnd.jupyter.widget-view+json": {
       "model_id": "44a80275b32241c2b1cb0ced47ab2c3f",
       "version_major": 2,
       "version_minor": 0
      },
      "text/plain": [
       "HBox(children=(FloatProgress(value=0.0, max=5148.0), HTML(value='')))"
      ]
     },
     "metadata": {
      "tags": []
     },
     "output_type": "display_data"
    },
    {
     "name": "stdout",
     "output_type": "stream",
     "text": [
      "\n",
      "Extracting /content/data/FashionMNIST/raw/t10k-labels-idx1-ubyte.gz to /content/data/FashionMNIST/raw\n",
      "\n",
      "Processing...\n",
      "Done!\n"
     ]
    },
    {
     "name": "stderr",
     "output_type": "stream",
     "text": [
      "/usr/local/lib/python3.7/dist-packages/torchvision/datasets/mnist.py:502: UserWarning: The given NumPy array is not writeable, and PyTorch does not support non-writeable tensors. This means you can write to the underlying (supposedly non-writeable) NumPy array using the tensor. You may want to copy the array to protect its data or make it writeable before converting it to a tensor. This type of warning will be suppressed for the rest of this program. (Triggered internally at  /pytorch/torch/csrc/utils/tensor_numpy.cpp:143.)\n",
      "  return torch.from_numpy(parsed.astype(m[2], copy=False)).view(*s)\n"
     ]
    },
    {
     "name": "stdout",
     "output_type": "stream",
     "text": [
      "Using Regularization:  HSQGL12\n",
      "Accuracy on  val : 0.894 \t Loss: 0.3538321109954268\n",
      "Retraining with regularization ... \n"
     ]
    },
    {
     "data": {
      "application/vnd.jupyter.widget-view+json": {
       "model_id": "7d63e5a7a4e342e38e602a0284373079",
       "version_major": 2,
       "version_minor": 0
      },
      "text/plain": [
       "HBox(children=(FloatProgress(value=0.0, description='Training', max=20.0, style=ProgressStyle(description_widt…"
      ]
     },
     "metadata": {
      "tags": []
     },
     "output_type": "display_data"
    },
    {
     "name": "stdout",
     "output_type": "stream",
     "text": [
      "Accuracy on  val : 0.877 \t Loss: 0.38017771672457457\n",
      "Accuracy on  val : 0.867 \t Loss: 0.3999075726605952\n",
      "Accuracy on  val : 0.891 \t Loss: 0.31618002452887595\n",
      "Accuracy on  val : 0.887 \t Loss: 0.3745118121150881\n",
      "Accuracy on  val : 0.846 \t Loss: 0.47111635003238916\n",
      "Accuracy on  val : 0.892 \t Loss: 0.35705094668082893\n",
      "Accuracy on  val : 0.887 \t Loss: 0.31599276745691895\n",
      "Accuracy on  val : 0.905 \t Loss: 0.2874458658043295\n",
      "Accuracy on  val : 0.884 \t Loss: 0.3751116250641644\n",
      "Accuracy on  val : 0.871 \t Loss: 0.4045609915629029\n",
      "Accuracy on  val : 0.863 \t Loss: 0.39775631995871663\n",
      "Accuracy on  val : 0.886 \t Loss: 0.33078687090892345\n",
      "Accuracy on  val : 0.9 \t Loss: 0.32145503244828433\n",
      "Accuracy on  val : 0.889 \t Loss: 0.33265141141600907\n",
      "Accuracy on  val : 0.867 \t Loss: 0.3536581580992788\n",
      "Accuracy on  val : 0.867 \t Loss: 0.3969014249742031\n",
      "Accuracy on  val : 0.862 \t Loss: 0.45791325252503157\n",
      "Accuracy on  val : 0.871 \t Loss: 0.3878710437566042\n",
      "Accuracy on  val : 0.899 \t Loss: 0.3614725477527827\n",
      "Accuracy on  val : 0.874 \t Loss: 0.3957097474485636\n",
      "\n",
      "Finished fine tuning.\n",
      "Accuracy on  test : 0.894 \t Loss: 0.3455720702186227\n",
      "CPU times: user 34min 9s, sys: 34.1 s, total: 34min 43s\n",
      "Wall time: 35min 12s\n"
     ]
    }
   ],
   "source": [
    "%%time\n",
    "# Pruning the OBD pruned model using HSQGL12 method\n",
    "torch.manual_seed(1)\n",
    "random.seed(1)\n",
    "%run finetune_SpReg_pds.py --prune --use-cuda --train_epoch 20 --reg_name 'HSQGL12' --ds_name 'FashionMNIST' \\\n",
    "  --input_model 'OBD' --output_model 'OBD_HSQGL12' --landa 1e-5"
   ]
  },
  {
   "cell_type": "code",
   "execution_count": null,
   "metadata": {
    "colab": {
     "base_uri": "https://localhost:8080/"
    },
    "executionInfo": {
     "elapsed": 14,
     "status": "ok",
     "timestamp": 1623744191453,
     "user": {
      "displayName": "Sousan Ramezanzadeh",
      "photoUrl": "https://lh3.googleusercontent.com/a-/AOh14GjEZipB1poNmOj_zPGwa00G0L5jTKZ5P_2d3Nuo=s64",
      "userId": "03179465075119731104"
     },
     "user_tz": -270
    },
    "id": "r4UyVR3OQFzL",
    "outputId": "dc53d580-356d-4562-ded2-c045949da8d3"
   },
   "outputs": [
    {
     "name": "stdout",
     "output_type": "stream",
     "text": [
      "total 1834288\n",
      "     4 .        0 for_models.txt  524640 HSQGL12.pt\t 229280 OBD.pt\n",
      "     4 ..  326440 HSQGL12_OBD.pt  229280 OBD_HSQGL12.pt  524640 vgg.pt\n"
     ]
    }
   ],
   "source": [
    "!ls -as models"
   ]
  },
  {
   "cell_type": "code",
   "execution_count": 15,
   "metadata": {
    "colab": {
     "base_uri": "https://localhost:8080/"
    },
    "executionInfo": {
     "elapsed": 5837,
     "status": "ok",
     "timestamp": 1623749617385,
     "user": {
      "displayName": "Sousan Ramezanzadeh",
      "photoUrl": "https://lh3.googleusercontent.com/a-/AOh14GjEZipB1poNmOj_zPGwa00G0L5jTKZ5P_2d3Nuo=s64",
      "userId": "03179465075119731104"
     },
     "user_tz": -270
    },
    "id": "aAQqQBVGPzrg",
    "outputId": "58568be5-2920-4b65-bda9-3f3510bae4d7"
   },
   "outputs": [
    {
     "name": "stdout",
     "output_type": "stream",
     "text": [
      "FashionMNIST\n",
      "Using CUDA...\n",
      "Accuracy on  test : 0.912 \t Loss: 0.2940180900041014\n",
      "ACC=0.91\n",
      "0:0.95\t1:0.98\t2:0.95\t3:0.93\t4:0.92\t5:0.98\t6:0.80\t7:0.99\t8:1.00\t9:0.99\n",
      "FNR:0.09, FPR:0.01\n",
      "TNR:0.99, TPR:0.91\n",
      "CPU times: user 5.58 s, sys: 528 ms, total: 6.11 s\n",
      "Wall time: 6.43 s\n"
     ]
    }
   ],
   "source": [
    "%%time\n",
    "# Test report for OBD+HSQGL12 method\n",
    "torch.manual_seed(1)\n",
    "random.seed(1)\n",
    "%run finetune_SpReg_pds.py --test --use-cuda --ds_name 'FashionMNIST' \\\n",
    "  --input_model 'OBD_HSQGL12' --output_model 'OBD_HSQGL12'"
   ]
  },
  {
   "cell_type": "code",
   "execution_count": 25,
   "metadata": {
    "colab": {
     "base_uri": "https://localhost:8080/",
     "height": 451
    },
    "executionInfo": {
     "elapsed": 7389,
     "status": "ok",
     "timestamp": 1623750018383,
     "user": {
      "displayName": "Sousan Ramezanzadeh",
      "photoUrl": "https://lh3.googleusercontent.com/a-/AOh14GjEZipB1poNmOj_zPGwa00G0L5jTKZ5P_2d3Nuo=s64",
      "userId": "03179465075119731104"
     },
     "user_tz": -270
    },
    "id": "-YyLbapACuBt",
    "outputId": "17ab48ff-06c6-440f-e450-81df7f189263"
   },
   "outputs": [
    {
     "name": "stdout",
     "output_type": "stream",
     "text": [
      "FashionMNIST\n",
      "Using CUDA...\n",
      "Accuracy on  test : 0.912 \t Loss: 0.2940180900041014\n",
      "ACC=0.91\n",
      "0:0.95\t1:0.98\t2:0.95\t3:0.93\t4:0.92\t5:0.98\t6:0.80\t7:0.99\t8:1.00\t9:0.99\n",
      "FNR:0.09, FPR:0.01\n",
      "TNR:0.99, TPR:0.91\n",
      "CPU times: user 5.51 s, sys: 548 ms, total: 6.06 s\n",
      "Wall time: 6.32 s\n"
     ]
    },
    {
     "data": {
      "image/png": "[encoded data removed]",
      "text/plain": [
       "<Figure size 432x288 with 2 Axes>"
      ]
     },
     "metadata": {
      "needs_background": "light",
      "tags": []
     },
     "output_type": "display_data"
    }
   ],
   "source": [
    "%%time\n",
    "# Test report for OBD+HSQGL12 method\n",
    "torch.manual_seed(1)\n",
    "random.seed(1)\n",
    "%run finetune_SpReg_pds.py --test --use-cuda --ds_name 'FashionMNIST' \\\n",
    "  --input_model 'OBD_HSQGL12' --output_model 'OBD_HSQGL12'"
   ]
  },
  {
   "cell_type": "code",
   "execution_count": 22,
   "metadata": {
    "colab": {
     "base_uri": "https://localhost:8080/",
     "height": 296
    },
    "executionInfo": {
     "elapsed": 631,
     "status": "ok",
     "timestamp": 1623749916982,
     "user": {
      "displayName": "Sousan Ramezanzadeh",
      "photoUrl": "https://lh3.googleusercontent.com/a-/AOh14GjEZipB1poNmOj_zPGwa00G0L5jTKZ5P_2d3Nuo=s64",
      "userId": "03179465075119731104"
     },
     "user_tz": -270
    },
    "id": "aI5TK-RqcEG3",
    "outputId": "a7cdd129-fdfe-4dd6-ed68-475b0ae6cd33"
   },
   "outputs": [
    {
     "data": {
      "text/plain": [
       "<matplotlib.axes._subplots.AxesSubplot at 0x7f5b02bc6190>"
      ]
     },
     "execution_count": 22,
     "metadata": {
      "tags": []
     },
     "output_type": "execute_result"
    },
    {
     "data": {
      "image/png": "[encoded data removed]",
      "text/plain": [
       "<Figure size 432x288 with 1 Axes>"
      ]
     },
     "metadata": {
      "needs_background": "light",
      "tags": []
     },
     "output_type": "display_data"
    }
   ],
   "source": [
    "%matplotlib inline\n",
    "# نمایش تعداد فیلترهای هرس شده در هر لایه\n",
    "pkl_file = open('FashionMNIST_OBD_dic.pkl','rb')\n",
    "dic = pkl.load(pkl_file)\n",
    "dic_obd = bar_filters_pruned(dic)\n",
    "\n",
    "pkl_file = open('FashionMNIST_HSQGL12_OBD_dic.pkl','rb')\n",
    "dic = pkl.load(pkl_file)\n",
    "dic_reg_obd = bar_filters_pruned(dic)\n",
    "\n",
    "d = {\n",
    "    'OBD': dic_obd,\n",
    "    'HSQGL12-OBD': dic_reg_obd\n",
    "}\n",
    "df = pd.DataFrame(d)\n",
    "df1 = df.stack().reset_index().rename(columns={'level_1': 'Method', 0: 'Num Filters Pruned'})\n",
    "df1.rename(columns={\"level_0\": \"Layer No.\"},inplace=True)\n",
    "sns.barplot(x=df1['Layer No.'], y='Num Filters Pruned', data=df1, hue='Method')"
   ]
  },
  {
   "cell_type": "code",
   "execution_count": 32,
   "metadata": {
    "colab": {
     "base_uri": "https://localhost:8080/"
    },
    "executionInfo": {
     "elapsed": 521,
     "status": "ok",
     "timestamp": 1623750786566,
     "user": {
      "displayName": "Sousan Ramezanzadeh",
      "photoUrl": "https://lh3.googleusercontent.com/a-/AOh14GjEZipB1poNmOj_zPGwa00G0L5jTKZ5P_2d3Nuo=s64",
      "userId": "03179465075119731104"
     },
     "user_tz": -270
    },
    "id": "lfzcyG5XCbov",
    "outputId": "40612105-d2db-49a6-f452-f04982e255ae"
   },
   "outputs": [
    {
     "name": "stdout",
     "output_type": "stream",
     "text": [
      "total 1834336\n",
      "     4 .\t\t           0 for_models.txt  229284 OBD_HSQGL12.pt\n",
      "     4 ..\t\t      326440 HSQGL12_OBD.pt  229280 OBD.pt\n",
      "    44 Fashion_landa_1e4.zip  524640 HSQGL12.pt      524640 vgg.pt\n"
     ]
    }
   ],
   "source": [
    "!ls -as models"
   ]
  },
  {
   "cell_type": "code",
   "execution_count": null,
   "metadata": {
    "colab": {
     "base_uri": "https://localhost:8080/"
    },
    "executionInfo": {
     "elapsed": 2472,
     "status": "ok",
     "timestamp": 1623739001529,
     "user": {
      "displayName": "Sousan Ramezanzadeh",
      "photoUrl": "https://lh3.googleusercontent.com/a-/AOh14GjEZipB1poNmOj_zPGwa00G0L5jTKZ5P_2d3Nuo=s64",
      "userId": "03179465075119731104"
     },
     "user_tz": -270
    },
    "id": "oZiQDCuJSKKE",
    "outputId": "31c14937-b169-4c0e-8ff5-ed2059b5f927"
   },
   "outputs": [
    {
     "name": "stdout",
     "output_type": "stream",
     "text": [
      "vgg.pt ze:1793847, ne/te:1.000, ze/te:0.013\n",
      "HSQGL12.pt ze:15506298, ne/te:1.000, ze/te:0.115\n"
     ]
    }
   ],
   "source": [
    "from finetune_SpReg_pds import ModifiedVGG16Model\n",
    "import torch.nn as nn\n",
    "models_dir = 'models/'\n",
    "\n",
    "ds_name = 'FashionMNIST'\n",
    "eps = 1e-4\n",
    "mdl_list = ['vgg.pt' ,'HSQGL12.pt']#, 'OBD.pt', 'HSQGL12_OBD.pt', 'OBD_HSQGL12.pt']\n",
    "te = 134289088#134256320 #134268738\n",
    "for mdl in mdl_list:\n",
    "    model_file_name = models_dir+mdl\n",
    "    model = torch.load(model_file_name, map_location=lambda storage, loc: storage)\n",
    "    num_el = 0\n",
    "    num_zeros = 0\n",
    "    for n, _module in model.named_modules():\n",
    "#         print(_module)\n",
    "        if isinstance(_module, nn.Conv2d) or isinstance(_module, nn.Linear) and (not 'downsample' in n):\n",
    "            w = torch.flatten(_module.weight)\n",
    "            num_el += w.shape[0]\n",
    "            num_zeros += torch.sum(torch.abs(w)<eps)\n",
    "    ze = num_zeros.cpu().detach().numpy()\n",
    "#     print(mdl, num_zeros, num_el, nz/num_el)\n",
    "    print(\"{} ze:{}, ne/te:{:.3f}, ze/te:{:.3f}\".format(mdl,num_zeros.cpu(), num_el/te, ze/te))\n",
    "    # num_el"
   ]
  },
  {
   "cell_type": "code",
   "execution_count": 30,
   "metadata": {
    "colab": {
     "base_uri": "https://localhost:8080/"
    },
    "executionInfo": {
     "elapsed": 42049,
     "status": "ok",
     "timestamp": 1623750324988,
     "user": {
      "displayName": "Sousan Ramezanzadeh",
      "photoUrl": "https://lh3.googleusercontent.com/a-/AOh14GjEZipB1poNmOj_zPGwa00G0L5jTKZ5P_2d3Nuo=s64",
      "userId": "03179465075119731104"
     },
     "user_tz": -270
    },
    "id": "Gunp2UaeK46P",
    "outputId": "c1b0c0e3-7905-4f46-88c1-cc24ad88d0d6"
   },
   "outputs": [
    {
     "name": "stdout",
     "output_type": "stream",
     "text": [
      "Total Parameters: 134289088\n",
      "vgg.pt ne:134289088, ze:1793847, ne/te:1.000, ze/te:0.013\n",
      " 1-ne/te:0.000, 1-ze/te:0.987\n",
      "HSQGL12.pt ne:134289088, ze:15506298, ne/te:1.000, ze/te:0.115\n",
      " 1-ne/te:0.000, 1-ze/te:0.885\n",
      "OBD.pt ne:58680632, ze:597914, ne/te:0.437, ze/te:0.004\n",
      " 1-ne/te:0.563, 1-ze/te:0.996\n",
      "HSQGL12_OBD.pt ne:83553154, ze:837428, ne/te:0.622, ze/te:0.006\n",
      " 1-ne/te:0.378, 1-ze/te:0.994\n",
      "OBD_HSQGL12.pt ne:58680632, ze:1822784, ne/te:0.437, ze/te:0.014\n",
      " 1-ne/te:0.563, 1-ze/te:0.986\n"
     ]
    }
   ],
   "source": [
    "models_dir = 'models/'\n",
    "eps = 1e-4\n",
    "model = torch.load('models/vgg.pt', map_location=lambda storage, loc: storage)\n",
    "te, _ = num_parameters(model,eps)\n",
    "print('Total Parameters:', te)\n",
    "mdl_list = ['vgg.pt', 'HSQGL12.pt', 'OBD.pt', 'HSQGL12_OBD.pt', 'OBD_HSQGL12.pt']\n",
    "for mdl in mdl_list:\n",
    "  model_file_name = models_dir+mdl\n",
    "  model = torch.load(model_file_name, map_location=lambda storage, loc: storage)\n",
    "  num_el, ze = num_parameters(model,eps)\n",
    "  print(\"{} ne:{}, ze:{}, ne/te:{:.3f}, ze/te:{:.3f}\".format(mdl, num_el, ze, num_el/te, ze/te))\n",
    "  print(\" 1-ne/te:{:.3f}, 1-ze/te:{:.3f}\".format(1-num_el/te, 1-ze/te))\n"
   ]
  },
  {
   "cell_type": "code",
   "execution_count": 29,
   "metadata": {
    "colab": {
     "base_uri": "https://localhost:8080/"
    },
    "executionInfo": {
     "elapsed": 519,
     "status": "ok",
     "timestamp": 1623750115930,
     "user": {
      "displayName": "Sousan Ramezanzadeh",
      "photoUrl": "https://lh3.googleusercontent.com/a-/AOh14GjEZipB1poNmOj_zPGwa00G0L5jTKZ5P_2d3Nuo=s64",
      "userId": "03179465075119731104"
     },
     "user_tz": -270
    },
    "id": "0Bi9PMbHtoXA",
    "outputId": "7399b45a-1300-48ac-b2ed-2c36d8dfe0a2"
   },
   "outputs": [
    {
     "name": "stdout",
     "output_type": "stream",
     "text": [
      "updating: FashionMNIST_HSQGL12_cm.pkl (deflated 48%)\n",
      "updating: FashionMNIST_HSQGL12_OBD_cm.pkl (deflated 50%)\n",
      "updating: FashionMNIST_HSQGL12_OBD_dic.pkl (deflated 32%)\n",
      "updating: FashionMNIST_loss.pkl (deflated 8%)\n",
      "updating: FashionMNIST_OBD_cm.pkl (deflated 50%)\n",
      "updating: FashionMNIST_OBD_dic.pkl (deflated 33%)\n",
      "updating: FashionMNIST_OBD_HSQGL12_cm.pkl (deflated 51%)\n",
      "updating: FashionMNIST_vgg_cm.pkl (deflated 49%)\n"
     ]
    }
   ],
   "source": [
    "!zip -r Fashion_landa_1e5.zip ./Fashion*.*\n",
    "files.download('Fashion_landa_1e5.zip')"
   ]
  }
 ],
 "metadata": {
  "accelerator": "GPU",
  "colab": {
   "collapsed_sections": [],
   "name": "main_VGG_prune_FashionMNIST.ipynb",
   "provenance": []
  },
  "kernelspec": {
   "display_name": "Python 3",
   "language": "python",
   "name": "python3"
  },
  "language_info": {
   "codemirror_mode": {
    "name": "ipython",
    "version": 3
   },
   "file_extension": ".py",
   "mimetype": "text/x-python",
   "name": "python",
   "nbconvert_exporter": "python",
   "pygments_lexer": "ipython3",
   "version": "3.7.6"
  },
  "widgets": {
   "application/vnd.jupyter.widget-state+json": {
    "01f9b50766be40ce99dcf09202a5cdff": {
     "model_module": "@jupyter-widgets/controls",
     "model_name": "DescriptionStyleModel",
     "state": {
      "_model_module": "@jupyter-widgets/controls",
      "_model_module_version": "1.5.0",
      "_model_name": "DescriptionStyleModel",
      "_view_count": null,
      "_view_module": "@jupyter-widgets/base",
      "_view_module_version": "1.2.0",
      "_view_name": "StyleView",
      "description_width": ""
     }
    },
    "02ee9ce099a8427fb1281ce5fbe120a0": {
     "model_module": "@jupyter-widgets/controls",
     "model_name": "HBoxModel",
     "state": {
      "_dom_classes": [],
      "_model_module": "@jupyter-widgets/controls",
      "_model_module_version": "1.5.0",
      "_model_name": "HBoxModel",
      "_view_count": null,
      "_view_module": "@jupyter-widgets/controls",
      "_view_module_version": "1.5.0",
      "_view_name": "HBoxView",
      "box_style": "",
      "children": [
       "IPY_MODEL_08793c6b1ab24d88bef245cfb5f1e773",
       "IPY_MODEL_5da914c340524491860e6436b3ff67d1"
      ],
      "layout": "IPY_MODEL_36e742eafec141aaa3b0a51b4b8f5fb4"
     }
    },
    "031050835dc1478d89211b8cf0b9f581": {
     "model_module": "@jupyter-widgets/controls",
     "model_name": "ProgressStyleModel",
     "state": {
      "_model_module": "@jupyter-widgets/controls",
      "_model_module_version": "1.5.0",
      "_model_name": "ProgressStyleModel",
      "_view_count": null,
      "_view_module": "@jupyter-widgets/base",
      "_view_module_version": "1.2.0",
      "_view_name": "StyleView",
      "bar_color": null,
      "description_width": "initial"
     }
    },
    "031bac1e998d48929b41edba950d2baa": {
     "model_module": "@jupyter-widgets/controls",
     "model_name": "HBoxModel",
     "state": {
      "_dom_classes": [],
      "_model_module": "@jupyter-widgets/controls",
      "_model_module_version": "1.5.0",
      "_model_name": "HBoxModel",
      "_view_count": null,
      "_view_module": "@jupyter-widgets/controls",
      "_view_module_version": "1.5.0",
      "_view_name": "HBoxView",
      "box_style": "",
      "children": [
       "IPY_MODEL_ee5c9e0d52524caea582ca4329153ffd",
       "IPY_MODEL_5522b42e20ab4820a4a06f49ff583f08"
      ],
      "layout": "IPY_MODEL_6e03d40542424336aaea34dc0c7319df"
     }
    },
    "033a378941db4652b727917309e625bd": {
     "model_module": "@jupyter-widgets/controls",
     "model_name": "HBoxModel",
     "state": {
      "_dom_classes": [],
      "_model_module": "@jupyter-widgets/controls",
      "_model_module_version": "1.5.0",
      "_model_name": "HBoxModel",
      "_view_count": null,
      "_view_module": "@jupyter-widgets/controls",
      "_view_module_version": "1.5.0",
      "_view_name": "HBoxView",
      "box_style": "",
      "children": [
       "IPY_MODEL_0f13cd1b69d04af696ef80e52c8e6472",
       "IPY_MODEL_2887363063254cb3bb83036c0c5b7bd0"
      ],
      "layout": "IPY_MODEL_a2c38b9586ab42ac8115804d43dfae0a"
     }
    },
    "07b2c61cfbfa49d7af92d1a7be45c892": {
     "model_module": "@jupyter-widgets/controls",
     "model_name": "FloatProgressModel",
     "state": {
      "_dom_classes": [],
      "_model_module": "@jupyter-widgets/controls",
      "_model_module_version": "1.5.0",
      "_model_name": "FloatProgressModel",
      "_view_count": null,
      "_view_module": "@jupyter-widgets/controls",
      "_view_module_version": "1.5.0",
      "_view_name": "ProgressView",
      "bar_style": "success",
      "description": "",
      "description_tooltip": null,
      "layout": "IPY_MODEL_0caf3558d61049a1818d7e19108da1af",
      "max": 29515,
      "min": 0,
      "orientation": "horizontal",
      "style": "IPY_MODEL_eb759658398b4d10ac5b0707b18120f2",
      "value": 29515
     }
    },
    "08793c6b1ab24d88bef245cfb5f1e773": {
     "model_module": "@jupyter-widgets/controls",
     "model_name": "FloatProgressModel",
     "state": {
      "_dom_classes": [],
      "_model_module": "@jupyter-widgets/controls",
      "_model_module_version": "1.5.0",
      "_model_name": "FloatProgressModel",
      "_view_count": null,
      "_view_module": "@jupyter-widgets/controls",
      "_view_module_version": "1.5.0",
      "_view_name": "ProgressView",
      "bar_style": "success",
      "description": "Training: 100%",
      "description_tooltip": null,
      "layout": "IPY_MODEL_c18e0c5bb0f44d77b1727f748ba834b1",
      "max": 20,
      "min": 0,
      "orientation": "horizontal",
      "style": "IPY_MODEL_f4432db29b894e1b8e56c066cdd356ee",
      "value": 20
     }
    },
    "0c590fcac1454f2ab3c2b50f578b3312": {
     "model_module": "@jupyter-widgets/controls",
     "model_name": "FloatProgressModel",
     "state": {
      "_dom_classes": [],
      "_model_module": "@jupyter-widgets/controls",
      "_model_module_version": "1.5.0",
      "_model_name": "FloatProgressModel",
      "_view_count": null,
      "_view_module": "@jupyter-widgets/controls",
      "_view_module_version": "1.5.0",
      "_view_name": "ProgressView",
      "bar_style": "success",
      "description": "Training: 100%",
      "description_tooltip": null,
      "layout": "IPY_MODEL_22771e2e505c4bae80edc3afa4c15940",
      "max": 3,
      "min": 0,
      "orientation": "horizontal",
      "style": "IPY_MODEL_1ba43db4f55f492799c3e1886dfdc123",
      "value": 3
     }
    },
    "0caf3558d61049a1818d7e19108da1af": {
     "model_module": "@jupyter-widgets/base",
     "model_name": "LayoutModel",
     "state": {
      "_model_module": "@jupyter-widgets/base",
      "_model_module_version": "1.2.0",
      "_model_name": "LayoutModel",
      "_view_count": null,
      "_view_module": "@jupyter-widgets/base",
      "_view_module_version": "1.2.0",
      "_view_name": "LayoutView",
      "align_content": null,
      "align_items": null,
      "align_self": null,
      "border": null,
      "bottom": null,
      "display": null,
      "flex": null,
      "flex_flow": null,
      "grid_area": null,
      "grid_auto_columns": null,
      "grid_auto_flow": null,
      "grid_auto_rows": null,
      "grid_column": null,
      "grid_gap": null,
      "grid_row": null,
      "grid_template_areas": null,
      "grid_template_columns": null,
      "grid_template_rows": null,
      "height": null,
      "justify_content": null,
      "justify_items": null,
      "left": null,
      "margin": null,
      "max_height": null,
      "max_width": null,
      "min_height": null,
      "min_width": null,
      "object_fit": null,
      "object_position": null,
      "order": null,
      "overflow": null,
      "overflow_x": null,
      "overflow_y": null,
      "padding": null,
      "right": null,
      "top": null,
      "visibility": null,
      "width": null
     }
    },
    "0dee23f17e634b39865a35eaa954dd4c": {
     "model_module": "@jupyter-widgets/controls",
     "model_name": "DescriptionStyleModel",
     "state": {
      "_model_module": "@jupyter-widgets/controls",
      "_model_module_version": "1.5.0",
      "_model_name": "DescriptionStyleModel",
      "_view_count": null,
      "_view_module": "@jupyter-widgets/base",
      "_view_module_version": "1.2.0",
      "_view_name": "StyleView",
      "description_width": ""
     }
    },
    "0ed02953e6124269b45ab3c483d2fe98": {
     "model_module": "@jupyter-widgets/controls",
     "model_name": "ProgressStyleModel",
     "state": {
      "_model_module": "@jupyter-widgets/controls",
      "_model_module_version": "1.5.0",
      "_model_name": "ProgressStyleModel",
      "_view_count": null,
      "_view_module": "@jupyter-widgets/base",
      "_view_module_version": "1.2.0",
      "_view_name": "StyleView",
      "bar_color": null,
      "description_width": "initial"
     }
    },
    "0f13cd1b69d04af696ef80e52c8e6472": {
     "model_module": "@jupyter-widgets/controls",
     "model_name": "FloatProgressModel",
     "state": {
      "_dom_classes": [],
      "_model_module": "@jupyter-widgets/controls",
      "_model_module_version": "1.5.0",
      "_model_name": "FloatProgressModel",
      "_view_count": null,
      "_view_module": "@jupyter-widgets/controls",
      "_view_module_version": "1.5.0",
      "_view_name": "ProgressView",
      "bar_style": "success",
      "description": "Training: 100%",
      "description_tooltip": null,
      "layout": "IPY_MODEL_f008cf231e724496a6b1aa3d6ab18657",
      "max": 3,
      "min": 0,
      "orientation": "horizontal",
      "style": "IPY_MODEL_dfb97a3d884045f08f15ab4d66679e60",
      "value": 3
     }
    },
    "0f5e51197a01490194a96f8bbe603109": {
     "model_module": "@jupyter-widgets/controls",
     "model_name": "DescriptionStyleModel",
     "state": {
      "_model_module": "@jupyter-widgets/controls",
      "_model_module_version": "1.5.0",
      "_model_name": "DescriptionStyleModel",
      "_view_count": null,
      "_view_module": "@jupyter-widgets/base",
      "_view_module_version": "1.2.0",
      "_view_name": "StyleView",
      "description_width": ""
     }
    },
    "109798f6e5444f0486d5e16b1d0fb349": {
     "model_module": "@jupyter-widgets/controls",
     "model_name": "HTMLModel",
     "state": {
      "_dom_classes": [],
      "_model_module": "@jupyter-widgets/controls",
      "_model_module_version": "1.5.0",
      "_model_name": "HTMLModel",
      "_view_count": null,
      "_view_module": "@jupyter-widgets/controls",
      "_view_module_version": "1.5.0",
      "_view_name": "HTMLView",
      "description": "",
      "description_tooltip": null,
      "layout": "IPY_MODEL_3f69d261687a4791a81d7ac6c8caa848",
      "placeholder": "​",
      "style": "IPY_MODEL_86e33356a9ea45838e42f3bb5b9a53e9",
      "value": " 3/3 [02:56&lt;00:00, 58.80s/Epoch]"
     }
    },
    "1b76ea33ddba426da3b381b9072f8d93": {
     "model_module": "@jupyter-widgets/controls",
     "model_name": "DescriptionStyleModel",
     "state": {
      "_model_module": "@jupyter-widgets/controls",
      "_model_module_version": "1.5.0",
      "_model_name": "DescriptionStyleModel",
      "_view_count": null,
      "_view_module": "@jupyter-widgets/base",
      "_view_module_version": "1.2.0",
      "_view_name": "StyleView",
      "description_width": ""
     }
    },
    "1b8e47b334244f4da2f660a39daf49eb": {
     "model_module": "@jupyter-widgets/controls",
     "model_name": "FloatProgressModel",
     "state": {
      "_dom_classes": [],
      "_model_module": "@jupyter-widgets/controls",
      "_model_module_version": "1.5.0",
      "_model_name": "FloatProgressModel",
      "_view_count": null,
      "_view_module": "@jupyter-widgets/controls",
      "_view_module_version": "1.5.0",
      "_view_name": "ProgressView",
      "bar_style": "success",
      "description": "Training: 100%",
      "description_tooltip": null,
      "layout": "IPY_MODEL_8082f6d14b16413f95df95f007b00841",
      "max": 3,
      "min": 0,
      "orientation": "horizontal",
      "style": "IPY_MODEL_d3ad9dbaa40f4ec9b2ed68b72bce652e",
      "value": 3
     }
    },
    "1ba43db4f55f492799c3e1886dfdc123": {
     "model_module": "@jupyter-widgets/controls",
     "model_name": "ProgressStyleModel",
     "state": {
      "_model_module": "@jupyter-widgets/controls",
      "_model_module_version": "1.5.0",
      "_model_name": "ProgressStyleModel",
      "_view_count": null,
      "_view_module": "@jupyter-widgets/base",
      "_view_module_version": "1.2.0",
      "_view_name": "StyleView",
      "bar_color": null,
      "description_width": "initial"
     }
    },
    "222fbcc9e69141afbe8599f4f78b3f25": {
     "model_module": "@jupyter-widgets/base",
     "model_name": "LayoutModel",
     "state": {
      "_model_module": "@jupyter-widgets/base",
      "_model_module_version": "1.2.0",
      "_model_name": "LayoutModel",
      "_view_count": null,
      "_view_module": "@jupyter-widgets/base",
      "_view_module_version": "1.2.0",
      "_view_name": "LayoutView",
      "align_content": null,
      "align_items": null,
      "align_self": null,
      "border": null,
      "bottom": null,
      "display": null,
      "flex": null,
      "flex_flow": null,
      "grid_area": null,
      "grid_auto_columns": null,
      "grid_auto_flow": null,
      "grid_auto_rows": null,
      "grid_column": null,
      "grid_gap": null,
      "grid_row": null,
      "grid_template_areas": null,
      "grid_template_columns": null,
      "grid_template_rows": null,
      "height": null,
      "justify_content": null,
      "justify_items": null,
      "left": null,
      "margin": null,
      "max_height": null,
      "max_width": null,
      "min_height": null,
      "min_width": null,
      "object_fit": null,
      "object_position": null,
      "order": null,
      "overflow": null,
      "overflow_x": null,
      "overflow_y": null,
      "padding": null,
      "right": null,
      "top": null,
      "visibility": null,
      "width": null
     }
    },
    "22771e2e505c4bae80edc3afa4c15940": {
     "model_module": "@jupyter-widgets/base",
     "model_name": "LayoutModel",
     "state": {
      "_model_module": "@jupyter-widgets/base",
      "_model_module_version": "1.2.0",
      "_model_name": "LayoutModel",
      "_view_count": null,
      "_view_module": "@jupyter-widgets/base",
      "_view_module_version": "1.2.0",
      "_view_name": "LayoutView",
      "align_content": null,
      "align_items": null,
      "align_self": null,
      "border": null,
      "bottom": null,
      "display": null,
      "flex": null,
      "flex_flow": null,
      "grid_area": null,
      "grid_auto_columns": null,
      "grid_auto_flow": null,
      "grid_auto_rows": null,
      "grid_column": null,
      "grid_gap": null,
      "grid_row": null,
      "grid_template_areas": null,
      "grid_template_columns": null,
      "grid_template_rows": null,
      "height": null,
      "justify_content": null,
      "justify_items": null,
      "left": null,
      "margin": null,
      "max_height": null,
      "max_width": null,
      "min_height": null,
      "min_width": null,
      "object_fit": null,
      "object_position": null,
      "order": null,
      "overflow": null,
      "overflow_x": null,
      "overflow_y": null,
      "padding": null,
      "right": null,
      "top": null,
      "visibility": null,
      "width": null
     }
    },
    "2340d1292411400ab82efb05a2d070c2": {
     "model_module": "@jupyter-widgets/controls",
     "model_name": "ProgressStyleModel",
     "state": {
      "_model_module": "@jupyter-widgets/controls",
      "_model_module_version": "1.5.0",
      "_model_name": "ProgressStyleModel",
      "_view_count": null,
      "_view_module": "@jupyter-widgets/base",
      "_view_module_version": "1.2.0",
      "_view_name": "StyleView",
      "bar_color": null,
      "description_width": "initial"
     }
    },
    "2887363063254cb3bb83036c0c5b7bd0": {
     "model_module": "@jupyter-widgets/controls",
     "model_name": "HTMLModel",
     "state": {
      "_dom_classes": [],
      "_model_module": "@jupyter-widgets/controls",
      "_model_module_version": "1.5.0",
      "_model_name": "HTMLModel",
      "_view_count": null,
      "_view_module": "@jupyter-widgets/controls",
      "_view_module_version": "1.5.0",
      "_view_name": "HTMLView",
      "description": "",
      "description_tooltip": null,
      "layout": "IPY_MODEL_41857c81a3d24c13a470be0ce33754fb",
      "placeholder": "​",
      "style": "IPY_MODEL_a394811356fd4cec8fea0fe8ae2878eb",
      "value": " 3/3 [05:42&lt;00:00, 114.07s/Epoch]"
     }
    },
    "28bf00708d374a7b9587b3e6bbe6d50a": {
     "model_module": "@jupyter-widgets/controls",
     "model_name": "HBoxModel",
     "state": {
      "_dom_classes": [],
      "_model_module": "@jupyter-widgets/controls",
      "_model_module_version": "1.5.0",
      "_model_name": "HBoxModel",
      "_view_count": null,
      "_view_module": "@jupyter-widgets/controls",
      "_view_module_version": "1.5.0",
      "_view_name": "HBoxView",
      "box_style": "",
      "children": [
       "IPY_MODEL_a9375eaa90ef4a90a316e846d3d6eec4",
       "IPY_MODEL_612faf0188d0469388974d94910f19c3"
      ],
      "layout": "IPY_MODEL_816f2e587cc948f28be7522012221b2a"
     }
    },
    "2b66a36e7c9a417ea8ea042156711cfc": {
     "model_module": "@jupyter-widgets/base",
     "model_name": "LayoutModel",
     "state": {
      "_model_module": "@jupyter-widgets/base",
      "_model_module_version": "1.2.0",
      "_model_name": "LayoutModel",
      "_view_count": null,
      "_view_module": "@jupyter-widgets/base",
      "_view_module_version": "1.2.0",
      "_view_name": "LayoutView",
      "align_content": null,
      "align_items": null,
      "align_self": null,
      "border": null,
      "bottom": null,
      "display": null,
      "flex": null,
      "flex_flow": null,
      "grid_area": null,
      "grid_auto_columns": null,
      "grid_auto_flow": null,
      "grid_auto_rows": null,
      "grid_column": null,
      "grid_gap": null,
      "grid_row": null,
      "grid_template_areas": null,
      "grid_template_columns": null,
      "grid_template_rows": null,
      "height": null,
      "justify_content": null,
      "justify_items": null,
      "left": null,
      "margin": null,
      "max_height": null,
      "max_width": null,
      "min_height": null,
      "min_width": null,
      "object_fit": null,
      "object_position": null,
      "order": null,
      "overflow": null,
      "overflow_x": null,
      "overflow_y": null,
      "padding": null,
      "right": null,
      "top": null,
      "visibility": null,
      "width": null
     }
    },
    "2e221af09cba443c99752d2415e5e46c": {
     "model_module": "@jupyter-widgets/controls",
     "model_name": "DescriptionStyleModel",
     "state": {
      "_model_module": "@jupyter-widgets/controls",
      "_model_module_version": "1.5.0",
      "_model_name": "DescriptionStyleModel",
      "_view_count": null,
      "_view_module": "@jupyter-widgets/base",
      "_view_module_version": "1.2.0",
      "_view_name": "StyleView",
      "description_width": ""
     }
    },
    "3068de404c364e2ab654d6a729458ff3": {
     "model_module": "@jupyter-widgets/base",
     "model_name": "LayoutModel",
     "state": {
      "_model_module": "@jupyter-widgets/base",
      "_model_module_version": "1.2.0",
      "_model_name": "LayoutModel",
      "_view_count": null,
      "_view_module": "@jupyter-widgets/base",
      "_view_module_version": "1.2.0",
      "_view_name": "LayoutView",
      "align_content": null,
      "align_items": null,
      "align_self": null,
      "border": null,
      "bottom": null,
      "display": null,
      "flex": null,
      "flex_flow": null,
      "grid_area": null,
      "grid_auto_columns": null,
      "grid_auto_flow": null,
      "grid_auto_rows": null,
      "grid_column": null,
      "grid_gap": null,
      "grid_row": null,
      "grid_template_areas": null,
      "grid_template_columns": null,
      "grid_template_rows": null,
      "height": null,
      "justify_content": null,
      "justify_items": null,
      "left": null,
      "margin": null,
      "max_height": null,
      "max_width": null,
      "min_height": null,
      "min_width": null,
      "object_fit": null,
      "object_position": null,
      "order": null,
      "overflow": null,
      "overflow_x": null,
      "overflow_y": null,
      "padding": null,
      "right": null,
      "top": null,
      "visibility": null,
      "width": null
     }
    },
    "30c55649ad6b476eb27a0f057f54d03e": {
     "model_module": "@jupyter-widgets/controls",
     "model_name": "HTMLModel",
     "state": {
      "_dom_classes": [],
      "_model_module": "@jupyter-widgets/controls",
      "_model_module_version": "1.5.0",
      "_model_name": "HTMLModel",
      "_view_count": null,
      "_view_module": "@jupyter-widgets/controls",
      "_view_module_version": "1.5.0",
      "_view_name": "HTMLView",
      "description": "",
      "description_tooltip": null,
      "layout": "IPY_MODEL_ebe375bf0d8d4a2e9b805d27a891da59",
      "placeholder": "​",
      "style": "IPY_MODEL_0dee23f17e634b39865a35eaa954dd4c",
      "value": " 3/3 [05:46&lt;00:00, 115.36s/Epoch]"
     }
    },
    "32465c9fccd6401693ca90e19a5e9020": {
     "model_module": "@jupyter-widgets/controls",
     "model_name": "ProgressStyleModel",
     "state": {
      "_model_module": "@jupyter-widgets/controls",
      "_model_module_version": "1.5.0",
      "_model_name": "ProgressStyleModel",
      "_view_count": null,
      "_view_module": "@jupyter-widgets/base",
      "_view_module_version": "1.2.0",
      "_view_name": "StyleView",
      "bar_color": null,
      "description_width": "initial"
     }
    },
    "33a7365be9db4315ae2623c1816a577a": {
     "model_module": "@jupyter-widgets/base",
     "model_name": "LayoutModel",
     "state": {
      "_model_module": "@jupyter-widgets/base",
      "_model_module_version": "1.2.0",
      "_model_name": "LayoutModel",
      "_view_count": null,
      "_view_module": "@jupyter-widgets/base",
      "_view_module_version": "1.2.0",
      "_view_name": "LayoutView",
      "align_content": null,
      "align_items": null,
      "align_self": null,
      "border": null,
      "bottom": null,
      "display": null,
      "flex": null,
      "flex_flow": null,
      "grid_area": null,
      "grid_auto_columns": null,
      "grid_auto_flow": null,
      "grid_auto_rows": null,
      "grid_column": null,
      "grid_gap": null,
      "grid_row": null,
      "grid_template_areas": null,
      "grid_template_columns": null,
      "grid_template_rows": null,
      "height": null,
      "justify_content": null,
      "justify_items": null,
      "left": null,
      "margin": null,
      "max_height": null,
      "max_width": null,
      "min_height": null,
      "min_width": null,
      "object_fit": null,
      "object_position": null,
      "order": null,
      "overflow": null,
      "overflow_x": null,
      "overflow_y": null,
      "padding": null,
      "right": null,
      "top": null,
      "visibility": null,
      "width": null
     }
    },
    "348407edee4247b29f9543c138839af3": {
     "model_module": "@jupyter-widgets/controls",
     "model_name": "FloatProgressModel",
     "state": {
      "_dom_classes": [],
      "_model_module": "@jupyter-widgets/controls",
      "_model_module_version": "1.5.0",
      "_model_name": "FloatProgressModel",
      "_view_count": null,
      "_view_module": "@jupyter-widgets/controls",
      "_view_module_version": "1.5.0",
      "_view_name": "ProgressView",
      "bar_style": "success",
      "description": "Training: 100%",
      "description_tooltip": null,
      "layout": "IPY_MODEL_616d25baf8424ebba51656a5dc5f0123",
      "max": 10,
      "min": 0,
      "orientation": "horizontal",
      "style": "IPY_MODEL_3b8d6fc8ff9a46f68d9938975e9a4c9d",
      "value": 10
     }
    },
    "36857deba8cd462c82ceaaa6d99f1dce": {
     "model_module": "@jupyter-widgets/base",
     "model_name": "LayoutModel",
     "state": {
      "_model_module": "@jupyter-widgets/base",
      "_model_module_version": "1.2.0",
      "_model_name": "LayoutModel",
      "_view_count": null,
      "_view_module": "@jupyter-widgets/base",
      "_view_module_version": "1.2.0",
      "_view_name": "LayoutView",
      "align_content": null,
      "align_items": null,
      "align_self": null,
      "border": null,
      "bottom": null,
      "display": null,
      "flex": null,
      "flex_flow": null,
      "grid_area": null,
      "grid_auto_columns": null,
      "grid_auto_flow": null,
      "grid_auto_rows": null,
      "grid_column": null,
      "grid_gap": null,
      "grid_row": null,
      "grid_template_areas": null,
      "grid_template_columns": null,
      "grid_template_rows": null,
      "height": null,
      "justify_content": null,
      "justify_items": null,
      "left": null,
      "margin": null,
      "max_height": null,
      "max_width": null,
      "min_height": null,
      "min_width": null,
      "object_fit": null,
      "object_position": null,
      "order": null,
      "overflow": null,
      "overflow_x": null,
      "overflow_y": null,
      "padding": null,
      "right": null,
      "top": null,
      "visibility": null,
      "width": null
     }
    },
    "36e742eafec141aaa3b0a51b4b8f5fb4": {
     "model_module": "@jupyter-widgets/base",
     "model_name": "LayoutModel",
     "state": {
      "_model_module": "@jupyter-widgets/base",
      "_model_module_version": "1.2.0",
      "_model_name": "LayoutModel",
      "_view_count": null,
      "_view_module": "@jupyter-widgets/base",
      "_view_module_version": "1.2.0",
      "_view_name": "LayoutView",
      "align_content": null,
      "align_items": null,
      "align_self": null,
      "border": null,
      "bottom": null,
      "display": null,
      "flex": null,
      "flex_flow": null,
      "grid_area": null,
      "grid_auto_columns": null,
      "grid_auto_flow": null,
      "grid_auto_rows": null,
      "grid_column": null,
      "grid_gap": null,
      "grid_row": null,
      "grid_template_areas": null,
      "grid_template_columns": null,
      "grid_template_rows": null,
      "height": null,
      "justify_content": null,
      "justify_items": null,
      "left": null,
      "margin": null,
      "max_height": null,
      "max_width": null,
      "min_height": null,
      "min_width": null,
      "object_fit": null,
      "object_position": null,
      "order": null,
      "overflow": null,
      "overflow_x": null,
      "overflow_y": null,
      "padding": null,
      "right": null,
      "top": null,
      "visibility": null,
      "width": null
     }
    },
    "3b8d6fc8ff9a46f68d9938975e9a4c9d": {
     "model_module": "@jupyter-widgets/controls",
     "model_name": "ProgressStyleModel",
     "state": {
      "_model_module": "@jupyter-widgets/controls",
      "_model_module_version": "1.5.0",
      "_model_name": "ProgressStyleModel",
      "_view_count": null,
      "_view_module": "@jupyter-widgets/base",
      "_view_module_version": "1.2.0",
      "_view_name": "StyleView",
      "bar_color": null,
      "description_width": "initial"
     }
    },
    "3bce932a451447c8876b7673aee3ae88": {
     "model_module": "@jupyter-widgets/base",
     "model_name": "LayoutModel",
     "state": {
      "_model_module": "@jupyter-widgets/base",
      "_model_module_version": "1.2.0",
      "_model_name": "LayoutModel",
      "_view_count": null,
      "_view_module": "@jupyter-widgets/base",
      "_view_module_version": "1.2.0",
      "_view_name": "LayoutView",
      "align_content": null,
      "align_items": null,
      "align_self": null,
      "border": null,
      "bottom": null,
      "display": null,
      "flex": null,
      "flex_flow": null,
      "grid_area": null,
      "grid_auto_columns": null,
      "grid_auto_flow": null,
      "grid_auto_rows": null,
      "grid_column": null,
      "grid_gap": null,
      "grid_row": null,
      "grid_template_areas": null,
      "grid_template_columns": null,
      "grid_template_rows": null,
      "height": null,
      "justify_content": null,
      "justify_items": null,
      "left": null,
      "margin": null,
      "max_height": null,
      "max_width": null,
      "min_height": null,
      "min_width": null,
      "object_fit": null,
      "object_position": null,
      "order": null,
      "overflow": null,
      "overflow_x": null,
      "overflow_y": null,
      "padding": null,
      "right": null,
      "top": null,
      "visibility": null,
      "width": null
     }
    },
    "3cf4c00e86d048eea1cbf3ebee6c6ded": {
     "model_module": "@jupyter-widgets/base",
     "model_name": "LayoutModel",
     "state": {
      "_model_module": "@jupyter-widgets/base",
      "_model_module_version": "1.2.0",
      "_model_name": "LayoutModel",
      "_view_count": null,
      "_view_module": "@jupyter-widgets/base",
      "_view_module_version": "1.2.0",
      "_view_name": "LayoutView",
      "align_content": null,
      "align_items": null,
      "align_self": null,
      "border": null,
      "bottom": null,
      "display": null,
      "flex": null,
      "flex_flow": null,
      "grid_area": null,
      "grid_auto_columns": null,
      "grid_auto_flow": null,
      "grid_auto_rows": null,
      "grid_column": null,
      "grid_gap": null,
      "grid_row": null,
      "grid_template_areas": null,
      "grid_template_columns": null,
      "grid_template_rows": null,
      "height": null,
      "justify_content": null,
      "justify_items": null,
      "left": null,
      "margin": null,
      "max_height": null,
      "max_width": null,
      "min_height": null,
      "min_width": null,
      "object_fit": null,
      "object_position": null,
      "order": null,
      "overflow": null,
      "overflow_x": null,
      "overflow_y": null,
      "padding": null,
      "right": null,
      "top": null,
      "visibility": null,
      "width": null
     }
    },
    "3d0047db0143469e8d2c4498a40f85fd": {
     "model_module": "@jupyter-widgets/controls",
     "model_name": "HTMLModel",
     "state": {
      "_dom_classes": [],
      "_model_module": "@jupyter-widgets/controls",
      "_model_module_version": "1.5.0",
      "_model_name": "HTMLModel",
      "_view_count": null,
      "_view_module": "@jupyter-widgets/controls",
      "_view_module_version": "1.5.0",
      "_view_name": "HTMLView",
      "description": "",
      "description_tooltip": null,
      "layout": "IPY_MODEL_c64238fdc19941f8883742940695013f",
      "placeholder": "​",
      "style": "IPY_MODEL_2e221af09cba443c99752d2415e5e46c",
      "value": " 6144/? [00:09&lt;00:00, 680.56it/s]"
     }
    },
    "3dca6250065b4e52aa7303ca522fb132": {
     "model_module": "@jupyter-widgets/controls",
     "model_name": "ProgressStyleModel",
     "state": {
      "_model_module": "@jupyter-widgets/controls",
      "_model_module_version": "1.5.0",
      "_model_name": "ProgressStyleModel",
      "_view_count": null,
      "_view_module": "@jupyter-widgets/base",
      "_view_module_version": "1.2.0",
      "_view_name": "StyleView",
      "bar_color": null,
      "description_width": "initial"
     }
    },
    "3ead93be2ee8401890038154916365c9": {
     "model_module": "@jupyter-widgets/base",
     "model_name": "LayoutModel",
     "state": {
      "_model_module": "@jupyter-widgets/base",
      "_model_module_version": "1.2.0",
      "_model_name": "LayoutModel",
      "_view_count": null,
      "_view_module": "@jupyter-widgets/base",
      "_view_module_version": "1.2.0",
      "_view_name": "LayoutView",
      "align_content": null,
      "align_items": null,
      "align_self": null,
      "border": null,
      "bottom": null,
      "display": null,
      "flex": null,
      "flex_flow": null,
      "grid_area": null,
      "grid_auto_columns": null,
      "grid_auto_flow": null,
      "grid_auto_rows": null,
      "grid_column": null,
      "grid_gap": null,
      "grid_row": null,
      "grid_template_areas": null,
      "grid_template_columns": null,
      "grid_template_rows": null,
      "height": null,
      "justify_content": null,
      "justify_items": null,
      "left": null,
      "margin": null,
      "max_height": null,
      "max_width": null,
      "min_height": null,
      "min_width": null,
      "object_fit": null,
      "object_position": null,
      "order": null,
      "overflow": null,
      "overflow_x": null,
      "overflow_y": null,
      "padding": null,
      "right": null,
      "top": null,
      "visibility": null,
      "width": null
     }
    },
    "3f69d261687a4791a81d7ac6c8caa848": {
     "model_module": "@jupyter-widgets/base",
     "model_name": "LayoutModel",
     "state": {
      "_model_module": "@jupyter-widgets/base",
      "_model_module_version": "1.2.0",
      "_model_name": "LayoutModel",
      "_view_count": null,
      "_view_module": "@jupyter-widgets/base",
      "_view_module_version": "1.2.0",
      "_view_name": "LayoutView",
      "align_content": null,
      "align_items": null,
      "align_self": null,
      "border": null,
      "bottom": null,
      "display": null,
      "flex": null,
      "flex_flow": null,
      "grid_area": null,
      "grid_auto_columns": null,
      "grid_auto_flow": null,
      "grid_auto_rows": null,
      "grid_column": null,
      "grid_gap": null,
      "grid_row": null,
      "grid_template_areas": null,
      "grid_template_columns": null,
      "grid_template_rows": null,
      "height": null,
      "justify_content": null,
      "justify_items": null,
      "left": null,
      "margin": null,
      "max_height": null,
      "max_width": null,
      "min_height": null,
      "min_width": null,
      "object_fit": null,
      "object_position": null,
      "order": null,
      "overflow": null,
      "overflow_x": null,
      "overflow_y": null,
      "padding": null,
      "right": null,
      "top": null,
      "visibility": null,
      "width": null
     }
    },
    "41857c81a3d24c13a470be0ce33754fb": {
     "model_module": "@jupyter-widgets/base",
     "model_name": "LayoutModel",
     "state": {
      "_model_module": "@jupyter-widgets/base",
      "_model_module_version": "1.2.0",
      "_model_name": "LayoutModel",
      "_view_count": null,
      "_view_module": "@jupyter-widgets/base",
      "_view_module_version": "1.2.0",
      "_view_name": "LayoutView",
      "align_content": null,
      "align_items": null,
      "align_self": null,
      "border": null,
      "bottom": null,
      "display": null,
      "flex": null,
      "flex_flow": null,
      "grid_area": null,
      "grid_auto_columns": null,
      "grid_auto_flow": null,
      "grid_auto_rows": null,
      "grid_column": null,
      "grid_gap": null,
      "grid_row": null,
      "grid_template_areas": null,
      "grid_template_columns": null,
      "grid_template_rows": null,
      "height": null,
      "justify_content": null,
      "justify_items": null,
      "left": null,
      "margin": null,
      "max_height": null,
      "max_width": null,
      "min_height": null,
      "min_width": null,
      "object_fit": null,
      "object_position": null,
      "order": null,
      "overflow": null,
      "overflow_x": null,
      "overflow_y": null,
      "padding": null,
      "right": null,
      "top": null,
      "visibility": null,
      "width": null
     }
    },
    "44a80275b32241c2b1cb0ced47ab2c3f": {
     "model_module": "@jupyter-widgets/controls",
     "model_name": "HBoxModel",
     "state": {
      "_dom_classes": [],
      "_model_module": "@jupyter-widgets/controls",
      "_model_module_version": "1.5.0",
      "_model_name": "HBoxModel",
      "_view_count": null,
      "_view_module": "@jupyter-widgets/controls",
      "_view_module_version": "1.5.0",
      "_view_name": "HBoxView",
      "box_style": "",
      "children": [
       "IPY_MODEL_caf0efb6eb6e4afb9a72ec62bdf036f3",
       "IPY_MODEL_3d0047db0143469e8d2c4498a40f85fd"
      ],
      "layout": "IPY_MODEL_3bce932a451447c8876b7673aee3ae88"
     }
    },
    "45d31add9f304444bf8b0d4028bace3f": {
     "model_module": "@jupyter-widgets/controls",
     "model_name": "FloatProgressModel",
     "state": {
      "_dom_classes": [],
      "_model_module": "@jupyter-widgets/controls",
      "_model_module_version": "1.5.0",
      "_model_name": "FloatProgressModel",
      "_view_count": null,
      "_view_module": "@jupyter-widgets/controls",
      "_view_module_version": "1.5.0",
      "_view_name": "ProgressView",
      "bar_style": "success",
      "description": "Training: 100%",
      "description_tooltip": null,
      "layout": "IPY_MODEL_89525e9ea4a64dfabf5b506ca7c34048",
      "max": 3,
      "min": 0,
      "orientation": "horizontal",
      "style": "IPY_MODEL_ebceb875921d45aea4e21e4cb743af3e",
      "value": 3
     }
    },
    "48d255970ff54dad8f0475e67a792f37": {
     "model_module": "@jupyter-widgets/controls",
     "model_name": "HTMLModel",
     "state": {
      "_dom_classes": [],
      "_model_module": "@jupyter-widgets/controls",
      "_model_module_version": "1.5.0",
      "_model_name": "HTMLModel",
      "_view_count": null,
      "_view_module": "@jupyter-widgets/controls",
      "_view_module_version": "1.5.0",
      "_view_name": "HTMLView",
      "description": "",
      "description_tooltip": null,
      "layout": "IPY_MODEL_7fc12cc15ecd4dfda74f3613a0711298",
      "placeholder": "​",
      "style": "IPY_MODEL_01f9b50766be40ce99dcf09202a5cdff",
      "value": " 26422272/? [00:00&lt;00:00, 47371691.78it/s]"
     }
    },
    "4a94d2810f684de5bc12c3d761633261": {
     "model_module": "@jupyter-widgets/base",
     "model_name": "LayoutModel",
     "state": {
      "_model_module": "@jupyter-widgets/base",
      "_model_module_version": "1.2.0",
      "_model_name": "LayoutModel",
      "_view_count": null,
      "_view_module": "@jupyter-widgets/base",
      "_view_module_version": "1.2.0",
      "_view_name": "LayoutView",
      "align_content": null,
      "align_items": null,
      "align_self": null,
      "border": null,
      "bottom": null,
      "display": null,
      "flex": null,
      "flex_flow": null,
      "grid_area": null,
      "grid_auto_columns": null,
      "grid_auto_flow": null,
      "grid_auto_rows": null,
      "grid_column": null,
      "grid_gap": null,
      "grid_row": null,
      "grid_template_areas": null,
      "grid_template_columns": null,
      "grid_template_rows": null,
      "height": null,
      "justify_content": null,
      "justify_items": null,
      "left": null,
      "margin": null,
      "max_height": null,
      "max_width": null,
      "min_height": null,
      "min_width": null,
      "object_fit": null,
      "object_position": null,
      "order": null,
      "overflow": null,
      "overflow_x": null,
      "overflow_y": null,
      "padding": null,
      "right": null,
      "top": null,
      "visibility": null,
      "width": null
     }
    },
    "4c39bf4fcd8e4df28f62608a535bb2ae": {
     "model_module": "@jupyter-widgets/controls",
     "model_name": "HTMLModel",
     "state": {
      "_dom_classes": [],
      "_model_module": "@jupyter-widgets/controls",
      "_model_module_version": "1.5.0",
      "_model_name": "HTMLModel",
      "_view_count": null,
      "_view_module": "@jupyter-widgets/controls",
      "_view_module_version": "1.5.0",
      "_view_name": "HTMLView",
      "description": "",
      "description_tooltip": null,
      "layout": "IPY_MODEL_c43a3fcbd4fd4c5ebeabeb1fd29e72b2",
      "placeholder": "​",
      "style": "IPY_MODEL_8e614b8bda3c4658a6eb9923dfd959dc",
      "value": " 3/3 [07:47&lt;00:00, 155.73s/Epoch]"
     }
    },
    "5522b42e20ab4820a4a06f49ff583f08": {
     "model_module": "@jupyter-widgets/controls",
     "model_name": "HTMLModel",
     "state": {
      "_dom_classes": [],
      "_model_module": "@jupyter-widgets/controls",
      "_model_module_version": "1.5.0",
      "_model_name": "HTMLModel",
      "_view_count": null,
      "_view_module": "@jupyter-widgets/controls",
      "_view_module_version": "1.5.0",
      "_view_name": "HTMLView",
      "description": "",
      "description_tooltip": null,
      "layout": "IPY_MODEL_5a0e9b64fba5473791ef9bd3e3000911",
      "placeholder": "​",
      "style": "IPY_MODEL_645a0a4994214aaeaacd2288dee8566c",
      "value": " 3/3 [04:38&lt;00:00, 92.71s/Epoch]"
     }
    },
    "5646bdb9e8eb4387929bd751c9cb64ce": {
     "model_module": "@jupyter-widgets/controls",
     "model_name": "FloatProgressModel",
     "state": {
      "_dom_classes": [],
      "_model_module": "@jupyter-widgets/controls",
      "_model_module_version": "1.5.0",
      "_model_name": "FloatProgressModel",
      "_view_count": null,
      "_view_module": "@jupyter-widgets/controls",
      "_view_module_version": "1.5.0",
      "_view_name": "ProgressView",
      "bar_style": "success",
      "description": "Training: 100%",
      "description_tooltip": null,
      "layout": "IPY_MODEL_67fea3efaa8641738334d3b30a152bdd",
      "max": 3,
      "min": 0,
      "orientation": "horizontal",
      "style": "IPY_MODEL_3dca6250065b4e52aa7303ca522fb132",
      "value": 3
     }
    },
    "569d839bf13245fc88a6b032aaf724d0": {
     "model_module": "@jupyter-widgets/controls",
     "model_name": "FloatProgressModel",
     "state": {
      "_dom_classes": [],
      "_model_module": "@jupyter-widgets/controls",
      "_model_module_version": "1.5.0",
      "_model_name": "FloatProgressModel",
      "_view_count": null,
      "_view_module": "@jupyter-widgets/controls",
      "_view_module_version": "1.5.0",
      "_view_name": "ProgressView",
      "bar_style": "success",
      "description": "",
      "description_tooltip": null,
      "layout": "IPY_MODEL_d4a3d35e5de7482aa9886fd2ba0c54fe",
      "max": 26421880,
      "min": 0,
      "orientation": "horizontal",
      "style": "IPY_MODEL_031050835dc1478d89211b8cf0b9f581",
      "value": 26421880
     }
    },
    "57cb3b6e0b414a1093d5545b2e01e9b2": {
     "model_module": "@jupyter-widgets/controls",
     "model_name": "HTMLModel",
     "state": {
      "_dom_classes": [],
      "_model_module": "@jupyter-widgets/controls",
      "_model_module_version": "1.5.0",
      "_model_name": "HTMLModel",
      "_view_count": null,
      "_view_module": "@jupyter-widgets/controls",
      "_view_module_version": "1.5.0",
      "_view_name": "HTMLView",
      "description": "",
      "description_tooltip": null,
      "layout": "IPY_MODEL_e99e9cf62ba54f4596068d1d41103d55",
      "placeholder": "​",
      "style": "IPY_MODEL_0f5e51197a01490194a96f8bbe603109",
      "value": " 10/10 [46:28&lt;00:00, 278.86s/Epoch]"
     }
    },
    "5a0e9b64fba5473791ef9bd3e3000911": {
     "model_module": "@jupyter-widgets/base",
     "model_name": "LayoutModel",
     "state": {
      "_model_module": "@jupyter-widgets/base",
      "_model_module_version": "1.2.0",
      "_model_name": "LayoutModel",
      "_view_count": null,
      "_view_module": "@jupyter-widgets/base",
      "_view_module_version": "1.2.0",
      "_view_name": "LayoutView",
      "align_content": null,
      "align_items": null,
      "align_self": null,
      "border": null,
      "bottom": null,
      "display": null,
      "flex": null,
      "flex_flow": null,
      "grid_area": null,
      "grid_auto_columns": null,
      "grid_auto_flow": null,
      "grid_auto_rows": null,
      "grid_column": null,
      "grid_gap": null,
      "grid_row": null,
      "grid_template_areas": null,
      "grid_template_columns": null,
      "grid_template_rows": null,
      "height": null,
      "justify_content": null,
      "justify_items": null,
      "left": null,
      "margin": null,
      "max_height": null,
      "max_width": null,
      "min_height": null,
      "min_width": null,
      "object_fit": null,
      "object_position": null,
      "order": null,
      "overflow": null,
      "overflow_x": null,
      "overflow_y": null,
      "padding": null,
      "right": null,
      "top": null,
      "visibility": null,
      "width": null
     }
    },
    "5bbe5f9b2ddb43ac8d9b92d1cce43bcf": {
     "model_module": "@jupyter-widgets/base",
     "model_name": "LayoutModel",
     "state": {
      "_model_module": "@jupyter-widgets/base",
      "_model_module_version": "1.2.0",
      "_model_name": "LayoutModel",
      "_view_count": null,
      "_view_module": "@jupyter-widgets/base",
      "_view_module_version": "1.2.0",
      "_view_name": "LayoutView",
      "align_content": null,
      "align_items": null,
      "align_self": null,
      "border": null,
      "bottom": null,
      "display": null,
      "flex": null,
      "flex_flow": null,
      "grid_area": null,
      "grid_auto_columns": null,
      "grid_auto_flow": null,
      "grid_auto_rows": null,
      "grid_column": null,
      "grid_gap": null,
      "grid_row": null,
      "grid_template_areas": null,
      "grid_template_columns": null,
      "grid_template_rows": null,
      "height": null,
      "justify_content": null,
      "justify_items": null,
      "left": null,
      "margin": null,
      "max_height": null,
      "max_width": null,
      "min_height": null,
      "min_width": null,
      "object_fit": null,
      "object_position": null,
      "order": null,
      "overflow": null,
      "overflow_x": null,
      "overflow_y": null,
      "padding": null,
      "right": null,
      "top": null,
      "visibility": null,
      "width": null
     }
    },
    "5cd862fa98d541e8aad22ce92edfd6d0": {
     "model_module": "@jupyter-widgets/controls",
     "model_name": "HBoxModel",
     "state": {
      "_dom_classes": [],
      "_model_module": "@jupyter-widgets/controls",
      "_model_module_version": "1.5.0",
      "_model_name": "HBoxModel",
      "_view_count": null,
      "_view_module": "@jupyter-widgets/controls",
      "_view_module_version": "1.5.0",
      "_view_name": "HBoxView",
      "box_style": "",
      "children": [
       "IPY_MODEL_f2ee70ef10db4651a88676f520c5538b",
       "IPY_MODEL_4c39bf4fcd8e4df28f62608a535bb2ae"
      ],
      "layout": "IPY_MODEL_cdfae8e3b4604f858879e66d352f3840"
     }
    },
    "5da4c133d73448c9b606cd7f5d545434": {
     "model_module": "@jupyter-widgets/controls",
     "model_name": "HTMLModel",
     "state": {
      "_dom_classes": [],
      "_model_module": "@jupyter-widgets/controls",
      "_model_module_version": "1.5.0",
      "_model_name": "HTMLModel",
      "_view_count": null,
      "_view_module": "@jupyter-widgets/controls",
      "_view_module_version": "1.5.0",
      "_view_name": "HTMLView",
      "description": "",
      "description_tooltip": null,
      "layout": "IPY_MODEL_ab751e147e2c441eaacc44fd912486f7",
      "placeholder": "​",
      "style": "IPY_MODEL_fd895c97fd5b466bb8c93780cfac55f2",
      "value": " 3/3 [03:53&lt;00:00, 77.98s/Epoch]"
     }
    },
    "5da914c340524491860e6436b3ff67d1": {
     "model_module": "@jupyter-widgets/controls",
     "model_name": "HTMLModel",
     "state": {
      "_dom_classes": [],
      "_model_module": "@jupyter-widgets/controls",
      "_model_module_version": "1.5.0",
      "_model_name": "HTMLModel",
      "_view_count": null,
      "_view_module": "@jupyter-widgets/controls",
      "_view_module_version": "1.5.0",
      "_view_name": "HTMLView",
      "description": "",
      "description_tooltip": null,
      "layout": "IPY_MODEL_c596559ff3474cb4a04713b906e3509b",
      "placeholder": "​",
      "style": "IPY_MODEL_fc882ddff9a844619af62bbd60f1fc3b",
      "value": " 20/20 [35:51&lt;00:00, 107.57s/Epoch]"
     }
    },
    "612faf0188d0469388974d94910f19c3": {
     "model_module": "@jupyter-widgets/controls",
     "model_name": "HTMLModel",
     "state": {
      "_dom_classes": [],
      "_model_module": "@jupyter-widgets/controls",
      "_model_module_version": "1.5.0",
      "_model_name": "HTMLModel",
      "_view_count": null,
      "_view_module": "@jupyter-widgets/controls",
      "_view_module_version": "1.5.0",
      "_view_name": "HTMLView",
      "description": "",
      "description_tooltip": null,
      "layout": "IPY_MODEL_33a7365be9db4315ae2623c1816a577a",
      "placeholder": "​",
      "style": "IPY_MODEL_df755887f9934e8fa1a3bbee4db3cf66",
      "value": " 3/3 [06:30&lt;00:00, 130.13s/Epoch]"
     }
    },
    "616d25baf8424ebba51656a5dc5f0123": {
     "model_module": "@jupyter-widgets/base",
     "model_name": "LayoutModel",
     "state": {
      "_model_module": "@jupyter-widgets/base",
      "_model_module_version": "1.2.0",
      "_model_name": "LayoutModel",
      "_view_count": null,
      "_view_module": "@jupyter-widgets/base",
      "_view_module_version": "1.2.0",
      "_view_name": "LayoutView",
      "align_content": null,
      "align_items": null,
      "align_self": null,
      "border": null,
      "bottom": null,
      "display": null,
      "flex": null,
      "flex_flow": null,
      "grid_area": null,
      "grid_auto_columns": null,
      "grid_auto_flow": null,
      "grid_auto_rows": null,
      "grid_column": null,
      "grid_gap": null,
      "grid_row": null,
      "grid_template_areas": null,
      "grid_template_columns": null,
      "grid_template_rows": null,
      "height": null,
      "justify_content": null,
      "justify_items": null,
      "left": null,
      "margin": null,
      "max_height": null,
      "max_width": null,
      "min_height": null,
      "min_width": null,
      "object_fit": null,
      "object_position": null,
      "order": null,
      "overflow": null,
      "overflow_x": null,
      "overflow_y": null,
      "padding": null,
      "right": null,
      "top": null,
      "visibility": null,
      "width": null
     }
    },
    "62587a8c5f964f0a884d0200fc261039": {
     "model_module": "@jupyter-widgets/base",
     "model_name": "LayoutModel",
     "state": {
      "_model_module": "@jupyter-widgets/base",
      "_model_module_version": "1.2.0",
      "_model_name": "LayoutModel",
      "_view_count": null,
      "_view_module": "@jupyter-widgets/base",
      "_view_module_version": "1.2.0",
      "_view_name": "LayoutView",
      "align_content": null,
      "align_items": null,
      "align_self": null,
      "border": null,
      "bottom": null,
      "display": null,
      "flex": null,
      "flex_flow": null,
      "grid_area": null,
      "grid_auto_columns": null,
      "grid_auto_flow": null,
      "grid_auto_rows": null,
      "grid_column": null,
      "grid_gap": null,
      "grid_row": null,
      "grid_template_areas": null,
      "grid_template_columns": null,
      "grid_template_rows": null,
      "height": null,
      "justify_content": null,
      "justify_items": null,
      "left": null,
      "margin": null,
      "max_height": null,
      "max_width": null,
      "min_height": null,
      "min_width": null,
      "object_fit": null,
      "object_position": null,
      "order": null,
      "overflow": null,
      "overflow_x": null,
      "overflow_y": null,
      "padding": null,
      "right": null,
      "top": null,
      "visibility": null,
      "width": null
     }
    },
    "645a0a4994214aaeaacd2288dee8566c": {
     "model_module": "@jupyter-widgets/controls",
     "model_name": "DescriptionStyleModel",
     "state": {
      "_model_module": "@jupyter-widgets/controls",
      "_model_module_version": "1.5.0",
      "_model_name": "DescriptionStyleModel",
      "_view_count": null,
      "_view_module": "@jupyter-widgets/base",
      "_view_module_version": "1.2.0",
      "_view_name": "StyleView",
      "description_width": ""
     }
    },
    "647a5a9bd7764b5983526b960a866d3a": {
     "model_module": "@jupyter-widgets/controls",
     "model_name": "FloatProgressModel",
     "state": {
      "_dom_classes": [],
      "_model_module": "@jupyter-widgets/controls",
      "_model_module_version": "1.5.0",
      "_model_name": "FloatProgressModel",
      "_view_count": null,
      "_view_module": "@jupyter-widgets/controls",
      "_view_module_version": "1.5.0",
      "_view_name": "ProgressView",
      "bar_style": "success",
      "description": "Training: 100%",
      "description_tooltip": null,
      "layout": "IPY_MODEL_79e4b80c0be248189541361a718f6eeb",
      "max": 3,
      "min": 0,
      "orientation": "horizontal",
      "style": "IPY_MODEL_75c4b5744b32475f8357e7fde5f4daf8",
      "value": 3
     }
    },
    "67fea3efaa8641738334d3b30a152bdd": {
     "model_module": "@jupyter-widgets/base",
     "model_name": "LayoutModel",
     "state": {
      "_model_module": "@jupyter-widgets/base",
      "_model_module_version": "1.2.0",
      "_model_name": "LayoutModel",
      "_view_count": null,
      "_view_module": "@jupyter-widgets/base",
      "_view_module_version": "1.2.0",
      "_view_name": "LayoutView",
      "align_content": null,
      "align_items": null,
      "align_self": null,
      "border": null,
      "bottom": null,
      "display": null,
      "flex": null,
      "flex_flow": null,
      "grid_area": null,
      "grid_auto_columns": null,
      "grid_auto_flow": null,
      "grid_auto_rows": null,
      "grid_column": null,
      "grid_gap": null,
      "grid_row": null,
      "grid_template_areas": null,
      "grid_template_columns": null,
      "grid_template_rows": null,
      "height": null,
      "justify_content": null,
      "justify_items": null,
      "left": null,
      "margin": null,
      "max_height": null,
      "max_width": null,
      "min_height": null,
      "min_width": null,
      "object_fit": null,
      "object_position": null,
      "order": null,
      "overflow": null,
      "overflow_x": null,
      "overflow_y": null,
      "padding": null,
      "right": null,
      "top": null,
      "visibility": null,
      "width": null
     }
    },
    "699614cc589f47f1b5770ec22657c020": {
     "model_module": "@jupyter-widgets/base",
     "model_name": "LayoutModel",
     "state": {
      "_model_module": "@jupyter-widgets/base",
      "_model_module_version": "1.2.0",
      "_model_name": "LayoutModel",
      "_view_count": null,
      "_view_module": "@jupyter-widgets/base",
      "_view_module_version": "1.2.0",
      "_view_name": "LayoutView",
      "align_content": null,
      "align_items": null,
      "align_self": null,
      "border": null,
      "bottom": null,
      "display": null,
      "flex": null,
      "flex_flow": null,
      "grid_area": null,
      "grid_auto_columns": null,
      "grid_auto_flow": null,
      "grid_auto_rows": null,
      "grid_column": null,
      "grid_gap": null,
      "grid_row": null,
      "grid_template_areas": null,
      "grid_template_columns": null,
      "grid_template_rows": null,
      "height": null,
      "justify_content": null,
      "justify_items": null,
      "left": null,
      "margin": null,
      "max_height": null,
      "max_width": null,
      "min_height": null,
      "min_width": null,
      "object_fit": null,
      "object_position": null,
      "order": null,
      "overflow": null,
      "overflow_x": null,
      "overflow_y": null,
      "padding": null,
      "right": null,
      "top": null,
      "visibility": null,
      "width": null
     }
    },
    "6e03d40542424336aaea34dc0c7319df": {
     "model_module": "@jupyter-widgets/base",
     "model_name": "LayoutModel",
     "state": {
      "_model_module": "@jupyter-widgets/base",
      "_model_module_version": "1.2.0",
      "_model_name": "LayoutModel",
      "_view_count": null,
      "_view_module": "@jupyter-widgets/base",
      "_view_module_version": "1.2.0",
      "_view_name": "LayoutView",
      "align_content": null,
      "align_items": null,
      "align_self": null,
      "border": null,
      "bottom": null,
      "display": null,
      "flex": null,
      "flex_flow": null,
      "grid_area": null,
      "grid_auto_columns": null,
      "grid_auto_flow": null,
      "grid_auto_rows": null,
      "grid_column": null,
      "grid_gap": null,
      "grid_row": null,
      "grid_template_areas": null,
      "grid_template_columns": null,
      "grid_template_rows": null,
      "height": null,
      "justify_content": null,
      "justify_items": null,
      "left": null,
      "margin": null,
      "max_height": null,
      "max_width": null,
      "min_height": null,
      "min_width": null,
      "object_fit": null,
      "object_position": null,
      "order": null,
      "overflow": null,
      "overflow_x": null,
      "overflow_y": null,
      "padding": null,
      "right": null,
      "top": null,
      "visibility": null,
      "width": null
     }
    },
    "6ff412ba6f464237a1b8d6edd09eec5d": {
     "model_module": "@jupyter-widgets/base",
     "model_name": "LayoutModel",
     "state": {
      "_model_module": "@jupyter-widgets/base",
      "_model_module_version": "1.2.0",
      "_model_name": "LayoutModel",
      "_view_count": null,
      "_view_module": "@jupyter-widgets/base",
      "_view_module_version": "1.2.0",
      "_view_name": "LayoutView",
      "align_content": null,
      "align_items": null,
      "align_self": null,
      "border": null,
      "bottom": null,
      "display": null,
      "flex": null,
      "flex_flow": null,
      "grid_area": null,
      "grid_auto_columns": null,
      "grid_auto_flow": null,
      "grid_auto_rows": null,
      "grid_column": null,
      "grid_gap": null,
      "grid_row": null,
      "grid_template_areas": null,
      "grid_template_columns": null,
      "grid_template_rows": null,
      "height": null,
      "justify_content": null,
      "justify_items": null,
      "left": null,
      "margin": null,
      "max_height": null,
      "max_width": null,
      "min_height": null,
      "min_width": null,
      "object_fit": null,
      "object_position": null,
      "order": null,
      "overflow": null,
      "overflow_x": null,
      "overflow_y": null,
      "padding": null,
      "right": null,
      "top": null,
      "visibility": null,
      "width": null
     }
    },
    "73f0d5b6385f4c15a9425de02d81e65c": {
     "model_module": "@jupyter-widgets/controls",
     "model_name": "HTMLModel",
     "state": {
      "_dom_classes": [],
      "_model_module": "@jupyter-widgets/controls",
      "_model_module_version": "1.5.0",
      "_model_name": "HTMLModel",
      "_view_count": null,
      "_view_module": "@jupyter-widgets/controls",
      "_view_module_version": "1.5.0",
      "_view_name": "HTMLView",
      "description": "",
      "description_tooltip": null,
      "layout": "IPY_MODEL_3068de404c364e2ab654d6a729458ff3",
      "placeholder": "​",
      "style": "IPY_MODEL_b6e834e3856e45e89341d32c182fd5d1",
      "value": " 3/3 [06:18&lt;00:00, 126.28s/Epoch]"
     }
    },
    "750f534412e0472a86014f1e0552c3b9": {
     "model_module": "@jupyter-widgets/controls",
     "model_name": "HBoxModel",
     "state": {
      "_dom_classes": [],
      "_model_module": "@jupyter-widgets/controls",
      "_model_module_version": "1.5.0",
      "_model_name": "HBoxModel",
      "_view_count": null,
      "_view_module": "@jupyter-widgets/controls",
      "_view_module_version": "1.5.0",
      "_view_name": "HBoxView",
      "box_style": "",
      "children": [
       "IPY_MODEL_804debbc1914474490080997da4e30ba",
       "IPY_MODEL_f6f62f7d5beb49879151b525e08a015c"
      ],
      "layout": "IPY_MODEL_cdd616e2113e47e2b97a23790c1c4d89"
     }
    },
    "75c4b5744b32475f8357e7fde5f4daf8": {
     "model_module": "@jupyter-widgets/controls",
     "model_name": "ProgressStyleModel",
     "state": {
      "_model_module": "@jupyter-widgets/controls",
      "_model_module_version": "1.5.0",
      "_model_name": "ProgressStyleModel",
      "_view_count": null,
      "_view_module": "@jupyter-widgets/base",
      "_view_module_version": "1.2.0",
      "_view_name": "StyleView",
      "bar_color": null,
      "description_width": "initial"
     }
    },
    "786b6d71a2bf412aae3600f24f8c6ba6": {
     "model_module": "@jupyter-widgets/controls",
     "model_name": "ProgressStyleModel",
     "state": {
      "_model_module": "@jupyter-widgets/controls",
      "_model_module_version": "1.5.0",
      "_model_name": "ProgressStyleModel",
      "_view_count": null,
      "_view_module": "@jupyter-widgets/base",
      "_view_module_version": "1.2.0",
      "_view_name": "StyleView",
      "bar_color": null,
      "description_width": "initial"
     }
    },
    "790991fe0e90479b8ec322f5dc87402d": {
     "model_module": "@jupyter-widgets/base",
     "model_name": "LayoutModel",
     "state": {
      "_model_module": "@jupyter-widgets/base",
      "_model_module_version": "1.2.0",
      "_model_name": "LayoutModel",
      "_view_count": null,
      "_view_module": "@jupyter-widgets/base",
      "_view_module_version": "1.2.0",
      "_view_name": "LayoutView",
      "align_content": null,
      "align_items": null,
      "align_self": null,
      "border": null,
      "bottom": null,
      "display": null,
      "flex": null,
      "flex_flow": null,
      "grid_area": null,
      "grid_auto_columns": null,
      "grid_auto_flow": null,
      "grid_auto_rows": null,
      "grid_column": null,
      "grid_gap": null,
      "grid_row": null,
      "grid_template_areas": null,
      "grid_template_columns": null,
      "grid_template_rows": null,
      "height": null,
      "justify_content": null,
      "justify_items": null,
      "left": null,
      "margin": null,
      "max_height": null,
      "max_width": null,
      "min_height": null,
      "min_width": null,
      "object_fit": null,
      "object_position": null,
      "order": null,
      "overflow": null,
      "overflow_x": null,
      "overflow_y": null,
      "padding": null,
      "right": null,
      "top": null,
      "visibility": null,
      "width": null
     }
    },
    "795631908fdc4ec0bb1a2f2273425f3d": {
     "model_module": "@jupyter-widgets/base",
     "model_name": "LayoutModel",
     "state": {
      "_model_module": "@jupyter-widgets/base",
      "_model_module_version": "1.2.0",
      "_model_name": "LayoutModel",
      "_view_count": null,
      "_view_module": "@jupyter-widgets/base",
      "_view_module_version": "1.2.0",
      "_view_name": "LayoutView",
      "align_content": null,
      "align_items": null,
      "align_self": null,
      "border": null,
      "bottom": null,
      "display": null,
      "flex": null,
      "flex_flow": null,
      "grid_area": null,
      "grid_auto_columns": null,
      "grid_auto_flow": null,
      "grid_auto_rows": null,
      "grid_column": null,
      "grid_gap": null,
      "grid_row": null,
      "grid_template_areas": null,
      "grid_template_columns": null,
      "grid_template_rows": null,
      "height": null,
      "justify_content": null,
      "justify_items": null,
      "left": null,
      "margin": null,
      "max_height": null,
      "max_width": null,
      "min_height": null,
      "min_width": null,
      "object_fit": null,
      "object_position": null,
      "order": null,
      "overflow": null,
      "overflow_x": null,
      "overflow_y": null,
      "padding": null,
      "right": null,
      "top": null,
      "visibility": null,
      "width": null
     }
    },
    "7967426cc35944a0a9ad4e25be81d63d": {
     "model_module": "@jupyter-widgets/controls",
     "model_name": "ProgressStyleModel",
     "state": {
      "_model_module": "@jupyter-widgets/controls",
      "_model_module_version": "1.5.0",
      "_model_name": "ProgressStyleModel",
      "_view_count": null,
      "_view_module": "@jupyter-widgets/base",
      "_view_module_version": "1.2.0",
      "_view_name": "StyleView",
      "bar_color": null,
      "description_width": "initial"
     }
    },
    "799c1086884c46e2a779a950c9ffed5d": {
     "model_module": "@jupyter-widgets/base",
     "model_name": "LayoutModel",
     "state": {
      "_model_module": "@jupyter-widgets/base",
      "_model_module_version": "1.2.0",
      "_model_name": "LayoutModel",
      "_view_count": null,
      "_view_module": "@jupyter-widgets/base",
      "_view_module_version": "1.2.0",
      "_view_name": "LayoutView",
      "align_content": null,
      "align_items": null,
      "align_self": null,
      "border": null,
      "bottom": null,
      "display": null,
      "flex": null,
      "flex_flow": null,
      "grid_area": null,
      "grid_auto_columns": null,
      "grid_auto_flow": null,
      "grid_auto_rows": null,
      "grid_column": null,
      "grid_gap": null,
      "grid_row": null,
      "grid_template_areas": null,
      "grid_template_columns": null,
      "grid_template_rows": null,
      "height": null,
      "justify_content": null,
      "justify_items": null,
      "left": null,
      "margin": null,
      "max_height": null,
      "max_width": null,
      "min_height": null,
      "min_width": null,
      "object_fit": null,
      "object_position": null,
      "order": null,
      "overflow": null,
      "overflow_x": null,
      "overflow_y": null,
      "padding": null,
      "right": null,
      "top": null,
      "visibility": null,
      "width": null
     }
    },
    "79e4b80c0be248189541361a718f6eeb": {
     "model_module": "@jupyter-widgets/base",
     "model_name": "LayoutModel",
     "state": {
      "_model_module": "@jupyter-widgets/base",
      "_model_module_version": "1.2.0",
      "_model_name": "LayoutModel",
      "_view_count": null,
      "_view_module": "@jupyter-widgets/base",
      "_view_module_version": "1.2.0",
      "_view_name": "LayoutView",
      "align_content": null,
      "align_items": null,
      "align_self": null,
      "border": null,
      "bottom": null,
      "display": null,
      "flex": null,
      "flex_flow": null,
      "grid_area": null,
      "grid_auto_columns": null,
      "grid_auto_flow": null,
      "grid_auto_rows": null,
      "grid_column": null,
      "grid_gap": null,
      "grid_row": null,
      "grid_template_areas": null,
      "grid_template_columns": null,
      "grid_template_rows": null,
      "height": null,
      "justify_content": null,
      "justify_items": null,
      "left": null,
      "margin": null,
      "max_height": null,
      "max_width": null,
      "min_height": null,
      "min_width": null,
      "object_fit": null,
      "object_position": null,
      "order": null,
      "overflow": null,
      "overflow_x": null,
      "overflow_y": null,
      "padding": null,
      "right": null,
      "top": null,
      "visibility": null,
      "width": null
     }
    },
    "7d63e5a7a4e342e38e602a0284373079": {
     "model_module": "@jupyter-widgets/controls",
     "model_name": "HBoxModel",
     "state": {
      "_dom_classes": [],
      "_model_module": "@jupyter-widgets/controls",
      "_model_module_version": "1.5.0",
      "_model_name": "HBoxModel",
      "_view_count": null,
      "_view_module": "@jupyter-widgets/controls",
      "_view_module_version": "1.5.0",
      "_view_name": "HBoxView",
      "box_style": "",
      "children": [
       "IPY_MODEL_b7d039ce757c4003b012dd03b6e2fb61",
       "IPY_MODEL_f6eb53b178b6449bb3f39f6741f6ffaa"
      ],
      "layout": "IPY_MODEL_799c1086884c46e2a779a950c9ffed5d"
     }
    },
    "7ddc3f18855e4244836c8423586f1e95": {
     "model_module": "@jupyter-widgets/controls",
     "model_name": "FloatProgressModel",
     "state": {
      "_dom_classes": [],
      "_model_module": "@jupyter-widgets/controls",
      "_model_module_version": "1.5.0",
      "_model_name": "FloatProgressModel",
      "_view_count": null,
      "_view_module": "@jupyter-widgets/controls",
      "_view_module_version": "1.5.0",
      "_view_name": "ProgressView",
      "bar_style": "success",
      "description": "Training: 100%",
      "description_tooltip": null,
      "layout": "IPY_MODEL_c646502fc1f244848b5ca1e19f52dfa3",
      "max": 3,
      "min": 0,
      "orientation": "horizontal",
      "style": "IPY_MODEL_7967426cc35944a0a9ad4e25be81d63d",
      "value": 3
     }
    },
    "7fc12cc15ecd4dfda74f3613a0711298": {
     "model_module": "@jupyter-widgets/base",
     "model_name": "LayoutModel",
     "state": {
      "_model_module": "@jupyter-widgets/base",
      "_model_module_version": "1.2.0",
      "_model_name": "LayoutModel",
      "_view_count": null,
      "_view_module": "@jupyter-widgets/base",
      "_view_module_version": "1.2.0",
      "_view_name": "LayoutView",
      "align_content": null,
      "align_items": null,
      "align_self": null,
      "border": null,
      "bottom": null,
      "display": null,
      "flex": null,
      "flex_flow": null,
      "grid_area": null,
      "grid_auto_columns": null,
      "grid_auto_flow": null,
      "grid_auto_rows": null,
      "grid_column": null,
      "grid_gap": null,
      "grid_row": null,
      "grid_template_areas": null,
      "grid_template_columns": null,
      "grid_template_rows": null,
      "height": null,
      "justify_content": null,
      "justify_items": null,
      "left": null,
      "margin": null,
      "max_height": null,
      "max_width": null,
      "min_height": null,
      "min_width": null,
      "object_fit": null,
      "object_position": null,
      "order": null,
      "overflow": null,
      "overflow_x": null,
      "overflow_y": null,
      "padding": null,
      "right": null,
      "top": null,
      "visibility": null,
      "width": null
     }
    },
    "804debbc1914474490080997da4e30ba": {
     "model_module": "@jupyter-widgets/controls",
     "model_name": "FloatProgressModel",
     "state": {
      "_dom_classes": [],
      "_model_module": "@jupyter-widgets/controls",
      "_model_module_version": "1.5.0",
      "_model_name": "FloatProgressModel",
      "_view_count": null,
      "_view_module": "@jupyter-widgets/controls",
      "_view_module_version": "1.5.0",
      "_view_name": "ProgressView",
      "bar_style": "success",
      "description": "",
      "description_tooltip": null,
      "layout": "IPY_MODEL_790991fe0e90479b8ec322f5dc87402d",
      "max": 4422102,
      "min": 0,
      "orientation": "horizontal",
      "style": "IPY_MODEL_32465c9fccd6401693ca90e19a5e9020",
      "value": 4422102
     }
    },
    "8082f6d14b16413f95df95f007b00841": {
     "model_module": "@jupyter-widgets/base",
     "model_name": "LayoutModel",
     "state": {
      "_model_module": "@jupyter-widgets/base",
      "_model_module_version": "1.2.0",
      "_model_name": "LayoutModel",
      "_view_count": null,
      "_view_module": "@jupyter-widgets/base",
      "_view_module_version": "1.2.0",
      "_view_name": "LayoutView",
      "align_content": null,
      "align_items": null,
      "align_self": null,
      "border": null,
      "bottom": null,
      "display": null,
      "flex": null,
      "flex_flow": null,
      "grid_area": null,
      "grid_auto_columns": null,
      "grid_auto_flow": null,
      "grid_auto_rows": null,
      "grid_column": null,
      "grid_gap": null,
      "grid_row": null,
      "grid_template_areas": null,
      "grid_template_columns": null,
      "grid_template_rows": null,
      "height": null,
      "justify_content": null,
      "justify_items": null,
      "left": null,
      "margin": null,
      "max_height": null,
      "max_width": null,
      "min_height": null,
      "min_width": null,
      "object_fit": null,
      "object_position": null,
      "order": null,
      "overflow": null,
      "overflow_x": null,
      "overflow_y": null,
      "padding": null,
      "right": null,
      "top": null,
      "visibility": null,
      "width": null
     }
    },
    "816f2e587cc948f28be7522012221b2a": {
     "model_module": "@jupyter-widgets/base",
     "model_name": "LayoutModel",
     "state": {
      "_model_module": "@jupyter-widgets/base",
      "_model_module_version": "1.2.0",
      "_model_name": "LayoutModel",
      "_view_count": null,
      "_view_module": "@jupyter-widgets/base",
      "_view_module_version": "1.2.0",
      "_view_name": "LayoutView",
      "align_content": null,
      "align_items": null,
      "align_self": null,
      "border": null,
      "bottom": null,
      "display": null,
      "flex": null,
      "flex_flow": null,
      "grid_area": null,
      "grid_auto_columns": null,
      "grid_auto_flow": null,
      "grid_auto_rows": null,
      "grid_column": null,
      "grid_gap": null,
      "grid_row": null,
      "grid_template_areas": null,
      "grid_template_columns": null,
      "grid_template_rows": null,
      "height": null,
      "justify_content": null,
      "justify_items": null,
      "left": null,
      "margin": null,
      "max_height": null,
      "max_width": null,
      "min_height": null,
      "min_width": null,
      "object_fit": null,
      "object_position": null,
      "order": null,
      "overflow": null,
      "overflow_x": null,
      "overflow_y": null,
      "padding": null,
      "right": null,
      "top": null,
      "visibility": null,
      "width": null
     }
    },
    "86e33356a9ea45838e42f3bb5b9a53e9": {
     "model_module": "@jupyter-widgets/controls",
     "model_name": "DescriptionStyleModel",
     "state": {
      "_model_module": "@jupyter-widgets/controls",
      "_model_module_version": "1.5.0",
      "_model_name": "DescriptionStyleModel",
      "_view_count": null,
      "_view_module": "@jupyter-widgets/base",
      "_view_module_version": "1.2.0",
      "_view_name": "StyleView",
      "description_width": ""
     }
    },
    "870efe7945d34df4a2270877c99a833d": {
     "model_module": "@jupyter-widgets/base",
     "model_name": "LayoutModel",
     "state": {
      "_model_module": "@jupyter-widgets/base",
      "_model_module_version": "1.2.0",
      "_model_name": "LayoutModel",
      "_view_count": null,
      "_view_module": "@jupyter-widgets/base",
      "_view_module_version": "1.2.0",
      "_view_name": "LayoutView",
      "align_content": null,
      "align_items": null,
      "align_self": null,
      "border": null,
      "bottom": null,
      "display": null,
      "flex": null,
      "flex_flow": null,
      "grid_area": null,
      "grid_auto_columns": null,
      "grid_auto_flow": null,
      "grid_auto_rows": null,
      "grid_column": null,
      "grid_gap": null,
      "grid_row": null,
      "grid_template_areas": null,
      "grid_template_columns": null,
      "grid_template_rows": null,
      "height": null,
      "justify_content": null,
      "justify_items": null,
      "left": null,
      "margin": null,
      "max_height": null,
      "max_width": null,
      "min_height": null,
      "min_width": null,
      "object_fit": null,
      "object_position": null,
      "order": null,
      "overflow": null,
      "overflow_x": null,
      "overflow_y": null,
      "padding": null,
      "right": null,
      "top": null,
      "visibility": null,
      "width": null
     }
    },
    "886cb3119e2b415e9b6f1614d8c38ef0": {
     "model_module": "@jupyter-widgets/controls",
     "model_name": "HBoxModel",
     "state": {
      "_dom_classes": [],
      "_model_module": "@jupyter-widgets/controls",
      "_model_module_version": "1.5.0",
      "_model_name": "HBoxModel",
      "_view_count": null,
      "_view_module": "@jupyter-widgets/controls",
      "_view_module_version": "1.5.0",
      "_view_name": "HBoxView",
      "box_style": "",
      "children": [
       "IPY_MODEL_647a5a9bd7764b5983526b960a866d3a",
       "IPY_MODEL_5da4c133d73448c9b606cd7f5d545434"
      ],
      "layout": "IPY_MODEL_62587a8c5f964f0a884d0200fc261039"
     }
    },
    "89525e9ea4a64dfabf5b506ca7c34048": {
     "model_module": "@jupyter-widgets/base",
     "model_name": "LayoutModel",
     "state": {
      "_model_module": "@jupyter-widgets/base",
      "_model_module_version": "1.2.0",
      "_model_name": "LayoutModel",
      "_view_count": null,
      "_view_module": "@jupyter-widgets/base",
      "_view_module_version": "1.2.0",
      "_view_name": "LayoutView",
      "align_content": null,
      "align_items": null,
      "align_self": null,
      "border": null,
      "bottom": null,
      "display": null,
      "flex": null,
      "flex_flow": null,
      "grid_area": null,
      "grid_auto_columns": null,
      "grid_auto_flow": null,
      "grid_auto_rows": null,
      "grid_column": null,
      "grid_gap": null,
      "grid_row": null,
      "grid_template_areas": null,
      "grid_template_columns": null,
      "grid_template_rows": null,
      "height": null,
      "justify_content": null,
      "justify_items": null,
      "left": null,
      "margin": null,
      "max_height": null,
      "max_width": null,
      "min_height": null,
      "min_width": null,
      "object_fit": null,
      "object_position": null,
      "order": null,
      "overflow": null,
      "overflow_x": null,
      "overflow_y": null,
      "padding": null,
      "right": null,
      "top": null,
      "visibility": null,
      "width": null
     }
    },
    "8e614b8bda3c4658a6eb9923dfd959dc": {
     "model_module": "@jupyter-widgets/controls",
     "model_name": "DescriptionStyleModel",
     "state": {
      "_model_module": "@jupyter-widgets/controls",
      "_model_module_version": "1.5.0",
      "_model_name": "DescriptionStyleModel",
      "_view_count": null,
      "_view_module": "@jupyter-widgets/base",
      "_view_module_version": "1.2.0",
      "_view_name": "StyleView",
      "description_width": ""
     }
    },
    "994ce1ab1df54a92a3216456e0c6f2d4": {
     "model_module": "@jupyter-widgets/controls",
     "model_name": "HBoxModel",
     "state": {
      "_dom_classes": [],
      "_model_module": "@jupyter-widgets/controls",
      "_model_module_version": "1.5.0",
      "_model_name": "HBoxModel",
      "_view_count": null,
      "_view_module": "@jupyter-widgets/controls",
      "_view_module_version": "1.5.0",
      "_view_name": "HBoxView",
      "box_style": "",
      "children": [
       "IPY_MODEL_5646bdb9e8eb4387929bd751c9cb64ce",
       "IPY_MODEL_30c55649ad6b476eb27a0f057f54d03e"
      ],
      "layout": "IPY_MODEL_36857deba8cd462c82ceaaa6d99f1dce"
     }
    },
    "9a402a2b3dba4119b3f0c5aadf67d7dd": {
     "model_module": "@jupyter-widgets/base",
     "model_name": "LayoutModel",
     "state": {
      "_model_module": "@jupyter-widgets/base",
      "_model_module_version": "1.2.0",
      "_model_name": "LayoutModel",
      "_view_count": null,
      "_view_module": "@jupyter-widgets/base",
      "_view_module_version": "1.2.0",
      "_view_name": "LayoutView",
      "align_content": null,
      "align_items": null,
      "align_self": null,
      "border": null,
      "bottom": null,
      "display": null,
      "flex": null,
      "flex_flow": null,
      "grid_area": null,
      "grid_auto_columns": null,
      "grid_auto_flow": null,
      "grid_auto_rows": null,
      "grid_column": null,
      "grid_gap": null,
      "grid_row": null,
      "grid_template_areas": null,
      "grid_template_columns": null,
      "grid_template_rows": null,
      "height": null,
      "justify_content": null,
      "justify_items": null,
      "left": null,
      "margin": null,
      "max_height": null,
      "max_width": null,
      "min_height": null,
      "min_width": null,
      "object_fit": null,
      "object_position": null,
      "order": null,
      "overflow": null,
      "overflow_x": null,
      "overflow_y": null,
      "padding": null,
      "right": null,
      "top": null,
      "visibility": null,
      "width": null
     }
    },
    "9ee211a7df67498e859fd41c2665f2e8": {
     "model_module": "@jupyter-widgets/controls",
     "model_name": "HBoxModel",
     "state": {
      "_dom_classes": [],
      "_model_module": "@jupyter-widgets/controls",
      "_model_module_version": "1.5.0",
      "_model_name": "HBoxModel",
      "_view_count": null,
      "_view_module": "@jupyter-widgets/controls",
      "_view_module_version": "1.5.0",
      "_view_name": "HBoxView",
      "box_style": "",
      "children": [
       "IPY_MODEL_569d839bf13245fc88a6b032aaf724d0",
       "IPY_MODEL_48d255970ff54dad8f0475e67a792f37"
      ],
      "layout": "IPY_MODEL_3ead93be2ee8401890038154916365c9"
     }
    },
    "a2c38b9586ab42ac8115804d43dfae0a": {
     "model_module": "@jupyter-widgets/base",
     "model_name": "LayoutModel",
     "state": {
      "_model_module": "@jupyter-widgets/base",
      "_model_module_version": "1.2.0",
      "_model_name": "LayoutModel",
      "_view_count": null,
      "_view_module": "@jupyter-widgets/base",
      "_view_module_version": "1.2.0",
      "_view_name": "LayoutView",
      "align_content": null,
      "align_items": null,
      "align_self": null,
      "border": null,
      "bottom": null,
      "display": null,
      "flex": null,
      "flex_flow": null,
      "grid_area": null,
      "grid_auto_columns": null,
      "grid_auto_flow": null,
      "grid_auto_rows": null,
      "grid_column": null,
      "grid_gap": null,
      "grid_row": null,
      "grid_template_areas": null,
      "grid_template_columns": null,
      "grid_template_rows": null,
      "height": null,
      "justify_content": null,
      "justify_items": null,
      "left": null,
      "margin": null,
      "max_height": null,
      "max_width": null,
      "min_height": null,
      "min_width": null,
      "object_fit": null,
      "object_position": null,
      "order": null,
      "overflow": null,
      "overflow_x": null,
      "overflow_y": null,
      "padding": null,
      "right": null,
      "top": null,
      "visibility": null,
      "width": null
     }
    },
    "a394811356fd4cec8fea0fe8ae2878eb": {
     "model_module": "@jupyter-widgets/controls",
     "model_name": "DescriptionStyleModel",
     "state": {
      "_model_module": "@jupyter-widgets/controls",
      "_model_module_version": "1.5.0",
      "_model_name": "DescriptionStyleModel",
      "_view_count": null,
      "_view_module": "@jupyter-widgets/base",
      "_view_module_version": "1.2.0",
      "_view_name": "StyleView",
      "description_width": ""
     }
    },
    "a7e13eb0551346afa41a8c6a519e709f": {
     "model_module": "@jupyter-widgets/base",
     "model_name": "LayoutModel",
     "state": {
      "_model_module": "@jupyter-widgets/base",
      "_model_module_version": "1.2.0",
      "_model_name": "LayoutModel",
      "_view_count": null,
      "_view_module": "@jupyter-widgets/base",
      "_view_module_version": "1.2.0",
      "_view_name": "LayoutView",
      "align_content": null,
      "align_items": null,
      "align_self": null,
      "border": null,
      "bottom": null,
      "display": null,
      "flex": null,
      "flex_flow": null,
      "grid_area": null,
      "grid_auto_columns": null,
      "grid_auto_flow": null,
      "grid_auto_rows": null,
      "grid_column": null,
      "grid_gap": null,
      "grid_row": null,
      "grid_template_areas": null,
      "grid_template_columns": null,
      "grid_template_rows": null,
      "height": null,
      "justify_content": null,
      "justify_items": null,
      "left": null,
      "margin": null,
      "max_height": null,
      "max_width": null,
      "min_height": null,
      "min_width": null,
      "object_fit": null,
      "object_position": null,
      "order": null,
      "overflow": null,
      "overflow_x": null,
      "overflow_y": null,
      "padding": null,
      "right": null,
      "top": null,
      "visibility": null,
      "width": null
     }
    },
    "a9375eaa90ef4a90a316e846d3d6eec4": {
     "model_module": "@jupyter-widgets/controls",
     "model_name": "FloatProgressModel",
     "state": {
      "_dom_classes": [],
      "_model_module": "@jupyter-widgets/controls",
      "_model_module_version": "1.5.0",
      "_model_name": "FloatProgressModel",
      "_view_count": null,
      "_view_module": "@jupyter-widgets/controls",
      "_view_module_version": "1.5.0",
      "_view_name": "ProgressView",
      "bar_style": "success",
      "description": "Training: 100%",
      "description_tooltip": null,
      "layout": "IPY_MODEL_4a94d2810f684de5bc12c3d761633261",
      "max": 3,
      "min": 0,
      "orientation": "horizontal",
      "style": "IPY_MODEL_2340d1292411400ab82efb05a2d070c2",
      "value": 3
     }
    },
    "a9d9dd3833ce4b08bbde535ad1452455": {
     "model_module": "@jupyter-widgets/base",
     "model_name": "LayoutModel",
     "state": {
      "_model_module": "@jupyter-widgets/base",
      "_model_module_version": "1.2.0",
      "_model_name": "LayoutModel",
      "_view_count": null,
      "_view_module": "@jupyter-widgets/base",
      "_view_module_version": "1.2.0",
      "_view_name": "LayoutView",
      "align_content": null,
      "align_items": null,
      "align_self": null,
      "border": null,
      "bottom": null,
      "display": null,
      "flex": null,
      "flex_flow": null,
      "grid_area": null,
      "grid_auto_columns": null,
      "grid_auto_flow": null,
      "grid_auto_rows": null,
      "grid_column": null,
      "grid_gap": null,
      "grid_row": null,
      "grid_template_areas": null,
      "grid_template_columns": null,
      "grid_template_rows": null,
      "height": null,
      "justify_content": null,
      "justify_items": null,
      "left": null,
      "margin": null,
      "max_height": null,
      "max_width": null,
      "min_height": null,
      "min_width": null,
      "object_fit": null,
      "object_position": null,
      "order": null,
      "overflow": null,
      "overflow_x": null,
      "overflow_y": null,
      "padding": null,
      "right": null,
      "top": null,
      "visibility": null,
      "width": null
     }
    },
    "aa48dd1edcca4566b8bbce23d2b27913": {
     "model_module": "@jupyter-widgets/controls",
     "model_name": "HTMLModel",
     "state": {
      "_dom_classes": [],
      "_model_module": "@jupyter-widgets/controls",
      "_model_module_version": "1.5.0",
      "_model_name": "HTMLModel",
      "_view_count": null,
      "_view_module": "@jupyter-widgets/controls",
      "_view_module_version": "1.5.0",
      "_view_name": "HTMLView",
      "description": "",
      "description_tooltip": null,
      "layout": "IPY_MODEL_eda3a8f65d5547539b474bddd6dd5cbf",
      "placeholder": "​",
      "style": "IPY_MODEL_f891c54f7b354ef5a26136a545fc41ec",
      "value": " 3/3 [10:36&lt;00:00, 212.24s/Epoch]"
     }
    },
    "ab751e147e2c441eaacc44fd912486f7": {
     "model_module": "@jupyter-widgets/base",
     "model_name": "LayoutModel",
     "state": {
      "_model_module": "@jupyter-widgets/base",
      "_model_module_version": "1.2.0",
      "_model_name": "LayoutModel",
      "_view_count": null,
      "_view_module": "@jupyter-widgets/base",
      "_view_module_version": "1.2.0",
      "_view_name": "LayoutView",
      "align_content": null,
      "align_items": null,
      "align_self": null,
      "border": null,
      "bottom": null,
      "display": null,
      "flex": null,
      "flex_flow": null,
      "grid_area": null,
      "grid_auto_columns": null,
      "grid_auto_flow": null,
      "grid_auto_rows": null,
      "grid_column": null,
      "grid_gap": null,
      "grid_row": null,
      "grid_template_areas": null,
      "grid_template_columns": null,
      "grid_template_rows": null,
      "height": null,
      "justify_content": null,
      "justify_items": null,
      "left": null,
      "margin": null,
      "max_height": null,
      "max_width": null,
      "min_height": null,
      "min_width": null,
      "object_fit": null,
      "object_position": null,
      "order": null,
      "overflow": null,
      "overflow_x": null,
      "overflow_y": null,
      "padding": null,
      "right": null,
      "top": null,
      "visibility": null,
      "width": null
     }
    },
    "b6c49e080645429ebf496eebd4ac17ff": {
     "model_module": "@jupyter-widgets/controls",
     "model_name": "HBoxModel",
     "state": {
      "_dom_classes": [],
      "_model_module": "@jupyter-widgets/controls",
      "_model_module_version": "1.5.0",
      "_model_name": "HBoxModel",
      "_view_count": null,
      "_view_module": "@jupyter-widgets/controls",
      "_view_module_version": "1.5.0",
      "_view_name": "HBoxView",
      "box_style": "",
      "children": [
       "IPY_MODEL_348407edee4247b29f9543c138839af3",
       "IPY_MODEL_57cb3b6e0b414a1093d5545b2e01e9b2"
      ],
      "layout": "IPY_MODEL_3cf4c00e86d048eea1cbf3ebee6c6ded"
     }
    },
    "b6e834e3856e45e89341d32c182fd5d1": {
     "model_module": "@jupyter-widgets/controls",
     "model_name": "DescriptionStyleModel",
     "state": {
      "_model_module": "@jupyter-widgets/controls",
      "_model_module_version": "1.5.0",
      "_model_name": "DescriptionStyleModel",
      "_view_count": null,
      "_view_module": "@jupyter-widgets/base",
      "_view_module_version": "1.2.0",
      "_view_name": "StyleView",
      "description_width": ""
     }
    },
    "b7d039ce757c4003b012dd03b6e2fb61": {
     "model_module": "@jupyter-widgets/controls",
     "model_name": "FloatProgressModel",
     "state": {
      "_dom_classes": [],
      "_model_module": "@jupyter-widgets/controls",
      "_model_module_version": "1.5.0",
      "_model_name": "FloatProgressModel",
      "_view_count": null,
      "_view_module": "@jupyter-widgets/controls",
      "_view_module_version": "1.5.0",
      "_view_name": "ProgressView",
      "bar_style": "success",
      "description": "Training: 100%",
      "description_tooltip": null,
      "layout": "IPY_MODEL_2b66a36e7c9a417ea8ea042156711cfc",
      "max": 20,
      "min": 0,
      "orientation": "horizontal",
      "style": "IPY_MODEL_786b6d71a2bf412aae3600f24f8c6ba6",
      "value": 20
     }
    },
    "b82c44a48dca4803a735f4220d7e7e7e": {
     "model_module": "@jupyter-widgets/controls",
     "model_name": "HBoxModel",
     "state": {
      "_dom_classes": [],
      "_model_module": "@jupyter-widgets/controls",
      "_model_module_version": "1.5.0",
      "_model_name": "HBoxModel",
      "_view_count": null,
      "_view_module": "@jupyter-widgets/controls",
      "_view_module_version": "1.5.0",
      "_view_name": "HBoxView",
      "box_style": "",
      "children": [
       "IPY_MODEL_0c590fcac1454f2ab3c2b50f578b3312",
       "IPY_MODEL_73f0d5b6385f4c15a9425de02d81e65c"
      ],
      "layout": "IPY_MODEL_5bbe5f9b2ddb43ac8d9b92d1cce43bcf"
     }
    },
    "ba98f42518664d228fab8a5511bc468d": {
     "model_module": "@jupyter-widgets/controls",
     "model_name": "HTMLModel",
     "state": {
      "_dom_classes": [],
      "_model_module": "@jupyter-widgets/controls",
      "_model_module_version": "1.5.0",
      "_model_name": "HTMLModel",
      "_view_count": null,
      "_view_module": "@jupyter-widgets/controls",
      "_view_module_version": "1.5.0",
      "_view_name": "HTMLView",
      "description": "",
      "description_tooltip": null,
      "layout": "IPY_MODEL_222fbcc9e69141afbe8599f4f78b3f25",
      "placeholder": "​",
      "style": "IPY_MODEL_1b76ea33ddba426da3b381b9072f8d93",
      "value": " 29696/? [00:00&lt;00:00, 60366.02it/s]"
     }
    },
    "bfc936d4083042aea9ca159382b25c29": {
     "model_module": "@jupyter-widgets/base",
     "model_name": "LayoutModel",
     "state": {
      "_model_module": "@jupyter-widgets/base",
      "_model_module_version": "1.2.0",
      "_model_name": "LayoutModel",
      "_view_count": null,
      "_view_module": "@jupyter-widgets/base",
      "_view_module_version": "1.2.0",
      "_view_name": "LayoutView",
      "align_content": null,
      "align_items": null,
      "align_self": null,
      "border": null,
      "bottom": null,
      "display": null,
      "flex": null,
      "flex_flow": null,
      "grid_area": null,
      "grid_auto_columns": null,
      "grid_auto_flow": null,
      "grid_auto_rows": null,
      "grid_column": null,
      "grid_gap": null,
      "grid_row": null,
      "grid_template_areas": null,
      "grid_template_columns": null,
      "grid_template_rows": null,
      "height": null,
      "justify_content": null,
      "justify_items": null,
      "left": null,
      "margin": null,
      "max_height": null,
      "max_width": null,
      "min_height": null,
      "min_width": null,
      "object_fit": null,
      "object_position": null,
      "order": null,
      "overflow": null,
      "overflow_x": null,
      "overflow_y": null,
      "padding": null,
      "right": null,
      "top": null,
      "visibility": null,
      "width": null
     }
    },
    "c040186f3e564486b63bda6f1c1d536e": {
     "model_module": "@jupyter-widgets/controls",
     "model_name": "DescriptionStyleModel",
     "state": {
      "_model_module": "@jupyter-widgets/controls",
      "_model_module_version": "1.5.0",
      "_model_name": "DescriptionStyleModel",
      "_view_count": null,
      "_view_module": "@jupyter-widgets/base",
      "_view_module_version": "1.2.0",
      "_view_name": "StyleView",
      "description_width": ""
     }
    },
    "c18e0c5bb0f44d77b1727f748ba834b1": {
     "model_module": "@jupyter-widgets/base",
     "model_name": "LayoutModel",
     "state": {
      "_model_module": "@jupyter-widgets/base",
      "_model_module_version": "1.2.0",
      "_model_name": "LayoutModel",
      "_view_count": null,
      "_view_module": "@jupyter-widgets/base",
      "_view_module_version": "1.2.0",
      "_view_name": "LayoutView",
      "align_content": null,
      "align_items": null,
      "align_self": null,
      "border": null,
      "bottom": null,
      "display": null,
      "flex": null,
      "flex_flow": null,
      "grid_area": null,
      "grid_auto_columns": null,
      "grid_auto_flow": null,
      "grid_auto_rows": null,
      "grid_column": null,
      "grid_gap": null,
      "grid_row": null,
      "grid_template_areas": null,
      "grid_template_columns": null,
      "grid_template_rows": null,
      "height": null,
      "justify_content": null,
      "justify_items": null,
      "left": null,
      "margin": null,
      "max_height": null,
      "max_width": null,
      "min_height": null,
      "min_width": null,
      "object_fit": null,
      "object_position": null,
      "order": null,
      "overflow": null,
      "overflow_x": null,
      "overflow_y": null,
      "padding": null,
      "right": null,
      "top": null,
      "visibility": null,
      "width": null
     }
    },
    "c43a3fcbd4fd4c5ebeabeb1fd29e72b2": {
     "model_module": "@jupyter-widgets/base",
     "model_name": "LayoutModel",
     "state": {
      "_model_module": "@jupyter-widgets/base",
      "_model_module_version": "1.2.0",
      "_model_name": "LayoutModel",
      "_view_count": null,
      "_view_module": "@jupyter-widgets/base",
      "_view_module_version": "1.2.0",
      "_view_name": "LayoutView",
      "align_content": null,
      "align_items": null,
      "align_self": null,
      "border": null,
      "bottom": null,
      "display": null,
      "flex": null,
      "flex_flow": null,
      "grid_area": null,
      "grid_auto_columns": null,
      "grid_auto_flow": null,
      "grid_auto_rows": null,
      "grid_column": null,
      "grid_gap": null,
      "grid_row": null,
      "grid_template_areas": null,
      "grid_template_columns": null,
      "grid_template_rows": null,
      "height": null,
      "justify_content": null,
      "justify_items": null,
      "left": null,
      "margin": null,
      "max_height": null,
      "max_width": null,
      "min_height": null,
      "min_width": null,
      "object_fit": null,
      "object_position": null,
      "order": null,
      "overflow": null,
      "overflow_x": null,
      "overflow_y": null,
      "padding": null,
      "right": null,
      "top": null,
      "visibility": null,
      "width": null
     }
    },
    "c469775caaeb4874b72cd130b79aeaf8": {
     "model_module": "@jupyter-widgets/base",
     "model_name": "LayoutModel",
     "state": {
      "_model_module": "@jupyter-widgets/base",
      "_model_module_version": "1.2.0",
      "_model_name": "LayoutModel",
      "_view_count": null,
      "_view_module": "@jupyter-widgets/base",
      "_view_module_version": "1.2.0",
      "_view_name": "LayoutView",
      "align_content": null,
      "align_items": null,
      "align_self": null,
      "border": null,
      "bottom": null,
      "display": null,
      "flex": null,
      "flex_flow": null,
      "grid_area": null,
      "grid_auto_columns": null,
      "grid_auto_flow": null,
      "grid_auto_rows": null,
      "grid_column": null,
      "grid_gap": null,
      "grid_row": null,
      "grid_template_areas": null,
      "grid_template_columns": null,
      "grid_template_rows": null,
      "height": null,
      "justify_content": null,
      "justify_items": null,
      "left": null,
      "margin": null,
      "max_height": null,
      "max_width": null,
      "min_height": null,
      "min_width": null,
      "object_fit": null,
      "object_position": null,
      "order": null,
      "overflow": null,
      "overflow_x": null,
      "overflow_y": null,
      "padding": null,
      "right": null,
      "top": null,
      "visibility": null,
      "width": null
     }
    },
    "c596559ff3474cb4a04713b906e3509b": {
     "model_module": "@jupyter-widgets/base",
     "model_name": "LayoutModel",
     "state": {
      "_model_module": "@jupyter-widgets/base",
      "_model_module_version": "1.2.0",
      "_model_name": "LayoutModel",
      "_view_count": null,
      "_view_module": "@jupyter-widgets/base",
      "_view_module_version": "1.2.0",
      "_view_name": "LayoutView",
      "align_content": null,
      "align_items": null,
      "align_self": null,
      "border": null,
      "bottom": null,
      "display": null,
      "flex": null,
      "flex_flow": null,
      "grid_area": null,
      "grid_auto_columns": null,
      "grid_auto_flow": null,
      "grid_auto_rows": null,
      "grid_column": null,
      "grid_gap": null,
      "grid_row": null,
      "grid_template_areas": null,
      "grid_template_columns": null,
      "grid_template_rows": null,
      "height": null,
      "justify_content": null,
      "justify_items": null,
      "left": null,
      "margin": null,
      "max_height": null,
      "max_width": null,
      "min_height": null,
      "min_width": null,
      "object_fit": null,
      "object_position": null,
      "order": null,
      "overflow": null,
      "overflow_x": null,
      "overflow_y": null,
      "padding": null,
      "right": null,
      "top": null,
      "visibility": null,
      "width": null
     }
    },
    "c5a082f2518d407da16e629adda49c98": {
     "model_module": "@jupyter-widgets/controls",
     "model_name": "HTMLModel",
     "state": {
      "_dom_classes": [],
      "_model_module": "@jupyter-widgets/controls",
      "_model_module_version": "1.5.0",
      "_model_name": "HTMLModel",
      "_view_count": null,
      "_view_module": "@jupyter-widgets/controls",
      "_view_module_version": "1.5.0",
      "_view_name": "HTMLView",
      "description": "",
      "description_tooltip": null,
      "layout": "IPY_MODEL_a7e13eb0551346afa41a8c6a519e709f",
      "placeholder": "​",
      "style": "IPY_MODEL_c040186f3e564486b63bda6f1c1d536e",
      "value": " 3/3 [09:42&lt;00:00, 194.12s/Epoch]"
     }
    },
    "c64238fdc19941f8883742940695013f": {
     "model_module": "@jupyter-widgets/base",
     "model_name": "LayoutModel",
     "state": {
      "_model_module": "@jupyter-widgets/base",
      "_model_module_version": "1.2.0",
      "_model_name": "LayoutModel",
      "_view_count": null,
      "_view_module": "@jupyter-widgets/base",
      "_view_module_version": "1.2.0",
      "_view_name": "LayoutView",
      "align_content": null,
      "align_items": null,
      "align_self": null,
      "border": null,
      "bottom": null,
      "display": null,
      "flex": null,
      "flex_flow": null,
      "grid_area": null,
      "grid_auto_columns": null,
      "grid_auto_flow": null,
      "grid_auto_rows": null,
      "grid_column": null,
      "grid_gap": null,
      "grid_row": null,
      "grid_template_areas": null,
      "grid_template_columns": null,
      "grid_template_rows": null,
      "height": null,
      "justify_content": null,
      "justify_items": null,
      "left": null,
      "margin": null,
      "max_height": null,
      "max_width": null,
      "min_height": null,
      "min_width": null,
      "object_fit": null,
      "object_position": null,
      "order": null,
      "overflow": null,
      "overflow_x": null,
      "overflow_y": null,
      "padding": null,
      "right": null,
      "top": null,
      "visibility": null,
      "width": null
     }
    },
    "c646502fc1f244848b5ca1e19f52dfa3": {
     "model_module": "@jupyter-widgets/base",
     "model_name": "LayoutModel",
     "state": {
      "_model_module": "@jupyter-widgets/base",
      "_model_module_version": "1.2.0",
      "_model_name": "LayoutModel",
      "_view_count": null,
      "_view_module": "@jupyter-widgets/base",
      "_view_module_version": "1.2.0",
      "_view_name": "LayoutView",
      "align_content": null,
      "align_items": null,
      "align_self": null,
      "border": null,
      "bottom": null,
      "display": null,
      "flex": null,
      "flex_flow": null,
      "grid_area": null,
      "grid_auto_columns": null,
      "grid_auto_flow": null,
      "grid_auto_rows": null,
      "grid_column": null,
      "grid_gap": null,
      "grid_row": null,
      "grid_template_areas": null,
      "grid_template_columns": null,
      "grid_template_rows": null,
      "height": null,
      "justify_content": null,
      "justify_items": null,
      "left": null,
      "margin": null,
      "max_height": null,
      "max_width": null,
      "min_height": null,
      "min_width": null,
      "object_fit": null,
      "object_position": null,
      "order": null,
      "overflow": null,
      "overflow_x": null,
      "overflow_y": null,
      "padding": null,
      "right": null,
      "top": null,
      "visibility": null,
      "width": null
     }
    },
    "c895b92cbd064b1da70e8a2f89c6a8f7": {
     "model_module": "@jupyter-widgets/base",
     "model_name": "LayoutModel",
     "state": {
      "_model_module": "@jupyter-widgets/base",
      "_model_module_version": "1.2.0",
      "_model_name": "LayoutModel",
      "_view_count": null,
      "_view_module": "@jupyter-widgets/base",
      "_view_module_version": "1.2.0",
      "_view_name": "LayoutView",
      "align_content": null,
      "align_items": null,
      "align_self": null,
      "border": null,
      "bottom": null,
      "display": null,
      "flex": null,
      "flex_flow": null,
      "grid_area": null,
      "grid_auto_columns": null,
      "grid_auto_flow": null,
      "grid_auto_rows": null,
      "grid_column": null,
      "grid_gap": null,
      "grid_row": null,
      "grid_template_areas": null,
      "grid_template_columns": null,
      "grid_template_rows": null,
      "height": null,
      "justify_content": null,
      "justify_items": null,
      "left": null,
      "margin": null,
      "max_height": null,
      "max_width": null,
      "min_height": null,
      "min_width": null,
      "object_fit": null,
      "object_position": null,
      "order": null,
      "overflow": null,
      "overflow_x": null,
      "overflow_y": null,
      "padding": null,
      "right": null,
      "top": null,
      "visibility": null,
      "width": null
     }
    },
    "caf0efb6eb6e4afb9a72ec62bdf036f3": {
     "model_module": "@jupyter-widgets/controls",
     "model_name": "FloatProgressModel",
     "state": {
      "_dom_classes": [],
      "_model_module": "@jupyter-widgets/controls",
      "_model_module_version": "1.5.0",
      "_model_name": "FloatProgressModel",
      "_view_count": null,
      "_view_module": "@jupyter-widgets/controls",
      "_view_module_version": "1.5.0",
      "_view_name": "ProgressView",
      "bar_style": "success",
      "description": "",
      "description_tooltip": null,
      "layout": "IPY_MODEL_870efe7945d34df4a2270877c99a833d",
      "max": 5148,
      "min": 0,
      "orientation": "horizontal",
      "style": "IPY_MODEL_fa566680f1e34410b7e86ba42123b380",
      "value": 5148
     }
    },
    "cdd616e2113e47e2b97a23790c1c4d89": {
     "model_module": "@jupyter-widgets/base",
     "model_name": "LayoutModel",
     "state": {
      "_model_module": "@jupyter-widgets/base",
      "_model_module_version": "1.2.0",
      "_model_name": "LayoutModel",
      "_view_count": null,
      "_view_module": "@jupyter-widgets/base",
      "_view_module_version": "1.2.0",
      "_view_name": "LayoutView",
      "align_content": null,
      "align_items": null,
      "align_self": null,
      "border": null,
      "bottom": null,
      "display": null,
      "flex": null,
      "flex_flow": null,
      "grid_area": null,
      "grid_auto_columns": null,
      "grid_auto_flow": null,
      "grid_auto_rows": null,
      "grid_column": null,
      "grid_gap": null,
      "grid_row": null,
      "grid_template_areas": null,
      "grid_template_columns": null,
      "grid_template_rows": null,
      "height": null,
      "justify_content": null,
      "justify_items": null,
      "left": null,
      "margin": null,
      "max_height": null,
      "max_width": null,
      "min_height": null,
      "min_width": null,
      "object_fit": null,
      "object_position": null,
      "order": null,
      "overflow": null,
      "overflow_x": null,
      "overflow_y": null,
      "padding": null,
      "right": null,
      "top": null,
      "visibility": null,
      "width": null
     }
    },
    "cdfae8e3b4604f858879e66d352f3840": {
     "model_module": "@jupyter-widgets/base",
     "model_name": "LayoutModel",
     "state": {
      "_model_module": "@jupyter-widgets/base",
      "_model_module_version": "1.2.0",
      "_model_name": "LayoutModel",
      "_view_count": null,
      "_view_module": "@jupyter-widgets/base",
      "_view_module_version": "1.2.0",
      "_view_name": "LayoutView",
      "align_content": null,
      "align_items": null,
      "align_self": null,
      "border": null,
      "bottom": null,
      "display": null,
      "flex": null,
      "flex_flow": null,
      "grid_area": null,
      "grid_auto_columns": null,
      "grid_auto_flow": null,
      "grid_auto_rows": null,
      "grid_column": null,
      "grid_gap": null,
      "grid_row": null,
      "grid_template_areas": null,
      "grid_template_columns": null,
      "grid_template_rows": null,
      "height": null,
      "justify_content": null,
      "justify_items": null,
      "left": null,
      "margin": null,
      "max_height": null,
      "max_width": null,
      "min_height": null,
      "min_width": null,
      "object_fit": null,
      "object_position": null,
      "order": null,
      "overflow": null,
      "overflow_x": null,
      "overflow_y": null,
      "padding": null,
      "right": null,
      "top": null,
      "visibility": null,
      "width": null
     }
    },
    "d1bb4eaf038a46cc987b2646daffdd77": {
     "model_module": "@jupyter-widgets/controls",
     "model_name": "ProgressStyleModel",
     "state": {
      "_model_module": "@jupyter-widgets/controls",
      "_model_module_version": "1.5.0",
      "_model_name": "ProgressStyleModel",
      "_view_count": null,
      "_view_module": "@jupyter-widgets/base",
      "_view_module_version": "1.2.0",
      "_view_name": "StyleView",
      "bar_color": null,
      "description_width": "initial"
     }
    },
    "d3ad9dbaa40f4ec9b2ed68b72bce652e": {
     "model_module": "@jupyter-widgets/controls",
     "model_name": "ProgressStyleModel",
     "state": {
      "_model_module": "@jupyter-widgets/controls",
      "_model_module_version": "1.5.0",
      "_model_name": "ProgressStyleModel",
      "_view_count": null,
      "_view_module": "@jupyter-widgets/base",
      "_view_module_version": "1.2.0",
      "_view_name": "StyleView",
      "bar_color": null,
      "description_width": "initial"
     }
    },
    "d4a3d35e5de7482aa9886fd2ba0c54fe": {
     "model_module": "@jupyter-widgets/base",
     "model_name": "LayoutModel",
     "state": {
      "_model_module": "@jupyter-widgets/base",
      "_model_module_version": "1.2.0",
      "_model_name": "LayoutModel",
      "_view_count": null,
      "_view_module": "@jupyter-widgets/base",
      "_view_module_version": "1.2.0",
      "_view_name": "LayoutView",
      "align_content": null,
      "align_items": null,
      "align_self": null,
      "border": null,
      "bottom": null,
      "display": null,
      "flex": null,
      "flex_flow": null,
      "grid_area": null,
      "grid_auto_columns": null,
      "grid_auto_flow": null,
      "grid_auto_rows": null,
      "grid_column": null,
      "grid_gap": null,
      "grid_row": null,
      "grid_template_areas": null,
      "grid_template_columns": null,
      "grid_template_rows": null,
      "height": null,
      "justify_content": null,
      "justify_items": null,
      "left": null,
      "margin": null,
      "max_height": null,
      "max_width": null,
      "min_height": null,
      "min_width": null,
      "object_fit": null,
      "object_position": null,
      "order": null,
      "overflow": null,
      "overflow_x": null,
      "overflow_y": null,
      "padding": null,
      "right": null,
      "top": null,
      "visibility": null,
      "width": null
     }
    },
    "d5aec24da3014d85bee48bc490194abb": {
     "model_module": "@jupyter-widgets/controls",
     "model_name": "DescriptionStyleModel",
     "state": {
      "_model_module": "@jupyter-widgets/controls",
      "_model_module_version": "1.5.0",
      "_model_name": "DescriptionStyleModel",
      "_view_count": null,
      "_view_module": "@jupyter-widgets/base",
      "_view_module_version": "1.2.0",
      "_view_name": "StyleView",
      "description_width": ""
     }
    },
    "dc497540c02a4e38ab12483345895351": {
     "model_module": "@jupyter-widgets/controls",
     "model_name": "HBoxModel",
     "state": {
      "_dom_classes": [],
      "_model_module": "@jupyter-widgets/controls",
      "_model_module_version": "1.5.0",
      "_model_name": "HBoxModel",
      "_view_count": null,
      "_view_module": "@jupyter-widgets/controls",
      "_view_module_version": "1.5.0",
      "_view_name": "HBoxView",
      "box_style": "",
      "children": [
       "IPY_MODEL_1b8e47b334244f4da2f660a39daf49eb",
       "IPY_MODEL_c5a082f2518d407da16e629adda49c98"
      ],
      "layout": "IPY_MODEL_a9d9dd3833ce4b08bbde535ad1452455"
     }
    },
    "df3bff32304d46619d7e6793bfa750eb": {
     "model_module": "@jupyter-widgets/controls",
     "model_name": "HBoxModel",
     "state": {
      "_dom_classes": [],
      "_model_module": "@jupyter-widgets/controls",
      "_model_module_version": "1.5.0",
      "_model_name": "HBoxModel",
      "_view_count": null,
      "_view_module": "@jupyter-widgets/controls",
      "_view_module_version": "1.5.0",
      "_view_name": "HBoxView",
      "box_style": "",
      "children": [
       "IPY_MODEL_7ddc3f18855e4244836c8423586f1e95",
       "IPY_MODEL_aa48dd1edcca4566b8bbce23d2b27913"
      ],
      "layout": "IPY_MODEL_699614cc589f47f1b5770ec22657c020"
     }
    },
    "df755887f9934e8fa1a3bbee4db3cf66": {
     "model_module": "@jupyter-widgets/controls",
     "model_name": "DescriptionStyleModel",
     "state": {
      "_model_module": "@jupyter-widgets/controls",
      "_model_module_version": "1.5.0",
      "_model_name": "DescriptionStyleModel",
      "_view_count": null,
      "_view_module": "@jupyter-widgets/base",
      "_view_module_version": "1.2.0",
      "_view_name": "StyleView",
      "description_width": ""
     }
    },
    "dfb97a3d884045f08f15ab4d66679e60": {
     "model_module": "@jupyter-widgets/controls",
     "model_name": "ProgressStyleModel",
     "state": {
      "_model_module": "@jupyter-widgets/controls",
      "_model_module_version": "1.5.0",
      "_model_name": "ProgressStyleModel",
      "_view_count": null,
      "_view_module": "@jupyter-widgets/base",
      "_view_module_version": "1.2.0",
      "_view_name": "StyleView",
      "bar_color": null,
      "description_width": "initial"
     }
    },
    "e6d3c3322c54430b96ac331768b8b692": {
     "model_module": "@jupyter-widgets/controls",
     "model_name": "HBoxModel",
     "state": {
      "_dom_classes": [],
      "_model_module": "@jupyter-widgets/controls",
      "_model_module_version": "1.5.0",
      "_model_name": "HBoxModel",
      "_view_count": null,
      "_view_module": "@jupyter-widgets/controls",
      "_view_module_version": "1.5.0",
      "_view_name": "HBoxView",
      "box_style": "",
      "children": [
       "IPY_MODEL_45d31add9f304444bf8b0d4028bace3f",
       "IPY_MODEL_109798f6e5444f0486d5e16b1d0fb349"
      ],
      "layout": "IPY_MODEL_795631908fdc4ec0bb1a2f2273425f3d"
     }
    },
    "e99e9cf62ba54f4596068d1d41103d55": {
     "model_module": "@jupyter-widgets/base",
     "model_name": "LayoutModel",
     "state": {
      "_model_module": "@jupyter-widgets/base",
      "_model_module_version": "1.2.0",
      "_model_name": "LayoutModel",
      "_view_count": null,
      "_view_module": "@jupyter-widgets/base",
      "_view_module_version": "1.2.0",
      "_view_name": "LayoutView",
      "align_content": null,
      "align_items": null,
      "align_self": null,
      "border": null,
      "bottom": null,
      "display": null,
      "flex": null,
      "flex_flow": null,
      "grid_area": null,
      "grid_auto_columns": null,
      "grid_auto_flow": null,
      "grid_auto_rows": null,
      "grid_column": null,
      "grid_gap": null,
      "grid_row": null,
      "grid_template_areas": null,
      "grid_template_columns": null,
      "grid_template_rows": null,
      "height": null,
      "justify_content": null,
      "justify_items": null,
      "left": null,
      "margin": null,
      "max_height": null,
      "max_width": null,
      "min_height": null,
      "min_width": null,
      "object_fit": null,
      "object_position": null,
      "order": null,
      "overflow": null,
      "overflow_x": null,
      "overflow_y": null,
      "padding": null,
      "right": null,
      "top": null,
      "visibility": null,
      "width": null
     }
    },
    "eb759658398b4d10ac5b0707b18120f2": {
     "model_module": "@jupyter-widgets/controls",
     "model_name": "ProgressStyleModel",
     "state": {
      "_model_module": "@jupyter-widgets/controls",
      "_model_module_version": "1.5.0",
      "_model_name": "ProgressStyleModel",
      "_view_count": null,
      "_view_module": "@jupyter-widgets/base",
      "_view_module_version": "1.2.0",
      "_view_name": "StyleView",
      "bar_color": null,
      "description_width": "initial"
     }
    },
    "ebceb875921d45aea4e21e4cb743af3e": {
     "model_module": "@jupyter-widgets/controls",
     "model_name": "ProgressStyleModel",
     "state": {
      "_model_module": "@jupyter-widgets/controls",
      "_model_module_version": "1.5.0",
      "_model_name": "ProgressStyleModel",
      "_view_count": null,
      "_view_module": "@jupyter-widgets/base",
      "_view_module_version": "1.2.0",
      "_view_name": "StyleView",
      "bar_color": null,
      "description_width": "initial"
     }
    },
    "ebe375bf0d8d4a2e9b805d27a891da59": {
     "model_module": "@jupyter-widgets/base",
     "model_name": "LayoutModel",
     "state": {
      "_model_module": "@jupyter-widgets/base",
      "_model_module_version": "1.2.0",
      "_model_name": "LayoutModel",
      "_view_count": null,
      "_view_module": "@jupyter-widgets/base",
      "_view_module_version": "1.2.0",
      "_view_name": "LayoutView",
      "align_content": null,
      "align_items": null,
      "align_self": null,
      "border": null,
      "bottom": null,
      "display": null,
      "flex": null,
      "flex_flow": null,
      "grid_area": null,
      "grid_auto_columns": null,
      "grid_auto_flow": null,
      "grid_auto_rows": null,
      "grid_column": null,
      "grid_gap": null,
      "grid_row": null,
      "grid_template_areas": null,
      "grid_template_columns": null,
      "grid_template_rows": null,
      "height": null,
      "justify_content": null,
      "justify_items": null,
      "left": null,
      "margin": null,
      "max_height": null,
      "max_width": null,
      "min_height": null,
      "min_width": null,
      "object_fit": null,
      "object_position": null,
      "order": null,
      "overflow": null,
      "overflow_x": null,
      "overflow_y": null,
      "padding": null,
      "right": null,
      "top": null,
      "visibility": null,
      "width": null
     }
    },
    "eda3a8f65d5547539b474bddd6dd5cbf": {
     "model_module": "@jupyter-widgets/base",
     "model_name": "LayoutModel",
     "state": {
      "_model_module": "@jupyter-widgets/base",
      "_model_module_version": "1.2.0",
      "_model_name": "LayoutModel",
      "_view_count": null,
      "_view_module": "@jupyter-widgets/base",
      "_view_module_version": "1.2.0",
      "_view_name": "LayoutView",
      "align_content": null,
      "align_items": null,
      "align_self": null,
      "border": null,
      "bottom": null,
      "display": null,
      "flex": null,
      "flex_flow": null,
      "grid_area": null,
      "grid_auto_columns": null,
      "grid_auto_flow": null,
      "grid_auto_rows": null,
      "grid_column": null,
      "grid_gap": null,
      "grid_row": null,
      "grid_template_areas": null,
      "grid_template_columns": null,
      "grid_template_rows": null,
      "height": null,
      "justify_content": null,
      "justify_items": null,
      "left": null,
      "margin": null,
      "max_height": null,
      "max_width": null,
      "min_height": null,
      "min_width": null,
      "object_fit": null,
      "object_position": null,
      "order": null,
      "overflow": null,
      "overflow_x": null,
      "overflow_y": null,
      "padding": null,
      "right": null,
      "top": null,
      "visibility": null,
      "width": null
     }
    },
    "ee5c9e0d52524caea582ca4329153ffd": {
     "model_module": "@jupyter-widgets/controls",
     "model_name": "FloatProgressModel",
     "state": {
      "_dom_classes": [],
      "_model_module": "@jupyter-widgets/controls",
      "_model_module_version": "1.5.0",
      "_model_name": "FloatProgressModel",
      "_view_count": null,
      "_view_module": "@jupyter-widgets/controls",
      "_view_module_version": "1.5.0",
      "_view_name": "ProgressView",
      "bar_style": "success",
      "description": "Training: 100%",
      "description_tooltip": null,
      "layout": "IPY_MODEL_bfc936d4083042aea9ca159382b25c29",
      "max": 3,
      "min": 0,
      "orientation": "horizontal",
      "style": "IPY_MODEL_0ed02953e6124269b45ab3c483d2fe98",
      "value": 3
     }
    },
    "f008cf231e724496a6b1aa3d6ab18657": {
     "model_module": "@jupyter-widgets/base",
     "model_name": "LayoutModel",
     "state": {
      "_model_module": "@jupyter-widgets/base",
      "_model_module_version": "1.2.0",
      "_model_name": "LayoutModel",
      "_view_count": null,
      "_view_module": "@jupyter-widgets/base",
      "_view_module_version": "1.2.0",
      "_view_name": "LayoutView",
      "align_content": null,
      "align_items": null,
      "align_self": null,
      "border": null,
      "bottom": null,
      "display": null,
      "flex": null,
      "flex_flow": null,
      "grid_area": null,
      "grid_auto_columns": null,
      "grid_auto_flow": null,
      "grid_auto_rows": null,
      "grid_column": null,
      "grid_gap": null,
      "grid_row": null,
      "grid_template_areas": null,
      "grid_template_columns": null,
      "grid_template_rows": null,
      "height": null,
      "justify_content": null,
      "justify_items": null,
      "left": null,
      "margin": null,
      "max_height": null,
      "max_width": null,
      "min_height": null,
      "min_width": null,
      "object_fit": null,
      "object_position": null,
      "order": null,
      "overflow": null,
      "overflow_x": null,
      "overflow_y": null,
      "padding": null,
      "right": null,
      "top": null,
      "visibility": null,
      "width": null
     }
    },
    "f2ee70ef10db4651a88676f520c5538b": {
     "model_module": "@jupyter-widgets/controls",
     "model_name": "FloatProgressModel",
     "state": {
      "_dom_classes": [],
      "_model_module": "@jupyter-widgets/controls",
      "_model_module_version": "1.5.0",
      "_model_name": "FloatProgressModel",
      "_view_count": null,
      "_view_module": "@jupyter-widgets/controls",
      "_view_module_version": "1.5.0",
      "_view_name": "ProgressView",
      "bar_style": "success",
      "description": "Training: 100%",
      "description_tooltip": null,
      "layout": "IPY_MODEL_c895b92cbd064b1da70e8a2f89c6a8f7",
      "max": 3,
      "min": 0,
      "orientation": "horizontal",
      "style": "IPY_MODEL_d1bb4eaf038a46cc987b2646daffdd77",
      "value": 3
     }
    },
    "f4432db29b894e1b8e56c066cdd356ee": {
     "model_module": "@jupyter-widgets/controls",
     "model_name": "ProgressStyleModel",
     "state": {
      "_model_module": "@jupyter-widgets/controls",
      "_model_module_version": "1.5.0",
      "_model_name": "ProgressStyleModel",
      "_view_count": null,
      "_view_module": "@jupyter-widgets/base",
      "_view_module_version": "1.2.0",
      "_view_name": "StyleView",
      "bar_color": null,
      "description_width": "initial"
     }
    },
    "f456b9c366f74133be91646956929e93": {
     "model_module": "@jupyter-widgets/controls",
     "model_name": "DescriptionStyleModel",
     "state": {
      "_model_module": "@jupyter-widgets/controls",
      "_model_module_version": "1.5.0",
      "_model_name": "DescriptionStyleModel",
      "_view_count": null,
      "_view_module": "@jupyter-widgets/base",
      "_view_module_version": "1.2.0",
      "_view_name": "StyleView",
      "description_width": ""
     }
    },
    "f6eb53b178b6449bb3f39f6741f6ffaa": {
     "model_module": "@jupyter-widgets/controls",
     "model_name": "HTMLModel",
     "state": {
      "_dom_classes": [],
      "_model_module": "@jupyter-widgets/controls",
      "_model_module_version": "1.5.0",
      "_model_name": "HTMLModel",
      "_view_count": null,
      "_view_module": "@jupyter-widgets/controls",
      "_view_module_version": "1.5.0",
      "_view_name": "HTMLView",
      "description": "",
      "description_tooltip": null,
      "layout": "IPY_MODEL_6ff412ba6f464237a1b8d6edd09eec5d",
      "placeholder": "​",
      "style": "IPY_MODEL_d5aec24da3014d85bee48bc490194abb",
      "value": " 20/20 [42:56&lt;00:00, 128.82s/Epoch]"
     }
    },
    "f6f62f7d5beb49879151b525e08a015c": {
     "model_module": "@jupyter-widgets/controls",
     "model_name": "HTMLModel",
     "state": {
      "_dom_classes": [],
      "_model_module": "@jupyter-widgets/controls",
      "_model_module_version": "1.5.0",
      "_model_name": "HTMLModel",
      "_view_count": null,
      "_view_module": "@jupyter-widgets/controls",
      "_view_module_version": "1.5.0",
      "_view_name": "HTMLView",
      "description": "",
      "description_tooltip": null,
      "layout": "IPY_MODEL_9a402a2b3dba4119b3f0c5aadf67d7dd",
      "placeholder": "​",
      "style": "IPY_MODEL_f456b9c366f74133be91646956929e93",
      "value": " 4422656/? [00:00&lt;00:00, 12450375.43it/s]"
     }
    },
    "f7843012ef2b45b9b1ef3e3990a36492": {
     "model_module": "@jupyter-widgets/controls",
     "model_name": "HBoxModel",
     "state": {
      "_dom_classes": [],
      "_model_module": "@jupyter-widgets/controls",
      "_model_module_version": "1.5.0",
      "_model_name": "HBoxModel",
      "_view_count": null,
      "_view_module": "@jupyter-widgets/controls",
      "_view_module_version": "1.5.0",
      "_view_name": "HBoxView",
      "box_style": "",
      "children": [
       "IPY_MODEL_07b2c61cfbfa49d7af92d1a7be45c892",
       "IPY_MODEL_ba98f42518664d228fab8a5511bc468d"
      ],
      "layout": "IPY_MODEL_c469775caaeb4874b72cd130b79aeaf8"
     }
    },
    "f891c54f7b354ef5a26136a545fc41ec": {
     "model_module": "@jupyter-widgets/controls",
     "model_name": "DescriptionStyleModel",
     "state": {
      "_model_module": "@jupyter-widgets/controls",
      "_model_module_version": "1.5.0",
      "_model_name": "DescriptionStyleModel",
      "_view_count": null,
      "_view_module": "@jupyter-widgets/base",
      "_view_module_version": "1.2.0",
      "_view_name": "StyleView",
      "description_width": ""
     }
    },
    "fa566680f1e34410b7e86ba42123b380": {
     "model_module": "@jupyter-widgets/controls",
     "model_name": "ProgressStyleModel",
     "state": {
      "_model_module": "@jupyter-widgets/controls",
      "_model_module_version": "1.5.0",
      "_model_name": "ProgressStyleModel",
      "_view_count": null,
      "_view_module": "@jupyter-widgets/base",
      "_view_module_version": "1.2.0",
      "_view_name": "StyleView",
      "bar_color": null,
      "description_width": "initial"
     }
    },
    "fc882ddff9a844619af62bbd60f1fc3b": {
     "model_module": "@jupyter-widgets/controls",
     "model_name": "DescriptionStyleModel",
     "state": {
      "_model_module": "@jupyter-widgets/controls",
      "_model_module_version": "1.5.0",
      "_model_name": "DescriptionStyleModel",
      "_view_count": null,
      "_view_module": "@jupyter-widgets/base",
      "_view_module_version": "1.2.0",
      "_view_name": "StyleView",
      "description_width": ""
     }
    },
    "fd895c97fd5b466bb8c93780cfac55f2": {
     "model_module": "@jupyter-widgets/controls",
     "model_name": "DescriptionStyleModel",
     "state": {
      "_model_module": "@jupyter-widgets/controls",
      "_model_module_version": "1.5.0",
      "_model_name": "DescriptionStyleModel",
      "_view_count": null,
      "_view_module": "@jupyter-widgets/base",
      "_view_module_version": "1.2.0",
      "_view_name": "StyleView",
      "description_width": ""
     }
    }
   }
  }
 },
 "nbformat": 4,
 "nbformat_minor": 1
}
